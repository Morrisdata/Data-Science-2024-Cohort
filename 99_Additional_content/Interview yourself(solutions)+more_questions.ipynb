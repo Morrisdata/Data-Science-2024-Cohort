{
 "cells": [
  {
   "cell_type": "markdown",
   "id": "5f2d4cdb",
   "metadata": {},
   "source": [
    "# Top interview questions\n",
    "Despite coding interviews being somewhat of a broken method for finding the right candidate they are here and \n",
    "need to be mastered.\n",
    "\n",
    "\n",
    "Coding interviews are like trivia night. They are hard to prepare for and you do not know what they may ask. The best time to start preparing is now and almost everyday. \n",
    "An interviewer may just ask general concepts?\n",
    "They may give you some blocks of code to explain?\n",
    "They might ask you some pandas questions. \n",
    "They might give you a story problem to solve?\n",
    "They may have some errors for you to fix in some sophesticated code. \n",
    "It is just really hard to tell what they may ask. \n",
    "\n",
    "Best way to prepare is have a template for defining functions and being able to showoff maybe things they did not ask\n",
    "for example an interviewer may warm you up with something very simple(likely not this simple)\n",
    "\" pass a number into a variable\" solution is x = 1\n",
    "but you don't have to limit yourself. \n",
    "import pandas as pd\n",
    "def var_input():\n",
    "    x = str(input(\"enter variable you would like to store\"))\n",
    "    print(\"variable value: \", x, end =\" \")\n",
    "    print(\"variable length: \", len(x), end = \" \")\n",
    "var_input()\n",
    "\n",
    "\n",
    "practice functions, for loops, if statements and combining them. Some of the questions asked are math styled questions as you will see\n",
    "if you are applying for a marketing analytics position look up some common marketing formulas and practice them. \n",
    "\n",
    "This again is no garuntee any of this will be in the interview but it will give you a good shot. \n",
    "After your interviews, brain dump all the questions you can remember for your future practice. \n",
    "At current jobs asked to shadow tech interviews or conduct them. \n",
    "\n",
    "    "
   ]
  },
  {
   "cell_type": "markdown",
   "id": "7c36697d",
   "metadata": {},
   "source": [
    "## Top Concept Questions\n",
    "1) Why is python called an interpreted language?\n",
    "you can code live and do not need to compile\n",
    "2) Do you need indentation in Python?\n",
    "yes\n",
    "3) What are the built in data types in Python?\n",
    "list, dictionaries, tuples, sets\n",
    "4) What are classes in Python?\n",
    "reusable templates\n",
    "5) What is a Dictionary in Python?\n",
    "key value pairs \n",
    "6) What are Python Functions and how do they help in code optimization?\n",
    "7) What are Python Sets\n",
    "8) What is the difference between a list and a tuple?\n",
    "9) What is the difference between a module and a package?\n",
    "10) What is indexing and what is negative indexing\n",
    "11) Explain logical operators in Python\n",
    "12) Explain the use of lambda function and when is it useful?\n",
    "13) Explain Slicing in Python\n",
    "14) Explain the difference between mutable and immutable objects\n",
    "15) What is the use of PASS keyword in Python?\n",
    "16) What are Generators?\n",
    "17) What is Shallow Copy and Deep Copy\n",
    "18) What is inheritance in Python and what is the difference between single and multiple inheritance? \n",
    "19) What is Exception handling and how is it done in Python?\n",
    "20) What is the Use of Decorators in Python?\n",
    "21) what is the different between is = and =="
   ]
  },
  {
   "cell_type": "markdown",
   "id": "8e2b5dff",
   "metadata": {},
   "source": [
    "## Python fundamental coding"
   ]
  },
  {
   "cell_type": "markdown",
   "id": "f8f8eba1",
   "metadata": {},
   "source": [
    "## Basic"
   ]
  },
  {
   "cell_type": "markdown",
   "id": "e7374228",
   "metadata": {},
   "source": [
    "### 1) Swap Variables"
   ]
  },
  {
   "cell_type": "code",
   "execution_count": 1,
   "id": "f0eef298",
   "metadata": {},
   "outputs": [
    {
     "name": "stdout",
     "output_type": "stream",
     "text": [
      "10\n",
      "5\n"
     ]
    }
   ],
   "source": [
    "# swap these two variables\n",
    "x = 5\n",
    "y = 10\n"
   ]
  },
  {
   "cell_type": "code",
   "execution_count": null,
   "id": "cad29175",
   "metadata": {},
   "outputs": [],
   "source": [
    "# your solution here\n",
    "x, y = y, x\n",
    "print(x)\n",
    "print(y)"
   ]
  },
  {
   "cell_type": "code",
   "execution_count": 3,
   "id": "9b6a59af",
   "metadata": {},
   "outputs": [
    {
     "name": "stdout",
     "output_type": "stream",
     "text": [
      "5\n",
      "10\n"
     ]
    }
   ],
   "source": [
    "#What is the altnerative method usingswap function"
   ]
  },
  {
   "cell_type": "code",
   "execution_count": null,
   "id": "e3ddf3b8",
   "metadata": {},
   "outputs": [],
   "source": [
    "# your solution here\n",
    "if x != y: \n",
    "    x = x^y\n",
    "    y = y^x\n",
    "    x = x^y\n",
    "print(x)\n",
    "print(y)"
   ]
  },
  {
   "cell_type": "markdown",
   "id": "98e81f4f",
   "metadata": {},
   "source": [
    "###  2) how would you optimize the below code using logical operators"
   ]
  },
  {
   "cell_type": "code",
   "execution_count": null,
   "id": "4c63e718",
   "metadata": {},
   "outputs": [],
   "source": [
    "x = 0\n",
    "y = 1\n",
    "z = 'test'\n",
    "if x > 1:\n",
    "    print(x)\n",
    "elif y < 1:\n",
    "    print(x)\n",
    "else:\n",
    "    print(z)"
   ]
  },
  {
   "cell_type": "code",
   "execution_count": null,
   "id": "5c7f3842",
   "metadata": {},
   "outputs": [],
   "source": [
    "# your solution here\n",
    "x = 0\n",
    "y = 1\n",
    "z = 'test'\n",
    "if x > 1 and elif y < 1:\n",
    "    print(x)\n",
    "else:\n",
    "    print(z)"
   ]
  },
  {
   "cell_type": "markdown",
   "id": "158ee16b",
   "metadata": {},
   "source": [
    "### 3) Check if list contains integer x"
   ]
  },
  {
   "cell_type": "code",
   "execution_count": 4,
   "id": "2332a9fa",
   "metadata": {},
   "outputs": [
    {
     "data": {
      "text/plain": [
       "True"
      ]
     },
     "execution_count": 4,
     "metadata": {},
     "output_type": "execute_result"
    }
   ],
   "source": [
    "x = [3,3,4,5,6,111,5]\n",
    "# your solution here\n",
    "(111 in x)"
   ]
  },
  {
   "cell_type": "markdown",
   "id": "4232da2c",
   "metadata": {},
   "source": [
    "### 4) Find max and min in unsorted list"
   ]
  },
  {
   "cell_type": "code",
   "execution_count": 5,
   "id": "5a4240be",
   "metadata": {},
   "outputs": [
    {
     "name": "stdout",
     "output_type": "stream",
     "text": [
      "-11\n",
      "100\n"
     ]
    }
   ],
   "source": [
    "x = [4,5,8,3,2,2,100,-11,3]\n",
    "# your solution here\n",
    "print(min(x))\n",
    "print(max(x))"
   ]
  },
  {
   "cell_type": "markdown",
   "id": "a0355a84",
   "metadata": {},
   "source": [
    "### 5) Remove leading whitespaces from the string"
   ]
  },
  {
   "cell_type": "code",
   "execution_count": 6,
   "id": "2e040ee1",
   "metadata": {},
   "outputs": [],
   "source": [
    "x = \"     testing\""
   ]
  },
  {
   "cell_type": "code",
   "execution_count": 7,
   "id": "6883c0af",
   "metadata": {},
   "outputs": [
    {
     "data": {
      "text/plain": [
       "7"
      ]
     },
     "execution_count": 7,
     "metadata": {},
     "output_type": "execute_result"
    }
   ],
   "source": [
    "# your solution here\n",
    "len(x.strip())"
   ]
  },
  {
   "cell_type": "markdown",
   "id": "5711dcd2",
   "metadata": {},
   "source": [
    "### 6) create a countdown from 10 to 0"
   ]
  },
  {
   "cell_type": "code",
   "execution_count": 13,
   "id": "4393147f",
   "metadata": {},
   "outputs": [
    {
     "name": "stdout",
     "output_type": "stream",
     "text": [
      "10\n",
      "9\n",
      "8\n",
      "7\n",
      "6\n",
      "5\n",
      "4\n",
      "3\n",
      "2\n",
      "1\n",
      "Happy new year\n"
     ]
    }
   ],
   "source": [
    "def cd(i):\n",
    "    if i<= 0:\n",
    "        print(\"Happy new year\")\n",
    "    else:\n",
    "        print(i)\n",
    "        cd(i-1)\n",
    "cd(10)"
   ]
  },
  {
   "cell_type": "markdown",
   "id": "97fee7bd",
   "metadata": {},
   "source": [
    "### 7) check for palindrome"
   ]
  },
  {
   "cell_type": "code",
   "execution_count": 6,
   "id": "af5ade9f",
   "metadata": {},
   "outputs": [],
   "source": [
    "x = 'racecar'\n",
    "y = 'today'\n",
    "z = 323\n",
    "\n"
   ]
  },
  {
   "cell_type": "code",
   "execution_count": null,
   "id": "2c6e6ada",
   "metadata": {},
   "outputs": [],
   "source": [
    "# your solution here\n",
    "set(x) == set(x[::-1])"
   ]
  },
  {
   "cell_type": "code",
   "execution_count": 10,
   "id": "93fdc28e",
   "metadata": {},
   "outputs": [
    {
     "data": {
      "text/plain": [
       "True"
      ]
     },
     "execution_count": 10,
     "metadata": {},
     "output_type": "execute_result"
    }
   ],
   "source": [
    "# how would you solve for the integer?\n",
    "def pd (x):\n",
    "    i = str(x)\n",
    "    return set(i)==set(i[::-1])\n",
    "pd(z)"
   ]
  },
  {
   "cell_type": "markdown",
   "id": "4d96370f",
   "metadata": {},
   "source": [
    "### 8) check for anagram\n"
   ]
  },
  {
   "cell_type": "code",
   "execution_count": 17,
   "id": "e12fc66b",
   "metadata": {},
   "outputs": [
    {
     "data": {
      "text/plain": [
       "True"
      ]
     },
     "execution_count": 17,
     "metadata": {},
     "output_type": "execute_result"
    }
   ],
   "source": [
    "x = 'elvis'\n",
    "y = 'lives'\n",
    "z = 'two'\n",
    "set(x)==set(y)"
   ]
  },
  {
   "cell_type": "markdown",
   "id": "f449fa35",
   "metadata": {},
   "source": [
    "### 9) remove all duplicates from a list\n"
   ]
  },
  {
   "cell_type": "code",
   "execution_count": 18,
   "id": "3ba81bea",
   "metadata": {},
   "outputs": [
    {
     "data": {
      "text/plain": [
       "[0, 1, 2, 3, 4, 5, 6, 7, 8, 9]"
      ]
     },
     "execution_count": 18,
     "metadata": {},
     "output_type": "execute_result"
    }
   ],
   "source": [
    "x = list(range(10)) + list(range(10))\n",
    "# your solution here\n",
    "list(set(x))"
   ]
  },
  {
   "cell_type": "markdown",
   "id": "203d8c27",
   "metadata": {},
   "source": [
    "### 10) Reverse a string using recursion"
   ]
  },
  {
   "cell_type": "code",
   "execution_count": 19,
   "id": "862236a9",
   "metadata": {},
   "outputs": [
    {
     "data": {
      "text/plain": [
       "'olleh'"
      ]
     },
     "execution_count": 19,
     "metadata": {},
     "output_type": "execute_result"
    }
   ],
   "source": [
    "x = 'hello'\n",
    "# your solution here\n",
    "x[::-1]"
   ]
  },
  {
   "cell_type": "markdown",
   "id": "ae163740",
   "metadata": {},
   "source": [
    "## Intermediate"
   ]
  },
  {
   "cell_type": "markdown",
   "id": "22c2cb84",
   "metadata": {},
   "source": [
    "### 11) Create a fibonacci scale "
   ]
  },
  {
   "cell_type": "code",
   "execution_count": 22,
   "id": "b8635033",
   "metadata": {},
   "outputs": [
    {
     "name": "stdout",
     "output_type": "stream",
     "text": [
      "0\n",
      "1\n",
      "1\n",
      "2\n",
      "3\n",
      "5\n",
      "8\n",
      "13\n",
      "21\n"
     ]
    }
   ],
   "source": [
    "# your solution here\n",
    "x, y = 0,1\n",
    "z = 10\n",
    "for i in range(1,z):\n",
    "    print(x)\n",
    "    x, y = y, y+x\n"
   ]
  },
  {
   "cell_type": "markdown",
   "id": "80581659",
   "metadata": {},
   "source": [
    "### 12) Generate a series of random numbers that are odd"
   ]
  },
  {
   "cell_type": "code",
   "execution_count": 21,
   "id": "b46f5d14",
   "metadata": {},
   "outputs": [
    {
     "name": "stdout",
     "output_type": "stream",
     "text": [
      "[49, 71, 3, 67, 93, 83, 3, 47, 35, 35]\n"
     ]
    }
   ],
   "source": [
    "# your solution here\n",
    "import random\n",
    "num =[]\n",
    "for i in range(10):\n",
    "    i = random.randrange(1,100,2)\n",
    "    num.append(i)\n",
    "print(num)"
   ]
  },
  {
   "cell_type": "markdown",
   "id": "50bb90c2",
   "metadata": {},
   "source": [
    "### 13) What is the factorial of 5?"
   ]
  },
  {
   "cell_type": "code",
   "execution_count": 31,
   "id": "05910e62",
   "metadata": {},
   "outputs": [
    {
     "name": "stdout",
     "output_type": "stream",
     "text": [
      "362880\n"
     ]
    }
   ],
   "source": [
    "# your solution here\n",
    "def fact(i):\n",
    "    factorial = 1\n",
    "    if i < 0:\n",
    "        print(\"not a factorial\")\n",
    "    elif i == 0:\n",
    "        print(\"1\")\n",
    "    else:\n",
    "        for i in range(1, i):\n",
    "            factorial = factorial *i\n",
    "    print(factorial) \n",
    "fact(10)\n",
    "    "
   ]
  },
  {
   "cell_type": "markdown",
   "id": "134160ca",
   "metadata": {},
   "source": [
    "### 14) convert this to a list comprehension"
   ]
  },
  {
   "cell_type": "code",
   "execution_count": 20,
   "id": "cd4ade6b",
   "metadata": {},
   "outputs": [
    {
     "name": "stdout",
     "output_type": "stream",
     "text": [
      "['Frodo', 'Sam', 'Merry', 'Pippin']\n"
     ]
    }
   ],
   "source": [
    "#14) convert this to a list comprehension\n",
    "hobbits = [\"Frodo\", \"Sam\", \"Merry\", \"Pippin\", \"Gollum\"]\n",
    "fellowship = []\n",
    "\n",
    "for x in hobbits:\n",
    "    if x != 'Gollum':\n",
    "       fellowship.append(x)\n",
    "\n",
    "print(fellowship)"
   ]
  },
  {
   "cell_type": "code",
   "execution_count": null,
   "id": "6b2a981f",
   "metadata": {},
   "outputs": [],
   "source": [
    "# your solution here"
   ]
  },
  {
   "cell_type": "markdown",
   "id": "7827dfcc",
   "metadata": {},
   "source": [
    "### 15) Explain why you might use a lambda function and give an example scenario\n"
   ]
  },
  {
   "cell_type": "code",
   "execution_count": null,
   "id": "b10bf318",
   "metadata": {},
   "outputs": [],
   "source": [
    "# your solution here"
   ]
  },
  {
   "attachments": {
    "1%20cmuL1h8pOQ5-QtBl53sdoA.webp": {
     "image/webp": "[encoded data removed]"
    }
   },
   "cell_type": "markdown",
   "id": "09db543b",
   "metadata": {},
   "source": [
    "## Pandas and/or Data Science\n",
    "in this section they typically want pseudocode and you will be coding in a shared google doc or some word doc or even whiteboard. I recommend taking 30 minutes to review the below model. and then set a timer for 30 minutes and try to answer the following questions without researching just to see how you do, then yes go research and try again. \n",
    "![1%20cmuL1h8pOQ5-QtBl53sdoA.webp](attachment:1%20cmuL1h8pOQ5-QtBl53sdoA.webp)"
   ]
  },
  {
   "cell_type": "markdown",
   "id": "a15cf476",
   "metadata": {},
   "source": [
    "### how would you join customers and orders table to ensure all orders were retrieved regardless if we had the customer information\n"
   ]
  },
  {
   "cell_type": "code",
   "execution_count": null,
   "id": "be2d7118",
   "metadata": {},
   "outputs": [],
   "source": [
    "# Your solution here"
   ]
  },
  {
   "cell_type": "markdown",
   "id": "1921e9c5",
   "metadata": {},
   "source": [
    "### Your customer is worried about changes in customer behavior and would like to understand this better. How would you approach this?"
   ]
  },
  {
   "cell_type": "code",
   "execution_count": null,
   "id": "d29f7236",
   "metadata": {},
   "outputs": [],
   "source": [
    "# your solution here"
   ]
  },
  {
   "cell_type": "markdown",
   "id": "3ac85b65",
   "metadata": {},
   "source": [
    "### What matrices would you use to validate your findings?"
   ]
  },
  {
   "cell_type": "code",
   "execution_count": null,
   "id": "28f540c7",
   "metadata": {},
   "outputs": [],
   "source": [
    "# your solution here"
   ]
  },
  {
   "cell_type": "markdown",
   "id": "47e27301",
   "metadata": {},
   "source": [
    "### The quality assurance team would like to  know what are the top 3 items by city, walk through how you would approach this?"
   ]
  },
  {
   "cell_type": "code",
   "execution_count": null,
   "id": "e9b35372",
   "metadata": {},
   "outputs": [],
   "source": [
    "# your solution here"
   ]
  }
 ],
 "metadata": {
  "kernelspec": {
   "display_name": "Python 3 (ipykernel)",
   "language": "python",
   "name": "python3"
  },
  "language_info": {
   "codemirror_mode": {
    "name": "ipython",
    "version": 3
   },
   "file_extension": ".py",
   "mimetype": "text/x-python",
   "name": "python",
   "nbconvert_exporter": "python",
   "pygments_lexer": "ipython3",
   "version": "3.11.5"
  }
 },
 "nbformat": 4,
 "nbformat_minor": 5
}
