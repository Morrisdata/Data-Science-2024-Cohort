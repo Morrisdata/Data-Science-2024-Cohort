{
 "cells": [
  {
   "cell_type": "markdown",
   "id": "09c927c8",
   "metadata": {},
   "source": [
    "What is an API?\n",
    "- Application Programming Interface\n",
    "- Structured way to expose specific functionality and data access to users\n",
    "- Web APIs usually follow the \"REST\" standard\n",
    "\n",
    "Where to get started?\n",
    "- Set time aside, these are not all plug and play.\n",
    "- Many sites offer free api connects if you first signup to the site\n",
    "- This can also be helpful with large companies that use services like Microsoft, Amazon, Google or other cloud solutions. \n",
    "\n",
    "- Documentation, searching for code examples and just setting time aside to understand the data you are getting  and how to parse through it is key. API data request can end up giving you data in many different formats with different parsing rules. \n",
    "\n",
    "How to interact with a REST API:\n",
    "- Make a \"request\" to a specific URL (an \"endpoint\"), and get the data back in a \"response\"\n",
    "- Most relevant request method for us is GET (other methods: POST, PUT, DELETE)\n",
    "- Response is often JSON format\n",
    "- Web console is sometimes available (allows you to explore an API)\n",
    "- Most APIs require you to have an access key (which you should store outside your code)\n",
    "- Most APIs limit the number of API calls you can make (per day, hour, minute, etc.)\n",
    "- Not all APIs are free\n",
    "- Not all APIs are well-documented\n",
    "- Pay attention to the API version\n",
    "\n",
    "Python wrapper is another option for accessing an API:\n",
    "- Set of functions that \"wrap\" the API code for ease of use\n",
    "- Potentially simplifies your code\n",
    "- But, wrapper could have bugs or be out-of-date or poorly documented\n",
    "'''\n",
    "\n"
   ]
  },
  {
   "cell_type": "markdown",
   "id": "af549ee2",
   "metadata": {},
   "source": [
    "Public Api list\n",
    "https://github.com/public-apis/public-apis"
   ]
  },
  {
   "cell_type": "markdown",
   "id": "012d6ea2",
   "metadata": {},
   "source": [
    "Lets start with a connection to some stocks data\n",
    "This link is where you can set up and get an api key\n",
    "https://www.alphavantage.co/support/#api-key\n"
   ]
  },
  {
   "cell_type": "code",
   "execution_count": null,
   "id": "7eb9609e",
   "metadata": {},
   "outputs": [],
   "source": [
    "import requests\n",
    "import json\n",
    "import pandas as pd"
   ]
  },
  {
   "cell_type": "code",
   "execution_count": null,
   "id": "8bce7448",
   "metadata": {},
   "outputs": [],
   "source": [
    "\n",
    "# replace the \"demo\" apikey below with your own key from https://www.alphavantage.co/support/#api-key\n",
    "url = 'https://www.alphavantage.co/query?function=TIME_SERIES_INTRADAY&symbol=IBM&interval=5min&apikey=CLBW4A2DP4598PHT'\n",
    "r = requests.get(url)\n",
    "data = r.json()\n",
    "df = pd.DataFrame(data)\n",
    "print(df)"
   ]
  },
  {
   "cell_type": "code",
   "execution_count": null,
   "id": "491b1c8c",
   "metadata": {},
   "outputs": [],
   "source": [
    "df.head()"
   ]
  },
  {
   "cell_type": "code",
   "execution_count": null,
   "id": "758d9311",
   "metadata": {},
   "outputs": [],
   "source": [
    "df.columns"
   ]
  },
  {
   "cell_type": "markdown",
   "id": "fb8a362a",
   "metadata": {},
   "source": [
    "now that you have the stocks api set up you can begin reviewing documentation and expeirmenting\n",
    "Lets look at another api the omdb open movie database"
   ]
  },
  {
   "cell_type": "code",
   "execution_count": null,
   "id": "d54e304d",
   "metadata": {},
   "outputs": [],
   "source": [
    "import requests\n",
    "key =''\n",
    "url ='http://www.omdbapi.com/?t=Fellowship+of+the+ring&apikey=8392c9fa'\n",
    "\n",
    "r = requests.get(url, key)"
   ]
  },
  {
   "cell_type": "markdown",
   "id": "218cabc1",
   "metadata": {},
   "source": [
    "Are we connected?"
   ]
  },
  {
   "cell_type": "code",
   "execution_count": null,
   "id": "5dd88611",
   "metadata": {},
   "outputs": [],
   "source": [
    "r.status_code"
   ]
  },
  {
   "cell_type": "code",
   "execution_count": null,
   "id": "74387991",
   "metadata": {},
   "outputs": [],
   "source": [
    "#you can manually parse data or find the right libarary and function that has done the code for you\n",
    "r.json()\n",
    "# view the raw response text\n",
    "r.text"
   ]
  },
  {
   "cell_type": "code",
   "execution_count": null,
   "id": "82518946",
   "metadata": {},
   "outputs": [],
   "source": [
    "r.headers"
   ]
  },
  {
   "cell_type": "code",
   "execution_count": null,
   "id": "6af8a099",
   "metadata": {},
   "outputs": [],
   "source": [
    "# decode the JSON response body into a dictionary\n",
    "resp_json = r.json()\n",
    "resp_json"
   ]
  },
  {
   "cell_type": "code",
   "execution_count": null,
   "id": "6f36ca69",
   "metadata": {},
   "outputs": [],
   "source": [
    "resp_json = r.json()"
   ]
  },
  {
   "cell_type": "code",
   "execution_count": null,
   "id": "9e648635",
   "metadata": {},
   "outputs": [],
   "source": [
    "r.json()['Year']"
   ]
  },
  {
   "cell_type": "code",
   "execution_count": null,
   "id": "bcc935f7",
   "metadata": {},
   "outputs": [],
   "source": [
    "# what happens if the movie name is not recognized?\n",
    "r = requests.get('http://www.omdbapi.com/?t=blahblahblah&r=json&type=movie')\n",
    "r.status_code"
   ]
  },
  {
   "cell_type": "code",
   "execution_count": null,
   "id": "aed652f6",
   "metadata": {},
   "outputs": [],
   "source": [
    "# bonus lets review and turn all of this into a function"
   ]
  },
  {
   "cell_type": "code",
   "execution_count": null,
   "id": "bf9827b3",
   "metadata": {},
   "outputs": [],
   "source": [
    "# define a function to return the year\n",
    "def get_movie_year(title):\n",
    "    r = requests.get('http://www.omdbapi.com/?t=' + title + '&r=json&type=movie'+ '&apikey=8392c9fa')\n",
    "    info = r.json()\n",
    "    if info['Response'] == 'True':\n",
    "        return int(info['Year'])\n",
    "    else:\n",
    "        return \"error\""
   ]
  },
  {
   "cell_type": "code",
   "execution_count": null,
   "id": "f0d8dcd3",
   "metadata": {},
   "outputs": [],
   "source": [
    "import pandas as pd\n",
    "response_df = pd.DataFrame.from_dict(r.json(), orient = \"index\")\n",
    "#movies_df = pd.DataFrame(foo)"
   ]
  },
  {
   "cell_type": "code",
   "execution_count": null,
   "id": "e1c8fea3",
   "metadata": {},
   "outputs": [],
   "source": [
    "# test the function\n",
    "get_movie_year('The Two Towers')"
   ]
  },
  {
   "cell_type": "code",
   "execution_count": null,
   "id": "2f2e2825",
   "metadata": {},
   "outputs": [],
   "source": [
    "# test error\n",
    "get_movie_year('blahblahblah')"
   ]
  },
  {
   "cell_type": "markdown",
   "id": "54ad5a41",
   "metadata": {},
   "source": [
    "### Practice API calls\n",
    "you can use this list Public Api list https://github.com/public-apis/public-apis to explore or google or better yet\n",
    "    what are some of your favorite websites and what is there api documenation. I began to prepare an example of a boardgamegeek.com api example\n",
    "    however they use xml and in order to get into any examples it could have derailed just showing how api works. \n",
    "    Keep in mind you will want to set time aside to read documentation, experiement, become familiar and then begin building your process of collecting data."
   ]
  },
  {
   "cell_type": "code",
   "execution_count": null,
   "id": "a6ab3488",
   "metadata": {},
   "outputs": [],
   "source": [
    "# you can use the exercises template below to look at other API's and get curious. "
   ]
  },
  {
   "cell_type": "code",
   "execution_count": null,
   "id": "b2e03a8a",
   "metadata": {},
   "outputs": [],
   "source": [
    "# Try on your own\n",
    "# Link to the Census Bureau language stats API description page\n",
    "\n",
    "# Look through the API description links and examples to see what use you have avaialble\n",
    "\n",
    "# Use the requests library to interact with a URL\n",
    "\n",
    "import requests\n",
    "# Use a URL example in a browser to see the result returned and the use request to access with python\n",
    "# http://api.census.gov/data/2013/language?get=EST,LANLABEL,NAME&for=state:06&LAN=625\n",
    "r = requests.get('http://api.census.gov/data/2013/language?get=EST,LANLABEL,NAME&for=state:06&LAN=625')"
   ]
  },
  {
   "cell_type": "code",
   "execution_count": null,
   "id": "460e36a2",
   "metadata": {},
   "outputs": [],
   "source": [
    "# modify the request to get languges 625 through 650 so we can see a larger sample of what is returned from the request\n",
    "# Hint the syntax for more than one language number is similar to one we use for multiple elements in a list"
   ]
  },
  {
   "cell_type": "code",
   "execution_count": null,
   "id": "fd2a2842",
   "metadata": {},
   "outputs": [],
   "source": [
    "# check the status: 200 means success, 4xx means error\n"
   ]
  },
  {
   "cell_type": "code",
   "execution_count": null,
   "id": "00073700",
   "metadata": {},
   "outputs": [],
   "source": [
    "# view the raw response text"
   ]
  },
  {
   "cell_type": "code",
   "execution_count": null,
   "id": "ac701c05",
   "metadata": {},
   "outputs": [],
   "source": [
    "# Convert to json()"
   ]
  },
  {
   "cell_type": "code",
   "execution_count": null,
   "id": "71953de2",
   "metadata": {},
   "outputs": [],
   "source": [
    "#look at the contents of the output of the json() method.  It looks like it can easily become a list of lists\n"
   ]
  },
  {
   "cell_type": "code",
   "execution_count": null,
   "id": "7545edc4",
   "metadata": {},
   "outputs": [],
   "source": [
    "# Convert the json() method output into a dataframe with the first list as the column header and the rest as rows of data"
   ]
  },
  {
   "cell_type": "code",
   "execution_count": null,
   "id": "1e381aa7",
   "metadata": {},
   "outputs": [],
   "source": [
    "# Sort the dataframe decending by the number of people speaking the language\n",
    "# Check the data type of 'EST', the number of people that speak the language"
   ]
  },
  {
   "cell_type": "code",
   "execution_count": null,
   "id": "4d8db298",
   "metadata": {},
   "outputs": [],
   "source": [
    "# Now create a new request that brings in the stats for all the US and primary languages\n",
    "# See the websites links for syntax for US and range of language nunbers"
   ]
  },
  {
   "cell_type": "code",
   "execution_count": null,
   "id": "4b5d9385",
   "metadata": {},
   "outputs": [],
   "source": [
    "### Bonus\n",
    "# Create a loop that will collect the counts of Spanish language speakers by state"
   ]
  },
  {
   "cell_type": "markdown",
   "id": "0ffbb363",
   "metadata": {},
   "source": [
    "### Web Scraping"
   ]
  },
  {
   "cell_type": "markdown",
   "id": "3342132d",
   "metadata": {},
   "source": [
    "What is web scraping?\n",
    "- Extracting information from websites (simulates a human copying and pasting)\n",
    "- Based on finding patterns in website code (usually HTML)\n",
    "\n",
    "What are best practices for web scraping?\n",
    "- Scraping too many pages too fast can get your IP address blocked\n",
    "- Pay attention to the robots exclusion standard (robots.txt)\n",
    "- Let's look at http://www.imdb.com/robots.txt\n",
    "\n",
    "What is HTML?\n",
    "- Code interpreted by a web browser to produce (\"render\") a web page\n",
    "- Let's look at example.html\n",
    "- Tags are opened and closed\n",
    "- Tags have optional attributes\n",
    "\n",
    "How to view HTML code:\n",
    "- To view the entire page: \"View Source\" or \"View Page Source\" or \"Show Page Source\"\n",
    "- To view a specific part: \"Inspect Element\"\n",
    "- Safari users: Safari menu, Preferences, Advanced, Show Develop menu in menu bar\n",
    "- Let's inspect example.html\n",
    "\n",
    "Steps\n",
    "- Fine the URL you want to scrape\n",
    "- Inspect the page(right click and choose inspect)\n",
    "- Find the data you wan to extract\n",
    "- Write the code\n",
    "- Run code and extract the data\n",
    "- Store data in required format\n",
    "'''\n"
   ]
  },
  {
   "cell_type": "code",
   "execution_count": null,
   "id": "4b59f676",
   "metadata": {},
   "outputs": [],
   "source": [
    "import requests\n",
    "from bs4 import BeautifulSoup\n",
    "\n",
    "page = requests.get('https://toscrape.com/') # Getting page HTML through request\n",
    "b = BeautifulSoup(page.content, 'html.parser') # Parsing content using beautifulsoup\n",
    "\n",
    "print(soup.prettify(b))\n",
    "print(b)\n",
    "print(type(b))"
   ]
  },
  {
   "cell_type": "code",
   "execution_count": null,
   "id": "5f28f1a5",
   "metadata": {},
   "outputs": [],
   "source": [
    "page = requests.get('https://scrapethissite.com/') # Getting page HTML through request\n",
    "b = BeautifulSoup(page.content, 'html.parser') # Parsing content using beautifulsoup\n",
    "print(type(b))\n",
    "print(b)\n",
    "print(soup.prettify(b))\n",
    "\n",
    "\n"
   ]
  },
  {
   "cell_type": "code",
   "execution_count": null,
   "id": "60923a70",
   "metadata": {},
   "outputs": [],
   "source": [
    "# 'find' method returns the first matching Tag (and everything inside of it)\n",
    "b.find(name='body')\n",
    "b.find(name='h1')\n",
    "b.find(name='title')"
   ]
  },
  {
   "cell_type": "code",
   "execution_count": null,
   "id": "a0a72337",
   "metadata": {},
   "outputs": [],
   "source": [
    "# Tags allow you to access the 'inside text'\n",
    "b.find(name='h1').text"
   ]
  },
  {
   "cell_type": "code",
   "execution_count": null,
   "id": "567e4e58",
   "metadata": {},
   "outputs": [],
   "source": [
    "# 'find_all' method is useful for finding all matching Tags\n",
    "b.find(name='p')        # returns a Tag\n",
    "b.find_all(name='p')    # returns a ResultSet (like a list of Tags)"
   ]
  },
  {
   "cell_type": "code",
   "execution_count": null,
   "id": "ea0a0b69",
   "metadata": {},
   "outputs": [],
   "source": [
    "# ResultSets can be sliced like lists\n",
    "len(b.find_all(name='p'))\n",
    "b.find_all(name='p')[0]\n",
    "b.find_all(name='p')[0].text"
   ]
  },
  {
   "cell_type": "code",
   "execution_count": null,
   "id": "7e7dabbe",
   "metadata": {},
   "outputs": [],
   "source": [
    "# iterate over a ResultSet\n",
    "results = b.find_all(name='p')\n",
    "for tag in results:\n",
    "    print(tag.text)"
   ]
  },
  {
   "cell_type": "code",
   "execution_count": null,
   "id": "264ff922",
   "metadata": {},
   "outputs": [],
   "source": []
  }
 ],
 "metadata": {
  "kernelspec": {
   "display_name": "Python 3 (ipykernel)",
   "language": "python",
   "name": "python3"
  },
  "language_info": {
   "codemirror_mode": {
    "name": "ipython",
    "version": 3
   },
   "file_extension": ".py",
   "mimetype": "text/x-python",
   "name": "python",
   "nbconvert_exporter": "python",
   "pygments_lexer": "ipython3",
   "version": "3.11.5"
  }
 },
 "nbformat": 4,
 "nbformat_minor": 5
}
