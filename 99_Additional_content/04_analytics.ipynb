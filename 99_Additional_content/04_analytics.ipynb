{
 "cells": [
  {
   "cell_type": "markdown",
   "metadata": {},
   "source": [
    "\n",
    "## Load Data from CSVs\n",
    "Here is an example you might be familiar with for loading a csv\n",
    "After the example you will see a new and shorter version.\n",
    "It is recommended you open the csv manually and get familiar with the data before running the code below. \n",
    "\n",
    "### Longer version\n",
    "Loading enrollments.csv\n",
    "\n",
    "rb: for reading and b is for reading in binary mode)\n",
    "\n",
    "DictReader: It works by reading in the first line of the CSV and using each comma separated value in this line as a dictionary key"
   ]
  },
  {
   "cell_type": "code",
   "execution_count": 1,
   "metadata": {},
   "outputs": [
    {
     "data": {
      "text/plain": [
       "OrderedDict([('account_key', '448'),\n",
       "             ('status', 'canceled'),\n",
       "             ('join_date', '2014-11-10'),\n",
       "             ('cancel_date', '2015-01-14'),\n",
       "             ('days_to_cancel', '65'),\n",
       "             ('is_udacity', 'True'),\n",
       "             ('is_canceled', 'True')])"
      ]
     },
     "execution_count": 1,
     "metadata": {},
     "output_type": "execute_result"
    }
   ],
   "source": [
    "import unicodecsv\n",
    "\n",
    "enrollments = []\n",
    "\n",
    "f = open('enrollments.csv', 'rb')\n",
    "reader = unicodecsv.DictReader(f)\n",
    "\n",
    "for row in reader:\n",
    "    enrollments.append(row)\n",
    "f.close()\n",
    "\n",
    "enrollments[0]\n"
   ]
  },
  {
   "cell_type": "markdown",
   "metadata": {},
   "source": [
    "### Shorter version\n",
    "with: will open and close file when it is done. "
   ]
  },
  {
   "cell_type": "code",
   "execution_count": 2,
   "metadata": {},
   "outputs": [
    {
     "data": {
      "text/plain": [
       "OrderedDict([('account_key', '448'),\n",
       "             ('status', 'canceled'),\n",
       "             ('join_date', '2014-11-10'),\n",
       "             ('cancel_date', '2015-01-14'),\n",
       "             ('days_to_cancel', '65'),\n",
       "             ('is_udacity', 'True'),\n",
       "             ('is_canceled', 'True')])"
      ]
     },
     "execution_count": 2,
     "metadata": {},
     "output_type": "execute_result"
    }
   ],
   "source": [
    "enrollments_filename = 'enrollments.csv'\n",
    "\n",
    "with open(enrollments_filename, 'rb') as f:\n",
    "    reader = unicodecsv.DictReader(f)\n",
    "    enrollments = list(reader)\n",
    "    \n",
    "enrollments[0]"
   ]
  },
  {
   "cell_type": "markdown",
   "metadata": {},
   "source": [
    "### What is looks like to load all files with shorter version"
   ]
  },
  {
   "cell_type": "code",
   "execution_count": 3,
   "metadata": {},
   "outputs": [],
   "source": [
    "## Read in data from files. \n",
    "## store results in variables for each file.\n",
    "## print first row of each table.\n",
    "\n",
    "import unicodecsv\n",
    "\n",
    "enrollments_filename = 'enrollments.csv'\n",
    "engagement_filename = 'daily_engagement.csv'\n",
    "submissions_filename = 'project_submissions.csv'"
   ]
  },
  {
   "cell_type": "code",
   "execution_count": 4,
   "metadata": {},
   "outputs": [
    {
     "data": {
      "text/plain": [
       "OrderedDict([('account_key', '448'),\n",
       "             ('status', 'canceled'),\n",
       "             ('join_date', '2014-11-10'),\n",
       "             ('cancel_date', '2015-01-14'),\n",
       "             ('days_to_cancel', '65'),\n",
       "             ('is_udacity', 'True'),\n",
       "             ('is_canceled', 'True')])"
      ]
     },
     "execution_count": 4,
     "metadata": {},
     "output_type": "execute_result"
    }
   ],
   "source": [
    "with open(enrollments_filename, 'rb') as f:\n",
    "    reader = unicodecsv.DictReader(f)\n",
    "    enrollments = list(reader)\n",
    "enrollments[0]"
   ]
  },
  {
   "cell_type": "code",
   "execution_count": 5,
   "metadata": {},
   "outputs": [
    {
     "data": {
      "text/plain": [
       "OrderedDict([('acct', '0'),\n",
       "             ('utc_date', '2015-01-09'),\n",
       "             ('num_courses_visited', '1.0'),\n",
       "             ('total_minutes_visited', '11.6793745'),\n",
       "             ('lessons_completed', '0.0'),\n",
       "             ('projects_completed', '0.0')])"
      ]
     },
     "execution_count": 5,
     "metadata": {},
     "output_type": "execute_result"
    }
   ],
   "source": [
    "with open('daily_engagement.csv','rb') as f:\n",
    "    reader = unicodecsv.DictReader(f)\n",
    "    daily_engagement = list(reader)\n",
    "daily_engagement[0] "
   ]
  },
  {
   "cell_type": "code",
   "execution_count": 6,
   "metadata": {},
   "outputs": [
    {
     "data": {
      "text/plain": [
       "OrderedDict([('creation_date', '2015-01-14'),\n",
       "             ('completion_date', '2015-01-16'),\n",
       "             ('assigned_rating', 'UNGRADED'),\n",
       "             ('account_key', '256'),\n",
       "             ('lesson_key', '3176718735'),\n",
       "             ('processing_state', 'EVALUATED')])"
      ]
     },
     "execution_count": 6,
     "metadata": {},
     "output_type": "execute_result"
    }
   ],
   "source": [
    "with open('project_submissions.csv','rb') as f:\n",
    "    reader = unicodecsv.DictReader(f)\n",
    "    project_submissions = list(reader)\n",
    "project_submissions[0]"
   ]
  },
  {
   "cell_type": "markdown",
   "metadata": {},
   "source": [
    "### Observe the data\n",
    "Once you have brought in a record from any file you will want to do a few things\n",
    "to get familiar with the data.\n",
    "1 is look at the data types. The reason is you will need to maybe do math \n",
    "or filters and will have to decide how you will handle the data types. \n",
    "What do you notice about the above data types?\n",
    "\n"
   ]
  },
  {
   "cell_type": "markdown",
   "metadata": {},
   "source": [
    "# Cleaning data\n",
    "* Fixing Data Types \n",
    "* Changing column Headers\n",
    "* Counts, comparisions and Unique\n",
    "\n",
    "After reviewing the code above you may have noticed a trend\n",
    "they are all strings!\n",
    "For our purposes we will want to change some of these:\n",
    "\n",
    "### Enrollment file\n",
    "We will start by reviewing what the enrollent file has and what we want\n",
    "* cancel_date    to date\n",
    "* days_to_cancel to integer\n",
    "* is_canceled    to Boolean\n",
    "* is_udacity     to Boolean\n",
    "* join_date      to Date\n",
    "\n",
    "First we will need to create some functions that will loop through and do our conversions for us"
   ]
  },
  {
   "cell_type": "markdown",
   "metadata": {},
   "source": [
    "#### date to python data format \n",
    "we will call this later when we are ready to clean our dates"
   ]
  },
  {
   "cell_type": "code",
   "execution_count": 7,
   "metadata": {},
   "outputs": [],
   "source": [
    "from datetime import datetime as dt\n",
    " \n",
    "# If there is no date given, returns None\n",
    "def parse_date(date):\n",
    "    if date == '':\n",
    "        return None\n",
    "    else:\n",
    "        return dt.strptime(date, '%Y-%m-%d')\n",
    "    \n"
   ]
  },
  {
   "cell_type": "markdown",
   "metadata": {},
   "source": [
    "#### string to integer"
   ]
  },
  {
   "cell_type": "code",
   "execution_count": 8,
   "metadata": {},
   "outputs": [],
   "source": [
    "def parse_maybe_int(i):\n",
    "    if i == '':\n",
    "        return None\n",
    "    else:\n",
    "        return int(i)"
   ]
  },
  {
   "cell_type": "code",
   "execution_count": 9,
   "metadata": {},
   "outputs": [
    {
     "data": {
      "text/plain": [
       "OrderedDict([('account_key', '448'),\n",
       "             ('status', 'canceled'),\n",
       "             ('join_date', datetime.datetime(2014, 11, 10, 0, 0)),\n",
       "             ('cancel_date', datetime.datetime(2015, 1, 14, 0, 0)),\n",
       "             ('days_to_cancel', 65),\n",
       "             ('is_udacity', True),\n",
       "             ('is_canceled', True)])"
      ]
     },
     "execution_count": 9,
     "metadata": {},
     "output_type": "execute_result"
    }
   ],
   "source": [
    "# Clean up the data types in the enrollments table\n",
    "for enrollment in enrollments:\n",
    "    enrollment['cancel_date'] = parse_date(enrollment['cancel_date'])\n",
    "    enrollment['days_to_cancel'] = parse_maybe_int(enrollment['days_to_cancel'])\n",
    "    enrollment['is_canceled'] = enrollment['is_canceled'] == 'True'\n",
    "    enrollment['is_udacity'] = enrollment['is_udacity'] == 'True'\n",
    "    enrollment['join_date'] = parse_date(enrollment['join_date'])\n",
    "    \n",
    "enrollments[0]"
   ]
  },
  {
   "cell_type": "markdown",
   "metadata": {},
   "source": [
    "### Engagement file\n",
    "These are a lot of decimal places stored as strings. They will need to be converted to float before being converted into int.\n",
    "* lessons_completed      to int int(float(0.0) \n",
    "* nums_courses_visited   to int int(float())\n",
    "* projects_completed     to \n",
    "* total_minutes_visited  to \n",
    "* utc_date               to "
   ]
  },
  {
   "cell_type": "code",
   "execution_count": 10,
   "metadata": {},
   "outputs": [
    {
     "data": {
      "text/plain": [
       "OrderedDict([('acct', '0'),\n",
       "             ('utc_date', datetime.datetime(2015, 1, 9, 0, 0)),\n",
       "             ('num_courses_visited', 1),\n",
       "             ('total_minutes_visited', 11.6793745),\n",
       "             ('lessons_completed', 0),\n",
       "             ('projects_completed', 0)])"
      ]
     },
     "execution_count": 10,
     "metadata": {},
     "output_type": "execute_result"
    }
   ],
   "source": [
    "# Clean up the data types in the engagement table\n",
    "for engagement_record in daily_engagement:\n",
    "    engagement_record['lessons_completed'] = int(float(engagement_record['lessons_completed']))\n",
    "    engagement_record['num_courses_visited'] = int(float(engagement_record['num_courses_visited']))\n",
    "    engagement_record['projects_completed'] = int(float(engagement_record['projects_completed']))\n",
    "    engagement_record['total_minutes_visited'] = float(engagement_record['total_minutes_visited'])\n",
    "    engagement_record['utc_date'] = parse_date(engagement_record['utc_date'])\n",
    "    \n",
    "daily_engagement[0]"
   ]
  },
  {
   "cell_type": "code",
   "execution_count": 11,
   "metadata": {},
   "outputs": [
    {
     "data": {
      "text/plain": [
       "OrderedDict([('creation_date', datetime.datetime(2015, 1, 14, 0, 0)),\n",
       "             ('completion_date', datetime.datetime(2015, 1, 16, 0, 0)),\n",
       "             ('assigned_rating', 'UNGRADED'),\n",
       "             ('account_key', '256'),\n",
       "             ('lesson_key', '3176718735'),\n",
       "             ('processing_state', 'EVALUATED')])"
      ]
     },
     "execution_count": 11,
     "metadata": {},
     "output_type": "execute_result"
    }
   ],
   "source": [
    "# Clean up the data types in the submissions table\n",
    "for submission in project_submissions:\n",
    "    submission['completion_date'] = parse_date(submission['completion_date'])\n",
    "    submission['creation_date'] = parse_date(submission['creation_date'])\n",
    "\n",
    "project_submissions[0]"
   ]
  },
  {
   "cell_type": "code",
   "execution_count": 12,
   "metadata": {},
   "outputs": [],
   "source": [
    "## Rename the \"acct\" column in the daily_engagement table to \"account_key\".\n",
    "for engagement_record in daily_engagement:\n",
    "    engagement_record['account_key']= engagement_record['acct'] \n",
    "    del[engagement_record['acct']]"
   ]
  },
  {
   "cell_type": "markdown",
   "metadata": {},
   "source": [
    "Note when running the above cells that we are actively changing the contents of our data variables. If you try to run these cells multiple times in the same session, an error will occur.\n",
    "\n",
    "## Investigating the Data"
   ]
  },
  {
   "cell_type": "code",
   "execution_count": 13,
   "metadata": {},
   "outputs": [],
   "source": [
    "#####################################\n",
    "#                 2                 #\n",
    "#####################################\n",
    "\n",
    "## Find the total number of rows and the number of unique students (account keys)\n",
    "## in each table.\n",
    "enrollment_num_rows = 1640            # Replace this with your code\n",
    "enrollment_num_unique_students = 1302  # Replace this with your code\n",
    "\n",
    "engagement_num_rows = 0             # Replace this with your code\n",
    "engagement_num_unique_students = 0  # Replace this with your code\n",
    "\n",
    "submission_num_rows = 0             # Replace this with your code\n",
    "submission_num_unique_students = 0  # Replace this with your code"
   ]
  },
  {
   "cell_type": "code",
   "execution_count": 14,
   "metadata": {},
   "outputs": [
    {
     "data": {
      "text/plain": [
       "1640"
      ]
     },
     "execution_count": 14,
     "metadata": {},
     "output_type": "execute_result"
    }
   ],
   "source": [
    "len(enrollments)"
   ]
  },
  {
   "cell_type": "code",
   "execution_count": 15,
   "metadata": {},
   "outputs": [
    {
     "data": {
      "text/plain": [
       "136240"
      ]
     },
     "execution_count": 15,
     "metadata": {},
     "output_type": "execute_result"
    }
   ],
   "source": [
    "len(daily_engagement)"
   ]
  },
  {
   "cell_type": "code",
   "execution_count": 16,
   "metadata": {},
   "outputs": [
    {
     "data": {
      "text/plain": [
       "3642"
      ]
     },
     "execution_count": 16,
     "metadata": {},
     "output_type": "execute_result"
    }
   ],
   "source": [
    "len(project_submissions)"
   ]
  },
  {
   "cell_type": "markdown",
   "metadata": {},
   "source": [
    "We will build a function so that we wont have to build code over and over for each\n",
    "sheet. Notice account_key. its a good thing that header was changed or this \n",
    "would be more complex. "
   ]
  },
  {
   "cell_type": "code",
   "execution_count": 17,
   "metadata": {},
   "outputs": [],
   "source": [
    "def get_unique_students(data):\n",
    "    unique_students = set()\n",
    "    for data_point in data:\n",
    "        unique_students.add(data_point['account_key'])\n",
    "    return unique_students"
   ]
  },
  {
   "cell_type": "code",
   "execution_count": 18,
   "metadata": {},
   "outputs": [
    {
     "data": {
      "text/plain": [
       "1302"
      ]
     },
     "execution_count": 18,
     "metadata": {},
     "output_type": "execute_result"
    }
   ],
   "source": [
    "unique_enrolled_students = get_unique_students(enrollments)\n",
    "len(unique_enrolled_students)"
   ]
  },
  {
   "cell_type": "code",
   "execution_count": 19,
   "metadata": {},
   "outputs": [
    {
     "data": {
      "text/plain": [
       "1237"
      ]
     },
     "execution_count": 19,
     "metadata": {},
     "output_type": "execute_result"
    }
   ],
   "source": [
    "unique_engagement_students = get_unique_students(daily_engagement)\n",
    "len(unique_engagement_students)"
   ]
  },
  {
   "cell_type": "code",
   "execution_count": 20,
   "metadata": {},
   "outputs": [
    {
     "data": {
      "text/plain": [
       "743"
      ]
     },
     "execution_count": 20,
     "metadata": {},
     "output_type": "execute_result"
    }
   ],
   "source": [
    "unique_project_submitters = get_unique_students(project_submissions)\n",
    "len(unique_project_submitters)"
   ]
  },
  {
   "cell_type": "code",
   "execution_count": 21,
   "metadata": {},
   "outputs": [
    {
     "data": {
      "text/plain": [
       "'0'"
      ]
     },
     "execution_count": 21,
     "metadata": {},
     "output_type": "execute_result"
    }
   ],
   "source": [
    "daily_engagement[0]['account_key']"
   ]
  },
  {
   "cell_type": "markdown",
   "metadata": {},
   "source": [
    "### Check the dates"
   ]
  },
  {
   "cell_type": "code",
   "execution_count": 22,
   "metadata": {},
   "outputs": [
    {
     "name": "stdout",
     "output_type": "stream",
     "text": [
      "OrderedDict([('account_key', '1304'), ('status', 'canceled'), ('join_date', datetime.datetime(2015, 1, 10, 0, 0)), ('cancel_date', datetime.datetime(2015, 3, 10, 0, 0)), ('days_to_cancel', 59), ('is_udacity', True), ('is_canceled', True)])\n",
      "OrderedDict([('account_key', '1304'), ('status', 'canceled'), ('join_date', datetime.datetime(2015, 3, 10, 0, 0)), ('cancel_date', datetime.datetime(2015, 6, 17, 0, 0)), ('days_to_cancel', 99), ('is_udacity', True), ('is_canceled', True)])\n",
      "OrderedDict([('account_key', '1101'), ('status', 'current'), ('join_date', datetime.datetime(2015, 2, 25, 0, 0)), ('cancel_date', None), ('days_to_cancel', None), ('is_udacity', True), ('is_canceled', False)])\n"
     ]
    },
    {
     "data": {
      "text/plain": [
       "3"
      ]
     },
     "execution_count": 22,
     "metadata": {},
     "output_type": "execute_result"
    }
   ],
   "source": [
    "num_problem_students = 0\n",
    "for enrollment in enrollments:\n",
    "    student = enrollment['account_key']\n",
    "    if (student not in unique_engagement_students and \n",
    "            enrollment['join_date'] != enrollment['cancel_date']):\n",
    "        print(enrollment)\n",
    "        num_problem_students += 1\n",
    "\n",
    "num_problem_students\n",
    "\n"
   ]
  },
  {
   "cell_type": "markdown",
   "metadata": {},
   "source": [
    "## Missing Engagement Records"
   ]
  },
  {
   "cell_type": "markdown",
   "metadata": {},
   "source": [
    "### Remove test data"
   ]
  },
  {
   "cell_type": "code",
   "execution_count": 23,
   "metadata": {},
   "outputs": [
    {
     "data": {
      "text/plain": [
       "6"
      ]
     },
     "execution_count": 23,
     "metadata": {},
     "output_type": "execute_result"
    }
   ],
   "source": [
    "# Create a set of the account keys for all Udacity test accounts\n",
    "udacity_test_accounts = set()\n",
    "for enrollment in enrollments:\n",
    "    if enrollment['is_udacity']:\n",
    "        udacity_test_accounts.add(enrollment['account_key'])\n",
    "len(udacity_test_accounts)"
   ]
  },
  {
   "cell_type": "code",
   "execution_count": 24,
   "metadata": {},
   "outputs": [],
   "source": [
    "# Given some data with an account_key field, removes any records corresponding to Udacity test accounts\n",
    "def remove_udacity_accounts(data):\n",
    "    non_udacity_data = []\n",
    "    for data_point in data:\n",
    "        if data_point['account_key'] not in udacity_test_accounts:\n",
    "            non_udacity_data.append(data_point)\n",
    "    return non_udacity_data"
   ]
  },
  {
   "cell_type": "code",
   "execution_count": 25,
   "metadata": {},
   "outputs": [
    {
     "name": "stdout",
     "output_type": "stream",
     "text": [
      "1622\n",
      "135656\n",
      "3634\n"
     ]
    }
   ],
   "source": [
    "# Remove Udacity test accounts from all three tables\n",
    "non_udacity_enrollments = remove_udacity_accounts(enrollments)\n",
    "non_udacity_engagement = remove_udacity_accounts(daily_engagement)\n",
    "non_udacity_submissions = remove_udacity_accounts(project_submissions)\n",
    "\n",
    "print(len(non_udacity_enrollments))\n",
    "print(len(non_udacity_engagement))\n",
    "print(len(non_udacity_submissions))"
   ]
  },
  {
   "cell_type": "markdown",
   "metadata": {},
   "source": [
    "## Refining the Question"
   ]
  },
  {
   "cell_type": "code",
   "execution_count": 26,
   "metadata": {},
   "outputs": [
    {
     "data": {
      "text/plain": [
       "995"
      ]
     },
     "execution_count": 26,
     "metadata": {},
     "output_type": "execute_result"
    }
   ],
   "source": [
    "#####################################\n",
    "#                 6                 #\n",
    "#####################################\n",
    "\n",
    "## Create a dictionary named paid_students containing all students who either\n",
    "## haven't canceled yet or who remained enrolled for more than 7 days. The keys\n",
    "## should be account keys, and the values should be the date the student enrolled.\n",
    "\n",
    "paid_students = {}\n",
    "for enrollment in non_udacity_enrollments:\n",
    "    if not enrollment['is_canceled'] or enrollment['days_to_cancel'] > 7:\n",
    "        account_key = enrollment['account_key']\n",
    "        enrollment_date = enrollment['join_date']\n",
    "        \n",
    "        if account_key not in paid_students or \\\n",
    "               enrollment_date > paid_students[account_key]:\n",
    "            paid_students[account_key] = enrollment_date\n",
    "len(paid_students)"
   ]
  },
  {
   "cell_type": "markdown",
   "metadata": {},
   "source": [
    "## Getting Data from First Week"
   ]
  },
  {
   "cell_type": "code",
   "execution_count": 27,
   "metadata": {},
   "outputs": [],
   "source": [
    "# Takes a student's join date and the date of a specific engagement record,\n",
    "# and returns True if that engagement record happened within one week\n",
    "# of the student joining.\n",
    "def within_one_week(join_date, engagement_date):\n",
    "    time_delta = engagement_date - join_date\n",
    "    return time_delta.days < 7 and time_delta.days >=0"
   ]
  },
  {
   "cell_type": "code",
   "execution_count": 28,
   "metadata": {},
   "outputs": [],
   "source": [
    "def remove_free_trial_cancels(data):\n",
    "    new_data = []\n",
    "    for data_point in data:\n",
    "        if data_point['account_key'] in paid_students:\n",
    "            new_data.append(data_point)\n",
    "    return new_data"
   ]
  },
  {
   "cell_type": "code",
   "execution_count": 29,
   "metadata": {},
   "outputs": [
    {
     "name": "stdout",
     "output_type": "stream",
     "text": [
      "1293\n",
      "134549\n",
      "3618\n",
      "Paid engagements in first week:\n",
      "6919\n"
     ]
    }
   ],
   "source": [
    "paid_enrollments = remove_free_trial_cancels(non_udacity_enrollments)\n",
    "paid_engagement = remove_free_trial_cancels(non_udacity_engagement)\n",
    "paid_submissions = remove_free_trial_cancels(non_udacity_submissions)\n",
    "\n",
    "print (len(paid_enrollments))\n",
    "print (len(paid_engagement))\n",
    "print (len(paid_submissions))\n",
    "\n",
    "paid_engagement_in_first_week = []\n",
    "for engagement_record in paid_engagement:\n",
    "    account_key = engagement_record['account_key']\n",
    "    join_date = paid_students[account_key]\n",
    "    engagement_record_date = engagement_record['utc_date']\n",
    "\n",
    "    if within_one_week(join_date, engagement_record_date):\n",
    "        paid_engagement_in_first_week.append(engagement_record)\n",
    "\n",
    "print('Paid engagements in first week:')\n",
    "print(len(paid_engagement_in_first_week))"
   ]
  },
  {
   "cell_type": "code",
   "execution_count": 30,
   "metadata": {},
   "outputs": [
    {
     "data": {
      "text/plain": [
       "995"
      ]
     },
     "execution_count": 30,
     "metadata": {},
     "output_type": "execute_result"
    }
   ],
   "source": [
    "#####################################\n",
    "#                 7                 #\n",
    "#####################################\n",
    "\n",
    "## Create a list of rows from the engagement table including only rows where\n",
    "## the student is one of the paid students you just found, and the date is within\n",
    "## one week of the student's join date.\n",
    "\n",
    "paid_students = {}\n",
    "for enrollment in non_udacity_enrollments:\n",
    "    if (not enrollment['is_canceled'] or\n",
    "            enrollment['days_to_cancel'] > 7):\n",
    "        account_key = enrollment['account_key']\n",
    "        enrollment_date = enrollment['join_date']\n",
    "        if (account_key not in paid_students or\n",
    "                enrollment_date > paid_students[account_key]):\n",
    "            paid_students[account_key] = enrollment_date\n",
    "len(paid_students)"
   ]
  },
  {
   "cell_type": "markdown",
   "metadata": {},
   "source": [
    "## Exploring Student Engagement"
   ]
  },
  {
   "cell_type": "code",
   "execution_count": 31,
   "metadata": {},
   "outputs": [],
   "source": [
    "from collections import defaultdict\n",
    "\n",
    "# Create a dictionary of engagement grouped by student.\n",
    "# The keys are account keys, and the values are lists of engagement records.\n",
    "engagement_by_account = defaultdict(list)\n",
    "for engagement_record in paid_engagement_in_first_week:\n",
    "    account_key = engagement_record['account_key']\n",
    "    engagement_by_account[account_key].append(engagement_record)"
   ]
  },
  {
   "cell_type": "code",
   "execution_count": 32,
   "metadata": {},
   "outputs": [],
   "source": [
    "# Create a dictionary with the total minutes each student spent in the classroom during the first week.\n",
    "# The keys are account keys, and the values are numbers (total minutes)\n",
    "total_minutes_by_account = {}\n",
    "for account_key, engagement_for_student in engagement_by_account.items():\n",
    "    total_minutes = 0\n",
    "    for engagement_record in engagement_for_student:\n",
    "        total_minutes += engagement_record['total_minutes_visited']\n",
    "    total_minutes_by_account[account_key] = total_minutes"
   ]
  },
  {
   "cell_type": "code",
   "execution_count": 33,
   "metadata": {},
   "outputs": [
    {
     "name": "stdout",
     "output_type": "stream",
     "text": [
      "Mean: 306.70832675342825\n",
      "Standard deviation: 412.99693340852957\n",
      "Minimum: 0.0\n",
      "Maximum: 3564.7332644989997\n"
     ]
    }
   ],
   "source": [
    "import numpy as np\n",
    "\n",
    "# Summarize the data about minutes spent in the classroom\n",
    "total_minutes = np.array(list(total_minutes_by_account.values()))\n",
    "print('Mean:', np.mean(total_minutes))\n",
    "print('Standard deviation:', np.std(total_minutes))\n",
    "print('Minimum:', np.min(total_minutes))\n",
    "print('Maximum:', np.max(total_minutes))\n"
   ]
  },
  {
   "cell_type": "markdown",
   "metadata": {},
   "source": [
    "## Debugging Data Analysis Code"
   ]
  },
  {
   "cell_type": "code",
   "execution_count": 34,
   "metadata": {},
   "outputs": [
    {
     "data": {
      "text/plain": [
       "3564.7332644989997"
      ]
     },
     "execution_count": 34,
     "metadata": {},
     "output_type": "execute_result"
    }
   ],
   "source": [
    "#####################################\n",
    "#                 8                 #\n",
    "#####################################\n",
    "\n",
    "# this is taking the max minutes and looking for any students that meet that max minute\n",
    "# first there is a loop that reviews the file \n",
    "\n",
    "student_with_max_minutes = None\n",
    "max_minutes = 0\n",
    "for student, total_minutes in total_minutes_by_account.items():\n",
    "    if total_minutes > max_minutes:\n",
    "        max_minutes = total_minutes\n",
    "        student_with_max_minutes = student\n",
    "max_minutes"
   ]
  },
  {
   "cell_type": "markdown",
   "metadata": {},
   "source": [
    "### Find the Max student \n",
    "We should be expecting the records returned to be only 7 days worth of data. \n"
   ]
  },
  {
   "cell_type": "code",
   "execution_count": 35,
   "metadata": {},
   "outputs": [
    {
     "name": "stdout",
     "output_type": "stream",
     "text": [
      "OrderedDict([('utc_date', datetime.datetime(2015, 7, 9, 0, 0)), ('num_courses_visited', 4), ('total_minutes_visited', 850.519339666), ('lessons_completed', 4), ('projects_completed', 0), ('account_key', '163')])\n",
      "OrderedDict([('utc_date', datetime.datetime(2015, 7, 10, 0, 0)), ('num_courses_visited', 6), ('total_minutes_visited', 872.633923334), ('lessons_completed', 6), ('projects_completed', 0), ('account_key', '163')])\n",
      "OrderedDict([('utc_date', datetime.datetime(2015, 7, 11, 0, 0)), ('num_courses_visited', 2), ('total_minutes_visited', 777.018903666), ('lessons_completed', 6), ('projects_completed', 0), ('account_key', '163')])\n",
      "OrderedDict([('utc_date', datetime.datetime(2015, 7, 12, 0, 0)), ('num_courses_visited', 1), ('total_minutes_visited', 294.568774), ('lessons_completed', 2), ('projects_completed', 0), ('account_key', '163')])\n",
      "OrderedDict([('utc_date', datetime.datetime(2015, 7, 13, 0, 0)), ('num_courses_visited', 3), ('total_minutes_visited', 471.2139785), ('lessons_completed', 1), ('projects_completed', 0), ('account_key', '163')])\n",
      "OrderedDict([('utc_date', datetime.datetime(2015, 7, 14, 0, 0)), ('num_courses_visited', 2), ('total_minutes_visited', 298.778345333), ('lessons_completed', 1), ('projects_completed', 0), ('account_key', '163')])\n",
      "OrderedDict([('utc_date', datetime.datetime(2015, 7, 15, 0, 0)), ('num_courses_visited', 0), ('total_minutes_visited', 0.0), ('lessons_completed', 0), ('projects_completed', 0), ('account_key', '163')])\n"
     ]
    }
   ],
   "source": [
    "for engagement_record in paid_engagement_in_first_week:\n",
    "    if engagement_record['account_key'] == student_with_max_minutes:\n",
    "        print(engagement_record)"
   ]
  },
  {
   "cell_type": "markdown",
   "metadata": {},
   "source": [
    "Review the first week code and head back up to fix it\n",
    "def within_one_week(join_date, engagement_date):\n",
    "    time_delta = engagement_date - join_date\n",
    "    return time_delta.days < 7\n",
    "    What about students who signed up canceled and then signe up again?\n",
    "    So we want to see people who signed up and engaged within 7 days. \n",
    "    Scenario would be A students signed up, cancled and then 8 days later signed up again and\n",
    "    engaged.  to check this we can add that 0 days passed from sign up to engagement. This   makes an assumption though..\n",
    "    Go the top and you can change the code to\n",
    "    return time_delta.days < 7 and time_delta.days >= 0\n",
    "    "
   ]
  },
  {
   "cell_type": "markdown",
   "metadata": {},
   "source": [
    "## Lessons Completed in First Week"
   ]
  },
  {
   "cell_type": "code",
   "execution_count": 36,
   "metadata": {},
   "outputs": [],
   "source": [
    "#####################################\n",
    "#                 9                 #\n",
    "#####################################\n",
    "\n",
    "## Adapt the code above to find the mean, standard deviation, minimum, and maximum for\n",
    "## the number of lessons completed by each student during the first week. Try creating\n",
    "## one or more functions to re-use the code above.\n",
    "'''from collections import defaultdict\n",
    "engagement_by_account = defaultdict(list)\n",
    "for engagement_record in paid_engagement_in_first_week:\n",
    "    account_key = engagement_record['account_key']\n",
    "    engagement_by_account[account_key].append(engagement_record)\n",
    "'''\n",
    "from collections import defaultdict\n",
    "\n",
    "def group_data(data, key_name):\n",
    "    grouped_data = defaultdict(list)\n",
    "    for data_point in data:\n",
    "        key = data_point[key_name]\n",
    "        grouped_data[key].append(data_point)\n",
    "    return grouped_data\n",
    "engagement_by_account = group_data(paid_engagement_in_first_week,'account_key')"
   ]
  },
  {
   "cell_type": "code",
   "execution_count": 37,
   "metadata": {},
   "outputs": [],
   "source": [
    "'''\n",
    "total_minutes_by_account = {}\n",
    "\n",
    "for account_key, engagement_for_student in engagement_by_account.items():\n",
    "    total_minutes = 0\n",
    "    for engagement_record in engagement_for_student:\n",
    "        total_minutes += engagement_record['total_minutes_visited']\n",
    "    total_minutes_by_account[account_key] = total_minutes\n",
    "'''\n",
    "def sum_grouped_items(grouped_data, field_name):\n",
    "    summed_data = {}\n",
    "    \n",
    "    for key, data_points in grouped_data.items():\n",
    "        total = 0 \n",
    "        for data_point in data_points:\n",
    "            total += data_point[field_name]\n",
    "        summed_data[key] = total\n",
    "    return summed_data\n",
    "total_minutes_by_account = sum_grouped_items(engagement_by_account, 'total_minutes_visited')"
   ]
  },
  {
   "cell_type": "code",
   "execution_count": 38,
   "metadata": {},
   "outputs": [
    {
     "name": "stdout",
     "output_type": "stream",
     "text": [
      "Mean 306.70832675342825\n",
      "Standard deviation: 412.99693340852957\n",
      "Minimum: 0.0\n",
      "Maximum: 3564.7332644989997\n"
     ]
    }
   ],
   "source": [
    "import numpy as np\n",
    "def describe_data(data):\n",
    "    print('Mean', np.mean(data))\n",
    "    print('Standard deviation:',np.std(data))\n",
    "    print('Minimum:', np.min(data))\n",
    "    print('Maximum:', np.max(data))\n",
    "    \n",
    "total_minutes = np.array(list(total_minutes_by_account.values()))\n",
    "describe_data(total_minutes)"
   ]
  },
  {
   "cell_type": "code",
   "execution_count": 49,
   "metadata": {},
   "outputs": [
    {
     "name": "stdout",
     "output_type": "stream",
     "text": [
      "Mean 1.636180904522613\n",
      "Standard deviation: 3.002561299829423\n",
      "Minimum: 0\n",
      "Maximum: 36\n"
     ]
    }
   ],
   "source": [
    "lessons_completed_by_account = sum_grouped_items(engagement_by_account, 'lessons_completed')\n",
    "lessons_completed_by_account = np.array(list(lessons_completed_by_account.values()))\n",
    "describe_data(lessons_completed_by_account)\n"
   ]
  },
  {
   "cell_type": "markdown",
   "metadata": {},
   "source": [
    "## Number of Visits in First Week"
   ]
  },
  {
   "cell_type": "code",
   "execution_count": 51,
   "metadata": {},
   "outputs": [],
   "source": [
    "######################################\n",
    "#                 10                 #\n",
    "######################################\n",
    "\n",
    "## Find the mean, standard deviation, minimum, and maximum for the number of\n",
    "## days each student visits the classroom during the first week.\n",
    "for engagement_record in paid_engagement:\n",
    "    if  engagement_record['num_courses_visited'] > 0:\n",
    "        engagement_record['has_visited'] = 1\n",
    "    else:\n",
    "        engagement_record['has_visited'] = 0"
   ]
  },
  {
   "cell_type": "code",
   "execution_count": 55,
   "metadata": {},
   "outputs": [
    {
     "name": "stdout",
     "output_type": "stream",
     "text": [
      "Mean 2.8673366834170855\n",
      "Standard deviation: 2.2551980029196814\n",
      "Minimum: 0\n",
      "Maximum: 7\n"
     ]
    }
   ],
   "source": [
    "days_visited_by_account = sum_grouped_items(engagement_by_account, 'has_visited')\n",
    "days_visited_by_account = np.array(list(days_visited_by_account.values()))\n",
    "describe_data(days_visited_by_account)"
   ]
  },
  {
   "cell_type": "markdown",
   "metadata": {},
   "source": [
    "## Splitting out Passing Students"
   ]
  },
  {
   "cell_type": "code",
   "execution_count": 59,
   "metadata": {},
   "outputs": [
    {
     "name": "stdout",
     "output_type": "stream",
     "text": [
      "4527\n",
      "2392\n"
     ]
    }
   ],
   "source": [
    "######################################\n",
    "#                 11                 #\n",
    "######################################\n",
    "\n",
    "## Create two lists of engagement data for paid students in the first week.\n",
    "## The first list should contain data for students who eventually pass the\n",
    "## subway project, and the second list should contain data for students\n",
    "## who do not.\n",
    "\n",
    "subway_project_lesson_keys = ['746169184', '3176718735']\n",
    "pass_subway_project = set()\n",
    "for submission in paid_submissions:\n",
    "    project = submission['lesson_key']\n",
    "    rating = submission['assigned_rating']\n",
    "    \n",
    "    if ((project in subway_project_lesson_keys) and\n",
    "            (rating == \"PASSED\" or rating == \"DISTINCTION\")):\n",
    "        pass_subway_project.add(submission['account_key'])\n",
    "len(pass_subway_project)\n",
    "\n",
    "passing_engagement = []\n",
    "non_passing_engagement = []\n",
    "\n",
    "for engagement_record in paid_engagement_in_first_week:\n",
    "    if engagement_record['account_key']in pass_subway_project:\n",
    "        passing_engagement.append(engagement_record)\n",
    "    else:\n",
    "        non_passing_engagement.append(engagement_record)\n",
    "print(len(passing_engagement))\n",
    "print(len(non_passing_engagement))"
   ]
  },
  {
   "cell_type": "markdown",
   "metadata": {},
   "source": [
    "## Comparing the Two Student Groups"
   ]
  },
  {
   "cell_type": "code",
   "execution_count": 70,
   "metadata": {},
   "outputs": [
    {
     "name": "stdout",
     "output_type": "stream",
     "text": [
      "non-passing students:\n",
      "[ 736.43716483  177.83674867    0.            0.          193.848226\n",
      "   92.55472317    0.          138.052647    144.12431733    0.\n",
      "  454.2731635   115.155591     32.816891    348.39415717  171.59336683\n",
      "   16.57458467  100.0702155    25.24354       9.61211033   18.8897565\n",
      "    0.            0.           16.604203      0.          198.69626317\n",
      "  666.329091     88.1119545    56.45108967    0.            0.\n",
      "    0.         1329.9598305    88.0103965     3.56199133  253.2367575\n",
      "  139.060529    307.300651      0.            9.4907925   401.8189395\n",
      "   29.9067615    21.12844967    0.           41.7199715   219.92606667\n",
      "    0.          313.50181033  489.7736965     0.          374.57610383\n",
      "  706.5435295     0.          324.63023783   52.12896733   30.59517617\n",
      "  116.62887683  413.3262125    34.03308733    0.          354.62234967\n",
      "    0.          100.06368333   85.29257      59.34078367  135.6825435\n",
      "  275.166407      0.            0.          199.31994917   48.19741517\n",
      "    4.2604045     0.            0.          277.84890217  176.3818005\n",
      "    4.78649717   23.6958715     0.          417.95354817 1369.64142183\n",
      "    0.          146.941085      0.            0.          397.88262633\n",
      "  122.87407133    0.           22.73466567   84.1050015    49.937149\n",
      "  106.2993215  1138.3177015  1764.53679833    0.            2.30081433\n",
      "    0.          260.4702465    27.3957285   345.17664533  129.762569\n",
      "   51.016356      0.            2.38093233   21.5715365     0.\n",
      "   29.38455617   13.587055      0.          924.06005883  817.60166267\n",
      "   32.68610117   58.56061467  214.54059633    5.92106983   64.299956\n",
      "   92.68960017    0.            0.          260.94864483    2.54122167\n",
      "   53.1295885     0.            0.           13.44256067  129.3303275\n",
      "   30.2541315    49.74708933   26.52309817   15.59302617    0.\n",
      "  235.390555   1403.36664384   62.78241917    3.3880415     0.\n",
      "    0.           22.08896567    0.           26.55877267  108.98321333\n",
      "    5.75313917   63.3749175     0.           72.9583085    65.7383995\n",
      "   21.086721    663.542414    156.14496833    0.          209.96127933\n",
      "  125.44656917   80.6559995     0.            0.            5.03956\n",
      "  160.10492533   69.452099      0.            0.            2.99934967\n",
      "  131.70276883   94.32375533  107.35231467  120.65705617   91.64868467\n",
      "  240.5959745     6.80688283    0.          666.3937015     8.08317417\n",
      "  449.62698017   24.96690233   96.11371283   42.35008283    3.7103945\n",
      "   65.05270717    3.35443917  517.83344967    0.           68.41928417\n",
      "   46.494977    182.85550433   61.420162      0.          106.08401217\n",
      "   39.01042883  180.02588617   16.20052467    8.1809285     0.\n",
      "    0.          118.71332967    4.3800225   619.99539983   38.8781705\n",
      "   75.872982      0.           18.86013667    3.50885667  218.55650867\n",
      "   11.741084     13.89930517  959.95343767    0.            0.\n",
      "   12.98248983   45.5670335     0.           37.853095     84.52003383\n",
      "  117.19580633   81.44155333    0.           71.57364067  366.5285675\n",
      "    0.         1768.52274933  366.31941633    0.           29.73773833\n",
      " 1309.18463017    0.            0.           35.81870033    0.\n",
      "   90.6038805   152.21326717    5.51051367    0.           51.1061375\n",
      "  179.40805117    0.           53.190095      0.          464.4721495\n",
      "   30.09755267  269.29544283  739.89816333  108.889372      0.\n",
      "    0.           73.62896583   52.90383883    0.           37.20968417\n",
      "    0.            0.           89.38367817   20.21580533   12.65633967\n",
      "    0.           53.4711175   137.67590017  693.14851583    0.\n",
      "  321.75119083  129.85920367    0.          299.92081067    0.\n",
      "  105.577248     28.805244    876.64549     150.81012517  113.439182\n",
      "  565.66165933    0.            0.            2.70408483   87.81235717\n",
      "   56.42370467  870.434179      0.           55.79239733   76.1418825\n",
      "    2.7094835   754.57903817   43.04497317    0.           42.30392283\n",
      "   63.17478617  258.84928917   51.7192425   200.75333083  292.8858635\n",
      "  168.1376205     6.5907805     4.71476417  696.57720983  395.02283867\n",
      "   48.67926333  291.77827717    0.           76.72256917   26.4703245\n",
      "  114.066953    247.94479567  430.78566783    0.            0.\n",
      "   12.822523   1360.72870017  266.32487267  100.83762017  118.30495933\n",
      "   61.08353233    0.            0.            0.          621.57557017\n",
      "  172.7787235     0.            0.           62.91143633   53.59622567\n",
      "   79.1955655     3.50918183    9.62371517   10.00588033   11.28801933\n",
      "    0.          187.32349033   30.80613033    0.            0.\n",
      "    0.          383.997529      2.01734133    0.            0.\n",
      "    0.           11.33088867    4.79064933  438.50495817   62.8929255\n",
      "    0.            0.          134.52428383   32.42569817    0.\n",
      "    5.45628333   78.787234    233.20550333  143.9102725     0.\n",
      "    0.            0.            9.77147383]\n",
      "passing students:\n",
      "[4.94880496e+02 1.85763847e+01 0.00000000e+00 0.00000000e+00\n",
      " 3.33214047e+01 3.29757857e+02 7.80454551e+02 1.04203889e+02\n",
      " 9.89113642e+02 4.48471384e+02 1.30123478e+02 0.00000000e+00\n",
      " 1.79471909e+02 1.01338340e+03 6.56221875e+01 9.83375040e+02\n",
      " 1.19120300e+02 2.35499692e+02 1.55136157e+02 0.00000000e+00\n",
      " 4.47938978e+02 9.31103691e+02 6.57205234e+02 1.59132281e+03\n",
      " 9.43188117e+02 0.00000000e+00 4.30801676e+02 1.57912123e+03\n",
      " 7.66256316e+02 5.56190603e+02 6.96578352e+01 0.00000000e+00\n",
      " 1.23291505e+02 2.53987026e+02 1.80413814e+02 7.65640217e+02\n",
      " 8.09213896e+02 1.37819509e+03 0.00000000e+00 1.00158886e+03\n",
      " 4.78219526e+02 5.11925391e+02 5.76464303e+02 8.88220380e+01\n",
      " 0.00000000e+00 0.00000000e+00 2.61189352e+01 8.54828888e+02\n",
      " 1.05568719e+03 0.00000000e+00 4.91908708e+02 0.00000000e+00\n",
      " 3.22752383e+00 4.01974791e+02 4.27764674e+02 5.89617132e+02\n",
      " 1.06722081e+02 9.13514995e+01 1.02410933e+03 4.71679638e+01\n",
      " 0.00000000e+00 4.96992194e+02 2.93383122e+02 4.65582333e+02\n",
      " 3.46503027e+02 4.22273660e+02 6.95969283e+00 8.56837505e+02\n",
      " 0.00000000e+00 0.00000000e+00 3.10042414e+02 5.35545175e+01\n",
      " 7.04552112e+02 0.00000000e+00 9.04806563e+01 2.08106507e+01\n",
      " 1.86549237e+02 2.31808017e+02 0.00000000e+00 4.16495984e+02\n",
      " 1.06224598e+02 2.27636385e+02 5.37528597e+02 2.93491885e+02\n",
      " 7.52478052e+02 5.00492171e+02 0.00000000e+00 1.03530650e+03\n",
      " 0.00000000e+00 6.37971658e+01 1.14434035e+02 8.49883638e+01\n",
      " 6.11320064e+02 7.51223690e+02 0.00000000e+00 4.53963998e+01\n",
      " 8.46994183e+00 5.25644454e+02 3.17104225e+02 1.45706150e+02\n",
      " 1.48730678e+02 2.77029923e+02 1.07506251e+03 8.39123771e+02\n",
      " 3.12180034e+02 2.90687407e+01 1.71292894e+02 1.64270891e+02\n",
      " 1.16752456e+03 1.21455292e+03 1.69159592e+02 3.88230597e+02\n",
      " 8.37769855e+01 1.86940189e+02 1.67606683e+02 8.86070375e+02\n",
      " 1.29244937e+02 8.91873358e+02 6.72942782e+02 2.66137875e+02\n",
      " 2.85362392e+02 5.30141510e+02 0.00000000e+00 5.10695815e+01\n",
      " 1.41053163e+03 3.34956098e+01 3.34560626e+02 7.43140712e+02\n",
      " 1.01387314e+02 0.00000000e+00 0.00000000e+00 1.19680363e+03\n",
      " 8.02133103e+01 1.01710349e+03 6.13256772e+02 3.41685658e+01\n",
      " 6.96247504e+02 9.03995657e+01 8.64587005e+01 2.05011568e+03\n",
      " 5.44992659e+02 2.01218223e+02 4.05022868e+02 3.84694927e+02\n",
      " 8.93441169e+02 1.15545180e+01 0.00000000e+00 0.00000000e+00\n",
      " 5.68352090e+01 4.14140884e+02 9.08466090e+02 7.45114623e+02\n",
      " 1.16898809e+02 7.36979135e+02 0.00000000e+00 6.35512496e+02\n",
      " 8.30327150e+00 0.00000000e+00 0.00000000e+00 6.30167562e+02\n",
      " 5.31888243e+02 5.32646425e+02 3.56473326e+03 7.65552797e+02\n",
      " 9.62573677e+02 0.00000000e+00 0.00000000e+00 1.20876730e+02\n",
      " 9.25594045e+01 5.86704285e+02 1.88739121e+03 5.89879829e+02\n",
      " 1.29807117e+01 4.14127439e+02 2.37579550e+03 1.05157714e+03\n",
      " 5.70776942e+02 7.83338306e+02 9.13675889e+02 9.54642313e+01\n",
      " 6.51980681e+02 3.10248678e+02 4.18019406e+02 2.47996467e+02\n",
      " 0.00000000e+00 6.01363203e+02 6.29376691e+02 6.20617617e+00\n",
      " 1.25164660e+03 7.94751167e+00 1.37265571e+02 4.02424998e+02\n",
      " 1.21075993e+02 3.15447057e+02 1.16642448e+03 3.83154251e+02\n",
      " 9.31307666e+02 8.09546996e+02 1.45270998e+03 4.48532542e+02\n",
      " 0.00000000e+00 2.19238944e+02 6.05770845e+02 6.86768161e+02\n",
      " 3.15340496e+02 6.33147357e+02 1.14392144e+02 3.56775518e+02\n",
      " 4.55604183e+00 4.21283545e+02 5.93147278e+02 1.68308095e+02\n",
      " 8.36345814e+02 3.03670653e+01 6.62640598e+02 5.83634612e+01\n",
      " 0.00000000e+00 2.39354216e+03 2.72684000e+02 4.67697828e+02\n",
      " 1.78704799e+02 2.41832223e+02 1.51609380e+02 3.06472382e+01\n",
      " 2.47969600e+02 4.39059296e+02 4.85780909e+02 3.60410859e+02\n",
      " 1.31726496e+02 1.97412144e+02 9.75699783e+00 1.16825269e+03\n",
      " 1.97043586e+02 9.31383891e+02 0.00000000e+00 4.67571648e+02\n",
      " 7.04500878e+02 3.30182624e+02 4.02202470e+01 0.00000000e+00\n",
      " 2.88921059e+02 5.54592614e+02 4.66051407e+01 1.23580410e+02\n",
      " 6.69996110e+02 2.77336975e+02 1.83134135e+02 8.77800365e+02\n",
      " 2.84690706e+02 1.75613687e+02 3.43357957e+02 0.00000000e+00\n",
      " 6.00575733e+02 2.21723893e+02 0.00000000e+00 3.94856815e+01\n",
      " 5.95271991e+02 7.36356579e+02 6.38934162e+02 0.00000000e+00\n",
      " 4.24569508e+01 4.17406497e+02 1.10095693e+02 3.71264587e+02\n",
      " 1.42014792e+03 2.11584081e+02 3.14333180e+02 3.22475558e+02\n",
      " 1.02033069e+03 8.30836251e+02 1.20322244e+03 7.04843445e+01\n",
      " 1.43501606e+03 4.44777990e+01 4.29032521e+02 8.84915487e+02\n",
      " 0.00000000e+00 1.43048057e+02 2.55537185e+02 0.00000000e+00\n",
      " 5.70565850e+02 2.69194508e+02 3.02608720e+02 1.09141489e+02\n",
      " 1.95930063e+02 2.83362022e+02 4.58531167e+00 9.55783198e+02\n",
      " 4.42377212e+02 0.00000000e+00 1.92665344e+02 4.97821825e+02\n",
      " 4.05600249e+02 4.21609223e+02 1.99060436e+02 3.38678290e+02\n",
      " 2.13469995e+02 0.00000000e+00 8.81299077e+01 6.69950098e+02\n",
      " 1.65373687e+02 2.70048788e+03 1.94756040e+02 5.38889745e+02\n",
      " 0.00000000e+00 4.19664317e+00 5.54875869e+02 1.50799987e+02\n",
      " 8.43170595e+02 5.92392220e+01 8.88612417e+02 1.34172052e+03\n",
      " 6.57012627e+02 1.73594361e+03 2.77831614e+03 1.96304416e+02\n",
      " 3.43670658e+02 8.59426281e+02 0.00000000e+00 0.00000000e+00\n",
      " 3.97247341e+02 1.66990072e+03 3.70874768e+02 1.42625152e+03\n",
      " 3.55962922e+02 6.67749593e+02 6.38196504e+02 1.87922668e+02\n",
      " 5.01941580e+02 1.24523425e+02 1.29087694e+02 0.00000000e+00\n",
      " 8.55403811e+02 2.78676997e+02 0.00000000e+00 1.32610473e+01\n",
      " 0.00000000e+00 3.92473795e+02 3.55314180e+01 0.00000000e+00\n",
      " 8.32953130e+01 6.14977856e+02 2.46611753e+02 2.48124359e+02\n",
      " 7.13347952e+02 0.00000000e+00 2.11387544e+02 1.07744377e+02\n",
      " 3.20975616e+02 7.29846848e+02 1.22072555e+02 6.09286119e+02\n",
      " 9.44555788e+02 6.47772518e+01 1.05064831e+02 7.14977217e+01\n",
      " 2.53056141e+03 6.77279074e+02 1.05377642e+03 5.83151085e+01\n",
      " 0.00000000e+00 0.00000000e+00 3.76347753e+01 2.35516632e+01\n",
      " 2.20210629e+02 8.17999733e+02 4.23843405e+01 0.00000000e+00\n",
      " 4.24015233e+00 1.97066153e+02 5.32582967e+02 3.05476253e+01\n",
      " 5.06559119e+02 6.59101327e+01 8.03339145e+02 0.00000000e+00\n",
      " 3.91393974e+02 5.19296122e+01 0.00000000e+00 7.36446115e+01\n",
      " 2.12177473e+02 9.25753742e+02 4.46472445e+02 0.00000000e+00\n",
      " 0.00000000e+00 1.20805215e+03 1.31746457e+02 1.37992977e+02\n",
      " 0.00000000e+00 4.27536933e+02 3.33188350e+00 8.08566556e+02\n",
      " 2.17768917e+00 0.00000000e+00 3.45044852e+01 1.20591447e+01\n",
      " 1.77592013e+02 2.39616650e+02 0.00000000e+00 0.00000000e+00\n",
      " 6.04355107e+02 6.11419570e+02 7.41280439e+02 5.72638435e+01\n",
      " 5.00912793e+02 5.97725307e+01 3.64480768e+02 9.51118715e+02\n",
      " 0.00000000e+00 5.54937660e+01 5.78950286e+02 6.80673978e+01\n",
      " 0.00000000e+00 7.22842105e+02 2.21490468e+01 8.67824927e+01\n",
      " 6.72066133e+00 9.68027815e+01 3.57275144e+02 3.11188954e+02\n",
      " 1.27151429e+02 0.00000000e+00 9.75587918e+02 0.00000000e+00\n",
      " 4.13542018e+02 7.26260759e+02 0.00000000e+00 1.02406368e+03\n",
      " 7.79742268e+01 4.37228834e+02 8.15104343e+01 6.96572565e+02\n",
      " 4.33227295e+02 8.58374187e+02 3.94918657e+01 3.63949141e+02\n",
      " 8.47381154e+02 4.59874008e+01 1.06529513e+03 1.84162205e+02\n",
      " 1.00181355e+03 0.00000000e+00 4.63023048e+01 9.09047285e+01\n",
      " 1.19916664e+02 2.02474780e+01 1.09672739e+03 7.99306697e+01\n",
      " 3.64342340e+01 5.14860607e+02 1.41194080e+02 4.38506902e+02\n",
      " 2.73780813e+01 5.47552953e+02 0.00000000e+00 9.43855547e+02\n",
      " 1.16032985e+02 8.96344988e+01 7.49194206e+02 6.33430179e+02\n",
      " 5.03054701e+02 5.31803672e+01 1.31946368e+02 2.07277396e+02\n",
      " 2.24915821e+02 8.84724045e+02 6.82496687e+01 1.74443146e+02\n",
      " 0.00000000e+00 2.85755738e+02 1.64161086e+02 4.66148000e+01\n",
      " 7.79586097e+02 4.45095967e+00 3.16431867e+02 0.00000000e+00\n",
      " 5.99325109e+02 2.95289625e+01 7.16382524e+02 1.87867210e+01\n",
      " 4.11845113e+02 1.88895825e+02 5.51190097e+02 1.01401499e+02\n",
      " 8.29973409e+02 3.24479705e+01 6.40035111e+02 0.00000000e+00\n",
      " 5.86740521e+02 5.91143567e+02 4.14253240e+02 1.21716886e+03\n",
      " 4.48741092e+02 3.85251357e+02 3.67385413e+02 2.29262011e+02\n",
      " 3.28227305e+01 5.04044929e+02 2.81389050e+00 3.88772619e+02\n",
      " 4.59374038e+02 7.58750387e+01 9.23539813e+01 7.36597380e+02\n",
      " 3.07065326e+02 1.43786003e+02 4.93536492e+02 4.26499567e+00\n",
      " 6.26234511e+02 6.28482907e+01 2.65478105e+02 4.54179512e+02\n",
      " 1.38110282e+03 9.80576380e+02 2.31028311e+02 1.09514977e+02\n",
      " 4.06045370e+02 3.03551344e+02 6.13331073e+01 0.00000000e+00\n",
      " 0.00000000e+00 6.70343883e+02 2.56418719e+02 5.14074398e+02\n",
      " 0.00000000e+00 1.89675409e+03 5.94043546e+02 4.22629508e+02\n",
      " 4.55198579e+02 6.09659052e+02 6.29782333e+02 0.00000000e+00\n",
      " 3.06256575e+01 7.11167350e+00 1.72571225e+02 4.40961309e+02\n",
      " 2.08795448e+01 1.03695159e+03 1.83789352e+02 1.42174361e+03\n",
      " 3.07754338e+02 4.17786687e+01 0.00000000e+00 7.69207331e+02\n",
      " 3.20522478e+01 1.89512853e+01 0.00000000e+00 9.32301290e+02\n",
      " 5.07102499e+02 2.72166541e+02 2.94343566e+02 1.87251409e+02\n",
      " 1.24581822e+03 0.00000000e+00 1.05245445e+02 6.17853382e+01\n",
      " 5.24319528e+01 3.26448714e+02 2.19726050e+01 1.84937245e+01\n",
      " 5.18187599e+02 1.33319127e+02 3.21372745e+02 2.89028347e+01\n",
      " 1.47702395e+03 1.73938272e+02 0.00000000e+00 9.07111294e+02\n",
      " 9.24246939e+02 0.00000000e+00 4.00813576e+02 9.11119941e+02\n",
      " 1.20558478e+02 2.85667518e+01 2.98253430e+02 7.12158888e+02\n",
      " 1.22489177e+02 2.48224250e+00 7.62169281e+02 0.00000000e+00\n",
      " 5.35005545e+02 7.77392298e+01 9.64132117e+00 8.46351145e+01\n",
      " 4.56274817e+00 0.00000000e+00 0.00000000e+00 4.88403532e+02\n",
      " 0.00000000e+00 0.00000000e+00 3.35525963e+02 3.11072363e+02\n",
      " 1.04764945e+03 3.99249830e+02 1.46892984e+02 2.48736635e+01\n",
      " 0.00000000e+00 6.15959796e+02 2.07913919e+02 1.89099370e+03\n",
      " 2.18375233e+02 4.56333282e+02 5.47739746e+02 2.48294289e+02\n",
      " 7.37238143e+01 6.53194041e+02 3.82930371e+02 5.29136507e+01\n",
      " 5.45962302e+02 1.01119340e+02 1.08475274e+02 3.21205714e+02\n",
      " 4.32987766e+02 5.13812698e+02 1.48290205e+03 5.57562551e+02\n",
      " 2.04024154e+02 3.96820587e+02 2.30704375e+02 1.02684807e+03\n",
      " 0.00000000e+00 9.51225038e+01 1.04748200e+03 2.03342799e+02\n",
      " 3.74365616e+02 3.94538759e+02 2.37764652e+02 8.45589890e+01\n",
      " 1.68918906e+03 2.23739434e+02 8.05941102e+01 1.69391774e+02\n",
      " 8.90572957e+01 4.16141866e+02 0.00000000e+00 3.40706277e+02\n",
      " 4.21960350e+02 7.93670642e+02 4.88375261e+02 8.47397986e+02\n",
      " 2.64528728e+02 7.35741317e+01 1.29132398e+02 7.00474360e+02\n",
      " 1.14844516e+02 1.34671585e+03 4.79863061e+02]\n",
      "non-passing students:\n",
      "[ 8  0  0  0  0  0  0  0  0  0  5  0  0  0  1  0  0  0  0  0  0  0  0  0\n",
      "  2  2  0  0  0  0  0  9  1  0  0  0  1  0  0  1  1  0  0  0  0  0  0  1\n",
      "  0  1  3  0  4  1  0  0  2  0  0  0  0  0  0  0  0  1  0  0  1  0  0  0\n",
      "  0  2  3  0  0  0  1 11  0  3  0  0  4  1  0  0  0  0  0  9 20  0  0  0\n",
      "  1  0  2  0  0  0  0  0  0  1  0  0  5  6  0  1  1  0  2  0  0  0  1  0\n",
      "  0  0  0  0  1  0  0  0  0  0  3 27  0  0  0  0  0  0  0  0  0  0  0  0\n",
      "  1  0  5  0  0  4  1  0  0  0  0  0  0  0  0  0  1  1  1  1  0  0  0  0\n",
      "  2  0  2  0  0  1  0  0  0  1  0  1  0  3  0  0  0  0  1  0  0  0  0  0\n",
      "  0 10  0  0  0  0  0  2  0  0  9  0  0  0  0  0  0  1  0  0  0  0  5  0\n",
      "  1  0  0  0 16  0  0  0  0  0  0  0  0  1  1  0  0  0  1  0  7  1  1  0\n",
      "  0  0  0  0  0  0  0  1  0  0  0  0  0  5  0  1  1  0  1  0  0  0  3  3\n",
      "  0  2  0  0  0  0  0  3  0  0  0  0  4  1  0  0  1  1  1  2  0  0  0  0\n",
      "  1  2  1  2  0  0  0  1  2  1  0  0  0  6  1  1  0  0  0  0  0  8  1  0\n",
      "  0  0  0  0  0  0  0  0  0  0  0  0  0  0  1  0  0  0  0  0  0  7  0  0\n",
      "  0  1  0  0  0  0  0  2  0  0  0  0]\n",
      "passing students:\n",
      "[ 1  0  0  0  0  0  6  1  7  2  0  0  0 10  0  1  1  1  0  0  2 12  5  6\n",
      "  4  0  2  3  2  5  1  0  0  0  1  4  4  5  0 10  6  1  2  0  0  0  0 13\n",
      " 12  0  2  0  0  3  1  4  0  1  3  0  0  2  1  5  6  3  0  2  0  0  2  0\n",
      "  7  0  0  0  0  0  0  1  1  2  1  3  5  1  0  1  0  1  1  1  3  3  0  0\n",
      "  0  2  2  1  0  0  7  2  0  0  1  0  3  9  1  2  0  1  0  5  1  5  0  3\n",
      "  3  7  0  0  9  0  1  5  1  0  0  1  0  6  2  0  3  0  1  3  2  1  1  1\n",
      "  4  0  0  0  0  1  7  4  1  4  0  2  0  0  0  2  3  3 20 15  2  0  0  0\n",
      "  0  2  5  4  0  1 10  6  3  6  5  0  3  1  2  2  0  2  2  0  7  0  0  4\n",
      "  0  1  4  1  9  1  6  1  0  0  2  2  1  3  0  1  0  1  5  0  6  0  1  1\n",
      "  0 20  2  4  1  1  0  0  1  3  1  3  0  0  0  5  1  4  0  3  2  2  0  0\n",
      "  1  3  0  0  2  1  1  5  2  1  2  0  0  1  0  0  3  3  5  0  0  2  1  3\n",
      " 10  1  5  1  9  5  8  0  6  0  3  2  0  0  1  0  2  0  1  0  2  2  0  7\n",
      "  3  0  0  4  2  2  0  2  1  0  0  6  2  4  1  3  0  0  2  0  9  0  5  9\n",
      "  3  9 17  0  5  3  0  0  2  6  1  7  1  2  4  0  2  1  0  0  2  0  0  1\n",
      "  0  1  0  0  0  4  0  1  3  0  1  0  1  2  1  3 10  0  0  0  9  3 10  0\n",
      "  0  0  0  0  1  4  0  0  0  1  2  0  1  0  6  0  2  0  0  1  0  5  2  0\n",
      "  0  5  0  0  0  5  0  2  0  0  0  0  0  1  0  0 15  2  4  1  4  0  1  2\n",
      "  0  0  2  0  0  0  0  0  0  2  2  2  2  0  8  0  3  2  0  9  0  1  0  5\n",
      "  3  4  0  2  2  0  5  4  4  0  0  0  0  0  5  1  0  1  1  2  0  2  0  6\n",
      "  0  0  4  2  4  1  1  0  1  5  1  0  0  5  1  1  1  0  3  0  5  1  0  0\n",
      "  2  0  4  0  6  0  2  0  4  2  3  8  1  5  2  1  0  3  0  3  2  0  0  1\n",
      "  1  1  3  0  8  0  1  2  3  8  4  0  1  0  0  0  0 18  0  3  0  7  5  1\n",
      "  3  4  4  0  0  0  0  2  0  6  1  6  3  0  0  2  0  0  0  5  2  2  1  1\n",
      "  2  0  1  0  1  1  0  0  5  0  1  0 13  0  0  6  6  0  3  2  0  0  1  1\n",
      "  1  0  6  0  3  1  0  0  0  0  0  1  0  0  2  4  6  2  1  0  0  1  1  8\n",
      "  1  2  1  1  0  4  1  0  3  1  0  4  0  4  6  1  1  1  0  1  0  1  6  1\n",
      "  3  2  1  0 36  2  1  0  0  0  0  2  2  5  1  2  2  0  0  8  1  8  1]\n",
      "non-passing students:\n",
      "[5 3 0 0 5 2 0 4 3 0 3 3 1 5 2 1 1 2 1 2 0 0 1 0 4 4 1 2 0 0 0 7 3 1 5 2 6\n",
      " 0 1 5 3 1 0 2 3 0 3 6 0 5 5 0 4 2 1 1 4 1 0 4 0 4 2 2 1 6 0 0 3 2 1 0 0 4\n",
      " 4 1 2 0 3 6 0 3 0 0 6 4 0 1 2 3 1 5 6 0 1 0 6 1 3 1 2 0 1 1 0 2 1 0 5 5 2\n",
      " 1 5 1 2 3 0 0 5 1 1 0 0 2 2 1 1 1 1 0 3 5 3 1 0 0 1 0 1 3 1 1 0 1 1 2 6 3\n",
      " 0 3 2 3 0 0 1 2 2 0 0 1 2 1 3 1 3 3 1 0 5 1 5 2 2 2 1 1 1 5 0 4 2 6 1 0 3\n",
      " 1 5 1 2 0 0 6 1 6 2 4 0 1 1 5 2 2 7 0 0 1 2 0 1 1 1 1 0 3 5 0 7 5 0 1 7 0\n",
      " 0 3 0 3 1 1 0 2 3 0 1 0 5 1 4 6 3 0 0 2 2 0 1 0 0 2 2 1 0 1 2 4 0 5 3 0 3\n",
      " 0 2 1 7 2 2 5 0 0 1 1 2 5 0 2 1 1 7 1 0 1 2 3 2 3 3 2 1 1 6 2 2 7 0 1 1 3\n",
      " 2 6 0 0 1 7 6 1 2 1 0 0 0 4 3 0 0 2 1 3 1 1 1 1 0 3 2 0 0 0 6 1 0 0 0 1 1\n",
      " 3 2 0 0 2 1 0 1 3 6 3 0 0 0 2]\n",
      "passing students:\n",
      "[7 2 0 0 1 5 6 3 7 4 3 0 2 6 1 5 2 2 4 0 5 7 5 7 3 0 3 5 4 5 2 0 2 5 1 6 7\n",
      " 7 0 4 5 4 6 2 0 0 1 6 7 0 7 0 1 3 5 4 4 3 7 1 0 6 2 5 4 6 1 6 0 0 3 3 6 0\n",
      " 3 1 4 4 0 3 2 3 6 4 6 3 0 4 0 3 3 2 3 5 0 1 1 5 4 3 4 2 6 6 2 1 3 4 6 5 1\n",
      " 6 2 4 3 7 3 7 5 3 6 5 0 1 7 1 3 3 1 0 0 6 3 7 5 1 3 1 1 7 6 2 3 5 5 3 0 0\n",
      " 1 4 7 5 1 6 0 6 1 0 0 7 6 6 6 6 6 0 0 2 1 5 7 6 1 6 7 5 5 6 7 2 5 3 4 4 0\n",
      " 4 7 1 5 1 4 5 4 6 6 6 7 6 6 7 0 3 7 7 4 7 5 4 1 3 6 3 4 1 5 3 0 7 5 4 3 3\n",
      " 3 2 7 6 4 5 2 5 1 7 2 5 0 6 5 4 1 0 4 7 2 3 4 6 1 4 2 3 6 0 6 4 0 3 6 5 5\n",
      " 0 1 5 5 3 6 3 4 2 6 6 7 3 7 2 5 7 0 1 5 0 3 1 1 1 2 5 1 6 5 0 3 5 4 5 3 3\n",
      " 3 0 2 5 3 7 2 7 0 1 5 4 5 2 7 7 5 7 7 3 3 5 0 0 4 7 4 6 3 5 5 4 3 3 1 0 3\n",
      " 2 0 1 0 3 2 0 2 7 5 3 5 0 2 3 6 4 3 4 4 2 2 2 6 7 5 3 0 0 1 2 7 6 1 0 1 3\n",
      " 5 1 2 1 6 0 2 2 0 2 3 6 4 0 0 7 2 2 0 6 1 6 1 0 2 2 4 3 0 0 5 7 5 1 3 3 2\n",
      " 5 0 2 4 1 0 7 3 1 1 3 1 5 3 0 5 0 3 5 0 6 1 5 2 5 6 5 1 4 7 2 7 1 6 0 2 4\n",
      " 1 1 7 1 1 6 2 6 2 3 0 6 5 1 3 5 2 2 3 4 3 6 2 3 0 3 2 1 5 2 6 0 4 2 7 1 6\n",
      " 3 6 1 6 2 4 0 7 4 5 7 4 5 6 2 1 7 1 4 5 2 1 5 4 2 4 1 6 3 3 4 7 6 2 2 4 5\n",
      " 2 0 0 5 3 5 0 7 5 4 6 5 5 0 1 1 5 7 2 6 3 7 5 3 0 3 1 1 0 6 3 3 4 4 7 0 3\n",
      " 1 2 2 1 2 6 1 3 1 7 2 0 7 7 0 4 6 4 1 2 7 2 1 7 0 5 2 1 2 1 0 0 6 0 0 3 6\n",
      " 6 4 4 2 0 6 5 7 4 4 4 4 1 5 6 2 5 3 2 4 3 4 5 4 3 4 5 7 0 2 6 2 3 4 4 1 7\n",
      " 4 1 4 2 3 0 5 4 3 4 7 6 1 2 7 3 7 5]\n"
     ]
    }
   ],
   "source": [
    "######################################\n",
    "#                 12                 #\n",
    "######################################\n",
    "\n",
    "## Compute some metrics you're interested in and see how they differ for\n",
    "## students who pass the subway project vs. students who don't. A good\n",
    "## starting point would be the metrics we looked at earlier (minutes spent\n",
    "## in the classroom, lessons completed, and days visited).\n",
    "\n",
    "passing_engagement_by_account = group_data(passing_engagement, 'account_key')\n",
    "non_passing_engagement_by_account = group_data(non_passing_engagement, 'account_key')\n",
    "\n",
    "# Total Minutes Visited\n",
    "print('non-passing students:')\n",
    "non_passing_minutes = sum_grouped_items(non_passing_engagement_by_account,'total_minutes_visited')\n",
    "\n",
    "describe_data_npm = np.array(list((non_passing_minutes.values())))\n",
    "print(describe_data_npm)\n",
    "\n",
    "\n",
    "print('passing students:')\n",
    "passing_minutes = sum_grouped_items(passing_engagement_by_account,'total_minutes_visited')\n",
    "\n",
    "describe_data_pm = np.array(list((passing_minutes.values())))\n",
    "print(describe_data_pm)\n",
    "\n",
    "\n",
    "# Lessons Completed\n",
    "print('non-passing students:')\n",
    "non_passing_lessons = sum_grouped_items(non_passing_engagement_by_account,'lessons_completed')\n",
    "\n",
    "describe_data_npl = np.array(list((non_passing_lessons.values())))\n",
    "print(describe_data_npl)\n",
    "\n",
    "\n",
    "print('passing students:')\n",
    "passing_lessons = sum_grouped_items(passing_engagement_by_account,'lessons_completed')\n",
    "\n",
    "describe_data_pl = np.array(list((passing_lessons.values())))\n",
    "print(describe_data_pl)\n",
    "\n",
    "\n",
    "\n",
    "# Visits\n",
    "print('non-passing students:')\n",
    "non_passing_visits = sum_grouped_items(non_passing_engagement_by_account,'has_visited')\n",
    "\n",
    "describe_data_npv = np.array(list((non_passing_visits.values())))\n",
    "print(describe_data_npv)\n",
    "\n",
    "\n",
    "print('passing students:')\n",
    "passing_visits = sum_grouped_items(passing_engagement_by_account,'has_visited')\n",
    "\n",
    "describe_data_pv = np.array(list((passing_visits.values())))\n",
    "print(describe_data_pv)"
   ]
  },
  {
   "cell_type": "markdown",
   "metadata": {},
   "source": [
    "## Making Histograms"
   ]
  },
  {
   "cell_type": "code",
   "execution_count": 75,
   "metadata": {},
   "outputs": [],
   "source": [
    "######################################\n",
    "#                 13                 #\n",
    "######################################\n",
    "\n",
    "## Make histograms of the three metrics we looked at earlier for both\n",
    "## students who passed the subway project and students who didn't. You\n",
    "## might also want to make histograms of any other metrics you examined.\n",
    "\n",
    "\n",
    "%matplotlib inline\n",
    "import matplotlib.pyplot as plt\n",
    "import numpy as np\n",
    "\n",
    "# Summarize the given data\n",
    "def describe_data(data):\n",
    "    print('Mean:', np.mean(data))\n",
    "    print('Standard deviation:', np.std(data))\n",
    "    print('Minimum:', np.min(data))\n",
    "    print('Maximum:', np.max(data))\n",
    "    plt.hist(data)"
   ]
  },
  {
   "cell_type": "markdown",
   "metadata": {},
   "source": [
    "## Improving Plots and Sharing Findings"
   ]
  },
  {
   "cell_type": "code",
   "execution_count": 76,
   "metadata": {},
   "outputs": [
    {
     "data": {
      "text/plain": [
       "Text(0.5, 1.0, 'Distribution of classroom visits in the first week for students who pass the subway project')"
      ]
     },
     "execution_count": 76,
     "metadata": {},
     "output_type": "execute_result"
    },
    {
     "data": {
      "image/png": "[encoded data removed]",
      "text/plain": [
       "<Figure size 432x288 with 1 Axes>"
      ]
     },
     "metadata": {
      "needs_background": "light"
     },
     "output_type": "display_data"
    }
   ],
   "source": [
    "######################################\n",
    "#                 14                 #\n",
    "######################################\n",
    "\n",
    "## Make a more polished version of at least one of your visualizations\n",
    "## from earlier. Try importing the seaborn library to make the visualization\n",
    "## look better, adding axis labels and a title, and changing one or more\n",
    "## arguments to the hist() function.\n",
    "\n",
    "import seaborn as sns\n",
    "\n",
    "plt.hist(non_passing_visits.values(), bins=8)\n",
    "plt.xlabel('Number of days')\n",
    "plt.title('Distribution of classroom visits in the first week ' + \n",
    "          'for students who do not pass the subway project')\n",
    "\n",
    "plt.hist(passing_visits.values(), bins=8)\n",
    "plt.xlabel('Number of days')\n",
    "plt.title('Distribution of classroom visits in the first week ' + \n",
    "          'for students who pass the subway project')"
   ]
  },
  {
   "cell_type": "code",
   "execution_count": null,
   "metadata": {},
   "outputs": [],
   "source": []
  }
 ],
 "metadata": {
  "kernelspec": {
   "display_name": "Python 3",
   "language": "python",
   "name": "python3"
  },
  "language_info": {
   "codemirror_mode": {
    "name": "ipython",
    "version": 3
   },
   "file_extension": ".py",
   "mimetype": "text/x-python",
   "name": "python",
   "nbconvert_exporter": "python",
   "pygments_lexer": "ipython3",
   "version": "3.7.3"
  }
 },
 "nbformat": 4,
 "nbformat_minor": 1
}
