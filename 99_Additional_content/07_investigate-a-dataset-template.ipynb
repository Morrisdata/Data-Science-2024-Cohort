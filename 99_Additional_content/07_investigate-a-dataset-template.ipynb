{
 "cells": [
  {
   "cell_type": "markdown",
   "metadata": {},
   "source": [
    "# Project: Investigate a Dataset (IMDB:What supports a movie being successful.)\n",
    "\n",
    "## Table of Contents\n",
    "<ul>\n",
    "<li><a href=\"#intro\">Introduction</a></li>\n",
    "<li><a href=\"#wrangling\">Data Wrangling</a></li>\n",
    "<li><a href=\"#eda\">Exploratory Data Analysis</a></li>\n",
    "<li><a href=\"#conclusions\">Conclusions</a></li>\n",
    "</ul>"
   ]
  },
  {
   "cell_type": "markdown",
   "metadata": {},
   "source": [
    "<a id='intro'></a>\n",
    "## Introduction\n",
    "\n",
    "What determines the success of a movie a descriptive analysis.\n",
    "\n",
    "Source data is from IMDB which includes 10866 movies, TV shows, and shorts.\n",
    "\n",
    "Date range of media captured: January 1, 1960 to December 31, 2015.\n",
    "\n",
    "Fields include:\n",
    "\n",
    "* id\n",
    "* imdb_id\n",
    "* genres\n",
    "* original_title\n",
    "* tagline\n",
    "* homepage\n",
    "* director\n",
    "* cast\n",
    "* overview\n",
    "* keywords\t\n",
    "* production_companies\n",
    "* release_date\n",
    "* release_year\n",
    "* runtime\n",
    "* budget\n",
    "* budget_adj\n",
    "* revenue\n",
    "* revenue_adj\n",
    "* popularity\n",
    "* vote_count\n",
    "* vote_average\n",
    "\n"
   ]
  },
  {
   "cell_type": "markdown",
   "metadata": {},
   "source": [
    "#### import libraries \n",
    "I will be using pandas to load data into dataframes and perform data cleaning and analysis\n",
    "I will be using matplotlib and seaborn for data visualization"
   ]
  },
  {
   "cell_type": "code",
   "execution_count": 151,
   "metadata": {},
   "outputs": [
    {
     "name": "stdout",
     "output_type": "stream",
     "text": [
      "Populating the interactive namespace from numpy and matplotlib\n"
     ]
    }
   ],
   "source": [
    "# Use this cell to set up import statements for all of the packages that you\n",
    "# plan to use.\n",
    "%pylab inline\n",
    "import pandas as pd\n",
    "import matplotlib.pyplot as plt\n",
    "import seaborn as sns\n",
    "\n"
   ]
  },
  {
   "cell_type": "markdown",
   "metadata": {},
   "source": [
    "<a id='wrangling'></a>\n",
    "## Data Wrangling\n",
    "\n",
    "> **Tip**: In this section of the report, you will load in the data, check for cleanliness, and then trim and clean your dataset for analysis. Make sure that you document your steps carefully and justify your cleaning decisions.\n",
    "\n",
    "There are several variables that could effect the success of a movie. \n",
    "\n",
    "I will focus on:\n",
    "* INDEPENDENT VARIABLES\n",
    "    * runtime\n",
    "    * budget_adj\n",
    "    * release_date(optional)\n",
    "* DEPENDENT VARIABLES\n",
    "    * poularity\n",
    "    * vote_count\n",
    "    * vote_average\n",
    "    * revenue to budget ratio\n",
    "\n"
   ]
  },
  {
   "cell_type": "markdown",
   "metadata": {},
   "source": [
    "### General Properties\n",
    "* INDEPENDENT VARIABLES\n",
    "    * Runtime\n",
    "    * Budget_adj\n",
    "    * Revenue_adj\n",
    "    * Release_date(optional)\n",
    "\n",
    "#### Loading all data and review\n",
    "Loading data and reviewing first 3 rows to ensure data has loaded and become familiar with data. "
   ]
  },
  {
   "cell_type": "code",
   "execution_count": 152,
   "metadata": {},
   "outputs": [
    {
     "data": {
      "text/html": [
       "<div>\n",
       "<style scoped>\n",
       "    .dataframe tbody tr th:only-of-type {\n",
       "        vertical-align: middle;\n",
       "    }\n",
       "\n",
       "    .dataframe tbody tr th {\n",
       "        vertical-align: top;\n",
       "    }\n",
       "\n",
       "    .dataframe thead th {\n",
       "        text-align: right;\n",
       "    }\n",
       "</style>\n",
       "<table border=\"1\" class=\"dataframe\">\n",
       "  <thead>\n",
       "    <tr style=\"text-align: right;\">\n",
       "      <th></th>\n",
       "      <th>id</th>\n",
       "      <th>imdb_id</th>\n",
       "      <th>popularity</th>\n",
       "      <th>budget</th>\n",
       "      <th>revenue</th>\n",
       "      <th>original_title</th>\n",
       "      <th>cast</th>\n",
       "      <th>homepage</th>\n",
       "      <th>director</th>\n",
       "      <th>tagline</th>\n",
       "      <th>...</th>\n",
       "      <th>overview</th>\n",
       "      <th>runtime</th>\n",
       "      <th>genres</th>\n",
       "      <th>production_companies</th>\n",
       "      <th>release_date</th>\n",
       "      <th>vote_count</th>\n",
       "      <th>vote_average</th>\n",
       "      <th>release_year</th>\n",
       "      <th>budget_adj</th>\n",
       "      <th>revenue_adj</th>\n",
       "    </tr>\n",
       "  </thead>\n",
       "  <tbody>\n",
       "    <tr>\n",
       "      <th>0</th>\n",
       "      <td>135397</td>\n",
       "      <td>tt0369610</td>\n",
       "      <td>32.985763</td>\n",
       "      <td>150000000</td>\n",
       "      <td>1513528810</td>\n",
       "      <td>Jurassic World</td>\n",
       "      <td>Chris Pratt|Bryce Dallas Howard|Irrfan Khan|Vi...</td>\n",
       "      <td>http://www.jurassicworld.com/</td>\n",
       "      <td>Colin Trevorrow</td>\n",
       "      <td>The park is open.</td>\n",
       "      <td>...</td>\n",
       "      <td>Twenty-two years after the events of Jurassic ...</td>\n",
       "      <td>124</td>\n",
       "      <td>Action|Adventure|Science Fiction|Thriller</td>\n",
       "      <td>Universal Studios|Amblin Entertainment|Legenda...</td>\n",
       "      <td>6/9/15</td>\n",
       "      <td>5562</td>\n",
       "      <td>6.5</td>\n",
       "      <td>2015</td>\n",
       "      <td>1.379999e+08</td>\n",
       "      <td>1.392446e+09</td>\n",
       "    </tr>\n",
       "    <tr>\n",
       "      <th>1</th>\n",
       "      <td>76341</td>\n",
       "      <td>tt1392190</td>\n",
       "      <td>28.419936</td>\n",
       "      <td>150000000</td>\n",
       "      <td>378436354</td>\n",
       "      <td>Mad Max: Fury Road</td>\n",
       "      <td>Tom Hardy|Charlize Theron|Hugh Keays-Byrne|Nic...</td>\n",
       "      <td>http://www.madmaxmovie.com/</td>\n",
       "      <td>George Miller</td>\n",
       "      <td>What a Lovely Day.</td>\n",
       "      <td>...</td>\n",
       "      <td>An apocalyptic story set in the furthest reach...</td>\n",
       "      <td>120</td>\n",
       "      <td>Action|Adventure|Science Fiction|Thriller</td>\n",
       "      <td>Village Roadshow Pictures|Kennedy Miller Produ...</td>\n",
       "      <td>5/13/15</td>\n",
       "      <td>6185</td>\n",
       "      <td>7.1</td>\n",
       "      <td>2015</td>\n",
       "      <td>1.379999e+08</td>\n",
       "      <td>3.481613e+08</td>\n",
       "    </tr>\n",
       "    <tr>\n",
       "      <th>2</th>\n",
       "      <td>262500</td>\n",
       "      <td>tt2908446</td>\n",
       "      <td>13.112507</td>\n",
       "      <td>110000000</td>\n",
       "      <td>295238201</td>\n",
       "      <td>Insurgent</td>\n",
       "      <td>Shailene Woodley|Theo James|Kate Winslet|Ansel...</td>\n",
       "      <td>http://www.thedivergentseries.movie/#insurgent</td>\n",
       "      <td>Robert Schwentke</td>\n",
       "      <td>One Choice Can Destroy You</td>\n",
       "      <td>...</td>\n",
       "      <td>Beatrice Prior must confront her inner demons ...</td>\n",
       "      <td>119</td>\n",
       "      <td>Adventure|Science Fiction|Thriller</td>\n",
       "      <td>Summit Entertainment|Mandeville Films|Red Wago...</td>\n",
       "      <td>3/18/15</td>\n",
       "      <td>2480</td>\n",
       "      <td>6.3</td>\n",
       "      <td>2015</td>\n",
       "      <td>1.012000e+08</td>\n",
       "      <td>2.716190e+08</td>\n",
       "    </tr>\n",
       "  </tbody>\n",
       "</table>\n",
       "<p>3 rows × 21 columns</p>\n",
       "</div>"
      ],
      "text/plain": [
       "       id    imdb_id  popularity     budget     revenue      original_title  \\\n",
       "0  135397  tt0369610   32.985763  150000000  1513528810      Jurassic World   \n",
       "1   76341  tt1392190   28.419936  150000000   378436354  Mad Max: Fury Road   \n",
       "2  262500  tt2908446   13.112507  110000000   295238201           Insurgent   \n",
       "\n",
       "                                                cast  \\\n",
       "0  Chris Pratt|Bryce Dallas Howard|Irrfan Khan|Vi...   \n",
       "1  Tom Hardy|Charlize Theron|Hugh Keays-Byrne|Nic...   \n",
       "2  Shailene Woodley|Theo James|Kate Winslet|Ansel...   \n",
       "\n",
       "                                         homepage          director  \\\n",
       "0                   http://www.jurassicworld.com/   Colin Trevorrow   \n",
       "1                     http://www.madmaxmovie.com/     George Miller   \n",
       "2  http://www.thedivergentseries.movie/#insurgent  Robert Schwentke   \n",
       "\n",
       "                      tagline  ...  \\\n",
       "0           The park is open.  ...   \n",
       "1          What a Lovely Day.  ...   \n",
       "2  One Choice Can Destroy You  ...   \n",
       "\n",
       "                                            overview runtime  \\\n",
       "0  Twenty-two years after the events of Jurassic ...     124   \n",
       "1  An apocalyptic story set in the furthest reach...     120   \n",
       "2  Beatrice Prior must confront her inner demons ...     119   \n",
       "\n",
       "                                      genres  \\\n",
       "0  Action|Adventure|Science Fiction|Thriller   \n",
       "1  Action|Adventure|Science Fiction|Thriller   \n",
       "2         Adventure|Science Fiction|Thriller   \n",
       "\n",
       "                                production_companies release_date vote_count  \\\n",
       "0  Universal Studios|Amblin Entertainment|Legenda...       6/9/15       5562   \n",
       "1  Village Roadshow Pictures|Kennedy Miller Produ...      5/13/15       6185   \n",
       "2  Summit Entertainment|Mandeville Films|Red Wago...      3/18/15       2480   \n",
       "\n",
       "   vote_average  release_year    budget_adj   revenue_adj  \n",
       "0           6.5          2015  1.379999e+08  1.392446e+09  \n",
       "1           7.1          2015  1.379999e+08  3.481613e+08  \n",
       "2           6.3          2015  1.012000e+08  2.716190e+08  \n",
       "\n",
       "[3 rows x 21 columns]"
      ]
     },
     "execution_count": 152,
     "metadata": {},
     "output_type": "execute_result"
    }
   ],
   "source": [
    "imdb_df = pd.read_csv('tmdb-movies.csv')\n",
    "imdb_df.head(3)"
   ]
  },
  {
   "cell_type": "markdown",
   "metadata": {},
   "source": [
    "#### Review data types\n",
    "I want a quick reference for field names and data types. This will help if later I need to do any math and might have to convert a field from 1 type to another. "
   ]
  },
  {
   "cell_type": "code",
   "execution_count": 153,
   "metadata": {},
   "outputs": [
    {
     "data": {
      "text/plain": [
       "id                        int64\n",
       "imdb_id                  object\n",
       "popularity              float64\n",
       "budget                    int64\n",
       "revenue                   int64\n",
       "original_title           object\n",
       "cast                     object\n",
       "homepage                 object\n",
       "director                 object\n",
       "tagline                  object\n",
       "keywords                 object\n",
       "overview                 object\n",
       "runtime                   int64\n",
       "genres                   object\n",
       "production_companies     object\n",
       "release_date             object\n",
       "vote_count                int64\n",
       "vote_average            float64\n",
       "release_year              int64\n",
       "budget_adj              float64\n",
       "revenue_adj             float64\n",
       "dtype: object"
      ]
     },
     "execution_count": 153,
     "metadata": {},
     "output_type": "execute_result"
    }
   ],
   "source": [
    "imdb_df.dtypes"
   ]
  },
  {
   "cell_type": "markdown",
   "metadata": {},
   "source": [
    "#### Basic data stats using describe\n",
    "I'm using describe to look at the spread of the data, I want to know what my max and minimum values are so I can determine if I will need to remove any data. "
   ]
  },
  {
   "cell_type": "code",
   "execution_count": 154,
   "metadata": {},
   "outputs": [
    {
     "data": {
      "text/html": [
       "<div>\n",
       "<style scoped>\n",
       "    .dataframe tbody tr th:only-of-type {\n",
       "        vertical-align: middle;\n",
       "    }\n",
       "\n",
       "    .dataframe tbody tr th {\n",
       "        vertical-align: top;\n",
       "    }\n",
       "\n",
       "    .dataframe thead th {\n",
       "        text-align: right;\n",
       "    }\n",
       "</style>\n",
       "<table border=\"1\" class=\"dataframe\">\n",
       "  <thead>\n",
       "    <tr style=\"text-align: right;\">\n",
       "      <th></th>\n",
       "      <th>id</th>\n",
       "      <th>popularity</th>\n",
       "      <th>budget</th>\n",
       "      <th>revenue</th>\n",
       "      <th>runtime</th>\n",
       "      <th>vote_count</th>\n",
       "      <th>vote_average</th>\n",
       "      <th>release_year</th>\n",
       "      <th>budget_adj</th>\n",
       "      <th>revenue_adj</th>\n",
       "    </tr>\n",
       "  </thead>\n",
       "  <tbody>\n",
       "    <tr>\n",
       "      <th>count</th>\n",
       "      <td>10866.000000</td>\n",
       "      <td>10866.000000</td>\n",
       "      <td>1.086600e+04</td>\n",
       "      <td>1.086600e+04</td>\n",
       "      <td>10866.000000</td>\n",
       "      <td>10866.000000</td>\n",
       "      <td>10866.000000</td>\n",
       "      <td>10866.000000</td>\n",
       "      <td>1.086600e+04</td>\n",
       "      <td>1.086600e+04</td>\n",
       "    </tr>\n",
       "    <tr>\n",
       "      <th>mean</th>\n",
       "      <td>66064.177434</td>\n",
       "      <td>0.646441</td>\n",
       "      <td>1.462570e+07</td>\n",
       "      <td>3.982332e+07</td>\n",
       "      <td>102.070863</td>\n",
       "      <td>217.389748</td>\n",
       "      <td>5.974922</td>\n",
       "      <td>2001.322658</td>\n",
       "      <td>1.755104e+07</td>\n",
       "      <td>5.136436e+07</td>\n",
       "    </tr>\n",
       "    <tr>\n",
       "      <th>std</th>\n",
       "      <td>92130.136561</td>\n",
       "      <td>1.000185</td>\n",
       "      <td>3.091321e+07</td>\n",
       "      <td>1.170035e+08</td>\n",
       "      <td>31.381405</td>\n",
       "      <td>575.619058</td>\n",
       "      <td>0.935142</td>\n",
       "      <td>12.812941</td>\n",
       "      <td>3.430616e+07</td>\n",
       "      <td>1.446325e+08</td>\n",
       "    </tr>\n",
       "    <tr>\n",
       "      <th>min</th>\n",
       "      <td>5.000000</td>\n",
       "      <td>0.000065</td>\n",
       "      <td>0.000000e+00</td>\n",
       "      <td>0.000000e+00</td>\n",
       "      <td>0.000000</td>\n",
       "      <td>10.000000</td>\n",
       "      <td>1.500000</td>\n",
       "      <td>1960.000000</td>\n",
       "      <td>0.000000e+00</td>\n",
       "      <td>0.000000e+00</td>\n",
       "    </tr>\n",
       "    <tr>\n",
       "      <th>25%</th>\n",
       "      <td>10596.250000</td>\n",
       "      <td>0.207583</td>\n",
       "      <td>0.000000e+00</td>\n",
       "      <td>0.000000e+00</td>\n",
       "      <td>90.000000</td>\n",
       "      <td>17.000000</td>\n",
       "      <td>5.400000</td>\n",
       "      <td>1995.000000</td>\n",
       "      <td>0.000000e+00</td>\n",
       "      <td>0.000000e+00</td>\n",
       "    </tr>\n",
       "    <tr>\n",
       "      <th>50%</th>\n",
       "      <td>20669.000000</td>\n",
       "      <td>0.383856</td>\n",
       "      <td>0.000000e+00</td>\n",
       "      <td>0.000000e+00</td>\n",
       "      <td>99.000000</td>\n",
       "      <td>38.000000</td>\n",
       "      <td>6.000000</td>\n",
       "      <td>2006.000000</td>\n",
       "      <td>0.000000e+00</td>\n",
       "      <td>0.000000e+00</td>\n",
       "    </tr>\n",
       "    <tr>\n",
       "      <th>75%</th>\n",
       "      <td>75610.000000</td>\n",
       "      <td>0.713817</td>\n",
       "      <td>1.500000e+07</td>\n",
       "      <td>2.400000e+07</td>\n",
       "      <td>111.000000</td>\n",
       "      <td>145.750000</td>\n",
       "      <td>6.600000</td>\n",
       "      <td>2011.000000</td>\n",
       "      <td>2.085325e+07</td>\n",
       "      <td>3.369710e+07</td>\n",
       "    </tr>\n",
       "    <tr>\n",
       "      <th>max</th>\n",
       "      <td>417859.000000</td>\n",
       "      <td>32.985763</td>\n",
       "      <td>4.250000e+08</td>\n",
       "      <td>2.781506e+09</td>\n",
       "      <td>900.000000</td>\n",
       "      <td>9767.000000</td>\n",
       "      <td>9.200000</td>\n",
       "      <td>2015.000000</td>\n",
       "      <td>4.250000e+08</td>\n",
       "      <td>2.827124e+09</td>\n",
       "    </tr>\n",
       "  </tbody>\n",
       "</table>\n",
       "</div>"
      ],
      "text/plain": [
       "                  id    popularity        budget       revenue       runtime  \\\n",
       "count   10866.000000  10866.000000  1.086600e+04  1.086600e+04  10866.000000   \n",
       "mean    66064.177434      0.646441  1.462570e+07  3.982332e+07    102.070863   \n",
       "std     92130.136561      1.000185  3.091321e+07  1.170035e+08     31.381405   \n",
       "min         5.000000      0.000065  0.000000e+00  0.000000e+00      0.000000   \n",
       "25%     10596.250000      0.207583  0.000000e+00  0.000000e+00     90.000000   \n",
       "50%     20669.000000      0.383856  0.000000e+00  0.000000e+00     99.000000   \n",
       "75%     75610.000000      0.713817  1.500000e+07  2.400000e+07    111.000000   \n",
       "max    417859.000000     32.985763  4.250000e+08  2.781506e+09    900.000000   \n",
       "\n",
       "         vote_count  vote_average  release_year    budget_adj   revenue_adj  \n",
       "count  10866.000000  10866.000000  10866.000000  1.086600e+04  1.086600e+04  \n",
       "mean     217.389748      5.974922   2001.322658  1.755104e+07  5.136436e+07  \n",
       "std      575.619058      0.935142     12.812941  3.430616e+07  1.446325e+08  \n",
       "min       10.000000      1.500000   1960.000000  0.000000e+00  0.000000e+00  \n",
       "25%       17.000000      5.400000   1995.000000  0.000000e+00  0.000000e+00  \n",
       "50%       38.000000      6.000000   2006.000000  0.000000e+00  0.000000e+00  \n",
       "75%      145.750000      6.600000   2011.000000  2.085325e+07  3.369710e+07  \n",
       "max     9767.000000      9.200000   2015.000000  4.250000e+08  2.827124e+09  "
      ]
     },
     "execution_count": 154,
     "metadata": {},
     "output_type": "execute_result"
    }
   ],
   "source": [
    "imdb_df.describe()"
   ]
  },
  {
   "cell_type": "markdown",
   "metadata": {},
   "source": [
    "#### Focus on Fields for Analysis\n",
    "Load and review of focus fields. In order to focus my attention I'm only bringing fields that I will be analyzing into a data frame called imdb_xydf.\n",
    "I'm also looking at first 3 rows to ensure it loaded correctly."
   ]
  },
  {
   "cell_type": "code",
   "execution_count": 155,
   "metadata": {},
   "outputs": [
    {
     "data": {
      "text/html": [
       "<div>\n",
       "<style scoped>\n",
       "    .dataframe tbody tr th:only-of-type {\n",
       "        vertical-align: middle;\n",
       "    }\n",
       "\n",
       "    .dataframe tbody tr th {\n",
       "        vertical-align: top;\n",
       "    }\n",
       "\n",
       "    .dataframe thead th {\n",
       "        text-align: right;\n",
       "    }\n",
       "</style>\n",
       "<table border=\"1\" class=\"dataframe\">\n",
       "  <thead>\n",
       "    <tr style=\"text-align: right;\">\n",
       "      <th></th>\n",
       "      <th>id</th>\n",
       "      <th>original_title</th>\n",
       "      <th>runtime</th>\n",
       "      <th>budget_adj</th>\n",
       "      <th>revenue_adj</th>\n",
       "      <th>popularity</th>\n",
       "      <th>vote_count</th>\n",
       "      <th>vote_average</th>\n",
       "    </tr>\n",
       "  </thead>\n",
       "  <tbody>\n",
       "    <tr>\n",
       "      <th>0</th>\n",
       "      <td>135397</td>\n",
       "      <td>Jurassic World</td>\n",
       "      <td>124</td>\n",
       "      <td>1.379999e+08</td>\n",
       "      <td>1.392446e+09</td>\n",
       "      <td>32.985763</td>\n",
       "      <td>5562</td>\n",
       "      <td>6.5</td>\n",
       "    </tr>\n",
       "    <tr>\n",
       "      <th>1</th>\n",
       "      <td>76341</td>\n",
       "      <td>Mad Max: Fury Road</td>\n",
       "      <td>120</td>\n",
       "      <td>1.379999e+08</td>\n",
       "      <td>3.481613e+08</td>\n",
       "      <td>28.419936</td>\n",
       "      <td>6185</td>\n",
       "      <td>7.1</td>\n",
       "    </tr>\n",
       "    <tr>\n",
       "      <th>2</th>\n",
       "      <td>262500</td>\n",
       "      <td>Insurgent</td>\n",
       "      <td>119</td>\n",
       "      <td>1.012000e+08</td>\n",
       "      <td>2.716190e+08</td>\n",
       "      <td>13.112507</td>\n",
       "      <td>2480</td>\n",
       "      <td>6.3</td>\n",
       "    </tr>\n",
       "  </tbody>\n",
       "</table>\n",
       "</div>"
      ],
      "text/plain": [
       "       id      original_title  runtime    budget_adj   revenue_adj  \\\n",
       "0  135397      Jurassic World      124  1.379999e+08  1.392446e+09   \n",
       "1   76341  Mad Max: Fury Road      120  1.379999e+08  3.481613e+08   \n",
       "2  262500           Insurgent      119  1.012000e+08  2.716190e+08   \n",
       "\n",
       "   popularity  vote_count  vote_average  \n",
       "0   32.985763        5562           6.5  \n",
       "1   28.419936        6185           7.1  \n",
       "2   13.112507        2480           6.3  "
      ]
     },
     "execution_count": 155,
     "metadata": {},
     "output_type": "execute_result"
    }
   ],
   "source": [
    "imdb_xydf = imdb_df[['id', 'original_title','runtime', 'budget_adj', 'revenue_adj', \n",
    "                     'popularity','vote_count','vote_average']]\n",
    "imdb_xydf.head(3)"
   ]
  },
  {
   "cell_type": "markdown",
   "metadata": {},
   "source": [
    "#### Redundant review of data types over focus fields\n",
    "I like to methodically repeat some processes mainly for my own data familiarity and reference"
   ]
  },
  {
   "cell_type": "code",
   "execution_count": 156,
   "metadata": {},
   "outputs": [
    {
     "data": {
      "text/plain": [
       "id                  int64\n",
       "original_title     object\n",
       "runtime             int64\n",
       "budget_adj        float64\n",
       "revenue_adj       float64\n",
       "popularity        float64\n",
       "vote_count          int64\n",
       "vote_average      float64\n",
       "dtype: object"
      ]
     },
     "execution_count": 156,
     "metadata": {},
     "output_type": "execute_result"
    }
   ],
   "source": [
    "imdb_xydf.dtypes"
   ]
  },
  {
   "cell_type": "markdown",
   "metadata": {},
   "source": [
    "#### Redundant review of stats over focus fields\n",
    "I like to methodically repeat some processes mainly for my own data familiarity and reference"
   ]
  },
  {
   "cell_type": "code",
   "execution_count": 157,
   "metadata": {},
   "outputs": [
    {
     "data": {
      "text/html": [
       "<div>\n",
       "<style scoped>\n",
       "    .dataframe tbody tr th:only-of-type {\n",
       "        vertical-align: middle;\n",
       "    }\n",
       "\n",
       "    .dataframe tbody tr th {\n",
       "        vertical-align: top;\n",
       "    }\n",
       "\n",
       "    .dataframe thead th {\n",
       "        text-align: right;\n",
       "    }\n",
       "</style>\n",
       "<table border=\"1\" class=\"dataframe\">\n",
       "  <thead>\n",
       "    <tr style=\"text-align: right;\">\n",
       "      <th></th>\n",
       "      <th>id</th>\n",
       "      <th>runtime</th>\n",
       "      <th>budget_adj</th>\n",
       "      <th>revenue_adj</th>\n",
       "      <th>popularity</th>\n",
       "      <th>vote_count</th>\n",
       "      <th>vote_average</th>\n",
       "    </tr>\n",
       "  </thead>\n",
       "  <tbody>\n",
       "    <tr>\n",
       "      <th>count</th>\n",
       "      <td>10866.000000</td>\n",
       "      <td>10866.000000</td>\n",
       "      <td>1.086600e+04</td>\n",
       "      <td>1.086600e+04</td>\n",
       "      <td>10866.000000</td>\n",
       "      <td>10866.000000</td>\n",
       "      <td>10866.000000</td>\n",
       "    </tr>\n",
       "    <tr>\n",
       "      <th>mean</th>\n",
       "      <td>66064.177434</td>\n",
       "      <td>102.070863</td>\n",
       "      <td>1.755104e+07</td>\n",
       "      <td>5.136436e+07</td>\n",
       "      <td>0.646441</td>\n",
       "      <td>217.389748</td>\n",
       "      <td>5.974922</td>\n",
       "    </tr>\n",
       "    <tr>\n",
       "      <th>std</th>\n",
       "      <td>92130.136561</td>\n",
       "      <td>31.381405</td>\n",
       "      <td>3.430616e+07</td>\n",
       "      <td>1.446325e+08</td>\n",
       "      <td>1.000185</td>\n",
       "      <td>575.619058</td>\n",
       "      <td>0.935142</td>\n",
       "    </tr>\n",
       "    <tr>\n",
       "      <th>min</th>\n",
       "      <td>5.000000</td>\n",
       "      <td>0.000000</td>\n",
       "      <td>0.000000e+00</td>\n",
       "      <td>0.000000e+00</td>\n",
       "      <td>0.000065</td>\n",
       "      <td>10.000000</td>\n",
       "      <td>1.500000</td>\n",
       "    </tr>\n",
       "    <tr>\n",
       "      <th>25%</th>\n",
       "      <td>10596.250000</td>\n",
       "      <td>90.000000</td>\n",
       "      <td>0.000000e+00</td>\n",
       "      <td>0.000000e+00</td>\n",
       "      <td>0.207583</td>\n",
       "      <td>17.000000</td>\n",
       "      <td>5.400000</td>\n",
       "    </tr>\n",
       "    <tr>\n",
       "      <th>50%</th>\n",
       "      <td>20669.000000</td>\n",
       "      <td>99.000000</td>\n",
       "      <td>0.000000e+00</td>\n",
       "      <td>0.000000e+00</td>\n",
       "      <td>0.383856</td>\n",
       "      <td>38.000000</td>\n",
       "      <td>6.000000</td>\n",
       "    </tr>\n",
       "    <tr>\n",
       "      <th>75%</th>\n",
       "      <td>75610.000000</td>\n",
       "      <td>111.000000</td>\n",
       "      <td>2.085325e+07</td>\n",
       "      <td>3.369710e+07</td>\n",
       "      <td>0.713817</td>\n",
       "      <td>145.750000</td>\n",
       "      <td>6.600000</td>\n",
       "    </tr>\n",
       "    <tr>\n",
       "      <th>max</th>\n",
       "      <td>417859.000000</td>\n",
       "      <td>900.000000</td>\n",
       "      <td>4.250000e+08</td>\n",
       "      <td>2.827124e+09</td>\n",
       "      <td>32.985763</td>\n",
       "      <td>9767.000000</td>\n",
       "      <td>9.200000</td>\n",
       "    </tr>\n",
       "  </tbody>\n",
       "</table>\n",
       "</div>"
      ],
      "text/plain": [
       "                  id       runtime    budget_adj   revenue_adj    popularity  \\\n",
       "count   10866.000000  10866.000000  1.086600e+04  1.086600e+04  10866.000000   \n",
       "mean    66064.177434    102.070863  1.755104e+07  5.136436e+07      0.646441   \n",
       "std     92130.136561     31.381405  3.430616e+07  1.446325e+08      1.000185   \n",
       "min         5.000000      0.000000  0.000000e+00  0.000000e+00      0.000065   \n",
       "25%     10596.250000     90.000000  0.000000e+00  0.000000e+00      0.207583   \n",
       "50%     20669.000000     99.000000  0.000000e+00  0.000000e+00      0.383856   \n",
       "75%     75610.000000    111.000000  2.085325e+07  3.369710e+07      0.713817   \n",
       "max    417859.000000    900.000000  4.250000e+08  2.827124e+09     32.985763   \n",
       "\n",
       "         vote_count  vote_average  \n",
       "count  10866.000000  10866.000000  \n",
       "mean     217.389748      5.974922  \n",
       "std      575.619058      0.935142  \n",
       "min       10.000000      1.500000  \n",
       "25%       17.000000      5.400000  \n",
       "50%       38.000000      6.000000  \n",
       "75%      145.750000      6.600000  \n",
       "max     9767.000000      9.200000  "
      ]
     },
     "execution_count": 157,
     "metadata": {},
     "output_type": "execute_result"
    }
   ],
   "source": [
    "imdb_xydf.describe()"
   ]
  },
  {
   "cell_type": "markdown",
   "metadata": {},
   "source": [
    "### Indvidual column review\n",
    "* Count_blanks\n",
    "* describe\n",
    "* dtypes\n",
    "* Impressions & Determination\n",
    "\n",
    "I will be taking a closer look at each column. I would like to see if there are any blanks.\n",
    "Blank data will indicate further data cleansing I may need to perform. \n",
    "I would also like create a more focused view on each columns stats and data type for building familiarty and reference and determining if there is further data cleansing that is needed.  \n",
    "\n"
   ]
  },
  {
   "cell_type": "markdown",
   "metadata": {},
   "source": [
    "#### Count blanks function\n",
    "I originally had this with a prompt for dynamic use but took it out to work better with project submission\n",
    "This is meant to reduce the need to code counts for blanks in each of the focus fields."
   ]
  },
  {
   "cell_type": "code",
   "execution_count": 158,
   "metadata": {},
   "outputs": [],
   "source": [
    "# count blanks function\n",
    "def count_blanks(x):\n",
    "    field = x\n",
    "    c = (imdb_df[field].isna()).sum()\n",
    "    return c "
   ]
  },
  {
   "cell_type": "markdown",
   "metadata": {},
   "source": [
    "#### Runtime count blanks"
   ]
  },
  {
   "cell_type": "code",
   "execution_count": 159,
   "metadata": {},
   "outputs": [
    {
     "data": {
      "text/plain": [
       "0"
      ]
     },
     "execution_count": 159,
     "metadata": {},
     "output_type": "execute_result"
    }
   ],
   "source": [
    "count_blanks('runtime')"
   ]
  },
  {
   "cell_type": "markdown",
   "metadata": {},
   "source": [
    "#### Runtime Basic stats"
   ]
  },
  {
   "cell_type": "code",
   "execution_count": 160,
   "metadata": {},
   "outputs": [
    {
     "data": {
      "text/plain": [
       "count    10866.000000\n",
       "mean       102.070863\n",
       "std         31.381405\n",
       "min          0.000000\n",
       "25%         90.000000\n",
       "50%         99.000000\n",
       "75%        111.000000\n",
       "max        900.000000\n",
       "Name: runtime, dtype: float64"
      ]
     },
     "execution_count": 160,
     "metadata": {},
     "output_type": "execute_result"
    }
   ],
   "source": [
    "imdb_xydf.describe()['runtime']"
   ]
  },
  {
   "cell_type": "markdown",
   "metadata": {},
   "source": [
    "#### Runtime Impressions\n",
    "int64\n",
    "\n",
    "blanks = 0\n",
    "\n",
    "Min = 0 \n",
    "\n",
    "Max = 900 minutes\n",
    "\n",
    "There are no blanks and data type is int64\n",
    "\n",
    "Wiki reference:\n",
    "According to the Academy of Motion Picture Arts and Sciences, the American Film Institute and the British Film Institute, a feature film runs for more than 40 minutes, while the Screen Actors Guild asserts that a feature's running time is 75 minutes or longer. Most feature films are between 75 and 210 minutes long.\n",
    "\n",
    "#### Determination\n",
    "Filter on media that is equal to or greater than 75min and equal to or less than 210 minutes"
   ]
  },
  {
   "cell_type": "markdown",
   "metadata": {},
   "source": [
    "#### Budget_adj count blanks"
   ]
  },
  {
   "cell_type": "code",
   "execution_count": 161,
   "metadata": {},
   "outputs": [
    {
     "data": {
      "text/plain": [
       "0"
      ]
     },
     "execution_count": 161,
     "metadata": {},
     "output_type": "execute_result"
    }
   ],
   "source": [
    "count_blanks('budget_adj')"
   ]
  },
  {
   "cell_type": "markdown",
   "metadata": {},
   "source": [
    "#### Budget_adj Basic Stats"
   ]
  },
  {
   "cell_type": "code",
   "execution_count": 162,
   "metadata": {},
   "outputs": [
    {
     "data": {
      "text/plain": [
       "count    1.086600e+04\n",
       "mean     1.755104e+07\n",
       "std      3.430616e+07\n",
       "min      0.000000e+00\n",
       "25%      0.000000e+00\n",
       "50%      0.000000e+00\n",
       "75%      2.085325e+07\n",
       "max      4.250000e+08\n",
       "Name: budget_adj, dtype: float64"
      ]
     },
     "execution_count": 162,
     "metadata": {},
     "output_type": "execute_result"
    }
   ],
   "source": [
    "imdb_xydf.describe()['budget_adj']"
   ]
  },
  {
   "cell_type": "markdown",
   "metadata": {},
   "source": [
    "#### Budget_adj Impressions\n",
    "float64\n",
    "\n",
    "blanks = 0\n",
    "\n",
    "Min = 0\n",
    "Max = 425m\n",
    "\n",
    "#### Determination\n",
    "425 million seemed high, according to https://www.statista.com/statistics/273416/most-expensive-film-productions-worldwide/\n",
    "the most expensive movie made up to 2019 379 million\n",
    "\n",
    "Minimum is 0 for budget. Logical test tells me while this is possible this wont factor into my analysis. \n",
    "Blair Witch project which was known for  one of the lowest budgets was still at 50,000\n",
    "My initial thought is to filter on a range of 50k to 379k \n",
    "\n",
    "I also believe cleaning up runtime may assist in cleaning this data. I will re-run this after, runtimeclean\n"
   ]
  },
  {
   "cell_type": "markdown",
   "metadata": {},
   "source": [
    "#### Revenue_adj count blanks"
   ]
  },
  {
   "cell_type": "code",
   "execution_count": 163,
   "metadata": {},
   "outputs": [
    {
     "data": {
      "text/plain": [
       "0"
      ]
     },
     "execution_count": 163,
     "metadata": {},
     "output_type": "execute_result"
    }
   ],
   "source": [
    "count_blanks('revenue_adj')"
   ]
  },
  {
   "cell_type": "markdown",
   "metadata": {},
   "source": [
    "#### Revenue_adj basic stats"
   ]
  },
  {
   "cell_type": "code",
   "execution_count": 164,
   "metadata": {},
   "outputs": [
    {
     "data": {
      "text/plain": [
       "count    1.086600e+04\n",
       "mean     5.136436e+07\n",
       "std      1.446325e+08\n",
       "min      0.000000e+00\n",
       "25%      0.000000e+00\n",
       "50%      0.000000e+00\n",
       "75%      3.369710e+07\n",
       "max      2.827124e+09\n",
       "Name: revenue_adj, dtype: float64"
      ]
     },
     "execution_count": 164,
     "metadata": {},
     "output_type": "execute_result"
    }
   ],
   "source": [
    "imdb_xydf.describe()['revenue_adj']"
   ]
  },
  {
   "cell_type": "markdown",
   "metadata": {},
   "source": [
    "#### Revenue_adj Impressions\n",
    "float64\n",
    "\n",
    "blanks = 0\n",
    "\n",
    "min = 0\n",
    "\n",
    "max = 2827123750\n",
    "\n",
    "#### Determination\n",
    "With revenue of 0 it may be that that movie has not been release yet or numbers have not been recorded. \n",
    "Action would be to only view movies that have been released and have a revenue of more than 0\n"
   ]
  },
  {
   "cell_type": "markdown",
   "metadata": {},
   "source": [
    "#### Popularity count blanks"
   ]
  },
  {
   "cell_type": "code",
   "execution_count": 165,
   "metadata": {},
   "outputs": [
    {
     "data": {
      "text/plain": [
       "0"
      ]
     },
     "execution_count": 165,
     "metadata": {},
     "output_type": "execute_result"
    }
   ],
   "source": [
    "count_blanks('popularity')"
   ]
  },
  {
   "cell_type": "markdown",
   "metadata": {},
   "source": [
    "#### Popularity basic stats"
   ]
  },
  {
   "cell_type": "code",
   "execution_count": 166,
   "metadata": {},
   "outputs": [
    {
     "data": {
      "text/plain": [
       "count    10866.000000\n",
       "mean         0.646441\n",
       "std          1.000185\n",
       "min          0.000065\n",
       "25%          0.207583\n",
       "50%          0.383856\n",
       "75%          0.713817\n",
       "max         32.985763\n",
       "Name: popularity, dtype: float64"
      ]
     },
     "execution_count": 166,
     "metadata": {},
     "output_type": "execute_result"
    }
   ],
   "source": [
    "imdb_xydf.describe()['popularity']"
   ]
  },
  {
   "cell_type": "markdown",
   "metadata": {},
   "source": [
    "#### Popularity Impressions\n",
    "float64\n",
    "\n",
    "blanks = 0\n",
    "\n",
    "min .000065\n",
    "max = 32\n",
    "\n",
    "#### Determination\n",
    "Popularity score is based on rank of how many times a page has been viewed\n",
    "I will need to review online more information to understand how this is created."
   ]
  },
  {
   "cell_type": "markdown",
   "metadata": {},
   "source": [
    "#### vote_count Count blanks"
   ]
  },
  {
   "cell_type": "code",
   "execution_count": 167,
   "metadata": {},
   "outputs": [
    {
     "data": {
      "text/plain": [
       "0"
      ]
     },
     "execution_count": 167,
     "metadata": {},
     "output_type": "execute_result"
    }
   ],
   "source": [
    "count_blanks('vote_count')"
   ]
  },
  {
   "cell_type": "markdown",
   "metadata": {},
   "source": [
    "#### vote_count Basic Stats"
   ]
  },
  {
   "cell_type": "code",
   "execution_count": 168,
   "metadata": {},
   "outputs": [
    {
     "data": {
      "text/plain": [
       "count    10866.000000\n",
       "mean       217.389748\n",
       "std        575.619058\n",
       "min         10.000000\n",
       "25%         17.000000\n",
       "50%         38.000000\n",
       "75%        145.750000\n",
       "max       9767.000000\n",
       "Name: vote_count, dtype: float64"
      ]
     },
     "execution_count": 168,
     "metadata": {},
     "output_type": "execute_result"
    }
   ],
   "source": [
    "imdb_xydf.describe()['vote_count']"
   ]
  },
  {
   "cell_type": "markdown",
   "metadata": {},
   "source": [
    "#### Vote_count Impressions\n",
    "int64\n",
    "\n",
    "blanks = 0\n",
    "\n",
    "min = 10\n",
    "\n",
    "mean = 217\n",
    "\n",
    "max = 9767\n",
    "\n",
    "This is a potential candidate for standardization. \n",
    "\n",
    "#### Determination\n",
    "After cleaning the data I will want to review this again to see how it has been changed. "
   ]
  },
  {
   "cell_type": "markdown",
   "metadata": {},
   "source": [
    "#### vote_average Count blanks"
   ]
  },
  {
   "cell_type": "code",
   "execution_count": 169,
   "metadata": {},
   "outputs": [
    {
     "data": {
      "text/plain": [
       "0"
      ]
     },
     "execution_count": 169,
     "metadata": {},
     "output_type": "execute_result"
    }
   ],
   "source": [
    "count_blanks('vote_average')"
   ]
  },
  {
   "cell_type": "markdown",
   "metadata": {},
   "source": [
    "#### vote_average Basic Stats"
   ]
  },
  {
   "cell_type": "code",
   "execution_count": 170,
   "metadata": {},
   "outputs": [
    {
     "data": {
      "text/plain": [
       "count    10866.000000\n",
       "mean         5.974922\n",
       "std          0.935142\n",
       "min          1.500000\n",
       "25%          5.400000\n",
       "50%          6.000000\n",
       "75%          6.600000\n",
       "max          9.200000\n",
       "Name: vote_average, dtype: float64"
      ]
     },
     "execution_count": 170,
     "metadata": {},
     "output_type": "execute_result"
    }
   ],
   "source": [
    "imdb_xydf.describe()['vote_average']"
   ]
  },
  {
   "cell_type": "markdown",
   "metadata": {},
   "source": [
    "#### Vote Average Impressions\n",
    "float64\n",
    "\n",
    "blanks = 0\n",
    "min = 1.5\n",
    "mean = 5.9\n",
    "max = 9.2\n",
    "\n",
    "#### Determination\n",
    "Scenario where Movie A has 1 vote and ranks 9.2 vs Movie that has 8000 votes and ranks 8.2\n",
    "how will these be balanced?"
   ]
  },
  {
   "cell_type": "markdown",
   "metadata": {},
   "source": [
    "### Data Cleaning \n",
    "Overall impressions of what should be cleaned\n",
    "\n",
    "1. runtime      : >=75min and <=210 minutes\n",
    "\n",
    "2. budget_adj   : >=50k and <=379k \n",
    "\n",
    "3. revenue_adj  : Add Release date  <= then January 1 2014 (assumption 1 year of revenue)\n",
    "\n",
    "4. popularity   : Review after data cleanse (understand metadata)\n",
    "\n",
    "5. vote_count   : Review after data cleanse (will this need to be normalized)\n",
    "\n",
    "6. vote_average : Review after data cleanse (ratio of number of votes to average score)\n",
    "\n",
    "7. Release_date : Review of seasonality despite the year \n",
    "\n",
    "##### Add columns to data frame\n",
    "To assist with data cleansing and analyis I will need to add release_date and release year to the dataframe. Bringing back first 3 records to confirm data has been loaded successfully. \n",
    "   "
   ]
  },
  {
   "cell_type": "code",
   "execution_count": 171,
   "metadata": {},
   "outputs": [
    {
     "data": {
      "text/html": [
       "<div>\n",
       "<style scoped>\n",
       "    .dataframe tbody tr th:only-of-type {\n",
       "        vertical-align: middle;\n",
       "    }\n",
       "\n",
       "    .dataframe tbody tr th {\n",
       "        vertical-align: top;\n",
       "    }\n",
       "\n",
       "    .dataframe thead th {\n",
       "        text-align: right;\n",
       "    }\n",
       "</style>\n",
       "<table border=\"1\" class=\"dataframe\">\n",
       "  <thead>\n",
       "    <tr style=\"text-align: right;\">\n",
       "      <th></th>\n",
       "      <th>runtime</th>\n",
       "      <th>budget_adj</th>\n",
       "      <th>revenue_adj</th>\n",
       "      <th>release_date</th>\n",
       "      <th>release_year</th>\n",
       "      <th>popularity</th>\n",
       "      <th>vote_count</th>\n",
       "      <th>vote_average</th>\n",
       "    </tr>\n",
       "  </thead>\n",
       "  <tbody>\n",
       "    <tr>\n",
       "      <th>0</th>\n",
       "      <td>124</td>\n",
       "      <td>1.379999e+08</td>\n",
       "      <td>1.392446e+09</td>\n",
       "      <td>6/9/15</td>\n",
       "      <td>2015</td>\n",
       "      <td>32.985763</td>\n",
       "      <td>5562</td>\n",
       "      <td>6.5</td>\n",
       "    </tr>\n",
       "    <tr>\n",
       "      <th>1</th>\n",
       "      <td>120</td>\n",
       "      <td>1.379999e+08</td>\n",
       "      <td>3.481613e+08</td>\n",
       "      <td>5/13/15</td>\n",
       "      <td>2015</td>\n",
       "      <td>28.419936</td>\n",
       "      <td>6185</td>\n",
       "      <td>7.1</td>\n",
       "    </tr>\n",
       "    <tr>\n",
       "      <th>2</th>\n",
       "      <td>119</td>\n",
       "      <td>1.012000e+08</td>\n",
       "      <td>2.716190e+08</td>\n",
       "      <td>3/18/15</td>\n",
       "      <td>2015</td>\n",
       "      <td>13.112507</td>\n",
       "      <td>2480</td>\n",
       "      <td>6.3</td>\n",
       "    </tr>\n",
       "  </tbody>\n",
       "</table>\n",
       "</div>"
      ],
      "text/plain": [
       "   runtime    budget_adj   revenue_adj release_date  release_year  popularity  \\\n",
       "0      124  1.379999e+08  1.392446e+09       6/9/15          2015   32.985763   \n",
       "1      120  1.379999e+08  3.481613e+08      5/13/15          2015   28.419936   \n",
       "2      119  1.012000e+08  2.716190e+08      3/18/15          2015   13.112507   \n",
       "\n",
       "   vote_count  vote_average  \n",
       "0        5562           6.5  \n",
       "1        6185           7.1  \n",
       "2        2480           6.3  "
      ]
     },
     "execution_count": 171,
     "metadata": {},
     "output_type": "execute_result"
    }
   ],
   "source": [
    "### Add release date and release year to data frame\n",
    "imdb_xydf = imdb_df[['runtime', 'budget_adj', 'revenue_adj', 'release_date', 'release_year','popularity', \n",
    "         'vote_count','vote_average']]\n",
    "imdb_xydf.head(3)\n"
   ]
  },
  {
   "cell_type": "markdown",
   "metadata": {},
   "source": [
    "#### 1. Runtime >=75min and <=210 minutes\n",
    "Bringing back basic stats to confirm load and filters worked. "
   ]
  },
  {
   "cell_type": "code",
   "execution_count": 172,
   "metadata": {},
   "outputs": [
    {
     "data": {
      "text/html": [
       "<div>\n",
       "<style scoped>\n",
       "    .dataframe tbody tr th:only-of-type {\n",
       "        vertical-align: middle;\n",
       "    }\n",
       "\n",
       "    .dataframe tbody tr th {\n",
       "        vertical-align: top;\n",
       "    }\n",
       "\n",
       "    .dataframe thead th {\n",
       "        text-align: right;\n",
       "    }\n",
       "</style>\n",
       "<table border=\"1\" class=\"dataframe\">\n",
       "  <thead>\n",
       "    <tr style=\"text-align: right;\">\n",
       "      <th></th>\n",
       "      <th>runtime</th>\n",
       "      <th>budget_adj</th>\n",
       "      <th>revenue_adj</th>\n",
       "      <th>release_year</th>\n",
       "      <th>popularity</th>\n",
       "      <th>vote_count</th>\n",
       "      <th>vote_average</th>\n",
       "    </tr>\n",
       "  </thead>\n",
       "  <tbody>\n",
       "    <tr>\n",
       "      <th>count</th>\n",
       "      <td>10293.000000</td>\n",
       "      <td>1.029300e+04</td>\n",
       "      <td>1.029300e+04</td>\n",
       "      <td>10293.000000</td>\n",
       "      <td>10293.000000</td>\n",
       "      <td>10293.000000</td>\n",
       "      <td>10293.000000</td>\n",
       "    </tr>\n",
       "    <tr>\n",
       "      <th>mean</th>\n",
       "      <td>103.831536</td>\n",
       "      <td>1.839034e+07</td>\n",
       "      <td>5.401091e+07</td>\n",
       "      <td>2001.139124</td>\n",
       "      <td>0.663420</td>\n",
       "      <td>226.889245</td>\n",
       "      <td>5.940853</td>\n",
       "    </tr>\n",
       "    <tr>\n",
       "      <th>std</th>\n",
       "      <td>18.529553</td>\n",
       "      <td>3.488334e+07</td>\n",
       "      <td>1.479699e+08</td>\n",
       "      <td>12.857113</td>\n",
       "      <td>1.018896</td>\n",
       "      <td>589.764494</td>\n",
       "      <td>0.922849</td>\n",
       "    </tr>\n",
       "    <tr>\n",
       "      <th>min</th>\n",
       "      <td>75.000000</td>\n",
       "      <td>0.000000e+00</td>\n",
       "      <td>0.000000e+00</td>\n",
       "      <td>1960.000000</td>\n",
       "      <td>0.000188</td>\n",
       "      <td>10.000000</td>\n",
       "      <td>1.500000</td>\n",
       "    </tr>\n",
       "    <tr>\n",
       "      <th>25%</th>\n",
       "      <td>91.000000</td>\n",
       "      <td>0.000000e+00</td>\n",
       "      <td>0.000000e+00</td>\n",
       "      <td>1994.000000</td>\n",
       "      <td>0.214637</td>\n",
       "      <td>17.000000</td>\n",
       "      <td>5.400000</td>\n",
       "    </tr>\n",
       "    <tr>\n",
       "      <th>50%</th>\n",
       "      <td>100.000000</td>\n",
       "      <td>0.000000e+00</td>\n",
       "      <td>0.000000e+00</td>\n",
       "      <td>2005.000000</td>\n",
       "      <td>0.392011</td>\n",
       "      <td>40.000000</td>\n",
       "      <td>6.000000</td>\n",
       "    </tr>\n",
       "    <tr>\n",
       "      <th>75%</th>\n",
       "      <td>112.000000</td>\n",
       "      <td>2.246547e+07</td>\n",
       "      <td>3.796253e+07</td>\n",
       "      <td>2011.000000</td>\n",
       "      <td>0.731793</td>\n",
       "      <td>157.000000</td>\n",
       "      <td>6.600000</td>\n",
       "    </tr>\n",
       "    <tr>\n",
       "      <th>max</th>\n",
       "      <td>210.000000</td>\n",
       "      <td>4.250000e+08</td>\n",
       "      <td>2.827124e+09</td>\n",
       "      <td>2015.000000</td>\n",
       "      <td>32.985763</td>\n",
       "      <td>9767.000000</td>\n",
       "      <td>8.900000</td>\n",
       "    </tr>\n",
       "  </tbody>\n",
       "</table>\n",
       "</div>"
      ],
      "text/plain": [
       "            runtime    budget_adj   revenue_adj  release_year    popularity  \\\n",
       "count  10293.000000  1.029300e+04  1.029300e+04  10293.000000  10293.000000   \n",
       "mean     103.831536  1.839034e+07  5.401091e+07   2001.139124      0.663420   \n",
       "std       18.529553  3.488334e+07  1.479699e+08     12.857113      1.018896   \n",
       "min       75.000000  0.000000e+00  0.000000e+00   1960.000000      0.000188   \n",
       "25%       91.000000  0.000000e+00  0.000000e+00   1994.000000      0.214637   \n",
       "50%      100.000000  0.000000e+00  0.000000e+00   2005.000000      0.392011   \n",
       "75%      112.000000  2.246547e+07  3.796253e+07   2011.000000      0.731793   \n",
       "max      210.000000  4.250000e+08  2.827124e+09   2015.000000     32.985763   \n",
       "\n",
       "         vote_count  vote_average  \n",
       "count  10293.000000  10293.000000  \n",
       "mean     226.889245      5.940853  \n",
       "std      589.764494      0.922849  \n",
       "min       10.000000      1.500000  \n",
       "25%       17.000000      5.400000  \n",
       "50%       40.000000      6.000000  \n",
       "75%      157.000000      6.600000  \n",
       "max     9767.000000      8.900000  "
      ]
     },
     "execution_count": 172,
     "metadata": {},
     "output_type": "execute_result"
    }
   ],
   "source": [
    "imdb_xydf = imdb_xydf[imdb_xydf['runtime'] >= 75]\n",
    "imdb_xydf = imdb_xydf[imdb_xydf['runtime'] <= 210]\n",
    "imdb_xydf.describe()"
   ]
  },
  {
   "cell_type": "markdown",
   "metadata": {},
   "source": [
    "#### 2. budget_adj: >=50k and <=379k \n",
    "Bringing back basic stats to confirm load and filters worked. "
   ]
  },
  {
   "cell_type": "code",
   "execution_count": 173,
   "metadata": {},
   "outputs": [
    {
     "data": {
      "text/html": [
       "<div>\n",
       "<style scoped>\n",
       "    .dataframe tbody tr th:only-of-type {\n",
       "        vertical-align: middle;\n",
       "    }\n",
       "\n",
       "    .dataframe tbody tr th {\n",
       "        vertical-align: top;\n",
       "    }\n",
       "\n",
       "    .dataframe thead th {\n",
       "        text-align: right;\n",
       "    }\n",
       "</style>\n",
       "<table border=\"1\" class=\"dataframe\">\n",
       "  <thead>\n",
       "    <tr style=\"text-align: right;\">\n",
       "      <th></th>\n",
       "      <th>runtime</th>\n",
       "      <th>budget_adj</th>\n",
       "      <th>revenue_adj</th>\n",
       "      <th>release_year</th>\n",
       "      <th>popularity</th>\n",
       "      <th>vote_count</th>\n",
       "      <th>vote_average</th>\n",
       "    </tr>\n",
       "  </thead>\n",
       "  <tbody>\n",
       "    <tr>\n",
       "      <th>count</th>\n",
       "      <td>5022.000000</td>\n",
       "      <td>5.022000e+03</td>\n",
       "      <td>5.022000e+03</td>\n",
       "      <td>5022.000000</td>\n",
       "      <td>5022.000000</td>\n",
       "      <td>5022.000000</td>\n",
       "      <td>5022.000000</td>\n",
       "    </tr>\n",
       "    <tr>\n",
       "      <th>mean</th>\n",
       "      <td>107.331541</td>\n",
       "      <td>3.760775e+07</td>\n",
       "      <td>1.046701e+08</td>\n",
       "      <td>2001.254879</td>\n",
       "      <td>1.009808</td>\n",
       "      <td>418.364397</td>\n",
       "      <td>6.031760</td>\n",
       "    </tr>\n",
       "    <tr>\n",
       "      <th>std</th>\n",
       "      <td>18.901104</td>\n",
       "      <td>4.167733e+07</td>\n",
       "      <td>1.978771e+08</td>\n",
       "      <td>11.732375</td>\n",
       "      <td>1.343122</td>\n",
       "      <td>797.412328</td>\n",
       "      <td>0.874135</td>\n",
       "    </tr>\n",
       "    <tr>\n",
       "      <th>min</th>\n",
       "      <td>75.000000</td>\n",
       "      <td>5.258343e+04</td>\n",
       "      <td>0.000000e+00</td>\n",
       "      <td>1960.000000</td>\n",
       "      <td>0.001117</td>\n",
       "      <td>10.000000</td>\n",
       "      <td>2.200000</td>\n",
       "    </tr>\n",
       "    <tr>\n",
       "      <th>25%</th>\n",
       "      <td>94.000000</td>\n",
       "      <td>8.958710e+06</td>\n",
       "      <td>1.912704e+04</td>\n",
       "      <td>1996.000000</td>\n",
       "      <td>0.357501</td>\n",
       "      <td>37.000000</td>\n",
       "      <td>5.500000</td>\n",
       "    </tr>\n",
       "    <tr>\n",
       "      <th>50%</th>\n",
       "      <td>103.000000</td>\n",
       "      <td>2.340083e+07</td>\n",
       "      <td>3.115261e+07</td>\n",
       "      <td>2005.000000</td>\n",
       "      <td>0.635365</td>\n",
       "      <td>128.000000</td>\n",
       "      <td>6.100000</td>\n",
       "    </tr>\n",
       "    <tr>\n",
       "      <th>75%</th>\n",
       "      <td>117.000000</td>\n",
       "      <td>5.066001e+07</td>\n",
       "      <td>1.160687e+08</td>\n",
       "      <td>2010.000000</td>\n",
       "      <td>1.176155</td>\n",
       "      <td>414.000000</td>\n",
       "      <td>6.600000</td>\n",
       "    </tr>\n",
       "    <tr>\n",
       "      <th>max</th>\n",
       "      <td>208.000000</td>\n",
       "      <td>3.683713e+08</td>\n",
       "      <td>2.827124e+09</td>\n",
       "      <td>2015.000000</td>\n",
       "      <td>32.985763</td>\n",
       "      <td>9767.000000</td>\n",
       "      <td>8.400000</td>\n",
       "    </tr>\n",
       "  </tbody>\n",
       "</table>\n",
       "</div>"
      ],
      "text/plain": [
       "           runtime    budget_adj   revenue_adj  release_year   popularity  \\\n",
       "count  5022.000000  5.022000e+03  5.022000e+03   5022.000000  5022.000000   \n",
       "mean    107.331541  3.760775e+07  1.046701e+08   2001.254879     1.009808   \n",
       "std      18.901104  4.167733e+07  1.978771e+08     11.732375     1.343122   \n",
       "min      75.000000  5.258343e+04  0.000000e+00   1960.000000     0.001117   \n",
       "25%      94.000000  8.958710e+06  1.912704e+04   1996.000000     0.357501   \n",
       "50%     103.000000  2.340083e+07  3.115261e+07   2005.000000     0.635365   \n",
       "75%     117.000000  5.066001e+07  1.160687e+08   2010.000000     1.176155   \n",
       "max     208.000000  3.683713e+08  2.827124e+09   2015.000000    32.985763   \n",
       "\n",
       "        vote_count  vote_average  \n",
       "count  5022.000000   5022.000000  \n",
       "mean    418.364397      6.031760  \n",
       "std     797.412328      0.874135  \n",
       "min      10.000000      2.200000  \n",
       "25%      37.000000      5.500000  \n",
       "50%     128.000000      6.100000  \n",
       "75%     414.000000      6.600000  \n",
       "max    9767.000000      8.400000  "
      ]
     },
     "execution_count": 173,
     "metadata": {},
     "output_type": "execute_result"
    }
   ],
   "source": [
    "imdb_xydf = imdb_xydf[imdb_xydf['budget_adj'] >= 50000]\n",
    "imdb_xydf = imdb_xydf[imdb_xydf['budget_adj'] <= 379000000]\n",
    "imdb_xydf.describe()"
   ]
  },
  {
   "cell_type": "markdown",
   "metadata": {},
   "source": [
    "#### 3. Revenue_adj :  Release_year < 2015 (assumption 1 year of revenue) and revenue_adj >0\n",
    "Bringing back basic stats to confirm load and filters worked. "
   ]
  },
  {
   "cell_type": "code",
   "execution_count": 174,
   "metadata": {},
   "outputs": [
    {
     "data": {
      "text/html": [
       "<div>\n",
       "<style scoped>\n",
       "    .dataframe tbody tr th:only-of-type {\n",
       "        vertical-align: middle;\n",
       "    }\n",
       "\n",
       "    .dataframe tbody tr th {\n",
       "        vertical-align: top;\n",
       "    }\n",
       "\n",
       "    .dataframe thead th {\n",
       "        text-align: right;\n",
       "    }\n",
       "</style>\n",
       "<table border=\"1\" class=\"dataframe\">\n",
       "  <thead>\n",
       "    <tr style=\"text-align: right;\">\n",
       "      <th></th>\n",
       "      <th>runtime</th>\n",
       "      <th>budget_adj</th>\n",
       "      <th>revenue_adj</th>\n",
       "      <th>release_date</th>\n",
       "      <th>release_year</th>\n",
       "      <th>popularity</th>\n",
       "      <th>vote_count</th>\n",
       "      <th>vote_average</th>\n",
       "    </tr>\n",
       "  </thead>\n",
       "  <tbody>\n",
       "    <tr>\n",
       "      <th>629</th>\n",
       "      <td>169</td>\n",
       "      <td>1.519800e+08</td>\n",
       "      <td>5.726906e+08</td>\n",
       "      <td>11/5/14</td>\n",
       "      <td>2014</td>\n",
       "      <td>24.949134</td>\n",
       "      <td>6498</td>\n",
       "      <td>8.0</td>\n",
       "    </tr>\n",
       "    <tr>\n",
       "      <th>630</th>\n",
       "      <td>121</td>\n",
       "      <td>1.565855e+08</td>\n",
       "      <td>7.122911e+08</td>\n",
       "      <td>7/30/14</td>\n",
       "      <td>2014</td>\n",
       "      <td>14.311205</td>\n",
       "      <td>5612</td>\n",
       "      <td>7.9</td>\n",
       "    </tr>\n",
       "    <tr>\n",
       "      <th>631</th>\n",
       "      <td>136</td>\n",
       "      <td>1.565855e+08</td>\n",
       "      <td>6.583651e+08</td>\n",
       "      <td>3/20/14</td>\n",
       "      <td>2014</td>\n",
       "      <td>12.971027</td>\n",
       "      <td>3848</td>\n",
       "      <td>7.6</td>\n",
       "    </tr>\n",
       "  </tbody>\n",
       "</table>\n",
       "</div>"
      ],
      "text/plain": [
       "     runtime    budget_adj   revenue_adj release_date  release_year  \\\n",
       "629      169  1.519800e+08  5.726906e+08      11/5/14          2014   \n",
       "630      121  1.565855e+08  7.122911e+08      7/30/14          2014   \n",
       "631      136  1.565855e+08  6.583651e+08      3/20/14          2014   \n",
       "\n",
       "     popularity  vote_count  vote_average  \n",
       "629   24.949134        6498           8.0  \n",
       "630   14.311205        5612           7.9  \n",
       "631   12.971027        3848           7.6  "
      ]
     },
     "execution_count": 174,
     "metadata": {},
     "output_type": "execute_result"
    }
   ],
   "source": [
    "imdb_xydf = imdb_xydf[imdb_xydf['release_year']< 2015]\n",
    "imdb_xydf = imdb_xydf[imdb_xydf['revenue_adj']>0]\n",
    "imdb_xydf.head(3)"
   ]
  },
  {
   "cell_type": "markdown",
   "metadata": {},
   "source": [
    "#### Repeat individual field Basic stats\n",
    "Field focus and review of any issues\n",
    "* Popularity\n",
    "* vote_count\n",
    "* vote_average"
   ]
  },
  {
   "cell_type": "code",
   "execution_count": 175,
   "metadata": {},
   "outputs": [
    {
     "data": {
      "text/plain": [
       "count    3640.000000\n",
       "mean        1.128213\n",
       "std         1.236788\n",
       "min         0.001117\n",
       "25%         0.458048\n",
       "50%         0.786394\n",
       "75%         1.320533\n",
       "max        24.949134\n",
       "Name: popularity, dtype: float64"
      ]
     },
     "execution_count": 175,
     "metadata": {},
     "output_type": "execute_result"
    }
   ],
   "source": [
    "imdb_xydf.describe()['popularity']"
   ]
  },
  {
   "cell_type": "code",
   "execution_count": 176,
   "metadata": {},
   "outputs": [
    {
     "data": {
      "text/plain": [
       "count    3640.000000\n",
       "mean      514.283516\n",
       "std       866.680692\n",
       "min        10.000000\n",
       "25%        69.000000\n",
       "50%       197.000000\n",
       "75%       557.000000\n",
       "max      9767.000000\n",
       "Name: vote_count, dtype: float64"
      ]
     },
     "execution_count": 176,
     "metadata": {},
     "output_type": "execute_result"
    }
   ],
   "source": [
    "imdb_xydf.describe()['vote_count']"
   ]
  },
  {
   "cell_type": "code",
   "execution_count": 177,
   "metadata": {},
   "outputs": [
    {
     "data": {
      "text/plain": [
       "count    3640.000000\n",
       "mean        6.161923\n",
       "std         0.792050\n",
       "min         2.200000\n",
       "25%         5.700000\n",
       "50%         6.200000\n",
       "75%         6.700000\n",
       "max         8.400000\n",
       "Name: vote_average, dtype: float64"
      ]
     },
     "execution_count": 177,
     "metadata": {},
     "output_type": "execute_result"
    }
   ],
   "source": [
    "imdb_xydf.describe()['vote_average']"
   ]
  },
  {
   "cell_type": "markdown",
   "metadata": {},
   "source": [
    "### Add field rb_ratio(revenue to budget)\n",
    "After reviewing numbers it makes since to create a field for profit that will be labled rb_ratio.\n",
    "Loading data below and bringing back first 3 records to confirm load"
   ]
  },
  {
   "cell_type": "code",
   "execution_count": 178,
   "metadata": {},
   "outputs": [
    {
     "data": {
      "text/html": [
       "<div>\n",
       "<style scoped>\n",
       "    .dataframe tbody tr th:only-of-type {\n",
       "        vertical-align: middle;\n",
       "    }\n",
       "\n",
       "    .dataframe tbody tr th {\n",
       "        vertical-align: top;\n",
       "    }\n",
       "\n",
       "    .dataframe thead th {\n",
       "        text-align: right;\n",
       "    }\n",
       "</style>\n",
       "<table border=\"1\" class=\"dataframe\">\n",
       "  <thead>\n",
       "    <tr style=\"text-align: right;\">\n",
       "      <th></th>\n",
       "      <th>runtime</th>\n",
       "      <th>budget_adj</th>\n",
       "      <th>revenue_adj</th>\n",
       "      <th>release_date</th>\n",
       "      <th>release_year</th>\n",
       "      <th>popularity</th>\n",
       "      <th>vote_count</th>\n",
       "      <th>vote_average</th>\n",
       "      <th>rb_ratio</th>\n",
       "    </tr>\n",
       "  </thead>\n",
       "  <tbody>\n",
       "    <tr>\n",
       "      <th>629</th>\n",
       "      <td>169</td>\n",
       "      <td>1.519800e+08</td>\n",
       "      <td>5.726906e+08</td>\n",
       "      <td>11/5/14</td>\n",
       "      <td>2014</td>\n",
       "      <td>24.949134</td>\n",
       "      <td>6498</td>\n",
       "      <td>8.0</td>\n",
       "      <td>3.768197</td>\n",
       "    </tr>\n",
       "    <tr>\n",
       "      <th>630</th>\n",
       "      <td>121</td>\n",
       "      <td>1.565855e+08</td>\n",
       "      <td>7.122911e+08</td>\n",
       "      <td>7/30/14</td>\n",
       "      <td>2014</td>\n",
       "      <td>14.311205</td>\n",
       "      <td>5612</td>\n",
       "      <td>7.9</td>\n",
       "      <td>4.548896</td>\n",
       "    </tr>\n",
       "    <tr>\n",
       "      <th>631</th>\n",
       "      <td>136</td>\n",
       "      <td>1.565855e+08</td>\n",
       "      <td>6.583651e+08</td>\n",
       "      <td>3/20/14</td>\n",
       "      <td>2014</td>\n",
       "      <td>12.971027</td>\n",
       "      <td>3848</td>\n",
       "      <td>7.6</td>\n",
       "      <td>4.204509</td>\n",
       "    </tr>\n",
       "  </tbody>\n",
       "</table>\n",
       "</div>"
      ],
      "text/plain": [
       "     runtime    budget_adj   revenue_adj release_date  release_year  \\\n",
       "629      169  1.519800e+08  5.726906e+08      11/5/14          2014   \n",
       "630      121  1.565855e+08  7.122911e+08      7/30/14          2014   \n",
       "631      136  1.565855e+08  6.583651e+08      3/20/14          2014   \n",
       "\n",
       "     popularity  vote_count  vote_average  rb_ratio  \n",
       "629   24.949134        6498           8.0  3.768197  \n",
       "630   14.311205        5612           7.9  4.548896  \n",
       "631   12.971027        3848           7.6  4.204509  "
      ]
     },
     "execution_count": 178,
     "metadata": {},
     "output_type": "execute_result"
    }
   ],
   "source": [
    "imdb_xydf['rb_ratio'] = imdb_xydf['revenue_adj']/imdb_xydf['budget_adj']\n",
    "(imdb_xydf).head(3)"
   ]
  },
  {
   "cell_type": "markdown",
   "metadata": {},
   "source": [
    "### Add release_month \n",
    "after looking at dates it makes sense to load just the month from the release date to see if there is a specific time of year that might have an influence in success. I have brought back 3 records to confirm data is loaded correctly."
   ]
  },
  {
   "cell_type": "code",
   "execution_count": 179,
   "metadata": {},
   "outputs": [
    {
     "data": {
      "text/html": [
       "<div>\n",
       "<style scoped>\n",
       "    .dataframe tbody tr th:only-of-type {\n",
       "        vertical-align: middle;\n",
       "    }\n",
       "\n",
       "    .dataframe tbody tr th {\n",
       "        vertical-align: top;\n",
       "    }\n",
       "\n",
       "    .dataframe thead th {\n",
       "        text-align: right;\n",
       "    }\n",
       "</style>\n",
       "<table border=\"1\" class=\"dataframe\">\n",
       "  <thead>\n",
       "    <tr style=\"text-align: right;\">\n",
       "      <th></th>\n",
       "      <th>runtime</th>\n",
       "      <th>budget_adj</th>\n",
       "      <th>revenue_adj</th>\n",
       "      <th>release_date</th>\n",
       "      <th>release_year</th>\n",
       "      <th>popularity</th>\n",
       "      <th>vote_count</th>\n",
       "      <th>vote_average</th>\n",
       "      <th>rb_ratio</th>\n",
       "      <th>release_month</th>\n",
       "    </tr>\n",
       "  </thead>\n",
       "  <tbody>\n",
       "    <tr>\n",
       "      <th>629</th>\n",
       "      <td>169</td>\n",
       "      <td>1.519800e+08</td>\n",
       "      <td>5.726906e+08</td>\n",
       "      <td>11/5/14</td>\n",
       "      <td>2014</td>\n",
       "      <td>24.949134</td>\n",
       "      <td>6498</td>\n",
       "      <td>8.0</td>\n",
       "      <td>3.768197</td>\n",
       "      <td>11</td>\n",
       "    </tr>\n",
       "    <tr>\n",
       "      <th>630</th>\n",
       "      <td>121</td>\n",
       "      <td>1.565855e+08</td>\n",
       "      <td>7.122911e+08</td>\n",
       "      <td>7/30/14</td>\n",
       "      <td>2014</td>\n",
       "      <td>14.311205</td>\n",
       "      <td>5612</td>\n",
       "      <td>7.9</td>\n",
       "      <td>4.548896</td>\n",
       "      <td>7</td>\n",
       "    </tr>\n",
       "    <tr>\n",
       "      <th>631</th>\n",
       "      <td>136</td>\n",
       "      <td>1.565855e+08</td>\n",
       "      <td>6.583651e+08</td>\n",
       "      <td>3/20/14</td>\n",
       "      <td>2014</td>\n",
       "      <td>12.971027</td>\n",
       "      <td>3848</td>\n",
       "      <td>7.6</td>\n",
       "      <td>4.204509</td>\n",
       "      <td>3</td>\n",
       "    </tr>\n",
       "  </tbody>\n",
       "</table>\n",
       "</div>"
      ],
      "text/plain": [
       "     runtime    budget_adj   revenue_adj release_date  release_year  \\\n",
       "629      169  1.519800e+08  5.726906e+08      11/5/14          2014   \n",
       "630      121  1.565855e+08  7.122911e+08      7/30/14          2014   \n",
       "631      136  1.565855e+08  6.583651e+08      3/20/14          2014   \n",
       "\n",
       "     popularity  vote_count  vote_average  rb_ratio  release_month  \n",
       "629   24.949134        6498           8.0  3.768197             11  \n",
       "630   14.311205        5612           7.9  4.548896              7  \n",
       "631   12.971027        3848           7.6  4.204509              3  "
      ]
     },
     "execution_count": 179,
     "metadata": {},
     "output_type": "execute_result"
    }
   ],
   "source": [
    "import datetime\n",
    "imdb_xydf['release_month'] = pd.DatetimeIndex(imdb_xydf[\"release_date\"]).month\n",
    "imdb_xydf.head(3)"
   ]
  },
  {
   "cell_type": "markdown",
   "metadata": {},
   "source": [
    "## Sum group by month\n",
    "In order to review data over time I will need to group by month, sum popularity, vote_count, vote_average, rb_ratio. \n",
    "I have done this below and confirmed the load by reviewing the data types. "
   ]
  },
  {
   "cell_type": "code",
   "execution_count": 180,
   "metadata": {},
   "outputs": [
    {
     "data": {
      "text/plain": [
       "release_month      int64\n",
       "popularity       float64\n",
       "vote_count         int64\n",
       "vote_average     float64\n",
       "rb_ratio         float64\n",
       "dtype: object"
      ]
     },
     "execution_count": 180,
     "metadata": {},
     "output_type": "execute_result"
    }
   ],
   "source": [
    "df = imdb_xydf\n",
    "sum_by_month = df.groupby(['release_month'],as_index = False)[[\"popularity\", \"vote_count\", \n",
    "                                                               \"vote_average\", \n",
    "                                                               \"rb_ratio\"]].sum()\n",
    "sum_by_month.dtypes"
   ]
  },
  {
   "cell_type": "markdown",
   "metadata": {},
   "source": [
    "<a id='eda'></a>\n",
    "## Exploratory Data Analysis\n",
    "\n",
    "## Is there a correlation between runtime, budget, release date and success of a movie\n",
    "\n",
    "> Criteria definining success, ratio of revenue_adj to budget_adj, popularity, vote_count, vote_average. \n",
    "\n",
    "> Factors to test success influence: runtime, budget, release_date\n",
    "\n",
    "1. Review Popularity against, runtime, budget_adj and release_month\n",
    "2. Review vote_count against, runtime, budget_adj and release_month\n",
    "3. Review vote_average against, runtime, budget_adj and release_month\n",
    "4. Review rb_ratio against, runtime, budget_adj and release_month\n",
    "\n",
    "\n",
    "#### Automation of R score calculation\n",
    "Because I will want to calculate the r score several times I have created a function to automate this for me. \n"
   ]
  },
  {
   "cell_type": "code",
   "execution_count": 181,
   "metadata": {},
   "outputs": [],
   "source": [
    "def correlation(x, y):\n",
    "    std_x = (x - x.mean()) / x.std(ddof=0)\n",
    "    std_y = (y - y.mean()) / y.std(ddof=0)\n",
    "    \n",
    "    return (std_x * std_y).mean()"
   ]
  },
  {
   "cell_type": "markdown",
   "metadata": {},
   "source": [
    "### 1. Review Popularity against, runtime, budget_adj and release_month"
   ]
  },
  {
   "cell_type": "markdown",
   "metadata": {},
   "source": [
    "#### Are longer movies more popular?\n",
    "I'm using a scatter plot to determine if there is a relationship between the variables being tested. "
   ]
  },
  {
   "cell_type": "code",
   "execution_count": 182,
   "metadata": {},
   "outputs": [
    {
     "data": {
      "text/plain": [
       "<matplotlib.collections.PathCollection at 0x18d18b06048>"
      ]
     },
     "execution_count": 182,
     "metadata": {},
     "output_type": "execute_result"
    },
    {
     "data": {
      "image/png": "[encoded data removed]",
      "text/plain": [
       "<Figure size 432x288 with 1 Axes>"
      ]
     },
     "metadata": {
      "needs_background": "light"
     },
     "output_type": "display_data"
    }
   ],
   "source": [
    "# Load Data\n",
    "x = imdb_xydf['runtime']\n",
    "y = imdb_xydf['popularity']\n",
    "\n",
    "# Create Plot\n",
    "plt.xlabel('run_time')\n",
    "plt.ylabel('popularity')\n",
    "plt.title('Are longer movies more popular?')\n",
    "plt.scatter(x,y)\n",
    "\n"
   ]
  },
  {
   "cell_type": "markdown",
   "metadata": {},
   "source": [
    "#### R Score\n",
    "I have created an r score to compliment the scatter plot and help interpret the strenght or weakeness of the relationships tested.\n"
   ]
  },
  {
   "cell_type": "code",
   "execution_count": 183,
   "metadata": {},
   "outputs": [
    {
     "name": "stdout",
     "output_type": "stream",
     "text": [
      "0.24094274969777796\n"
     ]
    }
   ],
   "source": [
    "pop_runtime = correlation(x, y)\n",
    "print(pop_runtime)"
   ]
  },
  {
   "cell_type": "markdown",
   "metadata": {},
   "source": [
    "#### Are bigger budget movies  movies more popular?\n",
    "I'm using a scatter plot to determine if there is a relationship between the variables being tested. "
   ]
  },
  {
   "cell_type": "code",
   "execution_count": 184,
   "metadata": {},
   "outputs": [
    {
     "data": {
      "text/plain": [
       "<matplotlib.collections.PathCollection at 0x18d18b597f0>"
      ]
     },
     "execution_count": 184,
     "metadata": {},
     "output_type": "execute_result"
    },
    {
     "data": {
      "image/png": "[encoded data removed]",
      "text/plain": [
       "<Figure size 432x288 with 1 Axes>"
      ]
     },
     "metadata": {
      "needs_background": "light"
     },
     "output_type": "display_data"
    }
   ],
   "source": [
    "# Load data\n",
    "x = imdb_xydf['budget_adj']\n",
    "\n",
    "# Create Plot\n",
    "plt.xlabel('budget_adj')\n",
    "plt.ylabel('popularity')\n",
    "plt.title('Are  big budget movies more popular?')\n",
    "plt.scatter(x,y)"
   ]
  },
  {
   "cell_type": "markdown",
   "metadata": {},
   "source": [
    "#### R Score\n",
    "I have created an r score to compliment the scatter plot and help interpret the strenght or weakeness of the relationships tested."
   ]
  },
  {
   "cell_type": "code",
   "execution_count": 185,
   "metadata": {},
   "outputs": [
    {
     "name": "stdout",
     "output_type": "stream",
     "text": [
      "0.4271092614196272\n"
     ]
    }
   ],
   "source": [
    "pop_budget_adj = correlation(x, y)\n",
    "print(pop_budget_adj)"
   ]
  },
  {
   "cell_type": "markdown",
   "metadata": {},
   "source": [
    "#### Does release date help a movie be more popular?\n",
    "I'm using a line chart to determine if there is a relationship between the variables being tested. "
   ]
  },
  {
   "cell_type": "code",
   "execution_count": 186,
   "metadata": {},
   "outputs": [
    {
     "data": {
      "text/plain": [
       "[<matplotlib.lines.Line2D at 0x18d18bbf5f8>]"
      ]
     },
     "execution_count": 186,
     "metadata": {},
     "output_type": "execute_result"
    },
    {
     "data": {
      "image/png": "[encoded data removed]",
      "text/plain": [
       "<Figure size 432x288 with 1 Axes>"
      ]
     },
     "metadata": {
      "needs_background": "light"
     },
     "output_type": "display_data"
    }
   ],
   "source": [
    "\n",
    "x = sum_by_month['release_month']\n",
    "y = sum_by_month['popularity']\n",
    "\n",
    "# Create Plot\n",
    "plt.xlabel('release_month')\n",
    "plt.ylabel ('popularity')\n",
    "plt.title('Does release date help a movie be more popular?')\n",
    "plt.plot(x,y)"
   ]
  },
  {
   "cell_type": "markdown",
   "metadata": {},
   "source": [
    "#### R Score\n",
    "I have created an r score to compliment the scatter plot and help interpret the strenght or weakeness of the relationships tested."
   ]
  },
  {
   "cell_type": "code",
   "execution_count": 187,
   "metadata": {},
   "outputs": [
    {
     "name": "stdout",
     "output_type": "stream",
     "text": [
      "0.8323988707767832\n"
     ]
    }
   ],
   "source": [
    "pop_release_month = correlation(x, y)\n",
    "print(pop_release_month)"
   ]
  },
  {
   "cell_type": "markdown",
   "metadata": {},
   "source": [
    "> #### Popularity Observations\n",
    ">Popularity is the rank of movie sites that are visited per week. \n",
    "Correlation of runtime and budget is not strong enough to investigate.\n",
    "Release_month and popularity are correlated with an R score of .83 and is worth\n",
    "investigating further.\n",
    "\n",
    "> * Weak to No positive relationship with popularity and runtime\n",
    "> * Moderate to Weak relationship with popularity and budget_adj\n",
    "> * Strong to Perfect positive correlation with popularity and release_month"
   ]
  },
  {
   "cell_type": "code",
   "execution_count": 188,
   "metadata": {},
   "outputs": [
    {
     "name": "stdout",
     "output_type": "stream",
     "text": [
      "popularity and runtime 0.24094274969777796\n",
      "popularity and budget_adj 0.4271092614196272\n",
      "popularity and month released 0.8323988707767832\n"
     ]
    }
   ],
   "source": [
    "print(\"popularity and runtime\", pop_runtime)\n",
    "print(\"popularity and budget_adj\", pop_budget_adj)\n",
    "print(\"popularity and month released\",pop_release_month)"
   ]
  },
  {
   "cell_type": "markdown",
   "metadata": {},
   "source": [
    "### 2. Review vote_count against, runtime, budget_adj and release_month"
   ]
  },
  {
   "cell_type": "markdown",
   "metadata": {},
   "source": [
    "#### Do longer movies get more votes?\n",
    "I'm using a scatterplot to determine if there is a relationship between the variables being tested. "
   ]
  },
  {
   "cell_type": "code",
   "execution_count": 189,
   "metadata": {},
   "outputs": [
    {
     "data": {
      "text/plain": [
       "<matplotlib.collections.PathCollection at 0x18d18bfa3c8>"
      ]
     },
     "execution_count": 189,
     "metadata": {},
     "output_type": "execute_result"
    },
    {
     "data": {
      "image/png": "[encoded data removed]",
      "text/plain": [
       "<Figure size 432x288 with 1 Axes>"
      ]
     },
     "metadata": {
      "needs_background": "light"
     },
     "output_type": "display_data"
    }
   ],
   "source": [
    "# Load Data\n",
    "x = imdb_xydf['runtime']\n",
    "y = imdb_xydf['vote_count']\n",
    "\n",
    "# Create Plot\n",
    "plt.xlabel('run_time')\n",
    "plt.ylabel('vote_count')\n",
    "plt.title('Do longer movies get more votes?')\n",
    "plt.scatter(x,y)"
   ]
  },
  {
   "cell_type": "markdown",
   "metadata": {},
   "source": [
    "#### R Score\n",
    "I have created an r score to compliment the scatter plot and help interpret the strenght or weakeness of the relationships tested."
   ]
  },
  {
   "cell_type": "code",
   "execution_count": 190,
   "metadata": {},
   "outputs": [
    {
     "name": "stdout",
     "output_type": "stream",
     "text": [
      "0.2831731290856433\n"
     ]
    }
   ],
   "source": [
    "vc_runtime = correlation(x, y)\n",
    "print(vc_runtime)"
   ]
  },
  {
   "cell_type": "markdown",
   "metadata": {},
   "source": [
    "#### Do Bigger budget movies get more votes?\n",
    "I'm using a scatterplot to determine if there is a relationship between the variables being tested. "
   ]
  },
  {
   "cell_type": "code",
   "execution_count": 191,
   "metadata": {},
   "outputs": [
    {
     "data": {
      "text/plain": [
       "<matplotlib.collections.PathCollection at 0x18d18c31da0>"
      ]
     },
     "execution_count": 191,
     "metadata": {},
     "output_type": "execute_result"
    },
    {
     "data": {
      "image/png": "[encoded data removed]",
      "text/plain": [
       "<Figure size 432x288 with 1 Axes>"
      ]
     },
     "metadata": {
      "needs_background": "light"
     },
     "output_type": "display_data"
    }
   ],
   "source": [
    "# Load Data\n",
    "x = imdb_xydf['budget_adj']\n",
    "\n",
    "# Create Plot\n",
    "plt.xlabel('budget_adj')\n",
    "plt.ylabel('vote_count')\n",
    "plt.title('Do Bigger budget movies get more votes?')\n",
    "plt.scatter(x,y)"
   ]
  },
  {
   "cell_type": "markdown",
   "metadata": {},
   "source": [
    "#### R Score\n",
    "I have created an r score to compliment the scatter plot and help interpret the strenght or weakeness of the relationships tested."
   ]
  },
  {
   "cell_type": "code",
   "execution_count": 192,
   "metadata": {},
   "outputs": [
    {
     "name": "stdout",
     "output_type": "stream",
     "text": [
      "0.4946701719635949\n"
     ]
    }
   ],
   "source": [
    "vc_budget_adj = correlation(x, y)\n",
    "print(vc_budget_adj)"
   ]
  },
  {
   "cell_type": "markdown",
   "metadata": {},
   "source": [
    "#### Does release date cause more people to vote?\n",
    "I'm using a linechart to determine if there is a relationship between the variables being tested. "
   ]
  },
  {
   "cell_type": "code",
   "execution_count": 193,
   "metadata": {},
   "outputs": [
    {
     "data": {
      "text/plain": [
       "[<matplotlib.lines.Line2D at 0x18d18cd26d8>]"
      ]
     },
     "execution_count": 193,
     "metadata": {},
     "output_type": "execute_result"
    },
    {
     "data": {
      "image/png": "[encoded data removed]",
      "text/plain": [
       "<Figure size 432x288 with 1 Axes>"
      ]
     },
     "metadata": {
      "needs_background": "light"
     },
     "output_type": "display_data"
    }
   ],
   "source": [
    "# Load Data\n",
    "x = sum_by_month['release_month']\n",
    "y = sum_by_month['vote_count']\n",
    "\n",
    "# Create Plot\n",
    "plt.xlabel('release_month')\n",
    "plt.ylabel ('vote_count')\n",
    "plt.title('Does release date help vote counts?')\n",
    "plt.plot(x,y)"
   ]
  },
  {
   "cell_type": "markdown",
   "metadata": {},
   "source": [
    "#### R Score\n",
    "I have created an r score to compliment the scatter plot and help interpret the strenght or weakeness of the relationships tested."
   ]
  },
  {
   "cell_type": "code",
   "execution_count": 194,
   "metadata": {},
   "outputs": [
    {
     "name": "stdout",
     "output_type": "stream",
     "text": [
      "0.6013983137510127\n"
     ]
    }
   ],
   "source": [
    "vc_release_month = correlation(x, y)\n",
    "print(vc_release_month)"
   ]
  },
  {
   "cell_type": "markdown",
   "metadata": {},
   "source": [
    "> #### Vote Counts Observations\n",
    "> Vote counts is how many times people have voted on a movie.\n",
    "Correlation of vote_count and release_date with an R score of .60 is worth investigating.\n",
    "\n",
    "\n",
    ">  * Weak to No positive relationship with vote counts and runtime\n",
    ">  * Moderate to Weak positiverelationship with vote counts and budget_adj\n",
    ">  * Strong to Moderate positive correlation with vote counts and release_month"
   ]
  },
  {
   "cell_type": "code",
   "execution_count": 195,
   "metadata": {},
   "outputs": [
    {
     "name": "stdout",
     "output_type": "stream",
     "text": [
      "vote counts and runtime 0.2831731290856433\n",
      "vote counts and budget_adj 0.4946701719635949\n",
      "vote counts and month released 0.6013983137510127\n"
     ]
    }
   ],
   "source": [
    "print(\"vote counts and runtime\", vc_runtime)\n",
    "print(\"vote counts and budget_adj\", vc_budget_adj)\n",
    "print(\"vote counts and month released\",vc_release_month)"
   ]
  },
  {
   "cell_type": "markdown",
   "metadata": {},
   "source": [
    "### 3. Review vote_average against, runtime, budget_adj and release_month\n",
    "#### Do longer movies have a higher vote average?\n",
    "I'm using a scatterplot to determine if there is a relationship between the variables being tested. "
   ]
  },
  {
   "cell_type": "code",
   "execution_count": 212,
   "metadata": {},
   "outputs": [
    {
     "data": {
      "text/plain": [
       "<matplotlib.collections.PathCollection at 0x18d19090128>"
      ]
     },
     "execution_count": 212,
     "metadata": {},
     "output_type": "execute_result"
    },
    {
     "data": {
      "image/png": "[encoded data removed]",
      "text/plain": [
       "<Figure size 432x288 with 1 Axes>"
      ]
     },
     "metadata": {
      "needs_background": "light"
     },
     "output_type": "display_data"
    }
   ],
   "source": [
    "# Load Data\n",
    "y = imdb_xydf['vote_average']\n",
    "x = imdb_xydf['runtime']\n",
    "\n",
    "# Create Plot\n",
    "plt.xlabel('run_time')\n",
    "plt.ylabel('vote_average')\n",
    "plt.title('Do longer movies get better vote average?')\n",
    "plt.scatter(x,y)\n"
   ]
  },
  {
   "cell_type": "markdown",
   "metadata": {},
   "source": [
    "#### R Score\n",
    "I have created an r score to compliment the scatter plot and help interpret the strenght or weakeness of the relationships tested."
   ]
  },
  {
   "cell_type": "code",
   "execution_count": 213,
   "metadata": {},
   "outputs": [
    {
     "name": "stdout",
     "output_type": "stream",
     "text": [
      "0.37555123485275116\n"
     ]
    }
   ],
   "source": [
    "va_runtime = correlation(x, y)\n",
    "print(va_runtime)"
   ]
  },
  {
   "cell_type": "markdown",
   "metadata": {},
   "source": [
    "#### Do Bigger budget movies have higher vote averages?\n",
    "I'm using a scatterplot to determine if there is a relationship between the variables being tested. "
   ]
  },
  {
   "cell_type": "code",
   "execution_count": 214,
   "metadata": {},
   "outputs": [
    {
     "data": {
      "text/plain": [
       "<matplotlib.collections.PathCollection at 0x18d1904a898>"
      ]
     },
     "execution_count": 214,
     "metadata": {},
     "output_type": "execute_result"
    },
    {
     "data": {
      "image/png": "[encoded data removed]",
      "text/plain": [
       "<Figure size 432x288 with 1 Axes>"
      ]
     },
     "metadata": {
      "needs_background": "light"
     },
     "output_type": "display_data"
    }
   ],
   "source": [
    "# Load data\n",
    "x = imdb_xydf['budget_adj']\n",
    "\n",
    "# Create Plot\n",
    "plt.xlabel('budget_adj')\n",
    "plt.ylabel('vote_average')\n",
    "plt.title('Do Bigger budget movies get more votes?')\n",
    "plt.scatter(x,y)"
   ]
  },
  {
   "cell_type": "markdown",
   "metadata": {},
   "source": [
    "#### R Score\n",
    "I have created an r score to compliment the scatter plot and help interpret the strenght or weakeness of the relationships tested."
   ]
  },
  {
   "cell_type": "code",
   "execution_count": 215,
   "metadata": {},
   "outputs": [
    {
     "name": "stdout",
     "output_type": "stream",
     "text": [
      "0.02994929961046079\n"
     ]
    }
   ],
   "source": [
    "va_budget_adj = correlation(x, y)\n",
    "print(correlation(x, y))"
   ]
  },
  {
   "cell_type": "markdown",
   "metadata": {},
   "source": [
    "#### Does release date help vote averages?\n",
    "I'm using a line chart to determine if there is a relationship between the variables being tested. "
   ]
  },
  {
   "cell_type": "code",
   "execution_count": 216,
   "metadata": {},
   "outputs": [
    {
     "data": {
      "text/plain": [
       "[<matplotlib.lines.Line2D at 0x18d19137550>]"
      ]
     },
     "execution_count": 216,
     "metadata": {},
     "output_type": "execute_result"
    },
    {
     "data": {
      "image/png": "[encoded data removed]",
      "text/plain": [
       "<Figure size 432x288 with 1 Axes>"
      ]
     },
     "metadata": {
      "needs_background": "light"
     },
     "output_type": "display_data"
    }
   ],
   "source": [
    "# Load Data\n",
    "x = sum_by_month['release_month']\n",
    "y = sum_by_month['vote_average']\n",
    "\n",
    "# Create Plot\n",
    "plt.xlabel('release_month')\n",
    "plt.ylabel ('vote_average')\n",
    "plt.title('Does release date help vote averages?')\n",
    "plt.plot(x,y)"
   ]
  },
  {
   "cell_type": "markdown",
   "metadata": {},
   "source": [
    "#### R Score\n",
    "I have created an r score to compliment the scatter plot and help interpret the strenght or weakeness of the relationships tested."
   ]
  },
  {
   "cell_type": "code",
   "execution_count": 217,
   "metadata": {},
   "outputs": [
    {
     "name": "stdout",
     "output_type": "stream",
     "text": [
      "0.803939299883304\n"
     ]
    }
   ],
   "source": [
    "va_release_month = correlation(x, y)\n",
    "print(va_release_month)"
   ]
  },
  {
   "cell_type": "markdown",
   "metadata": {},
   "source": [
    "> #### Vote Averages Observations\n",
    "> Vote counts is how many times people have voted on a movie.\n",
    "Correlation of vote_count and release_date with an R score of .60 is worth investigating.\n",
    "\n",
    "\n",
    ">  * Weak to No positive relationship with vote averages and runtime\n",
    ">  * No relationship with vote averages and budget_adj\n",
    ">  * Strong to Perfect positive correlation with vote averages and release_month"
   ]
  },
  {
   "cell_type": "code",
   "execution_count": 218,
   "metadata": {},
   "outputs": [
    {
     "name": "stdout",
     "output_type": "stream",
     "text": [
      "vote averages and runtime 0.37555123485275116\n",
      "vote averages and budget_adj 0.02994929961046079\n",
      "vote averages and month released 0.803939299883304\n"
     ]
    }
   ],
   "source": [
    "print(\"vote averages and runtime\", va_runtime)\n",
    "print(\"vote averages and budget_adj\", va_budget_adj)\n",
    "print(\"vote averages and month released\",va_release_month)"
   ]
  },
  {
   "cell_type": "markdown",
   "metadata": {},
   "source": [
    "### 4. Review rb_ratio against, runtime, budget_adj and release_month\n",
    "#### Do longer movies net more profit?\n",
    "I'm using a scatterplot to determine if there is a relationship between the variables being tested. "
   ]
  },
  {
   "cell_type": "code",
   "execution_count": 219,
   "metadata": {},
   "outputs": [
    {
     "data": {
      "text/plain": [
       "<matplotlib.collections.PathCollection at 0x18d191827f0>"
      ]
     },
     "execution_count": 219,
     "metadata": {},
     "output_type": "execute_result"
    },
    {
     "data": {
      "image/png": "[encoded data removed]",
      "text/plain": [
       "<Figure size 432x288 with 1 Axes>"
      ]
     },
     "metadata": {
      "needs_background": "light"
     },
     "output_type": "display_data"
    }
   ],
   "source": [
    "# Load Data\n",
    "x = imdb_xydf['runtime']\n",
    "y = imdb_xydf['rb_ratio']\n",
    "\n",
    "# Create Plot\n",
    "plt.xlabel('run_time')\n",
    "plt.ylabel('rb_ratio')\n",
    "plt.title('Do longer movies net more profit?')\n",
    "plt.scatter(x,y)"
   ]
  },
  {
   "cell_type": "markdown",
   "metadata": {},
   "source": [
    "#### R Score\n",
    "I have created an r score to compliment the scatter plot and help interpret the strenght or weakeness of the relationships tested."
   ]
  },
  {
   "cell_type": "code",
   "execution_count": 220,
   "metadata": {},
   "outputs": [
    {
     "name": "stdout",
     "output_type": "stream",
     "text": [
      "-0.042847692146863736\n"
     ]
    }
   ],
   "source": [
    "rb_runtime = correlation(x, y)\n",
    "print(rb_runtime)"
   ]
  },
  {
   "cell_type": "markdown",
   "metadata": {},
   "source": [
    "#### Do more profitable movies get more votes?\n",
    "I'm using a scatterplot to determine if there is a relationship between the variables being tested. "
   ]
  },
  {
   "cell_type": "code",
   "execution_count": 221,
   "metadata": {},
   "outputs": [
    {
     "data": {
      "text/plain": [
       "<matplotlib.collections.PathCollection at 0x18d19196630>"
      ]
     },
     "execution_count": 221,
     "metadata": {},
     "output_type": "execute_result"
    },
    {
     "data": {
      "image/png": "[encoded data removed]",
      "text/plain": [
       "<Figure size 432x288 with 1 Axes>"
      ]
     },
     "metadata": {
      "needs_background": "light"
     },
     "output_type": "display_data"
    }
   ],
   "source": [
    "# Load Data\n",
    "x = imdb_xydf['budget_adj']\n",
    "\n",
    "# Create Plot\n",
    "plt.xlabel('budget_adj')\n",
    "plt.ylabel('rb_ratio')\n",
    "plt.title('Do Bigger budget movies get more votes?')\n",
    "plt.scatter(x,y)"
   ]
  },
  {
   "cell_type": "markdown",
   "metadata": {},
   "source": [
    "#### R Score\n",
    "I have created an r score to compliment the scatter plot and help interpret the strenght or weakeness of the relationships tested."
   ]
  },
  {
   "cell_type": "code",
   "execution_count": 222,
   "metadata": {},
   "outputs": [
    {
     "name": "stdout",
     "output_type": "stream",
     "text": [
      "-0.10186377644837269\n"
     ]
    }
   ],
   "source": [
    "rb_budget_adj = correlation(x, y)\n",
    "print(rb_budget_adj)"
   ]
  },
  {
   "cell_type": "markdown",
   "metadata": {},
   "source": [
    "#### Does release date help with profit\n",
    "I'm using a line chart to determine if there is a relationship between the variables being tested. "
   ]
  },
  {
   "cell_type": "code",
   "execution_count": 223,
   "metadata": {},
   "outputs": [
    {
     "data": {
      "text/plain": [
       "[<matplotlib.lines.Line2D at 0x18d19250898>]"
      ]
     },
     "execution_count": 223,
     "metadata": {},
     "output_type": "execute_result"
    },
    {
     "data": {
      "image/png": "[encoded data removed]",
      "text/plain": [
       "<Figure size 432x288 with 1 Axes>"
      ]
     },
     "metadata": {
      "needs_background": "light"
     },
     "output_type": "display_data"
    }
   ],
   "source": [
    "# Load Data\n",
    "x = sum_by_month['release_month']\n",
    "y = sum_by_month['rb_ratio']\n",
    "\n",
    "# Create Plot\n",
    "plt.xlabel('release_month')\n",
    "plt.ylabel ('rb_ratio')\n",
    "plt.title('Does release date help vote averages?')\n",
    "plt.plot(x,y)\n",
    "\n",
    "\n"
   ]
  },
  {
   "cell_type": "markdown",
   "metadata": {},
   "source": [
    "#### R Score\n",
    "I have created an r score to compliment the scatter plot and help interpret the strenght or weakeness of the relationships tested."
   ]
  },
  {
   "cell_type": "code",
   "execution_count": 224,
   "metadata": {},
   "outputs": [
    {
     "name": "stdout",
     "output_type": "stream",
     "text": [
      "0.5857341759708116\n"
     ]
    }
   ],
   "source": [
    "rb_release_month = (correlation(x, y))\n",
    "print(rb_release_month)"
   ]
  },
  {
   "cell_type": "markdown",
   "metadata": {},
   "source": [
    "> #### rb_ratio (revenue to budget) Observations\n",
    ">  * Moderate to Weak Correlation between profit and runtime\n",
    ">  * No correlation between profit and budget_adj\n",
    ">  * Moderate to Strong positive correlation with profit and release month release month. "
   ]
  },
  {
   "cell_type": "code",
   "execution_count": 225,
   "metadata": {},
   "outputs": [
    {
     "name": "stdout",
     "output_type": "stream",
     "text": [
      "revenue to budget and runtime -0.042847692146863736\n",
      "revenue to budget and budget_adj -0.10186377644837269\n",
      "revenue to budget and month released 0.5857341759708116\n"
     ]
    }
   ],
   "source": [
    "print(\"revenue to budget and runtime\", rb_runtime)\n",
    "print(\"revenue to budget and budget_adj\", rb_budget_adj)\n",
    "print(\"revenue to budget and month released\",rb_release_month)"
   ]
  },
  {
   "cell_type": "markdown",
   "metadata": {},
   "source": [
    "### REVIEW of Correlations by Dependent variables\n",
    "printing out each of the correlations and grouped by the category of dependent variable for a different look at the same data. "
   ]
  },
  {
   "cell_type": "code",
   "execution_count": 226,
   "metadata": {},
   "outputs": [
    {
     "name": "stdout",
     "output_type": "stream",
     "text": [
      "RUNTIME\n",
      "popularity and runtime 0.24094274969777796\n",
      "vote counts and runtime 0.2831731290856433\n",
      "vote averages and runtime 0.37555123485275116\n",
      "revenue to budget and runtime -0.042847692146863736\n",
      "\n",
      "BUDGET_ADJ\n",
      "popularity and budget_adj 0.4271092614196272\n",
      "vote counts and budget_adj 0.4946701719635949\n",
      "vote averages and budget_adj 0.02994929961046079\n",
      "revenue to budget and budget_adj -0.10186377644837269\n",
      "\n",
      "MONTH RELEASED\n",
      "popularity and month released 0.8323988707767832\n",
      "vote counts and month released 0.6013983137510127\n",
      "vote averages and month released 0.803939299883304\n",
      "revenue to budget and month released 0.5857341759708116\n",
      "\n"
     ]
    }
   ],
   "source": [
    "print(\"RUNTIME\")\n",
    "print(\"popularity and runtime\", pop_runtime)\n",
    "print(\"vote counts and runtime\", vc_runtime)\n",
    "print(\"vote averages and runtime\", va_runtime)\n",
    "print(\"revenue to budget and runtime\", rb_runtime)\n",
    "print(\"\")\n",
    "\n",
    "print(\"BUDGET_ADJ\")\n",
    "print(\"popularity and budget_adj\", pop_budget_adj)\n",
    "print(\"vote counts and budget_adj\", vc_budget_adj)\n",
    "print(\"vote averages and budget_adj\", va_budget_adj)\n",
    "print(\"revenue to budget and budget_adj\", rb_budget_adj)\n",
    "print(\"\")\n",
    "\n",
    "print(\"MONTH RELEASED\")\n",
    "print(\"popularity and month released\",pop_release_month)\n",
    "print(\"vote counts and month released\",vc_release_month)\n",
    "print(\"vote averages and month released\",va_release_month)\n",
    "print(\"revenue to budget and month released\",rb_release_month)\n",
    "print(\"\")"
   ]
  },
  {
   "cell_type": "markdown",
   "metadata": {},
   "source": [
    "### Limitations\n",
    "* There were No indicators as to media types. IE cannot determine if all data represents movies or if TV shows, video games etc. are included.\n",
    "\n",
    "* I found data that is inaccurate in the database. One example the movie, \"The Warriors way\" cost 425million to make after a google search I found it was only 40 million to make. No clear way on validating accuracy of all data.\n",
    "\n",
    "* Based on time I did not have the ability to split out more data and store to review the influences like Actors and directors. They are seperated with \"|\" and I would like to store them in a different dataframe to review how directors and actors affect success of a movie. \n",
    "\n",
    "### Conclusions\n",
    "I loaded IMDB data provided. I decided to review all fields and focus on measures from the data set that might influence a movies success. \n",
    "First I had to define from the variables what would be a measure of success. I chose. \n",
    "* DEPENDENT VARIABLES\n",
    "    * poularity\n",
    "    * vote_count\n",
    "    * vote_average\n",
    "    * revenue to budget ratio\n",
    "I then reviewed other variables to find feasible ones for a quick analyis to see if there might be relationship between the new variables and the increased chance of success for a movie. \n",
    "* INDEPENDENT VARIABLES\n",
    "    * runtime\n",
    "    * budget_adj\n",
    "    * release_date(optional)\n",
    "The dataset includes more than movies, so I removed any media that was less than 75min and longer than 210. Plus had revenue of more than 0 and cost more than 50k to make in order to try and increase chances that the media reviewed was movies that had been released. \n",
    "#### Assumption \n",
    "* movies that made 0 in revenue have not been released\n",
    "* movies that cost less than 50k and more than 379k would remove inaccurate data. Google search showed biggest budget for a movie was 379 so anything over that would be inaccurate. 50k was the cost of a low budget film Blair witch. And while other films like Primer only cost 7k to make there were to many movies that would create noise in the data under 50k\n",
    "* movies are evenly distributed throughout the year. (this may be a next step for normalizing data)\n",
    "\n",
    "#### Observervations\n",
    " After cleaning the data I reviewed scatter plots and correlation scoring to determine the strength of influence between Variable\"A\" and Variable\"B\".\n",
    "\n",
    "Based on the I have concluded.\n",
    "Runtime and Budget_adj have weak correlated relationships to the success of a movie. \n",
    "Month Released has Moderate to Strong correlations across all categories.\n",
    "\n",
    "When a movie is release has a strong relationship to the success of a movie; How many people will visit its web page, vote on the movie, the average score of the vote and the and the overall profit. If I were to release a movie I would do so in June or December. \n",
    "\n",
    "I do suspect that further analyis is needed though which I have outlined in Next Steps.\n",
    "\n",
    ">Next Steps\n",
    "1. Count all movies by month and normalize the distribution of counts.\n",
    "2. Re-run Month released analyis on standardized month_release data. \n",
    "3. Add director and actor tests to independent variables to review correlations with independent variables.\n",
    "4. Test process with only current 5 years of movies"
   ]
  }
 ],
 "metadata": {
  "kernelspec": {
   "display_name": "Python 3",
   "language": "python",
   "name": "python3"
  },
  "language_info": {
   "codemirror_mode": {
    "name": "ipython",
    "version": 3
   },
   "file_extension": ".py",
   "mimetype": "text/x-python",
   "name": "python",
   "nbconvert_exporter": "python",
   "pygments_lexer": "ipython3",
   "version": "3.7.3"
  }
 },
 "nbformat": 4,
 "nbformat_minor": 2
}
