{
 "cells": [
  {
   "cell_type": "markdown",
   "id": "09c927c8",
   "metadata": {},
   "source": [
    "What is an API?\n",
    "- Application Programming Interface\n",
    "- Structured way to expose specific functionality and data access to users\n",
    "- Web APIs usually follow the \"REST\" standard\n",
    "\n",
    "Where to get started?\n",
    "- Set time aside, these are not all plug and play.\n",
    "- Many sites offer free api connects if you first signup to the site\n",
    "- This can also be helpful with large companies that use services like Microsoft, Amazon, Google or other cloud solutions. \n",
    "\n",
    "- Documentation, searching for code examples and just setting time aside to understand the data you are getting  and how to parse through it is key. API data request can end up giving you data in many different formats with different parsing rules. \n",
    "\n",
    "How to interact with a REST API:\n",
    "- Make a \"request\" to a specific URL (an \"endpoint\"), and get the data back in a \"response\"\n",
    "- Most relevant request method for us is GET (other methods: POST, PUT, DELETE)\n",
    "- Response is often JSON format\n",
    "- Web console is sometimes available (allows you to explore an API)\n",
    "- Most APIs require you to have an access key (which you should store outside your code)\n",
    "- Most APIs limit the number of API calls you can make (per day, hour, minute, etc.)\n",
    "- Not all APIs are free\n",
    "- Not all APIs are well-documented\n",
    "- Pay attention to the API version\n",
    "\n",
    "Python wrapper is another option for accessing an API:\n",
    "- Set of functions that \"wrap\" the API code for ease of use\n",
    "- Potentially simplifies your code\n",
    "- But, wrapper could have bugs or be out-of-date or poorly documented\n",
    "'''\n",
    "\n"
   ]
  },
  {
   "cell_type": "markdown",
   "id": "af549ee2",
   "metadata": {},
   "source": [
    "Public Api list\n",
    "https://github.com/public-apis/public-apis"
   ]
  },
  {
   "cell_type": "markdown",
   "id": "012d6ea2",
   "metadata": {},
   "source": [
    "Lets start with a connection to some stocks data\n",
    "This link is where you can set up and get an api key\n",
    "https://www.alphavantage.co/support/#api-key\n"
   ]
  },
  {
   "cell_type": "code",
   "execution_count": 1,
   "id": "7eb9609e",
   "metadata": {},
   "outputs": [],
   "source": [
    "import requests\n",
    "import json\n",
    "import pandas as pd"
   ]
  },
  {
   "cell_type": "code",
   "execution_count": 2,
   "id": "8bce7448",
   "metadata": {},
   "outputs": [
    {
     "name": "stdout",
     "output_type": "stream",
     "text": [
      "                                                             Meta Data  \\\n",
      "1. Information       Intraday (5min) open, high, low, close prices ...   \n",
      "2. Symbol                                                          IBM   \n",
      "3. Last Refreshed                                  2024-01-05 19:55:00   \n",
      "4. Interval                                                       5min   \n",
      "5. Output Size                                                 Compact   \n",
      "...                                                                ...   \n",
      "2024-01-05 10:45:00                                                NaN   \n",
      "2024-01-05 10:40:00                                                NaN   \n",
      "2024-01-05 10:35:00                                                NaN   \n",
      "2024-01-05 10:30:00                                                NaN   \n",
      "2024-01-05 10:25:00                                                NaN   \n",
      "\n",
      "                                                    Time Series (5min)  \n",
      "1. Information                                                     NaN  \n",
      "2. Symbol                                                          NaN  \n",
      "3. Last Refreshed                                                  NaN  \n",
      "4. Interval                                                        NaN  \n",
      "5. Output Size                                                     NaN  \n",
      "...                                                                ...  \n",
      "2024-01-05 10:45:00  {'1. open': '160.3450', '2. high': '160.4500',...  \n",
      "2024-01-05 10:40:00  {'1. open': '160.2000', '2. high': '160.3600',...  \n",
      "2024-01-05 10:35:00  {'1. open': '160.5400', '2. high': '160.5500',...  \n",
      "2024-01-05 10:30:00  {'1. open': '160.3750', '2. high': '160.5350',...  \n",
      "2024-01-05 10:25:00  {'1. open': '160.4400', '2. high': '160.4400',...  \n",
      "\n",
      "[106 rows x 2 columns]\n"
     ]
    }
   ],
   "source": [
    "\n",
    "# replace the \"demo\" apikey below with your own key from https://www.alphavantage.co/support/#api-key\n",
    "url = 'https://www.alphavantage.co/query?function=TIME_SERIES_INTRADAY&symbol=IBM&interval=5min&apikey=CLBW4A2DP4598PHT'\n",
    "r = requests.get(url)\n",
    "data = r.json()\n",
    "df = pd.DataFrame(data)\n",
    "print(df)"
   ]
  },
  {
   "cell_type": "code",
   "execution_count": 3,
   "id": "491b1c8c",
   "metadata": {},
   "outputs": [
    {
     "data": {
      "text/html": [
       "<div>\n",
       "<style scoped>\n",
       "    .dataframe tbody tr th:only-of-type {\n",
       "        vertical-align: middle;\n",
       "    }\n",
       "\n",
       "    .dataframe tbody tr th {\n",
       "        vertical-align: top;\n",
       "    }\n",
       "\n",
       "    .dataframe thead th {\n",
       "        text-align: right;\n",
       "    }\n",
       "</style>\n",
       "<table border=\"1\" class=\"dataframe\">\n",
       "  <thead>\n",
       "    <tr style=\"text-align: right;\">\n",
       "      <th></th>\n",
       "      <th>Meta Data</th>\n",
       "      <th>Time Series (5min)</th>\n",
       "    </tr>\n",
       "  </thead>\n",
       "  <tbody>\n",
       "    <tr>\n",
       "      <th>1. Information</th>\n",
       "      <td>Intraday (5min) open, high, low, close prices ...</td>\n",
       "      <td>NaN</td>\n",
       "    </tr>\n",
       "    <tr>\n",
       "      <th>2. Symbol</th>\n",
       "      <td>IBM</td>\n",
       "      <td>NaN</td>\n",
       "    </tr>\n",
       "    <tr>\n",
       "      <th>3. Last Refreshed</th>\n",
       "      <td>2024-01-05 19:55:00</td>\n",
       "      <td>NaN</td>\n",
       "    </tr>\n",
       "    <tr>\n",
       "      <th>4. Interval</th>\n",
       "      <td>5min</td>\n",
       "      <td>NaN</td>\n",
       "    </tr>\n",
       "    <tr>\n",
       "      <th>5. Output Size</th>\n",
       "      <td>Compact</td>\n",
       "      <td>NaN</td>\n",
       "    </tr>\n",
       "  </tbody>\n",
       "</table>\n",
       "</div>"
      ],
      "text/plain": [
       "                                                           Meta Data  \\\n",
       "1. Information     Intraday (5min) open, high, low, close prices ...   \n",
       "2. Symbol                                                        IBM   \n",
       "3. Last Refreshed                                2024-01-05 19:55:00   \n",
       "4. Interval                                                     5min   \n",
       "5. Output Size                                               Compact   \n",
       "\n",
       "                  Time Series (5min)  \n",
       "1. Information                   NaN  \n",
       "2. Symbol                        NaN  \n",
       "3. Last Refreshed                NaN  \n",
       "4. Interval                      NaN  \n",
       "5. Output Size                   NaN  "
      ]
     },
     "execution_count": 3,
     "metadata": {},
     "output_type": "execute_result"
    }
   ],
   "source": [
    "df.head()"
   ]
  },
  {
   "cell_type": "code",
   "execution_count": 4,
   "id": "758d9311",
   "metadata": {},
   "outputs": [
    {
     "data": {
      "text/plain": [
       "Index(['Meta Data', 'Time Series (5min)'], dtype='object')"
      ]
     },
     "execution_count": 4,
     "metadata": {},
     "output_type": "execute_result"
    }
   ],
   "source": [
    "df.columns"
   ]
  },
  {
   "cell_type": "markdown",
   "id": "fb8a362a",
   "metadata": {},
   "source": [
    "now that you have the stocks api set up you can begin reviewing documentation and expeirmenting\n",
    "Lets look at another api the omdb open movie database"
   ]
  },
  {
   "cell_type": "code",
   "execution_count": 5,
   "id": "d54e304d",
   "metadata": {},
   "outputs": [],
   "source": [
    "import requests\n",
    "key =''\n",
    "url ='http://www.omdbapi.com/?t=Fellowship+of+the+ring&apikey=8392c9fa'\n",
    "\n",
    "r = requests.get(url, key)"
   ]
  },
  {
   "cell_type": "markdown",
   "id": "218cabc1",
   "metadata": {},
   "source": [
    "Are we connected?"
   ]
  },
  {
   "cell_type": "code",
   "execution_count": 6,
   "id": "5dd88611",
   "metadata": {},
   "outputs": [
    {
     "data": {
      "text/plain": [
       "200"
      ]
     },
     "execution_count": 6,
     "metadata": {},
     "output_type": "execute_result"
    }
   ],
   "source": [
    "r.status_code"
   ]
  },
  {
   "cell_type": "code",
   "execution_count": 7,
   "id": "74387991",
   "metadata": {},
   "outputs": [
    {
     "data": {
      "text/plain": [
       "'{\"Title\":\"The Lord of the Rings: The Fellowship of the Ring\",\"Year\":\"2001\",\"Rated\":\"PG-13\",\"Released\":\"19 Dec 2001\",\"Runtime\":\"178 min\",\"Genre\":\"Action, Adventure, Drama\",\"Director\":\"Peter Jackson\",\"Writer\":\"J.R.R. Tolkien, Fran Walsh, Philippa Boyens\",\"Actors\":\"Elijah Wood, Ian McKellen, Orlando Bloom\",\"Plot\":\"A meek Hobbit from the Shire and eight companions set out on a journey to destroy the powerful One Ring and save Middle-earth from the Dark Lord Sauron.\",\"Language\":\"English, Sindarin\",\"Country\":\"New Zealand, United States\",\"Awards\":\"Won 4 Oscars. 125 wins & 127 nominations total\",\"Poster\":\"https://m.media-amazon.com/images/M/MV5BN2EyZjM3NzUtNWUzMi00MTgxLWI0NTctMzY4M2VlOTdjZWRiXkEyXkFqcGdeQXVyNDUzOTQ5MjY@._V1_SX300.jpg\",\"Ratings\":[{\"Source\":\"Internet Movie Database\",\"Value\":\"8.9/10\"},{\"Source\":\"Rotten Tomatoes\",\"Value\":\"91%\"},{\"Source\":\"Metacritic\",\"Value\":\"92/100\"}],\"Metascore\":\"92\",\"imdbRating\":\"8.9\",\"imdbVotes\":\"1,973,498\",\"imdbID\":\"tt0120737\",\"Type\":\"movie\",\"DVD\":\"28 Jun 2011\",\"BoxOffice\":\"$316,115,420\",\"Production\":\"N/A\",\"Website\":\"N/A\",\"Response\":\"True\"}'"
      ]
     },
     "execution_count": 7,
     "metadata": {},
     "output_type": "execute_result"
    }
   ],
   "source": [
    "#you can manually parse data or find the right libarary and function that has done the code for you\n",
    "r.json()\n",
    "# view the raw response text\n",
    "r.text"
   ]
  },
  {
   "cell_type": "code",
   "execution_count": 8,
   "id": "82518946",
   "metadata": {},
   "outputs": [
    {
     "data": {
      "text/plain": [
       "{'Date': 'Mon, 08 Jan 2024 22:01:48 GMT', 'Content-Type': 'application/json; charset=utf-8', 'Transfer-Encoding': 'chunked', 'Connection': 'keep-alive', 'Cache-Control': 'public, max-age=86400', 'Expires': 'Mon, 08 Jan 2024 23:01:48 GMT', 'Last-Modified': 'Mon, 08 Jan 2024 22:01:48 GMT', 'Vary': '*, Accept-Encoding', 'X-AspNet-Version': '4.0.30319', 'X-Powered-By': 'ASP.NET', 'Access-Control-Allow-Origin': '*', 'CF-Cache-Status': 'MISS', 'Server': 'cloudflare', 'CF-RAY': '8427b89aad06307e-SEA', 'Content-Encoding': 'gzip'}"
      ]
     },
     "execution_count": 8,
     "metadata": {},
     "output_type": "execute_result"
    }
   ],
   "source": [
    "r.headers"
   ]
  },
  {
   "cell_type": "code",
   "execution_count": 9,
   "id": "6af8a099",
   "metadata": {},
   "outputs": [
    {
     "data": {
      "text/plain": [
       "{'Title': 'The Lord of the Rings: The Fellowship of the Ring',\n",
       " 'Year': '2001',\n",
       " 'Rated': 'PG-13',\n",
       " 'Released': '19 Dec 2001',\n",
       " 'Runtime': '178 min',\n",
       " 'Genre': 'Action, Adventure, Drama',\n",
       " 'Director': 'Peter Jackson',\n",
       " 'Writer': 'J.R.R. Tolkien, Fran Walsh, Philippa Boyens',\n",
       " 'Actors': 'Elijah Wood, Ian McKellen, Orlando Bloom',\n",
       " 'Plot': 'A meek Hobbit from the Shire and eight companions set out on a journey to destroy the powerful One Ring and save Middle-earth from the Dark Lord Sauron.',\n",
       " 'Language': 'English, Sindarin',\n",
       " 'Country': 'New Zealand, United States',\n",
       " 'Awards': 'Won 4 Oscars. 125 wins & 127 nominations total',\n",
       " 'Poster': 'https://m.media-amazon.com/images/M/MV5BN2EyZjM3NzUtNWUzMi00MTgxLWI0NTctMzY4M2VlOTdjZWRiXkEyXkFqcGdeQXVyNDUzOTQ5MjY@._V1_SX300.jpg',\n",
       " 'Ratings': [{'Source': 'Internet Movie Database', 'Value': '8.9/10'},\n",
       "  {'Source': 'Rotten Tomatoes', 'Value': '91%'},\n",
       "  {'Source': 'Metacritic', 'Value': '92/100'}],\n",
       " 'Metascore': '92',\n",
       " 'imdbRating': '8.9',\n",
       " 'imdbVotes': '1,973,498',\n",
       " 'imdbID': 'tt0120737',\n",
       " 'Type': 'movie',\n",
       " 'DVD': '28 Jun 2011',\n",
       " 'BoxOffice': '$316,115,420',\n",
       " 'Production': 'N/A',\n",
       " 'Website': 'N/A',\n",
       " 'Response': 'True'}"
      ]
     },
     "execution_count": 9,
     "metadata": {},
     "output_type": "execute_result"
    }
   ],
   "source": [
    "# decode the JSON response body into a dictionary\n",
    "resp_json = r.json()\n",
    "resp_json"
   ]
  },
  {
   "cell_type": "code",
   "execution_count": 10,
   "id": "6f36ca69",
   "metadata": {},
   "outputs": [],
   "source": [
    "resp_json = r.json()"
   ]
  },
  {
   "cell_type": "code",
   "execution_count": 11,
   "id": "9e648635",
   "metadata": {},
   "outputs": [
    {
     "data": {
      "text/plain": [
       "'2001'"
      ]
     },
     "execution_count": 11,
     "metadata": {},
     "output_type": "execute_result"
    }
   ],
   "source": [
    "r.json()['Year']"
   ]
  },
  {
   "cell_type": "code",
   "execution_count": 12,
   "id": "bcc935f7",
   "metadata": {},
   "outputs": [
    {
     "data": {
      "text/plain": [
       "401"
      ]
     },
     "execution_count": 12,
     "metadata": {},
     "output_type": "execute_result"
    }
   ],
   "source": [
    "# what happens if the movie name is not recognized?\n",
    "r = requests.get('http://www.omdbapi.com/?t=blahblahblah&r=json&type=movie')\n",
    "r.status_code"
   ]
  },
  {
   "cell_type": "code",
   "execution_count": 13,
   "id": "aed652f6",
   "metadata": {},
   "outputs": [],
   "source": [
    "# bonus lets review and turn all of this into a function"
   ]
  },
  {
   "cell_type": "code",
   "execution_count": 14,
   "id": "bf9827b3",
   "metadata": {},
   "outputs": [],
   "source": [
    "# define a function to return the year\n",
    "def get_movie_year(title):\n",
    "    r = requests.get('http://www.omdbapi.com/?t=' + title + '&r=json&type=movie'+ '&apikey=8392c9fa')\n",
    "    info = r.json()\n",
    "    if info['Response'] == 'True':\n",
    "        return int(info['Year'])\n",
    "    else:\n",
    "        return \"error\""
   ]
  },
  {
   "cell_type": "code",
   "execution_count": 15,
   "id": "f0d8dcd3",
   "metadata": {},
   "outputs": [],
   "source": [
    "import pandas as pd\n",
    "response_df = pd.DataFrame.from_dict(r.json(), orient = \"index\")\n",
    "#movies_df = pd.DataFrame(foo)"
   ]
  },
  {
   "cell_type": "code",
   "execution_count": 16,
   "id": "e1c8fea3",
   "metadata": {},
   "outputs": [
    {
     "data": {
      "text/plain": [
       "2002"
      ]
     },
     "execution_count": 16,
     "metadata": {},
     "output_type": "execute_result"
    }
   ],
   "source": [
    "# test the function\n",
    "get_movie_year('The Two Towers')"
   ]
  },
  {
   "cell_type": "code",
   "execution_count": 17,
   "id": "2f2e2825",
   "metadata": {},
   "outputs": [
    {
     "data": {
      "text/plain": [
       "'error'"
      ]
     },
     "execution_count": 17,
     "metadata": {},
     "output_type": "execute_result"
    }
   ],
   "source": [
    "# test error\n",
    "get_movie_year('blahblahblah')"
   ]
  },
  {
   "cell_type": "markdown",
   "id": "54ad5a41",
   "metadata": {},
   "source": [
    "### Practice API calls\n",
    "you can use this list Public Api list https://github.com/public-apis/public-apis to explore or google or better yet\n",
    "    what are some of your favorite websites and what is there api documenation. I began to prepare an example of a boardgamegeek.com api example\n",
    "    however they use xml and in order to get into any examples it could have derailed just showing how api works. \n",
    "    Keep in mind you will want to set time aside to read documentation, experiement, become familiar and then begin building your process of collecting data."
   ]
  },
  {
   "cell_type": "code",
   "execution_count": 18,
   "id": "a6ab3488",
   "metadata": {},
   "outputs": [],
   "source": [
    "# you can use the exercises template below to look at other API's and get curious. "
   ]
  },
  {
   "cell_type": "code",
   "execution_count": 19,
   "id": "b2e03a8a",
   "metadata": {},
   "outputs": [],
   "source": [
    "# Try on your own\n",
    "# Link to the Census Bureau language stats API description page\n",
    "\n",
    "# Look through the API description links and examples to see what use you have avaialble\n",
    "\n",
    "# Use the requests library to interact with a URL\n",
    "\n",
    "import requests\n",
    "# Use a URL example in a browser to see the result returned and the use request to access with python\n",
    "# http://api.census.gov/data/2013/language?get=EST,LANLABEL,NAME&for=state:06&LAN=625\n",
    "r = requests.get('http://api.census.gov/data/2013/language?get=EST,LANLABEL,NAME&for=state:06&LAN=625')"
   ]
  },
  {
   "cell_type": "code",
   "execution_count": 20,
   "id": "460e36a2",
   "metadata": {},
   "outputs": [],
   "source": [
    "# modify the request to get languges 625 through 650 so we can see a larger sample of what is returned from the request\n",
    "# Hint the syntax for more than one language number is similar to one we use for multiple elements in a list"
   ]
  },
  {
   "cell_type": "code",
   "execution_count": 21,
   "id": "fd2a2842",
   "metadata": {},
   "outputs": [],
   "source": [
    "# check the status: 200 means success, 4xx means error\n"
   ]
  },
  {
   "cell_type": "code",
   "execution_count": 22,
   "id": "00073700",
   "metadata": {},
   "outputs": [],
   "source": [
    "# view the raw response text"
   ]
  },
  {
   "cell_type": "code",
   "execution_count": 23,
   "id": "ac701c05",
   "metadata": {},
   "outputs": [],
   "source": [
    "# Convert to json()"
   ]
  },
  {
   "cell_type": "code",
   "execution_count": 24,
   "id": "71953de2",
   "metadata": {},
   "outputs": [],
   "source": [
    "#look at the contents of the output of the json() method.  It looks like it can easily become a list of lists\n"
   ]
  },
  {
   "cell_type": "code",
   "execution_count": null,
   "id": "7545edc4",
   "metadata": {},
   "outputs": [],
   "source": [
    "# Convert the json() method output into a dataframe with the first list as the column header and the rest as rows of data"
   ]
  },
  {
   "cell_type": "code",
   "execution_count": null,
   "id": "1e381aa7",
   "metadata": {},
   "outputs": [],
   "source": [
    "# Sort the dataframe decending by the number of people speaking the language\n",
    "# Check the data type of 'EST', the number of people that speak the language"
   ]
  },
  {
   "cell_type": "code",
   "execution_count": null,
   "id": "4d8db298",
   "metadata": {},
   "outputs": [],
   "source": [
    "# Now create a new request that brings in the stats for all the US and primary languages\n",
    "# See the websites links for syntax for US and range of language nunbers"
   ]
  },
  {
   "cell_type": "code",
   "execution_count": null,
   "id": "4b5d9385",
   "metadata": {},
   "outputs": [],
   "source": [
    "### Bonus\n",
    "# Create a loop that will collect the counts of Spanish language speakers by state"
   ]
  },
  {
   "cell_type": "markdown",
   "id": "0ffbb363",
   "metadata": {},
   "source": [
    "### Web Scraping"
   ]
  },
  {
   "cell_type": "markdown",
   "id": "3342132d",
   "metadata": {},
   "source": [
    "What is web scraping?\n",
    "- Extracting information from websites (simulates a human copying and pasting)\n",
    "- Based on finding patterns in website code (usually HTML)\n",
    "\n",
    "What are best practices for web scraping?\n",
    "- Scraping too many pages too fast can get your IP address blocked\n",
    "- Pay attention to the robots exclusion standard (robots.txt)\n",
    "- Let's look at http://www.imdb.com/robots.txt\n",
    "\n",
    "What is HTML?\n",
    "- Code interpreted by a web browser to produce (\"render\") a web page\n",
    "- Let's look at example.html\n",
    "- Tags are opened and closed\n",
    "- Tags have optional attributes\n",
    "\n",
    "How to view HTML code:\n",
    "- To view the entire page: \"View Source\" or \"View Page Source\" or \"Show Page Source\"\n",
    "- To view a specific part: \"Inspect Element\"\n",
    "- Safari users: Safari menu, Preferences, Advanced, Show Develop menu in menu bar\n",
    "- Let's inspect example.html\n",
    "\n",
    "Steps\n",
    "- Fine the URL you want to scrape\n",
    "- Inspect the page(right click and choose inspect)\n",
    "- Find the data you wan to extract\n",
    "- Write the code\n",
    "- Run code and extract the data\n",
    "- Store data in required format\n",
    "'''\n"
   ]
  },
  {
   "cell_type": "code",
   "execution_count": 22,
   "id": "4b59f676",
   "metadata": {},
   "outputs": [
    {
     "name": "stdout",
     "output_type": "stream",
     "text": [
      "<!DOCTYPE html>\n",
      "<html lang=\"en\">\n",
      " <head>\n",
      "  <meta content=\"text/html; charset=utf-8\" http-equiv=\"Content-Type\"/>\n",
      "  <title>\n",
      "   Scraping Sandbox\n",
      "  </title>\n",
      "  <link href=\"./css/bootstrap.min.css\" rel=\"stylesheet\"/>\n",
      "  <link href=\"./css/main.css\" rel=\"stylesheet\"/>\n",
      " </head>\n",
      " <body>\n",
      "  <div class=\"container\">\n",
      "   <div class=\"row\">\n",
      "    <div class=\"col-md-1\">\n",
      "    </div>\n",
      "    <div class=\"col-md-10 well\">\n",
      "     <img class=\"logo\" src=\"img/zyte.png\" width=\"200px\"/>\n",
      "     <h1 class=\"text-right\">\n",
      "      Web Scraping Sandbox\n",
      "     </h1>\n",
      "    </div>\n",
      "   </div>\n",
      "   <div class=\"row\">\n",
      "    <div class=\"col-md-1\">\n",
      "    </div>\n",
      "    <div class=\"col-md-10\">\n",
      "     <h2>\n",
      "      Books\n",
      "     </h2>\n",
      "     <p>\n",
      "      A\n",
      "      <a href=\"http://books.toscrape.com\">\n",
      "       fictional bookstore\n",
      "      </a>\n",
      "      that desperately wants to be scraped. It's a safe place for beginners learning web scraping and for developers validating their scraping technologies as well. Available at:\n",
      "      <a href=\"http://books.toscrape.com\">\n",
      "       books.toscrape.com\n",
      "      </a>\n",
      "     </p>\n",
      "     <div class=\"col-md-6\">\n",
      "      <a href=\"http://books.toscrape.com\">\n",
      "       <img class=\"img-thumbnail\" src=\"./img/books.png\"/>\n",
      "      </a>\n",
      "     </div>\n",
      "     <div class=\"col-md-6\">\n",
      "      <table class=\"table table-hover\">\n",
      "       <tr>\n",
      "        <th colspan=\"2\">\n",
      "         Details\n",
      "        </th>\n",
      "       </tr>\n",
      "       <tr>\n",
      "        <td>\n",
      "         Amount of items\n",
      "        </td>\n",
      "        <td>\n",
      "         1000\n",
      "        </td>\n",
      "       </tr>\n",
      "       <tr>\n",
      "        <td>\n",
      "         Pagination\n",
      "        </td>\n",
      "        <td>\n",
      "         ✔\n",
      "        </td>\n",
      "       </tr>\n",
      "       <tr>\n",
      "        <td>\n",
      "         Items per page\n",
      "        </td>\n",
      "        <td>\n",
      "         max 20\n",
      "        </td>\n",
      "       </tr>\n",
      "       <tr>\n",
      "        <td>\n",
      "         Requires JavaScript\n",
      "        </td>\n",
      "        <td>\n",
      "         ✘\n",
      "        </td>\n",
      "       </tr>\n",
      "      </table>\n",
      "     </div>\n",
      "    </div>\n",
      "   </div>\n",
      "   <div class=\"row\">\n",
      "    <div class=\"col-md-1\">\n",
      "    </div>\n",
      "    <div class=\"col-md-10\">\n",
      "     <h2>\n",
      "      Quotes\n",
      "     </h2>\n",
      "     <p>\n",
      "      <a href=\"http://quotes.toscrape.com/\">\n",
      "       A website\n",
      "      </a>\n",
      "      that lists quotes from famous people. It has many endpoints showing the quotes in many different ways, each of them including new scraping challenges for you, as described below.\n",
      "     </p>\n",
      "     <div class=\"col-md-6\">\n",
      "      <a href=\"http://quotes.toscrape.com\">\n",
      "       <img class=\"img-thumbnail\" src=\"./img/quotes.png\"/>\n",
      "      </a>\n",
      "     </div>\n",
      "     <div class=\"col-md-6\">\n",
      "      <table class=\"table table-hover\">\n",
      "       <tr>\n",
      "        <th colspan=\"2\">\n",
      "         Endpoints\n",
      "        </th>\n",
      "       </tr>\n",
      "       <tr>\n",
      "        <td>\n",
      "         <a href=\"http://quotes.toscrape.com/\">\n",
      "          Default\n",
      "         </a>\n",
      "        </td>\n",
      "        <td>\n",
      "         Microdata and pagination\n",
      "        </td>\n",
      "       </tr>\n",
      "       <tr>\n",
      "        <td>\n",
      "         <a href=\"http://quotes.toscrape.com/scroll\">\n",
      "          Scroll\n",
      "         </a>\n",
      "        </td>\n",
      "        <td>\n",
      "         infinite scrolling pagination\n",
      "        </td>\n",
      "       </tr>\n",
      "       <tr>\n",
      "        <td>\n",
      "         <a href=\"http://quotes.toscrape.com/js\">\n",
      "          JavaScript\n",
      "         </a>\n",
      "        </td>\n",
      "        <td>\n",
      "         JavaScript generated content\n",
      "        </td>\n",
      "       </tr>\n",
      "       <tr>\n",
      "        <td>\n",
      "         <a href=\"http://quotes.toscrape.com/js-delayed\">\n",
      "          Delayed\n",
      "         </a>\n",
      "        </td>\n",
      "        <td>\n",
      "         Same as JavaScript but with a delay (?delay=10000)\n",
      "        </td>\n",
      "       </tr>\n",
      "       <tr>\n",
      "        <td>\n",
      "         <a href=\"http://quotes.toscrape.com/tableful\">\n",
      "          Tableful\n",
      "         </a>\n",
      "        </td>\n",
      "        <td>\n",
      "         a table based messed-up layout\n",
      "        </td>\n",
      "       </tr>\n",
      "       <tr>\n",
      "        <td>\n",
      "         <a href=\"http://quotes.toscrape.com/login\">\n",
      "          Login\n",
      "         </a>\n",
      "        </td>\n",
      "        <td>\n",
      "         login with CSRF token (any user/passwd works)\n",
      "        </td>\n",
      "       </tr>\n",
      "       <tr>\n",
      "        <td>\n",
      "         <a href=\"http://quotes.toscrape.com/search.aspx\">\n",
      "          ViewState\n",
      "         </a>\n",
      "        </td>\n",
      "        <td>\n",
      "         an AJAX based filter form with ViewStates\n",
      "        </td>\n",
      "       </tr>\n",
      "       <tr>\n",
      "        <td>\n",
      "         <a href=\"http://quotes.toscrape.com/random\">\n",
      "          Random\n",
      "         </a>\n",
      "        </td>\n",
      "        <td>\n",
      "         a single random quote\n",
      "        </td>\n",
      "       </tr>\n",
      "      </table>\n",
      "     </div>\n",
      "    </div>\n",
      "   </div>\n",
      "  </div>\n",
      " </body>\n",
      "</html>\n",
      "\n",
      "<!DOCTYPE html>\n",
      "\n",
      "<html lang=\"en\">\n",
      "<head>\n",
      "<meta content=\"text/html; charset=utf-8\" http-equiv=\"Content-Type\"/>\n",
      "<title>Scraping Sandbox</title>\n",
      "<link href=\"./css/bootstrap.min.css\" rel=\"stylesheet\"/>\n",
      "<link href=\"./css/main.css\" rel=\"stylesheet\"/>\n",
      "</head>\n",
      "<body>\n",
      "<div class=\"container\">\n",
      "<div class=\"row\">\n",
      "<div class=\"col-md-1\"></div>\n",
      "<div class=\"col-md-10 well\">\n",
      "<img class=\"logo\" src=\"img/zyte.png\" width=\"200px\"/>\n",
      "<h1 class=\"text-right\">Web Scraping Sandbox</h1>\n",
      "</div>\n",
      "</div>\n",
      "<div class=\"row\">\n",
      "<div class=\"col-md-1\"></div>\n",
      "<div class=\"col-md-10\">\n",
      "<h2>Books</h2>\n",
      "<p>A <a href=\"http://books.toscrape.com\">fictional bookstore</a> that desperately wants to be scraped. It's a safe place for beginners learning web scraping and for developers validating their scraping technologies as well. Available at: <a href=\"http://books.toscrape.com\">books.toscrape.com</a></p>\n",
      "<div class=\"col-md-6\">\n",
      "<a href=\"http://books.toscrape.com\"><img class=\"img-thumbnail\" src=\"./img/books.png\"/></a>\n",
      "</div>\n",
      "<div class=\"col-md-6\">\n",
      "<table class=\"table table-hover\">\n",
      "<tr><th colspan=\"2\">Details</th></tr>\n",
      "<tr><td>Amount of items </td><td>1000</td></tr>\n",
      "<tr><td>Pagination </td><td>✔</td></tr>\n",
      "<tr><td>Items per page </td><td>max 20</td></tr>\n",
      "<tr><td>Requires JavaScript </td><td>✘</td></tr>\n",
      "</table>\n",
      "</div>\n",
      "</div>\n",
      "</div>\n",
      "<div class=\"row\">\n",
      "<div class=\"col-md-1\"></div>\n",
      "<div class=\"col-md-10\">\n",
      "<h2>Quotes</h2>\n",
      "<p><a href=\"http://quotes.toscrape.com/\">A website</a> that lists quotes from famous people. It has many endpoints showing the quotes in many different ways, each of them including new scraping challenges for you, as described below.</p>\n",
      "<div class=\"col-md-6\">\n",
      "<a href=\"http://quotes.toscrape.com\"><img class=\"img-thumbnail\" src=\"./img/quotes.png\"/></a>\n",
      "</div>\n",
      "<div class=\"col-md-6\">\n",
      "<table class=\"table table-hover\">\n",
      "<tr><th colspan=\"2\">Endpoints</th></tr>\n",
      "<tr><td><a href=\"http://quotes.toscrape.com/\">Default</a></td><td>Microdata and pagination</td></tr>\n",
      "<tr><td><a href=\"http://quotes.toscrape.com/scroll\">Scroll</a> </td><td>infinite scrolling pagination</td></tr>\n",
      "<tr><td><a href=\"http://quotes.toscrape.com/js\">JavaScript</a> </td><td>JavaScript generated content</td></tr>\n",
      "<tr><td><a href=\"http://quotes.toscrape.com/js-delayed\">Delayed</a> </td><td>Same as JavaScript but with a delay (?delay=10000)</td></tr>\n",
      "<tr><td><a href=\"http://quotes.toscrape.com/tableful\">Tableful</a> </td><td>a table based messed-up layout</td></tr>\n",
      "<tr><td><a href=\"http://quotes.toscrape.com/login\">Login</a> </td><td>login with CSRF token (any user/passwd works)</td></tr>\n",
      "<tr><td><a href=\"http://quotes.toscrape.com/search.aspx\">ViewState</a> </td><td>an AJAX based filter form with ViewStates</td></tr>\n",
      "<tr><td><a href=\"http://quotes.toscrape.com/random\">Random</a> </td><td>a single random quote</td></tr>\n",
      "</table>\n",
      "</div>\n",
      "</div>\n",
      "</div>\n",
      "</div>\n",
      "</body>\n",
      "</html>\n",
      "\n",
      "<class 'bs4.BeautifulSoup'>\n"
     ]
    }
   ],
   "source": [
    "import requests\n",
    "from bs4 import BeautifulSoup\n",
    "\n",
    "page = requests.get('https://toscrape.com/') # Getting page HTML through request\n",
    "b = BeautifulSoup(page.content, 'html.parser') # Parsing content using beautifulsoup\n",
    "\n",
    "print(soup.prettify(b))\n",
    "print(b)\n",
    "print(type(b))"
   ]
  },
  {
   "cell_type": "code",
   "execution_count": 23,
   "id": "5f28f1a5",
   "metadata": {},
   "outputs": [
    {
     "name": "stdout",
     "output_type": "stream",
     "text": [
      "<class 'bs4.BeautifulSoup'>\n",
      "<!DOCTYPE html>\n",
      "\n",
      "<html lang=\"en\">\n",
      "<head>\n",
      "<meta charset=\"utf-8\"/>\n",
      "<title>Scrape This Site | A public sandbox for learning web scraping</title>\n",
      "<link href=\"/static/images/scraper-icon.png\" rel=\"icon\" type=\"image/png\"/>\n",
      "<meta content=\"width=device-width, initial-scale=1.0\" name=\"viewport\"/>\n",
      "<meta content=\"A public sandbox for learning web scraping\" name=\"description\"/>\n",
      "<link crossorigin=\"anonymous\" href=\"https://maxcdn.bootstrapcdn.com/bootstrap/3.3.5/css/bootstrap.min.css\" integrity=\"sha256-MfvZlkHCEqatNoGiOXveE8FIwMzZg4W85qfrfIFBfYc= sha512-dTfge/zgoMYpP7QbHy4gWMEGsbsdZeCXz7irItjcC3sPUFtf0kuFbDz/ixG7ArTxmDjLXDmezHubeNikyKGVyQ==\" rel=\"stylesheet\"/>\n",
      "<link href=\"https://fonts.googleapis.com/css?family=Lato:400,700\" rel=\"stylesheet\" type=\"text/css\"/>\n",
      "<link href=\"/static/css/styles.css\" rel=\"stylesheet\" type=\"text/css\"/>\n",
      "</head>\n",
      "<body>\n",
      "<nav id=\"site-nav\">\n",
      "<div class=\"container\">\n",
      "<div class=\"col-md-12\">\n",
      "<ul class=\"nav nav-tabs\">\n",
      "<li id=\"nav-homepage\">\n",
      "<a class=\"nav-link hidden-sm hidden-xs\" href=\"/\">\n",
      "<img id=\"nav-logo\" src=\"/static/images/scraper-icon.png\"/>\n",
      "                                Scrape This Site\n",
      "                            </a>\n",
      "</li>\n",
      "<li id=\"nav-sandbox\">\n",
      "<a class=\"nav-link\" href=\"/pages/\">\n",
      "<i class=\"glyphicon glyphicon-console hidden-sm hidden-xs\"></i>\n",
      "                                Sandbox\n",
      "                            </a>\n",
      "</li>\n",
      "<li id=\"nav-lessons\">\n",
      "<a class=\"nav-link\" href=\"/lessons/\">\n",
      "<i class=\"glyphicon glyphicon-education hidden-sm hidden-xs\"></i>\n",
      "                                Lessons\n",
      "                            </a>\n",
      "</li>\n",
      "<li id=\"nav-faq\">\n",
      "<a class=\"nav-link\" href=\"/faq/\">\n",
      "<i class=\"glyphicon glyphicon-flag hidden-sm hidden-xs\"></i>\n",
      "                                FAQ\n",
      "                            </a>\n",
      "</li>\n",
      "<li class=\"pull-right\" id=\"nav-login\">\n",
      "<a class=\"nav-link\" href=\"/login/\">\n",
      "                                Login\n",
      "                            </a>\n",
      "</li>\n",
      "</ul>\n",
      "</div>\n",
      "</div>\n",
      "</nav>\n",
      "<script type=\"text/javascript\">\n",
      "            var path = document.location.pathname;\n",
      "            var tab = undefined;\n",
      "            if (path === \"/\"){\n",
      "                tab = document.querySelector(\"#nav-homepage\");\n",
      "            } else if (path.indexOf(\"/faq/\") === 0){\n",
      "                tab = document.querySelector(\"#nav-faq\");\n",
      "            } else if (path.indexOf(\"/lessons/\") === 0){\n",
      "                tab = document.querySelector(\"#nav-lessons\");\n",
      "            } else if (path.indexOf(\"/pages/\") === 0) {\n",
      "                tab = document.querySelector(\"#nav-sandbox\");\n",
      "            } else if (path.indexOf(\"/login/\") === 0) {\n",
      "                tab = document.querySelector(\"#nav-login\");\n",
      "            }\n",
      "            tab.classList.add(\"active\")\n",
      "        </script>\n",
      "<div id=\"homepage\">\n",
      "<section id=\"hero\">\n",
      "<div class=\"container\">\n",
      "<div class=\"row\">\n",
      "<div class=\"col-md-12 text-center\">\n",
      "<img id=\"townhall-logo\" src=\"/static/images/scraper-icon.png\">\n",
      "<h1>\n",
      "                            Scrape This Site\n",
      "                        </h1>\n",
      "<p class=\"lead\">\n",
      "                            The internet's best resource for learning <strong>web scraping</strong>.\n",
      "                        </p>\n",
      "<br/><br/><br/>\n",
      "<a class=\"btn btn-lg btn-default\" href=\"/pages/\"></a>Explore Sandbox\n",
      "<a class=\"btn btn-lg btn-primary\" href=\"/lessons/\"></a>\n",
      "<i class=\"glyphicon glyphicon-education\"></i>\n",
      "                            Begin Lessons →\n",
      "                        \n",
      "</img></div><!--.col-->\n",
      "</div><!--.row-->\n",
      "</div><!--.container-->\n",
      "</section>\n",
      "</div>\n",
      "<section id=\"footer\">\n",
      "<div class=\"container\">\n",
      "<div class=\"row\">\n",
      "<div class=\"col-md-12 text-center text-muted\">\n",
      "                    Lessons and Videos © Hartley Brody 2023\n",
      "                </div><!--.col-->\n",
      "</div><!--.row-->\n",
      "</div><!--.container-->\n",
      "</section>\n",
      "</body>\n",
      "<script src=\"https://ajax.googleapis.com/ajax/libs/jquery/1.11.3/jquery.min.js\"></script>\n",
      "<script crossorigin=\"anonymous\" integrity=\"sha256-Sk3nkD6mLTMOF0EOpNtsIry+s1CsaqQC1rVLTAy+0yc= sha512-K1qjQ+NcF2TYO/eI3M6v8EiNYZfA95pQumfvcVrTHtwQVDG+aHRqLi/ETn2uB+1JqwYqVG3LIvdm9lj6imS/pQ==\" src=\"https://maxcdn.bootstrapcdn.com/bootstrap/3.3.5/js/bootstrap.min.js\"></script>\n",
      "<script src=\"https://cdnjs.cloudflare.com/ajax/libs/pnotify/2.1.0/pnotify.core.min.js\"></script>\n",
      "<link href=\"https://cdnjs.cloudflare.com/ajax/libs/pnotify/2.1.0/pnotify.core.min.css\" rel=\"stylesheet\" type=\"text/css\"/>\n",
      "<!-- pnotify messages -->\n",
      "<script type=\"text/javascript\">\n",
      "    \n",
      "    PNotify.prototype.options.styling = \"bootstrap3\";\n",
      "    $(function(){\n",
      "      \n",
      "    });\n",
      "    \n",
      "\n",
      "    $(function () {\n",
      "      $('[data-toggle=\"tooltip\"]').tooltip()\n",
      "    })\n",
      "  </script>\n",
      "<!-- golbal video controls -->\n",
      "<script type=\"text/javascript\">\n",
      "    $(\"video\").hover(function() {\n",
      "        $(this).prop(\"controls\", true);\n",
      "    }, function() {\n",
      "        $(this).prop(\"controls\", false);\n",
      "    });\n",
      "\n",
      "    $(\"video\").click(function() {\n",
      "        if( this.paused){\n",
      "            this.play();\n",
      "        }\n",
      "        else {\n",
      "            this.pause();\n",
      "        }\n",
      "    });\n",
      "    </script>\n",
      "<!-- insert google analytics here -->\n",
      "<script>\n",
      "    (function(i,s,o,g,r,a,m){i['GoogleAnalyticsObject']=r;i[r]=i[r]||function(){\n",
      "    (i[r].q=i[r].q||[]).push(arguments)},i[r].l=1*new Date();a=s.createElement(o),\n",
      "    m=s.getElementsByTagName(o)[0];a.async=1;a.src=g;m.parentNode.insertBefore(a,m)\n",
      "    })(window,document,'script','https://www.google-analytics.com/analytics.js','ga');\n",
      "\n",
      "    ga('create', 'UA-41551755-8', 'auto');\n",
      "    ga('send', 'pageview');\n",
      "  </script>\n",
      "<!-- Facebook Pixel Code -->\n",
      "<script>\n",
      "  !function(f,b,e,v,n,t,s){if(f.fbq)return;n=f.fbq=function(){n.callMethod?\n",
      "  n.callMethod.apply(n,arguments):n.queue.push(arguments)};if(!f._fbq)f._fbq=n;\n",
      "  n.push=n;n.loaded=!0;n.version='2.0';n.queue=[];t=b.createElement(e);t.async=!0;\n",
      "  t.src=v;s=b.getElementsByTagName(e)[0];s.parentNode.insertBefore(t,s)}(window,\n",
      "  document,'script','https://connect.facebook.net/en_US/fbevents.js');\n",
      "\n",
      "  fbq('init', '764287443701341');\n",
      "  fbq('track', \"PageView\");</script>\n",
      "<noscript><img height=\"1\" src=\"https://www.facebook.com/tr?id=764287443701341&amp;ev=PageView&amp;noscript=1\" style=\"display:none\" width=\"1\"/></noscript>\n",
      "<!-- End Facebook Pixel Code -->\n",
      "<!-- Google Code for Remarketing Tag -->\n",
      "<script type=\"text/javascript\">\n",
      "    /* <![CDATA[ */\n",
      "    var google_conversion_id = 950945448;\n",
      "    var google_custom_params = window.google_tag_params;\n",
      "    var google_remarketing_only = true;\n",
      "    /* ]]> */\n",
      "    </script>\n",
      "<script src=\"//www.googleadservices.com/pagead/conversion.js\" type=\"text/javascript\">\n",
      "</script>\n",
      "<noscript>\n",
      "<div style=\"display:inline;\">\n",
      "<img alt=\"\" height=\"1\" src=\"//googleads.g.doubleclick.net/pagead/viewthroughconversion/950945448/?guid=ON&amp;script=0\" style=\"border-style:none;\" width=\"1\"/>\n",
      "</div>\n",
      "</noscript>\n",
      "<!-- Global site tag (gtag.js) - Google AdWords: 950945448 -->\n",
      "<script async=\"\" src=\"https://www.googletagmanager.com/gtag/js?id=AW-950945448\"></script>\n",
      "<script>\n",
      "   window.dataLayer = window.dataLayer || [];\n",
      "   function gtag(){dataLayer.push(arguments);}\n",
      "   gtag('js', new Date());\n",
      "\n",
      "   gtag('config', 'AW-950945448');\n",
      "  </script>\n",
      "</html>\n",
      "<!DOCTYPE html>\n",
      "<html lang=\"en\">\n",
      " <head>\n",
      "  <meta charset=\"utf-8\"/>\n",
      "  <title>\n",
      "   Scrape This Site | A public sandbox for learning web scraping\n",
      "  </title>\n",
      "  <link href=\"/static/images/scraper-icon.png\" rel=\"icon\" type=\"image/png\"/>\n",
      "  <meta content=\"width=device-width, initial-scale=1.0\" name=\"viewport\"/>\n",
      "  <meta content=\"A public sandbox for learning web scraping\" name=\"description\"/>\n",
      "  <link crossorigin=\"anonymous\" href=\"https://maxcdn.bootstrapcdn.com/bootstrap/3.3.5/css/bootstrap.min.css\" integrity=\"sha256-MfvZlkHCEqatNoGiOXveE8FIwMzZg4W85qfrfIFBfYc= sha512-dTfge/zgoMYpP7QbHy4gWMEGsbsdZeCXz7irItjcC3sPUFtf0kuFbDz/ixG7ArTxmDjLXDmezHubeNikyKGVyQ==\" rel=\"stylesheet\"/>\n",
      "  <link href=\"https://fonts.googleapis.com/css?family=Lato:400,700\" rel=\"stylesheet\" type=\"text/css\"/>\n",
      "  <link href=\"/static/css/styles.css\" rel=\"stylesheet\" type=\"text/css\"/>\n",
      " </head>\n",
      " <body>\n",
      "  <nav id=\"site-nav\">\n",
      "   <div class=\"container\">\n",
      "    <div class=\"col-md-12\">\n",
      "     <ul class=\"nav nav-tabs\">\n",
      "      <li id=\"nav-homepage\">\n",
      "       <a class=\"nav-link hidden-sm hidden-xs\" href=\"/\">\n",
      "        <img id=\"nav-logo\" src=\"/static/images/scraper-icon.png\"/>\n",
      "        Scrape This Site\n",
      "       </a>\n",
      "      </li>\n",
      "      <li id=\"nav-sandbox\">\n",
      "       <a class=\"nav-link\" href=\"/pages/\">\n",
      "        <i class=\"glyphicon glyphicon-console hidden-sm hidden-xs\">\n",
      "        </i>\n",
      "        Sandbox\n",
      "       </a>\n",
      "      </li>\n",
      "      <li id=\"nav-lessons\">\n",
      "       <a class=\"nav-link\" href=\"/lessons/\">\n",
      "        <i class=\"glyphicon glyphicon-education hidden-sm hidden-xs\">\n",
      "        </i>\n",
      "        Lessons\n",
      "       </a>\n",
      "      </li>\n",
      "      <li id=\"nav-faq\">\n",
      "       <a class=\"nav-link\" href=\"/faq/\">\n",
      "        <i class=\"glyphicon glyphicon-flag hidden-sm hidden-xs\">\n",
      "        </i>\n",
      "        FAQ\n",
      "       </a>\n",
      "      </li>\n",
      "      <li class=\"pull-right\" id=\"nav-login\">\n",
      "       <a class=\"nav-link\" href=\"/login/\">\n",
      "        Login\n",
      "       </a>\n",
      "      </li>\n",
      "     </ul>\n",
      "    </div>\n",
      "   </div>\n",
      "  </nav>\n",
      "  <script type=\"text/javascript\">\n",
      "   var path = document.location.pathname;\n",
      "            var tab = undefined;\n",
      "            if (path === \"/\"){\n",
      "                tab = document.querySelector(\"#nav-homepage\");\n",
      "            } else if (path.indexOf(\"/faq/\") === 0){\n",
      "                tab = document.querySelector(\"#nav-faq\");\n",
      "            } else if (path.indexOf(\"/lessons/\") === 0){\n",
      "                tab = document.querySelector(\"#nav-lessons\");\n",
      "            } else if (path.indexOf(\"/pages/\") === 0) {\n",
      "                tab = document.querySelector(\"#nav-sandbox\");\n",
      "            } else if (path.indexOf(\"/login/\") === 0) {\n",
      "                tab = document.querySelector(\"#nav-login\");\n",
      "            }\n",
      "            tab.classList.add(\"active\")\n",
      "  </script>\n",
      "  <div id=\"homepage\">\n",
      "   <section id=\"hero\">\n",
      "    <div class=\"container\">\n",
      "     <div class=\"row\">\n",
      "      <div class=\"col-md-12 text-center\">\n",
      "       <img id=\"townhall-logo\" src=\"/static/images/scraper-icon.png\">\n",
      "        <h1>\n",
      "         Scrape This Site\n",
      "        </h1>\n",
      "        <p class=\"lead\">\n",
      "         The internet's best resource for learning\n",
      "         <strong>\n",
      "          web scraping\n",
      "         </strong>\n",
      "         .\n",
      "        </p>\n",
      "        <br/>\n",
      "        <br/>\n",
      "        <br/>\n",
      "        <a class=\"btn btn-lg btn-default\" href=\"/pages/\">\n",
      "        </a>\n",
      "        Explore Sandbox\n",
      "        <a class=\"btn btn-lg btn-primary\" href=\"/lessons/\">\n",
      "        </a>\n",
      "        <i class=\"glyphicon glyphicon-education\">\n",
      "        </i>\n",
      "        Begin Lessons →\n",
      "       </img>\n",
      "      </div>\n",
      "      <!--.col-->\n",
      "     </div>\n",
      "     <!--.row-->\n",
      "    </div>\n",
      "    <!--.container-->\n",
      "   </section>\n",
      "  </div>\n",
      "  <section id=\"footer\">\n",
      "   <div class=\"container\">\n",
      "    <div class=\"row\">\n",
      "     <div class=\"col-md-12 text-center text-muted\">\n",
      "      Lessons and Videos © Hartley Brody 2023\n",
      "     </div>\n",
      "     <!--.col-->\n",
      "    </div>\n",
      "    <!--.row-->\n",
      "   </div>\n",
      "   <!--.container-->\n",
      "  </section>\n",
      " </body>\n",
      " <script src=\"https://ajax.googleapis.com/ajax/libs/jquery/1.11.3/jquery.min.js\">\n",
      " </script>\n",
      " <script crossorigin=\"anonymous\" integrity=\"sha256-Sk3nkD6mLTMOF0EOpNtsIry+s1CsaqQC1rVLTAy+0yc= sha512-K1qjQ+NcF2TYO/eI3M6v8EiNYZfA95pQumfvcVrTHtwQVDG+aHRqLi/ETn2uB+1JqwYqVG3LIvdm9lj6imS/pQ==\" src=\"https://maxcdn.bootstrapcdn.com/bootstrap/3.3.5/js/bootstrap.min.js\">\n",
      " </script>\n",
      " <script src=\"https://cdnjs.cloudflare.com/ajax/libs/pnotify/2.1.0/pnotify.core.min.js\">\n",
      " </script>\n",
      " <link href=\"https://cdnjs.cloudflare.com/ajax/libs/pnotify/2.1.0/pnotify.core.min.css\" rel=\"stylesheet\" type=\"text/css\"/>\n",
      " <!-- pnotify messages -->\n",
      " <script type=\"text/javascript\">\n",
      "  PNotify.prototype.options.styling = \"bootstrap3\";\n",
      "    $(function(){\n",
      "      \n",
      "    });\n",
      "    \n",
      "\n",
      "    $(function () {\n",
      "      $('[data-toggle=\"tooltip\"]').tooltip()\n",
      "    })\n",
      " </script>\n",
      " <!-- golbal video controls -->\n",
      " <script type=\"text/javascript\">\n",
      "  $(\"video\").hover(function() {\n",
      "        $(this).prop(\"controls\", true);\n",
      "    }, function() {\n",
      "        $(this).prop(\"controls\", false);\n",
      "    });\n",
      "\n",
      "    $(\"video\").click(function() {\n",
      "        if( this.paused){\n",
      "            this.play();\n",
      "        }\n",
      "        else {\n",
      "            this.pause();\n",
      "        }\n",
      "    });\n",
      " </script>\n",
      " <!-- insert google analytics here -->\n",
      " <script>\n",
      "  (function(i,s,o,g,r,a,m){i['GoogleAnalyticsObject']=r;i[r]=i[r]||function(){\n",
      "    (i[r].q=i[r].q||[]).push(arguments)},i[r].l=1*new Date();a=s.createElement(o),\n",
      "    m=s.getElementsByTagName(o)[0];a.async=1;a.src=g;m.parentNode.insertBefore(a,m)\n",
      "    })(window,document,'script','https://www.google-analytics.com/analytics.js','ga');\n",
      "\n",
      "    ga('create', 'UA-41551755-8', 'auto');\n",
      "    ga('send', 'pageview');\n",
      " </script>\n",
      " <!-- Facebook Pixel Code -->\n",
      " <script>\n",
      "  !function(f,b,e,v,n,t,s){if(f.fbq)return;n=f.fbq=function(){n.callMethod?\n",
      "  n.callMethod.apply(n,arguments):n.queue.push(arguments)};if(!f._fbq)f._fbq=n;\n",
      "  n.push=n;n.loaded=!0;n.version='2.0';n.queue=[];t=b.createElement(e);t.async=!0;\n",
      "  t.src=v;s=b.getElementsByTagName(e)[0];s.parentNode.insertBefore(t,s)}(window,\n",
      "  document,'script','https://connect.facebook.net/en_US/fbevents.js');\n",
      "\n",
      "  fbq('init', '764287443701341');\n",
      "  fbq('track', \"PageView\");\n",
      " </script>\n",
      " <noscript>\n",
      "  <img height=\"1\" src=\"https://www.facebook.com/tr?id=764287443701341&amp;ev=PageView&amp;noscript=1\" style=\"display:none\" width=\"1\"/>\n",
      " </noscript>\n",
      " <!-- End Facebook Pixel Code -->\n",
      " <!-- Google Code for Remarketing Tag -->\n",
      " <script type=\"text/javascript\">\n",
      "  /* <![CDATA[ */\n",
      "    var google_conversion_id = 950945448;\n",
      "    var google_custom_params = window.google_tag_params;\n",
      "    var google_remarketing_only = true;\n",
      "    /* ]]> */\n",
      " </script>\n",
      " <script src=\"//www.googleadservices.com/pagead/conversion.js\" type=\"text/javascript\">\n",
      " </script>\n",
      " <noscript>\n",
      "  <div style=\"display:inline;\">\n",
      "   <img alt=\"\" height=\"1\" src=\"//googleads.g.doubleclick.net/pagead/viewthroughconversion/950945448/?guid=ON&amp;script=0\" style=\"border-style:none;\" width=\"1\"/>\n",
      "  </div>\n",
      " </noscript>\n",
      " <!-- Global site tag (gtag.js) - Google AdWords: 950945448 -->\n",
      " <script async=\"\" src=\"https://www.googletagmanager.com/gtag/js?id=AW-950945448\">\n",
      " </script>\n",
      " <script>\n",
      "  window.dataLayer = window.dataLayer || [];\n",
      "   function gtag(){dataLayer.push(arguments);}\n",
      "   gtag('js', new Date());\n",
      "\n",
      "   gtag('config', 'AW-950945448');\n",
      " </script>\n",
      "</html>\n",
      "\n"
     ]
    }
   ],
   "source": [
    "page = requests.get('https://scrapethissite.com/') # Getting page HTML through request\n",
    "b = BeautifulSoup(page.content, 'html.parser') # Parsing content using beautifulsoup\n",
    "print(type(b))\n",
    "print(b)\n",
    "print(soup.prettify(b))\n",
    "\n",
    "\n"
   ]
  },
  {
   "cell_type": "code",
   "execution_count": 24,
   "id": "60923a70",
   "metadata": {},
   "outputs": [
    {
     "data": {
      "text/plain": [
       "<title>Scrape This Site | A public sandbox for learning web scraping</title>"
      ]
     },
     "execution_count": 24,
     "metadata": {},
     "output_type": "execute_result"
    }
   ],
   "source": [
    "# 'find' method returns the first matching Tag (and everything inside of it)\n",
    "b.find(name='body')\n",
    "b.find(name='h1')\n",
    "b.find(name='title')"
   ]
  },
  {
   "cell_type": "code",
   "execution_count": 25,
   "id": "a0a72337",
   "metadata": {},
   "outputs": [
    {
     "data": {
      "text/plain": [
       "'\\n                            Scrape This Site\\n                        '"
      ]
     },
     "execution_count": 25,
     "metadata": {},
     "output_type": "execute_result"
    }
   ],
   "source": [
    "# Tags allow you to access the 'inside text'\n",
    "b.find(name='h1').text"
   ]
  },
  {
   "cell_type": "code",
   "execution_count": 26,
   "id": "567e4e58",
   "metadata": {},
   "outputs": [
    {
     "data": {
      "text/plain": [
       "[<p class=\"lead\">\n",
       "                             The internet's best resource for learning <strong>web scraping</strong>.\n",
       "                         </p>]"
      ]
     },
     "execution_count": 26,
     "metadata": {},
     "output_type": "execute_result"
    }
   ],
   "source": [
    "# 'find_all' method is useful for finding all matching Tags\n",
    "b.find(name='p')        # returns a Tag\n",
    "b.find_all(name='p')    # returns a ResultSet (like a list of Tags)"
   ]
  },
  {
   "cell_type": "code",
   "execution_count": 27,
   "id": "ea0a0b69",
   "metadata": {},
   "outputs": [
    {
     "data": {
      "text/plain": [
       "\"\\n                            The internet's best resource for learning web scraping.\\n                        \""
      ]
     },
     "execution_count": 27,
     "metadata": {},
     "output_type": "execute_result"
    }
   ],
   "source": [
    "# ResultSets can be sliced like lists\n",
    "len(b.find_all(name='p'))\n",
    "b.find_all(name='p')[0]\n",
    "b.find_all(name='p')[0].text"
   ]
  },
  {
   "cell_type": "code",
   "execution_count": 28,
   "id": "7e7dabbe",
   "metadata": {},
   "outputs": [
    {
     "name": "stdout",
     "output_type": "stream",
     "text": [
      "\n",
      "                            The internet's best resource for learning web scraping.\n",
      "                        \n"
     ]
    }
   ],
   "source": [
    "# iterate over a ResultSet\n",
    "results = b.find_all(name='p')\n",
    "for tag in results:\n",
    "    print(tag.text)"
   ]
  },
  {
   "cell_type": "code",
   "execution_count": null,
   "id": "264ff922",
   "metadata": {},
   "outputs": [],
   "source": []
  }
 ],
 "metadata": {
  "kernelspec": {
   "display_name": "Python 3 (ipykernel)",
   "language": "python",
   "name": "python3"
  },
  "language_info": {
   "codemirror_mode": {
    "name": "ipython",
    "version": 3
   },
   "file_extension": ".py",
   "mimetype": "text/x-python",
   "name": "python",
   "nbconvert_exporter": "python",
   "pygments_lexer": "ipython3",
   "version": "3.11.5"
  }
 },
 "nbformat": 4,
 "nbformat_minor": 5
}
