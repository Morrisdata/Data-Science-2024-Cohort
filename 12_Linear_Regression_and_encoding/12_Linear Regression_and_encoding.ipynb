{
 "cells": [
  {
   "cell_type": "markdown",
   "id": "648d7847",
   "metadata": {},
   "source": [
    "# Linear regression and introduction to dummy variables and one hot encoding\n",
    "1) Understand the Problem or situation or create a hypothesis. \n",
    "2) Obtain the data or extract the data \n",
    "3) Data cleaning or Data prep\n",
    "4) Explore the data\n",
    "5) Feature Selection\n",
    "6) Algorithm Selection\n",
    "7) Tuning the Model\n",
    "8) Evaluating the Model\n",
    "9) Presentation\n",
    "\n",
    "scikit-learn's 6-step modeling pattern Takes place in Step 5,6,7,8\n",
    "\n",
    "Step 1: Create a feature matrix and response vector\n",
    "\n",
    "Step 2: Decide on the estimator you want to to use and import that class\n",
    "\n",
    "Step 3: \"Instantiate\" the \"estimator\"\n",
    "\n",
    "Step 4: Fit the model with data (aka \"model training\")\n",
    "\n",
    "Step 5: Use the model to predict the response for a new observation\n",
    "\n",
    "Step 6: Evaluate the error or accuracy of the model"
   ]
  },
  {
   "cell_type": "markdown",
   "id": "7f0ddb82",
   "metadata": {},
   "source": [
    "# Linear Regression\n",
    "\n",
    "Comparing linear regression with other models\n",
    "\n",
    "Advantages of linear regression:\n",
    "\n",
    "    Simple to explain\n",
    "    Highly interpretable\n",
    "    Model training and prediction are fast\n",
    "    No tuning is required (excluding regularization)\n",
    "    Features don't need scaling\n",
    "    Can perform well with a small number of observations\n",
    "    Well-understood\n",
    "\n",
    "Disadvantages of linear regression:\n",
    "\n",
    "    Presumes a linear relationship between the features and the response\n",
    "    Performance is (generally) not competitive with the best supervised learning methods due to high bias\n",
    "    Can't automatically learn feature interactions\n",
    "\n",
    "In simple terms it is the relationship between two variables\n",
    "Another way to think of it is the value of the dependent variable at certain value of the independent variable.\n"
   ]
  },
  {
   "cell_type": "code",
   "execution_count": null,
   "id": "3e125977",
   "metadata": {},
   "outputs": [],
   "source": [
    "Minutes = [100,150,200,300,350,400,450]\n",
    "Grade = [3,4,5,7,8,9,10]"
   ]
  },
  {
   "cell_type": "code",
   "execution_count": null,
   "id": "10141d08",
   "metadata": {},
   "outputs": [],
   "source": [
    "import seaborn as sns\n",
    "sns.scatterplot(x = Minutes, y = Grade)"
   ]
  },
  {
   "cell_type": "markdown",
   "id": "d83475c9",
   "metadata": {},
   "source": [
    "We dont have this data point but we want to inform students that if they studied more than 200 minutes like maybe 250 minutes they could hypothetically get a grade of???"
   ]
  },
  {
   "cell_type": "code",
   "execution_count": null,
   "id": "90171773",
   "metadata": {},
   "outputs": [],
   "source": [
    "Minutes = [100,100,150,98,103,350,195,205,200,300,310,350, 400,450, 435]\n",
    "Grade = [3,3.3,4,3.4,3,8,5,4.9,5,7,6.5, 8.6, 9,10, 9.9]"
   ]
  },
  {
   "cell_type": "code",
   "execution_count": null,
   "id": "9a295467",
   "metadata": {},
   "outputs": [],
   "source": [
    "sns.scatterplot(x = Minutes, y = Grade)"
   ]
  },
  {
   "cell_type": "code",
   "execution_count": null,
   "id": "b0437dba",
   "metadata": {},
   "outputs": [],
   "source": [
    "Minutes = [100,150,200,300,350,400,450,150]\n",
    "Grade = [3,4,5,7,8,9,10,9.6]"
   ]
  },
  {
   "cell_type": "code",
   "execution_count": null,
   "id": "6dc0886c",
   "metadata": {},
   "outputs": [],
   "source": [
    "sns.scatterplot(x = Minutes, y = Grade)"
   ]
  },
  {
   "cell_type": "code",
   "execution_count": null,
   "id": "a9b12454",
   "metadata": {},
   "outputs": [],
   "source": [
    "import pandas as pd\n",
    "import seaborn as sns\n",
    "df = pd.read_csv('C://Users//Matth//OneDrive//Desktop/DATA//Student_Grade.csv')\n",
    "df"
   ]
  },
  {
   "cell_type": "code",
   "execution_count": null,
   "id": "3bb72087",
   "metadata": {},
   "outputs": [],
   "source": [
    "sns.scatterplot(data = df, x = 'Study Time In Minutes', y = 'Credit Grade')"
   ]
  },
  {
   "cell_type": "code",
   "execution_count": null,
   "id": "dafb3e8d",
   "metadata": {},
   "outputs": [],
   "source": [
    "sns.lmplot(x =\"Study Time In Minutes\", y =\"Credit Grade\", data = df, aspect=1.5, scatter_kws={'alpha':0.2})"
   ]
  },
  {
   "cell_type": "markdown",
   "id": "15db5a38",
   "metadata": {},
   "source": [
    "Steps for modeling\n",
    "- Step 1: Understanding the Problem.\n",
    "- Step 2: Data Extraction.\n",
    "- Step 3: Data Cleaning.\n",
    "- Step 4: Exploratory Data Analysis.\n",
    "- Step 5: Feature Selection. <--- you are here\n",
    "- Step 6: Incorporating Machine Learning Algorithms. <-- and here\n",
    "- Step 7: Testing the Models. <-- and here\n",
    "- Step 8: Deploying the Model. "
   ]
  },
  {
   "cell_type": "markdown",
   "id": "489fa62f",
   "metadata": {},
   "source": [
    "### Step 1: Understanding the Problem.\n",
    "If you study more then your grades will be better."
   ]
  },
  {
   "cell_type": "markdown",
   "id": "166823f8",
   "metadata": {},
   "source": [
    "### Step 2: Data Extraction"
   ]
  },
  {
   "cell_type": "code",
   "execution_count": null,
   "id": "842daf55",
   "metadata": {},
   "outputs": [],
   "source": [
    "\n",
    "# lets first start by importing All the Required Libraries\n",
    "import numpy as np\n",
    "import pandas as pd\n",
    "import seaborn as sns\n",
    "import matplotlib.pyplot as plt\n",
    "from sklearn import preprocessing, svm\n",
    "from sklearn.model_selection import train_test_split\n",
    "from sklearn.linear_model import LinearRegression as linreg\n",
    "\n",
    "from sklearn import linear_model\n",
    "from sklearn.model_selection import train_test_split\n",
    "from sklearn.metrics import mean_squared_error, r2_score\n",
    "import matplotlib.pyplot as plt\n",
    "import numpy as np \n",
    "\n",
    "# Data Extraction\n",
    "df = pd.read_csv('C://Users//Matth//OneDrive//Desktop/DATA//Student_Grade.csv')\n",
    "df"
   ]
  },
  {
   "cell_type": "markdown",
   "id": "3c441807",
   "metadata": {},
   "source": [
    "### Step 3: Data Cleaning."
   ]
  },
  {
   "cell_type": "code",
   "execution_count": null,
   "id": "a9faf7ac",
   "metadata": {},
   "outputs": [],
   "source": [
    " # Step 3: Data Cleaning.\n",
    "'''Data cleansing can be an extensive and iterative process, \n",
    "this can involve removing duplicates, removing or working with Nans and zeros. \n",
    "renaming fields, accounting for outliers and more. For now we will keep it simple with \n",
    "A)Selecting attributes we are interested in(some tables will have lots of attributes and we may want to \n",
    "isolate to a few)\n",
    "B) Renaming fields for ease of use or readability\n",
    "'''\n",
    "# Select the two attributes intrested in\n",
    "df2 = df[['Study Time In Minutes', 'Credit Grade']]\n",
    "# Rename attributes if needed\n",
    "df2.rename(columns={'Study Time In Minutes':'Study Min', 'Credit Grade':'Grade'}, inplace=True)\n",
    "df2.columns"
   ]
  },
  {
   "cell_type": "markdown",
   "id": "dbf70ddb",
   "metadata": {},
   "source": [
    "### Step 4 EDA\n",
    "Just like with most of these steps there can be a lot of visualizations and work done in the EDA section. For just getting the flow down we will limit it to one visualization.\n",
    "EDA can often times lead to discoveries and more data cleansing. "
   ]
  },
  {
   "cell_type": "code",
   "execution_count": null,
   "id": "f1e2fcdf",
   "metadata": {},
   "outputs": [],
   "source": [
    "sns.lmplot(x =\"Study Min\", y =\"Grade\", data = df2, aspect=1.5, scatter_kws={'alpha':0.2})"
   ]
  },
  {
   "cell_type": "markdown",
   "id": "a874982d",
   "metadata": {},
   "source": [
    "### Step 5 Feature Selection\n",
    "In this example there is only one feature to select in future examples there will be more features. \n",
    "If you have 10 attributes you may want to keep them in your data set but only test or model 3 of them as \n",
    "your feature selection."
   ]
  },
  {
   "cell_type": "code",
   "execution_count": null,
   "id": "c8f1e7f8",
   "metadata": {},
   "outputs": [],
   "source": [
    "features = df2[['Study Min']]\n",
    "target = df2[['Grade']]"
   ]
  },
  {
   "cell_type": "code",
   "execution_count": null,
   "id": "f4a21735",
   "metadata": {},
   "outputs": [],
   "source": [
    "# Fit the model"
   ]
  },
  {
   "cell_type": "code",
   "execution_count": null,
   "id": "aeee58cd",
   "metadata": {},
   "outputs": [],
   "source": [
    "X_train, X_test, y_train, y_test = train_test_split(features, target, test_size=0.2, random_state=2)\n",
    "model = linear_model.LinearRegression()\n",
    "model.fit(X_train, y_train)"
   ]
  },
  {
   "cell_type": "code",
   "execution_count": null,
   "id": "d29d820f",
   "metadata": {},
   "outputs": [],
   "source": [
    "## Evaluate the model\n",
    "from sklearn.metrics import mean_absolute_error\n",
    "y_pred = model.predict(X_test)\n",
    "mse = mean_squared_error(y_test, y_pred)\n",
    "r2 = r2_score(y_test, y_pred)\n",
    "mae = mean_absolute_error(y_test, y_pred)\n",
    "\n",
    "print('R-Squared (R\\u00b2): {:.2f}%'.format(r2 * 100))\n",
    "print('Mean Squared Error (MSE): {:.2f}'.format(mse))\n",
    "print('Mean Absolute Error:{:.2f}'.format(mae))\n"
   ]
  },
  {
   "cell_type": "markdown",
   "id": "76e16b70",
   "metadata": {},
   "source": [
    "- R-Square/Adjusted R square\n",
    "R-squared, also known as the coefficient of determination, is a widely used metric to assess the goodness-of-fit of a linear regression model. It represents the proportion of the variance in the dependent variable that is explained by the independent variables.\n",
    "- Mean Square Error(MSE)/Root Mean Square Error(RMSE)\n",
    "Mean Squared Error(MSE) and Root Mean Square Error penalizes the large prediction errors vi-a-vis Mean Absolute Error (MAE). However, RMSE is widely used than MSE to evaluate the performance of the regression model with other random models as it has the same units as the dependent variable (Y-axis).\n",
    "- Mean Absolute Error MAE\n",
    "To put it in short, if there are many outliers then you may consider using Mean Absolute Error (also called the Average Absolute Deviation). RMSE is more sensitive to outliers than the MAE. But when outliers are exponentially rare (like in a bell-shaped curve), the RMSE performs very well and is generally preferred.\n"
   ]
  },
  {
   "cell_type": "code",
   "execution_count": null,
   "id": "87418048",
   "metadata": {},
   "outputs": [],
   "source": [
    "# Make a prediction\n",
    "y_pred_test = model.predict(X_test)\n",
    "y_pred_train = model.predict(X_train)"
   ]
  },
  {
   "cell_type": "code",
   "execution_count": null,
   "id": "eff69438",
   "metadata": {},
   "outputs": [],
   "source": [
    "# Visualize the prediction\n",
    "plt.scatter(X_train, y_train, color = 'lightgreen')\n",
    "plt.plot(X_train, y_pred_train, color = 'red')\n",
    "plt.legend(['fix', 'fix' ])\n",
    "plt.show()"
   ]
  },
  {
   "cell_type": "code",
   "execution_count": null,
   "id": "6e8ba4c0",
   "metadata": {},
   "outputs": [],
   "source": [
    "# Data set and predictions\n",
    "plt.scatter(X_test, y_test, color ='lightblue')\n",
    "plt.plot(X_train, y_pred_train, color ='firebrick')\n",
    "plt.legend(['Fix','Fix'])\n",
    "plt.show()"
   ]
  },
  {
   "cell_type": "code",
   "execution_count": null,
   "id": "01769254",
   "metadata": {},
   "outputs": [],
   "source": [
    "# print the coefficients# the value of y in x = 0 \n",
    "print(model.intercept_)\n",
    "print(model.coef_)"
   ]
  },
  {
   "attachments": {
    "image-3.png": {
     "image/png": "[encoded data removed]"
    }
   },
   "cell_type": "markdown",
   "id": "b3f45b27",
   "metadata": {},
   "source": [
    "## Dummy Variables and One-hot encoding\n",
    "These are two different methods that have the same outcomes but can provide slight difference in benefits. \n",
    "![image-3.png](attachment:image-3.png)"
   ]
  },
  {
   "cell_type": "code",
   "execution_count": null,
   "id": "80931aec",
   "metadata": {},
   "outputs": [],
   "source": [
    "import pandas as pd\n",
    "#create DataFrame\n",
    "df1 = pd.DataFrame({'area': ['rural', 'rural', 'urban', 'urban', 'suburban', 'suburban', 'rural', 'urban'],\n",
    "                   'rating': [25, 12, 15, 14, 19, 23, 25, 29]})\n",
    "pd.get_dummies(df)"
   ]
  },
  {
   "cell_type": "code",
   "execution_count": null,
   "id": "1c27b03e",
   "metadata": {},
   "outputs": [],
   "source": [
    "import pandas as pd\n",
    "#create DataFrame\n",
    "df2 = pd.DataFrame({'area': ['rural', 'rural', 'urban', 'urban', 'suburban', 'suburban', 'rural', 'urban'],\n",
    "                   'rating': [25, 12, 15, 14, 19, 23, 25, 29]})\n",
    "#view DataFrame\n",
    "print(df) "
   ]
  },
  {
   "cell_type": "code",
   "execution_count": null,
   "id": "38d2cbfe",
   "metadata": {},
   "outputs": [],
   "source": [
    "from sklearn.preprocessing import OneHotEncoder\n",
    "\n",
    "#creating instance of one-hot-encoder\n",
    "encoder = OneHotEncoder(handle_unknown='ignore')\n",
    "\n",
    "#perform one-hot encoding on 'team' column \n",
    "encoder_df = pd.DataFrame(encoder.fit_transform(df2[['area']]).toarray())\n",
    "\n",
    "#merge one-hot encoded columns back with original DataFrame\n",
    "final_df = df2.join(encoder_df)\n",
    "\n",
    "#view final df\n",
    "print(final_df)"
   ]
  },
  {
   "cell_type": "markdown",
   "id": "a7a3cbe8",
   "metadata": {},
   "source": [
    "### Classic BIKESHARE example (putting it all together)"
   ]
  },
  {
   "cell_type": "markdown",
   "id": "1e73956b",
   "metadata": {},
   "source": [
    "# What is the bikeshare dataset\n",
    "We'll be working with a dataset from Capital Bikeshare that was used in a Kaggle competition."
   ]
  },
  {
   "cell_type": "code",
   "execution_count": null,
   "id": "7d7672c5",
   "metadata": {},
   "outputs": [],
   "source": [
    "# reading in the data set and setting the datetime as the index\n",
    "df = pd.read_csv('C://Users//Matth//OneDrive//Desktop/DATA//bikeshare.csv', index_col='datetime', parse_dates=True)\n",
    "df"
   ]
  },
  {
   "cell_type": "code",
   "execution_count": null,
   "id": "1254f9b2",
   "metadata": {},
   "outputs": [],
   "source": [
    "df.dtypes"
   ]
  },
  {
   "cell_type": "code",
   "execution_count": null,
   "id": "b748e7e8",
   "metadata": {},
   "outputs": [],
   "source": [
    "df.index"
   ]
  },
  {
   "cell_type": "markdown",
   "id": "b87dd500",
   "metadata": {},
   "source": [
    "Questions:\n",
    "    How many Features are there\n",
    "    What does each observation represent?\n",
    "    What is the response variable?\n",
    "    Where does your curiosity guide you?"
   ]
  },
  {
   "cell_type": "markdown",
   "id": "12dbfd7d",
   "metadata": {},
   "source": [
    "Are there blanks?\n",
    "Are there duplicates?\n",
    "Are there fields that could be dropped or renamed?"
   ]
  },
  {
   "cell_type": "code",
   "execution_count": null,
   "id": "7c013863",
   "metadata": {},
   "outputs": [],
   "source": [
    "# \"count\" is a method, so it's best to name that column something else\n",
    "df.rename(columns={'count':'total'}, inplace=True)\n",
    "df.columns\n"
   ]
  },
  {
   "cell_type": "markdown",
   "id": "e578af32",
   "metadata": {},
   "source": [
    "### Visualizing the data"
   ]
  },
  {
   "cell_type": "code",
   "execution_count": null,
   "id": "8ff6ac44",
   "metadata": {},
   "outputs": [],
   "source": [
    "# Pandas scatter plot\n",
    "df.plot(kind='scatter', x='temp', y='total', alpha=0.2)"
   ]
  },
  {
   "cell_type": "code",
   "execution_count": null,
   "id": "15056cb0",
   "metadata": {},
   "outputs": [],
   "source": [
    "# Seaborn scatter plot with regression line\n",
    "sns.lmplot(x='temp', y='total', data=df, aspect=1.5, scatter_kws={'alpha':0.2})"
   ]
  },
  {
   "cell_type": "markdown",
   "id": "53ff5ff6",
   "metadata": {},
   "source": [
    "\n",
    "Building a simple linear regression model (one feature)\n",
    "\n",
    "For our first task we decide to create a model which will predict the number of rentals based on the temperature.\n"
   ]
  },
  {
   "cell_type": "code",
   "execution_count": null,
   "id": "37fc6dbd",
   "metadata": {},
   "outputs": [],
   "source": [
    "# create X and y\n",
    "feature_cols = ['temp']\n",
    "X = df[feature_cols]\n",
    "y = df.total\n",
    "X.shape"
   ]
  },
  {
   "cell_type": "code",
   "execution_count": null,
   "id": "50c1b757",
   "metadata": {},
   "outputs": [],
   "source": [
    "type(X)"
   ]
  },
  {
   "cell_type": "code",
   "execution_count": null,
   "id": "8ef66a98",
   "metadata": {},
   "outputs": [],
   "source": [
    "y.shape"
   ]
  },
  {
   "cell_type": "code",
   "execution_count": null,
   "id": "3d6bdc42",
   "metadata": {},
   "outputs": [],
   "source": [
    "type(y)"
   ]
  },
  {
   "cell_type": "code",
   "execution_count": null,
   "id": "7a2db371",
   "metadata": {},
   "outputs": [],
   "source": [
    "# We have created our X (feature matrix) and Y (response vector so now lets:\n",
    "# import our chosen estimator, instantiate it into a variable, fit the model with the X and y\n",
    "from sklearn.linear_model import LinearRegression\n",
    "linreg = LinearRegression()\n",
    "linreg.fit(X, y)"
   ]
  },
  {
   "cell_type": "code",
   "execution_count": null,
   "id": "62f9ca38",
   "metadata": {},
   "outputs": [],
   "source": [
    "type(linreg)"
   ]
  },
  {
   "cell_type": "code",
   "execution_count": null,
   "id": "b12227b2",
   "metadata": {},
   "outputs": [],
   "source": [
    "# print the coefficients\n",
    "print(linreg.intercept_)\n",
    "print(linreg.coef_)"
   ]
  },
  {
   "cell_type": "markdown",
   "id": "d718f459",
   "metadata": {},
   "source": [
    "Visualizing the data "
   ]
  },
  {
   "cell_type": "code",
   "execution_count": null,
   "id": "dd868a65",
   "metadata": {},
   "outputs": [],
   "source": [
    "# explore more features\n",
    "feature_cols = ['temp', 'season', 'weather', 'humidity']"
   ]
  },
  {
   "cell_type": "code",
   "execution_count": null,
   "id": "6c02c012",
   "metadata": {},
   "outputs": [],
   "source": [
    "# multiple scatter plots in Seaborn\n",
    "sns.pairplot(df, x_vars=feature_cols, y_vars='total', kind='reg')"
   ]
  },
  {
   "cell_type": "code",
   "execution_count": null,
   "id": "a1a19d7c",
   "metadata": {},
   "outputs": [],
   "source": [
    "# multiple scatter plots in matplotlib\n",
    "fig, axs = plt.subplots(1, len(feature_cols), sharey=True)\n",
    "for index, feature in enumerate(feature_cols):\n",
    "    df.plot(kind='scatter', x=feature, y='total', ax=axs[index], figsize=(16, 3))"
   ]
  },
  {
   "cell_type": "code",
   "execution_count": null,
   "id": "08967aa2",
   "metadata": {},
   "outputs": [],
   "source": [
    "What are your observations?"
   ]
  },
  {
   "cell_type": "code",
   "execution_count": null,
   "id": "7e62fb16",
   "metadata": {},
   "outputs": [],
   "source": [
    "# cross-tabulation of season and month\n",
    "pd.crosstab(df.season, df.index.month)"
   ]
  },
  {
   "cell_type": "code",
   "execution_count": null,
   "id": "ce910b67",
   "metadata": {},
   "outputs": [],
   "source": [
    "# box plot of rentals, grouped by season\n",
    "df.boxplot(column='total', by='season')"
   ]
  },
  {
   "cell_type": "code",
   "execution_count": null,
   "id": "12d92f7c",
   "metadata": {},
   "outputs": [],
   "source": [
    "# line plot of rentals\n",
    "df.total.plot()"
   ]
  },
  {
   "cell_type": "markdown",
   "id": "bc45da81",
   "metadata": {},
   "source": [
    "\n",
    "\n",
    "What does this tell us?\n",
    "\n",
    "There are more rentals in the winter than the spring, but only because the system is experiencing overall growth and the winter months happen to come after the spring months.\n"
   ]
  },
  {
   "cell_type": "code",
   "execution_count": null,
   "id": "ccd58931",
   "metadata": {},
   "outputs": [],
   "source": [
    "# correlation matrix (ranges from 1 to -1)\n",
    "df.corr()"
   ]
  },
  {
   "cell_type": "code",
   "execution_count": null,
   "id": "2e42243b",
   "metadata": {},
   "outputs": [],
   "source": [
    "# visualize correlation matrix in Seaborn using a heatmap\n",
    "sns.heatmap(df.corr())"
   ]
  },
  {
   "cell_type": "markdown",
   "id": "f058dcdf",
   "metadata": {},
   "source": [
    "What relationships do you notice?\n",
    "Adding more features to the model"
   ]
  },
  {
   "cell_type": "code",
   "execution_count": null,
   "id": "f83ed556",
   "metadata": {},
   "outputs": [],
   "source": [
    "# create a list of features\n",
    "feature_cols = ['temp', 'season', 'weather', 'humidity']\n",
    "\n",
    "# create X and y\n",
    "X = df[feature_cols]\n",
    "y = df.total\n",
    "\n",
    "# instantiate and fit\n",
    "linreg = LinearRegression()\n",
    "linreg.fit(X, y)\n",
    "\n",
    "# print the coefficients\n",
    "print(linreg.intercept_)\n",
    "print(linreg.coef_)"
   ]
  },
  {
   "cell_type": "code",
   "execution_count": null,
   "id": "c87df02a",
   "metadata": {},
   "outputs": [],
   "source": [
    "# pair the feature names with the coefficients\n",
    "zip(feature_cols, linreg.coef_)"
   ]
  },
  {
   "cell_type": "markdown",
   "id": "a84f0c60",
   "metadata": {},
   "source": [
    "\n",
    "Feature selection\n",
    "\n",
    "How do we choose which features to include in the model? We're going to use train/test split (and eventually cross-validation).\n",
    "\n",
    "Why not use of p-values or R-squared for feature selection?\n",
    "\n",
    "    Linear models rely upon a lot of assumptions (such as the features being independent), and if those assumptions are violated, p-values and R-squared are less reliable. Train/test split relies on fewer assumptions.\n",
    "    Features that are unrelated to the response can still have significant p-values.\n",
    "    Adding features to your model that are unrelated to the response will always increase the R-squared value, and adjusted R-squared does not sufficiently account for this.\n",
    "    p-values and R-squared are proxies for our goal of generalization, whereas train/test split and cross-validation attempt to directly estimate how well the model will generalize to out-of-sample data.\n",
    "\n",
    "More generally:\n",
    "\n",
    "    There are different methodologies that can be used for solving any given data science problem, and this course follows a machine learning methodology.\n",
    "    This course focuses on general purpose approaches that can be applied to any model, rather than model-specific approaches.\n",
    "\n",
    "Evaluation metrics for regression problems\n",
    "\n",
    "Evaluation metrics for classification problems, such as accuracy, are not useful for regression problems. We need evaluation metrics designed for comparing continuous values.\n",
    "\n",
    "Here are three common evaluation metrics for regression problems:\n",
    "\n",
    "Mean Absolute Error (MAE) is the mean of the absolute value of the errors:\n",
    "    Mean Squared Error (MSE) is the mean of the squared errors:\n",
    "        Root Mean Squared Error (RMSE) is the square root of the mean of the squared errors:"
   ]
  },
  {
   "cell_type": "code",
   "execution_count": null,
   "id": "d96e50ce",
   "metadata": {},
   "outputs": [],
   "source": [
    "# example true and predicted response values\n",
    "true = [10, 7, 5, 5]\n",
    "pred = [8, 6, 5, 10]"
   ]
  },
  {
   "cell_type": "code",
   "execution_count": null,
   "id": "8c854a78",
   "metadata": {},
   "outputs": [],
   "source": [
    "# calculate these metrics by hand!\n",
    "from sklearn import metrics\n",
    "import numpy as np\n",
    "print('MAE:', metrics.mean_absolute_error(true, pred))\n",
    "print('MSE:', metrics.mean_squared_error(true, pred))\n",
    "print('RMSE:', np.sqrt(metrics.mean_squared_error(true, pred)))"
   ]
  },
  {
   "cell_type": "markdown",
   "id": "3ed063c6",
   "metadata": {},
   "source": [
    "Comparing these metrics:\n",
    "\n",
    "    MAE is the easiest to understand, because it's the average error.\n",
    "    MSE is more popular than MAE, because MSE \"punishes\" larger errors, which tends to be useful in the real world.\n",
    "    RMSE is even more popular than MSE, because RMSE is interpretable in the \"y\" units.\n",
    "\n",
    "All of these are loss functions, because we want to minimize them.\n",
    "\n",
    "Here's an additional example, to demonstrate how MSE/RMSE punish larger errors:\n"
   ]
  },
  {
   "cell_type": "code",
   "execution_count": null,
   "id": "ae63ecdc",
   "metadata": {},
   "outputs": [],
   "source": [
    "# same true values as above\n",
    "true = [10, 7, 5, 5]\n",
    "\n",
    "# new set of predicted values\n",
    "pred = [10, 7, 5, 13]\n",
    "\n",
    "# MAE is the same as before\n",
    "print('MAE:', metrics.mean_absolute_error(true, pred))\n",
    "\n",
    "# MSE and RMSE are larger than before\n",
    "print('MSE:', metrics.mean_squared_error(true, pred))\n",
    "print('RMSE:', np.sqrt(metrics.mean_squared_error(true, pred)))\n"
   ]
  },
  {
   "cell_type": "markdown",
   "id": "916f22b2",
   "metadata": {},
   "source": [
    "Comparing models with train/test split and RMSE"
   ]
  },
  {
   "cell_type": "code",
   "execution_count": null,
   "id": "7c98b0f5",
   "metadata": {},
   "outputs": [],
   "source": [
    "from sklearn.model_selection import train_test_split\n",
    "\n",
    "# define a function that accepts a list of features and returns testing RMSE\n",
    "def train_test_rmse(feature_cols):\n",
    "    X = bikes[feature_cols]\n",
    "    y = bikes.total\n",
    "    X_train, X_test, y_train, y_test = train_test_split(X, y, random_state=123)\n",
    "    linreg = LinearRegression()\n",
    "    linreg.fit(X_train, y_train)\n",
    "    y_pred = linreg.predict(X_test)\n",
    "    return np.sqrt(metrics.mean_squared_error(y_test, y_pred))"
   ]
  },
  {
   "cell_type": "code",
   "execution_count": null,
   "id": "2b73b95a",
   "metadata": {},
   "outputs": [],
   "source": [
    "train_test_split(X, y, random_state=123)"
   ]
  },
  {
   "cell_type": "code",
   "execution_count": null,
   "id": "f212b2f1",
   "metadata": {},
   "outputs": [],
   "source": [
    "# compare different sets of features\n",
    "print(train_test_rmse(['temp', 'season', 'weather', 'humidity']))\n",
    "print(train_test_rmse(['temp', 'season', 'weather']))\n",
    "print(train_test_rmse(['temp', 'season', 'humidity']))\n",
    "print(train_test_rmse(['temp', 'humidity']))\n",
    "\n"
   ]
  },
  {
   "cell_type": "code",
   "execution_count": null,
   "id": "c2957625",
   "metadata": {},
   "outputs": [],
   "source": [
    "# using these as features is not allowed!\n",
    "print(train_test_rmse(['casual', 'registered']))"
   ]
  },
  {
   "cell_type": "markdown",
   "id": "3e948616",
   "metadata": {},
   "source": [
    "Comparing testing RMSE with null RMSE\n",
    "Null RMSE is the RMSE that could be achieved by always predicting the mean response value. It is a benchmark against which you may want to measure your regression model."
   ]
  },
  {
   "cell_type": "code",
   "execution_count": null,
   "id": "97f18ede",
   "metadata": {},
   "outputs": [],
   "source": [
    "# split X and y into training and testing sets\n",
    "X_train, X_test, y_train, y_test = train_test_split(X, y, random_state=123)\n",
    "\n",
    "# create a NumPy array with the same shape as y_test\n",
    "y_null = np.zeros_like(y_test, dtype=float)\n",
    "\n",
    "# fill the array with the mean value of y_test\n",
    "y_null.fill(y_test.mean())\n",
    "y_null\n",
    "\n"
   ]
  },
  {
   "cell_type": "code",
   "execution_count": null,
   "id": "d43ddf39",
   "metadata": {},
   "outputs": [],
   "source": [
    "# compute null RMSE\n",
    "np.sqrt(metrics.mean_squared_error(y_test, y_null))"
   ]
  },
  {
   "cell_type": "markdown",
   "id": "8948a35c",
   "metadata": {},
   "source": [
    "Handling categorical features\n",
    "\n",
    "scikit-learn expects all features to be numeric. So how do we include a categorical feature in our model?\n",
    "\n",
    "    Ordered categories: transform them to sensible numeric values (example: small=1, medium=2, large=3)\n",
    "    Unordered categories: use dummy encoding (0/1)\n",
    "\n",
    "What are the categorical features in our dataset?\n",
    "\n",
    "    Ordered categories: weather (already encoded with sensible numeric values)\n",
    "    Unordered categories: season (needs dummy encoding), holiday (already dummy encoded), workingday (already dummy encoded)\n",
    "\n",
    "For season, we can't simply leave the encoding as 1 = spring, 2 = summer, 3 = fall, and 4 = winter, because that would imply an ordered relationship. Instead, we create multiple dummy variables:\n"
   ]
  },
  {
   "cell_type": "code",
   "execution_count": null,
   "id": "8ffbd248",
   "metadata": {},
   "outputs": [],
   "source": [
    "# create dummy variables\n",
    "season_dummies = pd.get_dummies(df.season, prefix='season')\n",
    "\n",
    "# print 5 random rows\n",
    "season_dummies.sample(n=5, random_state=1)"
   ]
  },
  {
   "cell_type": "markdown",
   "id": "f437d304",
   "metadata": {},
   "source": [
    "\n",
    "\n",
    "However, we actually only need three dummy variables (not four), and thus we'll drop the first dummy variable.\n",
    "\n",
    "Why? Because three dummies captures all of the \"information\" about the season feature, and implicitly defines spring (season 1) as the baseline level:\n"
   ]
  },
  {
   "cell_type": "code",
   "execution_count": null,
   "id": "3c353974",
   "metadata": {},
   "outputs": [],
   "source": [
    "# drop the first column\n",
    "season_dummies.drop(season_dummies.columns[0], axis=1, inplace=True)\n",
    "\n",
    "# print 5 random rows\n",
    "season_dummies.sample(n=5, random_state=1)"
   ]
  },
  {
   "cell_type": "markdown",
   "id": "a9a33250",
   "metadata": {},
   "source": [
    "\n",
    "\n",
    "In general, if you have a categorical feature with k possible values, you create k-1 dummy variables.\n",
    "\n",
    "If that's confusing, think about why we only need one dummy variable for holiday, not two dummy variables (holiday_yes and holiday_no).\n"
   ]
  },
  {
   "cell_type": "code",
   "execution_count": null,
   "id": "9cad1fa9",
   "metadata": {},
   "outputs": [],
   "source": [
    "# concatenate the original DataFrame and the dummy DataFrame (axis=0 means rows, axis=1 means columns)\n",
    "bikes = pd.concat([df, season_dummies], axis=1)"
   ]
  },
  {
   "cell_type": "code",
   "execution_count": null,
   "id": "bffaa958",
   "metadata": {},
   "outputs": [],
   "source": [
    "# print 5 random rows\n",
    "bikes.sample(n=5, random_state=1)"
   ]
  },
  {
   "cell_type": "code",
   "execution_count": null,
   "id": "c13c2130",
   "metadata": {},
   "outputs": [],
   "source": [
    "# include dummy variables for season in the model\n",
    "# include dummy variables for season in the model\n",
    "feature_cols = ['temp', 'season_2', 'season_3', 'season_4', 'humidity']\n",
    "X = bikes[feature_cols]\n",
    "y = bikes.total\n",
    "linreg = LinearRegression()\n",
    "linreg.fit(X, y)\n",
    "zip(feature_cols, linreg.coef_)"
   ]
  },
  {
   "cell_type": "markdown",
   "id": "c2f21f31",
   "metadata": {},
   "source": [
    "How do we interpret the season coefficients? They are measured against the baseline (spring):\n",
    "\n",
    "    Holding all other features fixed, summer is associated with a rental decrease of 3.39 bikes compared to the spring.\n",
    "    Holding all other features fixed, fall is associated with a rental decrease of 41.7 bikes compared to the spring.\n",
    "    Holding all other features fixed, winter is associated with a rental increase of 64.4 bikes compared to the spring.\n",
    "\n",
    "Would it matter if we changed which season was defined as the baseline?\n",
    "\n",
    "    No, it would simply change our interpretation of the coefficients.\n",
    "\n",
    "Important: Dummy encoding is relevant for all machine learning models, not just linear regression models.\n"
   ]
  },
  {
   "cell_type": "code",
   "execution_count": null,
   "id": "f730ea20",
   "metadata": {},
   "outputs": [],
   "source": [
    "# compare original season variable with dummy variables\n",
    "print(train_test_rmse(['temp', 'season', 'humidity']))\n",
    "print(train_test_rmse(['temp', 'season_2', 'season_3', 'season_4', 'humidity']))"
   ]
  },
  {
   "cell_type": "code",
   "execution_count": null,
   "id": "e90975ac",
   "metadata": {},
   "outputs": [],
   "source": [
    "\n",
    "Feature engineering\n",
    "\n",
    "See if you can create the following features:\n",
    "\n",
    "    hour: as a single numeric feature (0 through 23)\n",
    "    hour: as a categorical feature (use 23 dummy variables)\n",
    "    daytime: as a single categorical feature (daytime=1 from 7am to 8pm, and daytime=0 otherwise)\n",
    "\n",
    "Then, try using each of the three features (on its own) with train_test_rmse to see which one performs the best!\n"
   ]
  },
  {
   "cell_type": "code",
   "execution_count": null,
   "id": "e583c451",
   "metadata": {},
   "outputs": [],
   "source": [
    "# hour as a numeric feature"
   ]
  },
  {
   "cell_type": "code",
   "execution_count": null,
   "id": "455df4ed",
   "metadata": {},
   "outputs": [],
   "source": [
    "# daytime as a categorical feature\n",
    "\n"
   ]
  },
  {
   "cell_type": "code",
   "execution_count": null,
   "id": "00070d65",
   "metadata": {},
   "outputs": [],
   "source": [
    "# hour as a categorical feature\n",
    "\n"
   ]
  },
  {
   "cell_type": "markdown",
   "id": "7584dfbb",
   "metadata": {},
   "source": [
    "Comparing linear regression with other models\n",
    " \n",
    "Advantages of linear regression:\n",
    " \n",
    "- Simple to explain\n",
    "- Highly interpretable\n",
    "- Model training and prediction are fast\n",
    "- No tuning is required (excluding regularization)\n",
    "- Features don't need scaling\n",
    "- Can perform well with a small number of observations\n",
    "- Well-understood\n",
    "\n",
    "Disadvantages of linear regression:\n",
    " \n",
    "- Presumes a linear relationship between the features and the response\n",
    "- Performance is (generally) not competitive with the best supervised learning methods due to high bias\n",
    "- Can't automatically learn feature interactions"
   ]
  },
  {
   "cell_type": "code",
   "execution_count": null,
   "id": "da7e18cb",
   "metadata": {},
   "outputs": [],
   "source": []
  },
  {
   "cell_type": "code",
   "execution_count": null,
   "id": "63b5f989",
   "metadata": {},
   "outputs": [],
   "source": []
  }
 ],
 "metadata": {
  "kernelspec": {
   "display_name": "Python 3 (ipykernel)",
   "language": "python",
   "name": "python3"
  },
  "language_info": {
   "codemirror_mode": {
    "name": "ipython",
    "version": 3
   },
   "file_extension": ".py",
   "mimetype": "text/x-python",
   "name": "python",
   "nbconvert_exporter": "python",
   "pygments_lexer": "ipython3",
   "version": "3.11.5"
  }
 },
 "nbformat": 4,
 "nbformat_minor": 5
}
