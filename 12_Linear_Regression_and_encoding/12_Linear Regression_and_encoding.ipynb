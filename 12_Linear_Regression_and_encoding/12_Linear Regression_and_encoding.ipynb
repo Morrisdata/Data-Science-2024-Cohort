{
 "cells": [
  {
   "cell_type": "markdown",
   "id": "648d7847",
   "metadata": {},
   "source": [
    "# Linear regression and introduction to dummy variables and one hot encoding\n",
    "1) Understand the Problem or situation or create a hypothesis. \n",
    "2) Obtain the data or extract the data \n",
    "3) Data cleaning or Data prep\n",
    "4) Explore the data\n",
    "5) Feature Selection\n",
    "6) Algorithm Selection\n",
    "7) Tuning the Model\n",
    "8) Evaluating the Model\n",
    "9) Presentation\n",
    "\n",
    "scikit-learn's 6-step modeling pattern Takes place in Step 5,6,7,8\n",
    "\n",
    "Step 1: Create a feature matrix and response vector\n",
    "\n",
    "Step 2: Decide on the estimator you want to to use and import that class\n",
    "\n",
    "Step 3: \"Instantiate\" the \"estimator\"\n",
    "\n",
    "Step 4: Fit the model with data (aka \"model training\")\n",
    "\n",
    "Step 5: Use the model to predict the response for a new observation\n",
    "\n",
    "Step 6: Evaluate the error or accuracy of the model"
   ]
  },
  {
   "cell_type": "markdown",
   "id": "7f0ddb82",
   "metadata": {},
   "source": [
    "# Linear Regression\n",
    "\n",
    "Comparing linear regression with other models\n",
    "\n",
    "Advantages of linear regression:\n",
    "\n",
    "    Simple to explain\n",
    "    Highly interpretable\n",
    "    Model training and prediction are fast\n",
    "    No tuning is required (excluding regularization)\n",
    "    Features don't need scaling\n",
    "    Can perform well with a small number of observations\n",
    "    Well-understood\n",
    "\n",
    "Disadvantages of linear regression:\n",
    "\n",
    "    Presumes a linear relationship between the features and the response\n",
    "    Performance is (generally) not competitive with the best supervised learning methods due to high bias\n",
    "    Can't automatically learn feature interactions\n",
    "\n",
    "In simple terms it is the relationship between two variables\n",
    "Another way to think of it is the value of the dependent variable at certain value of the independent variable.\n"
   ]
  },
  {
   "cell_type": "code",
   "execution_count": null,
   "id": "3e125977",
   "metadata": {},
   "outputs": [],
   "source": [
    "Minutes = [100,150,200,300,350,400,450]\n",
    "Grade = [3,4,5,7,8,9,10]"
   ]
  },
  {
   "cell_type": "code",
   "execution_count": null,
   "id": "10141d08",
   "metadata": {},
   "outputs": [],
   "source": [
    "import seaborn as sns\n",
    "sns.scatterplot(x = Minutes, y = Grade)"
   ]
  },
  {
   "cell_type": "markdown",
   "id": "d83475c9",
   "metadata": {},
   "source": [
    "We dont have this data point but we want to inform students that if they studied more than 200 minutes like maybe 250 minutes they could hypothetically get a grade of???"
   ]
  },
  {
   "cell_type": "code",
   "execution_count": null,
   "id": "90171773",
   "metadata": {},
   "outputs": [],
   "source": [
    "Minutes = [100,100,150,98,103,350,195,205,200,300,310,350, 400,450, 435]\n",
    "Grade = [3,3.3,4,3.4,3,8,5,4.9,5,7,6.5, 8.6, 9,10, 9.9]"
   ]
  },
  {
   "cell_type": "code",
   "execution_count": null,
   "id": "9a295467",
   "metadata": {},
   "outputs": [],
   "source": [
    "sns.scatterplot(x = Minutes, y = Grade)"
   ]
  },
  {
   "cell_type": "code",
   "execution_count": null,
   "id": "b0437dba",
   "metadata": {},
   "outputs": [],
   "source": [
    "Minutes = [100,150,200,300,350,400,450,150]\n",
    "Grade = [3,4,5,7,8,9,10,9.6]"
   ]
  },
  {
   "cell_type": "code",
   "execution_count": null,
   "id": "6dc0886c",
   "metadata": {},
   "outputs": [],
   "source": [
    "sns.scatterplot(x = Minutes, y = Grade)"
   ]
  },
  {
   "cell_type": "code",
   "execution_count": null,
   "id": "a9b12454",
   "metadata": {},
   "outputs": [],
   "source": [
    "import pandas as pd\n",
    "import seaborn as sns\n",
    "df = pd.read_csv('C://Users//Matth//OneDrive//Desktop/DATA//Student_Grade.csv')\n",
    "df"
   ]
  },
  {
   "cell_type": "code",
   "execution_count": null,
   "id": "3bb72087",
   "metadata": {},
   "outputs": [],
   "source": [
    "sns.scatterplot(data = df, x = 'Study Time In Minutes', y = 'Credit Grade')"
   ]
  },
  {
   "cell_type": "code",
   "execution_count": null,
   "id": "dafb3e8d",
   "metadata": {},
   "outputs": [],
   "source": [
    "sns.lmplot(x =\"Study Time In Minutes\", y =\"Credit Grade\", data = df, aspect=1.5, scatter_kws={'alpha':0.2})"
   ]
  },
  {
   "cell_type": "markdown",
   "id": "15db5a38",
   "metadata": {},
   "source": [
    "Steps for modeling\n",
    "- Step 1: Understanding the Problem.\n",
    "- Step 2: Data Extraction.\n",
    "- Step 3: Data Cleaning.\n",
    "- Step 4: Exploratory Data Analysis.\n",
    "- Step 5: Feature Selection. <--- you are here\n",
    "- Step 6: Incorporating Machine Learning Algorithms. <-- and here\n",
    "- Step 7: Testing the Models. <-- and here\n",
    "- Step 8: Deploying the Model. "
   ]
  },
  {
   "cell_type": "markdown",
   "id": "489fa62f",
   "metadata": {},
   "source": [
    "### Step 1: Understanding the Problem.\n",
    "If you study more then your grades will be better."
   ]
  },
  {
   "cell_type": "markdown",
   "id": "166823f8",
   "metadata": {},
   "source": [
    "### Step 2: Data Extraction"
   ]
  },
  {
   "cell_type": "code",
   "execution_count": null,
   "id": "842daf55",
   "metadata": {},
   "outputs": [],
   "source": [
    "\n",
    "# lets first start by importing All the Required Libraries\n",
    "import numpy as np\n",
    "import pandas as pd\n",
    "import seaborn as sns\n",
    "import matplotlib.pyplot as plt\n",
    "from sklearn import preprocessing, svm\n",
    "from sklearn.model_selection import train_test_split\n",
    "from sklearn.linear_model import LinearRegression as linreg\n",
    "\n",
    "from sklearn import linear_model\n",
    "from sklearn.model_selection import train_test_split\n",
    "from sklearn.metrics import mean_squared_error, r2_score\n",
    "import matplotlib.pyplot as plt\n",
    "import numpy as np \n",
    "\n",
    "# Data Extraction\n",
    "df = pd.read_csv('C://Users//Matth//OneDrive//Desktop/DATA//Student_Grade.csv')\n",
    "df"
   ]
  },
  {
   "cell_type": "markdown",
   "id": "3c441807",
   "metadata": {},
   "source": [
    "### Step 3: Data Cleaning."
   ]
  },
  {
   "cell_type": "code",
   "execution_count": null,
   "id": "a9faf7ac",
   "metadata": {},
   "outputs": [],
   "source": [
    " # Step 3: Data Cleaning.\n",
    "'''Data cleansing can be an extensive and iterative process, \n",
    "this can involve removing duplicates, removing or working with Nans and zeros. \n",
    "renaming fields, accounting for outliers and more. For now we will keep it simple with \n",
    "A)Selecting attributes we are interested in(some tables will have lots of attributes and we may want to \n",
    "isolate to a few)\n",
    "B) Renaming fields for ease of use or readability\n",
    "'''\n",
    "# Select the two attributes intrested in\n",
    "df2 = df[['Study Time In Minutes', 'Credit Grade']]\n",
    "# Rename attributes if needed\n",
    "df2.rename(columns={'Study Time In Minutes':'Study Min', 'Credit Grade':'Grade'}, inplace=True)\n",
    "df2.columns"
   ]
  },
  {
   "cell_type": "markdown",
   "id": "dbf70ddb",
   "metadata": {},
   "source": [
    "### Step 4 EDA\n",
    "Just like with most of these steps there can be a lot of visualizations and work done in the EDA section. For just getting the flow down we will limit it to one visualization.\n",
    "EDA can often times lead to discoveries and more data cleansing. "
   ]
  },
  {
   "cell_type": "code",
   "execution_count": null,
   "id": "f1e2fcdf",
   "metadata": {},
   "outputs": [],
   "source": [
    "sns.lmplot(x =\"Study Min\", y =\"Grade\", data = df2, aspect=1.5, scatter_kws={'alpha':0.2})"
   ]
  },
  {
   "cell_type": "markdown",
   "id": "a874982d",
   "metadata": {},
   "source": [
    "### Step 5 Feature Selection\n",
    "In this example there is only one feature to select in future examples there will be more features. \n",
    "If you have 10 attributes you may want to keep them in your data set but only test or model 3 of them as \n",
    "your feature selection."
   ]
  },
  {
   "cell_type": "code",
   "execution_count": null,
   "id": "c8f1e7f8",
   "metadata": {},
   "outputs": [],
   "source": [
    "features = df2[['Study Min']]\n",
    "target = df2[['Grade']]"
   ]
  },
  {
   "cell_type": "code",
   "execution_count": null,
   "id": "f4a21735",
   "metadata": {},
   "outputs": [],
   "source": [
    "# Fit the model"
   ]
  },
  {
   "cell_type": "code",
   "execution_count": null,
   "id": "aeee58cd",
   "metadata": {},
   "outputs": [],
   "source": [
    "X_train, X_test, y_train, y_test = train_test_split(features, target, test_size=0.2, random_state=42)\n",
    "model = linear_model.LinearRegression()\n",
    "model.fit(X_train, y_train)"
   ]
  },
  {
   "cell_type": "code",
   "execution_count": null,
   "id": "d29d820f",
   "metadata": {},
   "outputs": [],
   "source": [
    "## Evaluate the model\n",
    "from sklearn.metrics import mean_absolute_error\n",
    "y_pred = model.predict(X_test)\n",
    "mse = mean_squared_error(y_test, y_pred)\n",
    "r2 = r2_score(y_test, y_pred)\n",
    "mae = mean_absolute_error(y_test, y_pred)\n",
    "\n",
    "print('R-Squared (R\\u00b2): {:.2f}%'.format(r2 * 100))\n",
    "print('Mean Squared Error (MSE): {:.2f}'.format(mse))\n",
    "print('Mean Absolute Error:{:.2f}'.format(mae))\n"
   ]
  },
  {
   "attachments": {
    "Reg_Line.avif": {
     "image/avif": "[encoded data removed]"
    }
   },
   "cell_type": "markdown",
   "id": "76e16b70",
   "metadata": {},
   "source": [
    "![Reg_Line.avif](attachment:Reg_Line.avif)\n",
    "- R-Square/Adjusted R square\n",
    "R-squared, also known as the coefficient of determination, is a widely used metric to assess the goodness-of-fit of a linear regression model. It represents the proportion of the variance in the dependent variable that is explained by the independent variables.\n",
    "\n",
    "- Mean Square Error(MSE)/Root Mean Square Error(RMSE)\n",
    "Mean Squared Error(MSE) and Root Mean Square Error penalizes the large prediction errors vi-a-vis Mean Absolute Error (MAE). \n",
    "However, RMSE is widely used than MSE to evaluate the performance of the regression model with other random models as it has the same units as the dependent variable (Y-axis).\n",
    "\n",
    "- Mean Absolute Error MAE\n",
    "To put it in short, if there are many outliers then you may consider using Mean Absolute Error (also called the Average Absolute Deviation). RMSE is more sensitive to outliers than the MAE. But when outliers are exponentially rare (like in a bell-shaped curve), the RMSE performs very well and is generally preferred.\n",
    "\n",
    "Some detail review of regression model evaluation tools and techniques along with some of the back end statistics. \n",
    "\n",
    "\n",
    "https://medium.com/the-modern-scientist/a-dive-into-regression-models-evaluation-310e60658011\n",
    "\n",
    "https://www.simplilearn.com/tutorials/statistics-tutorial/mean-squared-error\n"
   ]
  },
  {
   "cell_type": "code",
   "execution_count": null,
   "id": "87418048",
   "metadata": {},
   "outputs": [],
   "source": [
    "# Make a prediction\n",
    "y_pred_test = model.predict(X_test)\n",
    "y_pred = model.predict(X_train)"
   ]
  },
  {
   "cell_type": "code",
   "execution_count": null,
   "id": "eff69438",
   "metadata": {},
   "outputs": [],
   "source": [
    "# Prediction on training set\n",
    "plt.scatter(X_train, y_train, color = 'lightgreen')\n",
    "plt.plot(X_train, y_pred_train, color = 'red')\n",
    "plt.title('Does Study time increase chance of better grades?')\n",
    "plt.xlabel('Study Time')\n",
    "plt.ylabel('Grade')\n",
    "plt.legend(['X_train/Pred(y_test)', \n",
    "            'X_train/y_train'], \n",
    "           title = 'Grade/StudyTime', \n",
    "           loc='best', \n",
    "           facecolor='white')\n",
    "plt.box(False)\n",
    "plt.show()"
   ]
  },
  {
   "cell_type": "code",
   "execution_count": null,
   "id": "749dadf4",
   "metadata": {},
   "outputs": [],
   "source": [
    "# Prediction on test set\n",
    "plt.scatter(X_test, y_test, color = 'lightgreen')\n",
    "plt.plot(X_train, y_pred_train, color = 'red')\n",
    "plt.title('Does Study time increase chance of better grades?')\n",
    "plt.xlabel('Study Time')\n",
    "plt.ylabel('Grade')\n",
    "plt.legend(['X_train/Pred(y_test)', 'X_train/y_train'], \n",
    "           title = 'Grade/StudyTime', \n",
    "           loc='best', \n",
    "           facecolor='white')\n",
    "plt.box(False)\n",
    "plt.show()"
   ]
  },
  {
   "cell_type": "code",
   "execution_count": null,
   "id": "01769254",
   "metadata": {},
   "outputs": [],
   "source": [
    "# print the coefficients# the value of y in x = 0 \n",
    "# so if a person studied 0 minutes \n",
    "print(\"intercept: or if a person studied 0 minutes what would be their score\",model.intercept_)\n",
    "print(\"coef: what is each step for each minute studied as it effects grade\",model.coef_)"
   ]
  },
  {
   "cell_type": "markdown",
   "id": "c5536197",
   "metadata": {},
   "source": [
    "In all these cases, the y-intercept provides a baseline value for the dependent variable, against which changes in the independent variable can be compared. It's an essential part of understanding the relationship between the two variables, and can often provide important insights into the system being studied.\n",
    "\n",
    "The coefficient value signifies how much the mean of the dependent variable changes given a one-unit shift in the independent variable while holding other variables in the model constant.\n",
    "\n"
   ]
  },
  {
   "attachments": {
    "image-3.png": {
     "image/png": "[encoded data removed]"
    }
   },
   "cell_type": "markdown",
   "id": "b3f45b27",
   "metadata": {},
   "source": [
    "## Dummy Variables and One-hot encoding\n",
    "These are two different methods that have the same outcomes but can provide slight difference in benefits. \n",
    "![image-3.png](attachment:image-3.png)"
   ]
  },
  {
   "cell_type": "code",
   "execution_count": null,
   "id": "80931aec",
   "metadata": {},
   "outputs": [],
   "source": [
    "import pandas as pd\n",
    "#create DataFrame\n",
    "df = pd.DataFrame({'area': ['rural', 'rural', 'urban', 'urban', 'suburban', 'suburban', 'rural', 'urban'],\n",
    "                   'rating': [25, 12, 15, 14, 19, 23, 25, 29]})\n",
    "pd.get_dummies(df)"
   ]
  },
  {
   "cell_type": "code",
   "execution_count": null,
   "id": "1c27b03e",
   "metadata": {},
   "outputs": [],
   "source": [
    "import pandas as pd\n",
    "#create DataFrame\n",
    "df2 = pd.DataFrame({'area': ['rural', 'rural', 'urban', 'urban', 'suburban', 'suburban', 'rural', 'urban'],\n",
    "                   'rating': [25, 12, 15, 14, 19, 23, 25, 29]})\n",
    "#view DataFrame\n",
    "print(df) "
   ]
  },
  {
   "cell_type": "code",
   "execution_count": null,
   "id": "38d2cbfe",
   "metadata": {},
   "outputs": [],
   "source": [
    "from sklearn.preprocessing import OneHotEncoder\n",
    "\n",
    "#creating instance of one-hot-encoder\n",
    "encoder = OneHotEncoder(handle_unknown='ignore')\n",
    "\n",
    "#perform one-hot encoding on 'team' column \n",
    "encoder_df = pd.DataFrame(encoder.fit_transform(df2[['area']]).toarray())\n",
    "\n",
    "#merge one-hot encoded columns back with original DataFrame\n",
    "final_df = df2.join(encoder_df)\n",
    "\n",
    "#view final df\n",
    "print(final_df)"
   ]
  },
  {
   "cell_type": "markdown",
   "id": "a7a3cbe8",
   "metadata": {},
   "source": [
    "### Classic BIKESHARE example (putting it all together)"
   ]
  },
  {
   "cell_type": "markdown",
   "id": "1e73956b",
   "metadata": {},
   "source": [
    "# What is the bikeshare dataset\n",
    "We'll be working with a dataset from Capital Bikeshare that was used in a Kaggle competition."
   ]
  },
  {
   "cell_type": "code",
   "execution_count": null,
   "id": "7d7672c5",
   "metadata": {},
   "outputs": [],
   "source": [
    "# reading in the data set and setting the datetime as the index\n",
    "df = pd.read_csv('C://Users//Matth//OneDrive//Desktop/DATA//bikeshare.csv', \n",
    "                 index_col='datetime', \n",
    "                 parse_dates=True)\n",
    "df"
   ]
  },
  {
   "cell_type": "code",
   "execution_count": null,
   "id": "1254f9b2",
   "metadata": {},
   "outputs": [],
   "source": [
    "df.dtypes"
   ]
  },
  {
   "cell_type": "code",
   "execution_count": null,
   "id": "b748e7e8",
   "metadata": {},
   "outputs": [],
   "source": [
    "df.index"
   ]
  },
  {
   "cell_type": "markdown",
   "id": "b87dd500",
   "metadata": {},
   "source": [
    "Questions:\n",
    "    How many Features are there\n",
    "    What does each observation represent?\n",
    "    What is the response variable?\n",
    "    Where does your curiosity guide you?"
   ]
  },
  {
   "cell_type": "markdown",
   "id": "12dbfd7d",
   "metadata": {},
   "source": [
    "Are there blanks?\n",
    "Are there duplicates?\n",
    "Are there fields that could be dropped or renamed?"
   ]
  },
  {
   "cell_type": "code",
   "execution_count": null,
   "id": "7c013863",
   "metadata": {},
   "outputs": [],
   "source": [
    "# \"count\" is a method, so it's best to name that column something else\n",
    "df.rename(columns={'count':'total'}, inplace=True)\n",
    "df.columns\n"
   ]
  },
  {
   "cell_type": "markdown",
   "id": "e578af32",
   "metadata": {},
   "source": [
    "### Visualizing the data"
   ]
  },
  {
   "cell_type": "code",
   "execution_count": null,
   "id": "8ff6ac44",
   "metadata": {},
   "outputs": [],
   "source": [
    "# Pandas scatter plot\n",
    "df.plot(kind='scatter', x='temp', y='total', alpha=0.2)"
   ]
  },
  {
   "cell_type": "code",
   "execution_count": null,
   "id": "15056cb0",
   "metadata": {},
   "outputs": [],
   "source": [
    "# Seaborn scatter plot with regression line\n",
    "sns.lmplot(x='temp', y='total', data=df, aspect=1.5, scatter_kws={'alpha':0.2})"
   ]
  },
  {
   "cell_type": "markdown",
   "id": "53ff5ff6",
   "metadata": {},
   "source": [
    "\n",
    "Building a simple linear regression model (one feature)\n",
    "\n",
    "For our first task we decide to create a model which will predict the number of rentals based on the temperature.\n"
   ]
  },
  {
   "cell_type": "code",
   "execution_count": null,
   "id": "37fc6dbd",
   "metadata": {},
   "outputs": [],
   "source": [
    "# create X and y\n",
    "feature_cols = ['temp']\n",
    "X = df[feature_cols]\n",
    "y = df.total\n",
    "X.shape"
   ]
  },
  {
   "cell_type": "code",
   "execution_count": null,
   "id": "50c1b757",
   "metadata": {},
   "outputs": [],
   "source": [
    "type(X)"
   ]
  },
  {
   "cell_type": "code",
   "execution_count": null,
   "id": "8ef66a98",
   "metadata": {},
   "outputs": [],
   "source": [
    "y.shape"
   ]
  },
  {
   "cell_type": "code",
   "execution_count": null,
   "id": "3d6bdc42",
   "metadata": {},
   "outputs": [],
   "source": [
    "type(y)"
   ]
  },
  {
   "cell_type": "code",
   "execution_count": null,
   "id": "7a2db371",
   "metadata": {},
   "outputs": [],
   "source": [
    "# We have created our X (feature matrix) and Y (response vector so now lets:\n",
    "# import our chosen estimator, instantiate it into a variable, fit the model with the X and y\n",
    "from sklearn.linear_model import LinearRegression\n",
    "linreg = LinearRegression()\n",
    "linreg.fit(X, y)"
   ]
  },
  {
   "cell_type": "code",
   "execution_count": null,
   "id": "62f9ca38",
   "metadata": {},
   "outputs": [],
   "source": [
    "type(linreg)"
   ]
  },
  {
   "cell_type": "code",
   "execution_count": null,
   "id": "b12227b2",
   "metadata": {},
   "outputs": [],
   "source": [
    "# print the coefficients\n",
    "print(linreg.intercept_)\n",
    "print(linreg.coef_)"
   ]
  },
  {
   "cell_type": "markdown",
   "id": "d718f459",
   "metadata": {},
   "source": [
    "Visualizing the data "
   ]
  },
  {
   "cell_type": "code",
   "execution_count": null,
   "id": "dd868a65",
   "metadata": {},
   "outputs": [],
   "source": [
    "# explore more features\n",
    "feature_cols = ['temp', 'season', 'weather', 'humidity']"
   ]
  },
  {
   "cell_type": "code",
   "execution_count": null,
   "id": "6c02c012",
   "metadata": {},
   "outputs": [],
   "source": [
    "# multiple scatter plots in Seaborn\n",
    "sns.pairplot(df, x_vars=feature_cols, y_vars='total', kind='reg')"
   ]
  },
  {
   "cell_type": "code",
   "execution_count": null,
   "id": "a1a19d7c",
   "metadata": {},
   "outputs": [],
   "source": [
    "# multiple scatter plots in matplotlib\n",
    "fig, axs = plt.subplots(1, len(feature_cols), sharey=True)\n",
    "for index, feature in enumerate(feature_cols):\n",
    "    df.plot(kind='scatter', x=feature, y='total', ax=axs[index], figsize=(16, 3))"
   ]
  },
  {
   "cell_type": "markdown",
   "id": "70bccbf5",
   "metadata": {},
   "source": [
    "What are your observations?"
   ]
  },
  {
   "cell_type": "code",
   "execution_count": null,
   "id": "7e62fb16",
   "metadata": {},
   "outputs": [],
   "source": [
    "# cross-tabulation of season and month\n",
    "pd.crosstab(df.season, df.index.month)"
   ]
  },
  {
   "cell_type": "code",
   "execution_count": null,
   "id": "ce910b67",
   "metadata": {},
   "outputs": [],
   "source": [
    "# box plot of rentals, grouped by season\n",
    "df.boxplot(column='total', by='season')"
   ]
  },
  {
   "cell_type": "code",
   "execution_count": null,
   "id": "12d92f7c",
   "metadata": {},
   "outputs": [],
   "source": [
    "# line plot of rentals\n",
    "df.total.plot()"
   ]
  },
  {
   "cell_type": "markdown",
   "id": "bc45da81",
   "metadata": {},
   "source": [
    "\n",
    "\n",
    "What does this tell us?\n",
    "\n",
    "There are more rentals in the winter than the spring, but only because the system is experiencing overall growth and the winter months happen to come after the spring months.\n"
   ]
  },
  {
   "cell_type": "code",
   "execution_count": null,
   "id": "ccd58931",
   "metadata": {},
   "outputs": [],
   "source": [
    "# correlation matrix (ranges from 1 to -1)\n",
    "df.corr()"
   ]
  },
  {
   "cell_type": "code",
   "execution_count": null,
   "id": "2e42243b",
   "metadata": {},
   "outputs": [],
   "source": [
    "# visualize correlation matrix in Seaborn using a heatmap\n",
    "sns.heatmap(df.corr())"
   ]
  },
  {
   "cell_type": "markdown",
   "id": "f058dcdf",
   "metadata": {},
   "source": [
    "What relationships do you notice?\n",
    "Adding more features to the model"
   ]
  },
  {
   "cell_type": "code",
   "execution_count": null,
   "id": "f83ed556",
   "metadata": {},
   "outputs": [],
   "source": [
    "# create a list of features\n",
    "feature_cols = ['temp', 'season', 'weather', 'humidity']\n",
    "\n",
    "# create X and y\n",
    "X = df[feature_cols]\n",
    "y = df.total\n",
    "\n",
    "# instantiate and fit\n",
    "linreg = LinearRegression()\n",
    "linreg.fit(X, y)\n",
    "\n",
    "# print the coefficients\n",
    "print(linreg.intercept_)\n",
    "print(linreg.coef_)"
   ]
  },
  {
   "cell_type": "code",
   "execution_count": null,
   "id": "c87df02a",
   "metadata": {},
   "outputs": [],
   "source": [
    "# pair the feature names with the coefficients\n",
    "zip(feature_cols, linreg.coef_)"
   ]
  },
  {
   "cell_type": "markdown",
   "id": "55c4d13c",
   "metadata": {},
   "source": [
    "Python's zip() function creates an iterator that will aggregate elements from two or more iterables. You can use the resulting iterator to quickly and consistently solve common programming problems, like creating dictionaries."
   ]
  },
  {
   "cell_type": "markdown",
   "id": "a84f0c60",
   "metadata": {},
   "source": [
    "\n",
    "Feature selection\n",
    "\n",
    "How do we choose which features to include in the model? We're going to use train/test split (and eventually cross-validation).\n",
    "\n",
    "Why not use of p-values or R-squared for feature selection?\n",
    "\n",
    "    Linear models rely upon a lot of assumptions (such as the features being independent), and if those assumptions are violated, p-values and R-squared are less reliable. Train/test split relies on fewer assumptions.\n",
    "    Features that are unrelated to the response can still have significant p-values.\n",
    "    Adding features to your model that are unrelated to the response will always increase the R-squared value, and adjusted R-squared does not sufficiently account for this.\n",
    "    p-values and R-squared are proxies for our goal of generalization, whereas train/test split and cross-validation attempt to directly estimate how well the model will generalize to out-of-sample data.\n",
    "\n",
    "More generally:\n",
    "\n",
    "    There are different methodologies that can be used for solving any given data science problem, and this course follows a machine learning methodology.\n",
    "    This course focuses on general purpose approaches that can be applied to any model, rather than model-specific approaches.\n",
    "\n",
    "Evaluation metrics for regression problems\n",
    "\n",
    "Evaluation metrics for classification problems, such as accuracy, are not useful for regression problems. We need evaluation metrics designed for comparing continuous values.\n",
    "\n",
    "Here are three common evaluation metrics for regression problems:\n",
    "\n",
    "Mean Absolute Error (MAE) is the mean of the absolute value of the errors:\n",
    "    Mean Squared Error (MSE) is the mean of the squared errors:\n",
    "        Root Mean Squared Error (RMSE) is the square root of the mean of the squared errors:"
   ]
  },
  {
   "cell_type": "code",
   "execution_count": null,
   "id": "d96e50ce",
   "metadata": {},
   "outputs": [],
   "source": [
    "# example true and predicted response values\n",
    "true = [10, 7, 5, 5]\n",
    "pred = [8, 6, 5, 10]"
   ]
  },
  {
   "cell_type": "code",
   "execution_count": null,
   "id": "8c854a78",
   "metadata": {},
   "outputs": [],
   "source": [
    "# calculate these metrics by hand!\n",
    "from sklearn import metrics\n",
    "import numpy as np\n",
    "print('MAE:', metrics.mean_absolute_error(true, pred))\n",
    "print('MSE:', metrics.mean_squared_error(true, pred))\n",
    "print('RMSE:', np.sqrt(metrics.mean_squared_error(true, pred)))"
   ]
  },
  {
   "cell_type": "markdown",
   "id": "3ed063c6",
   "metadata": {},
   "source": [
    "Comparing these metrics:\n",
    "\n",
    "    MAE is the easiest to understand, because it's the average error.\n",
    "    MSE is more popular than MAE, because MSE \"punishes\" larger errors, which tends to be useful in the real world.\n",
    "    RMSE is even more popular than MSE, because RMSE is interpretable in the \"y\" units.\n",
    "\n",
    "All of these are loss functions, because we want to minimize them.\n",
    "\n",
    "Here's an additional example, to demonstrate how MSE/RMSE punish larger errors:\n"
   ]
  },
  {
   "cell_type": "code",
   "execution_count": null,
   "id": "ae63ecdc",
   "metadata": {},
   "outputs": [],
   "source": [
    "# same true values as above\n",
    "true = [10, 7, 5, 5]\n",
    "\n",
    "# new set of predicted values\n",
    "pred = [10, 7, 5, 13]\n",
    "\n",
    "# MAE is the same as before\n",
    "print('MAE:', metrics.mean_absolute_error(true, pred))\n",
    "\n",
    "# MSE and RMSE are larger than before\n",
    "print('MSE:', metrics.mean_squared_error(true, pred))\n",
    "print('RMSE:', np.sqrt(metrics.mean_squared_error(true, pred)))\n"
   ]
  },
  {
   "cell_type": "markdown",
   "id": "916f22b2",
   "metadata": {},
   "source": [
    "Comparing models with train/test split and RMSE"
   ]
  },
  {
   "cell_type": "code",
   "execution_count": null,
   "id": "7c98b0f5",
   "metadata": {},
   "outputs": [],
   "source": [
    "from sklearn.model_selection import train_test_split\n",
    "\n",
    "# define a function that accepts a list of features and returns testing RMSE\n",
    "def train_test_rmse(feature_cols):\n",
    "    X = df[feature_cols]\n",
    "    y = df.total\n",
    "    X_train, X_test, y_train, y_test = train_test_split(X, y, random_state=123)\n",
    "    linreg = LinearRegression()\n",
    "    linreg.fit(X_train, y_train)\n",
    "    y_pred = linreg.predict(X_test)\n",
    "    return np.sqrt(metrics.mean_squared_error(y_test, y_pred))"
   ]
  },
  {
   "cell_type": "code",
   "execution_count": null,
   "id": "2b73b95a",
   "metadata": {},
   "outputs": [],
   "source": [
    "train_test_split(X, y, random_state=123)"
   ]
  },
  {
   "cell_type": "code",
   "execution_count": null,
   "id": "f212b2f1",
   "metadata": {},
   "outputs": [],
   "source": [
    "# compare different sets of features\n",
    "print(train_test_rmse(['temp', 'season', 'weather', 'humidity']))\n",
    "print(train_test_rmse(['temp', 'season', 'weather']))\n",
    "print(train_test_rmse(['temp', 'season', 'humidity']))\n",
    "print(train_test_rmse(['temp', 'humidity']))\n",
    "\n"
   ]
  },
  {
   "cell_type": "code",
   "execution_count": null,
   "id": "c2957625",
   "metadata": {},
   "outputs": [],
   "source": [
    "# using these as features is not allowed!\n",
    "print(train_test_rmse(['casual', 'registered']))"
   ]
  },
  {
   "cell_type": "markdown",
   "id": "3e948616",
   "metadata": {},
   "source": [
    "Comparing testing RMSE with null RMSE\n",
    "Null RMSE is the RMSE that could be achieved by always predicting the mean response value. It is a benchmark against which you may want to measure your regression model."
   ]
  },
  {
   "cell_type": "code",
   "execution_count": null,
   "id": "97f18ede",
   "metadata": {},
   "outputs": [],
   "source": [
    "# split X and y into training and testing sets\n",
    "X_train, X_test, y_train, y_test = train_test_split(X, y, random_state=123)\n",
    "\n",
    "# create a NumPy array with the same shape as y_test\n",
    "y_null = np.zeros_like(y_test, dtype=float)\n",
    "\n",
    "# fill the array with the mean value of y_test\n",
    "y_null.fill(y_test.mean())\n",
    "y_null\n",
    "\n"
   ]
  },
  {
   "cell_type": "code",
   "execution_count": null,
   "id": "d43ddf39",
   "metadata": {},
   "outputs": [],
   "source": [
    "# compute null RMSE\n",
    "np.sqrt(metrics.mean_squared_error(y_test, y_null))"
   ]
  },
  {
   "cell_type": "markdown",
   "id": "8948a35c",
   "metadata": {},
   "source": [
    "Handling categorical features\n",
    "\n",
    "scikit-learn expects all features to be numeric. So how do we include a categorical feature in our model?\n",
    "\n",
    "    Ordered categories: transform them to sensible numeric values (example: small=1, medium=2, large=3)\n",
    "    Unordered categories: use dummy encoding (0/1)\n",
    "\n",
    "What are the categorical features in our dataset?\n",
    "\n",
    "    Ordered categories: weather (already encoded with sensible numeric values)\n",
    "    Unordered categories: season (needs dummy encoding), holiday (already dummy encoded), workingday (already dummy encoded)\n",
    "\n",
    "For season, we can't simply leave the encoding as 1 = spring, 2 = summer, 3 = fall, and 4 = winter, because that would imply an ordered relationship. Instead, we create multiple dummy variables:\n"
   ]
  },
  {
   "cell_type": "code",
   "execution_count": null,
   "id": "8ffbd248",
   "metadata": {},
   "outputs": [],
   "source": [
    "# create dummy variables\n",
    "season_dummies = pd.get_dummies(df.season, prefix='season')\n",
    "\n",
    "# print 5 random rows\n",
    "season_dummies.sample(n=5, random_state=1)"
   ]
  },
  {
   "cell_type": "markdown",
   "id": "f437d304",
   "metadata": {},
   "source": [
    "\n",
    "\n",
    "However, we actually only need three dummy variables (not four), and thus we'll drop the first dummy variable.\n",
    "\n",
    "Why? Because three dummies captures all of the \"information\" about the season feature, and implicitly defines spring (season 1) as the baseline level:\n"
   ]
  },
  {
   "cell_type": "code",
   "execution_count": null,
   "id": "3c353974",
   "metadata": {},
   "outputs": [],
   "source": [
    "# drop the first column\n",
    "season_dummies.drop(season_dummies.columns[0], axis=1, inplace=True)\n",
    "\n",
    "# print 5 random rows\n",
    "season_dummies.sample(n=5, random_state=1)"
   ]
  },
  {
   "cell_type": "markdown",
   "id": "a9a33250",
   "metadata": {},
   "source": [
    "\n",
    "\n",
    "In general, if you have a categorical feature with k possible values, you create k-1 dummy variables.\n",
    "\n",
    "If that's confusing, think about why we only need one dummy variable for holiday, not two dummy variables (holiday_yes and holiday_no).\n"
   ]
  },
  {
   "cell_type": "code",
   "execution_count": null,
   "id": "9cad1fa9",
   "metadata": {},
   "outputs": [],
   "source": [
    "# concatenate the original DataFrame and the dummy DataFrame (axis=0 means rows, axis=1 means columns)\n",
    "df = pd.concat([df, season_dummies], axis=1)"
   ]
  },
  {
   "cell_type": "code",
   "execution_count": null,
   "id": "bffaa958",
   "metadata": {},
   "outputs": [],
   "source": [
    "# print 5 random rows\n",
    "df.sample(n=5, random_state=1)"
   ]
  },
  {
   "cell_type": "code",
   "execution_count": null,
   "id": "c13c2130",
   "metadata": {},
   "outputs": [],
   "source": [
    "# include dummy variables for season in the model\n",
    "# include dummy variables for season in the model\n",
    "feature_cols = ['temp', 'season_2', 'season_3', 'season_4', 'humidity']\n",
    "X = df[feature_cols]\n",
    "y = df.total\n",
    "linreg = LinearRegression()\n",
    "linreg.fit(X, y)\n",
    "list(zip(feature_cols, linreg.coef_))\n"
   ]
  },
  {
   "cell_type": "markdown",
   "id": "c2f21f31",
   "metadata": {},
   "source": [
    "How do we interpret the season coefficients? They are measured against the baseline (spring):\n",
    "\n",
    "    Holding all other features fixed, summer is associated with a rental decrease of 3.39 bikes compared to the spring.\n",
    "    Holding all other features fixed, fall is associated with a rental decrease of 41.7 bikes compared to the spring.\n",
    "    Holding all other features fixed, winter is associated with a rental increase of 64.4 bikes compared to the spring.\n",
    "\n",
    "Would it matter if we changed which season was defined as the baseline?\n",
    "\n",
    "    No, it would simply change our interpretation of the coefficients.\n",
    "\n",
    "Important: Dummy encoding is relevant for all machine learning models, not just linear regression models.\n"
   ]
  },
  {
   "cell_type": "code",
   "execution_count": null,
   "id": "f730ea20",
   "metadata": {},
   "outputs": [],
   "source": [
    "# compare original season variable with dummy variables\n",
    "#print(train_test_rmse(['temp', 'season', 'humidity']))\n",
    "print(train_test_rmse(['temp', 'season_2', 'season_3', 'season_4', 'humidity']))"
   ]
  },
  {
   "cell_type": "code",
   "execution_count": null,
   "id": "6ca4aed0",
   "metadata": {},
   "outputs": [],
   "source": [
    "# create dummy variables\n",
    "season_dummies = pd.get_dummies(df.season, dtype=int, prefix='season')\n",
    "# concatenate the original DataFrame and the dummy DataFrame (axis=0 means rows, axis=1 means columns)\n",
    "df = pd.concat([df, season_dummies], axis=1)\n",
    "# print 5 random rows\n",
    "df.sample(n=5, random_state=1)"
   ]
  },
  {
   "cell_type": "code",
   "execution_count": null,
   "id": "b2b60c90",
   "metadata": {},
   "outputs": [],
   "source": [
    "df.columns"
   ]
  },
  {
   "cell_type": "code",
   "execution_count": null,
   "id": "3da67386",
   "metadata": {},
   "outputs": [],
   "source": [
    "feature_cols = ['temp','season', 'season_1' ,'season_2', 'season_3', 'season_4', 'humidity']\n",
    "feature_cols"
   ]
  },
  {
   "cell_type": "code",
   "execution_count": null,
   "id": "3fb15a9e",
   "metadata": {},
   "outputs": [],
   "source": [
    "df[feature_cols]"
   ]
  },
  {
   "cell_type": "code",
   "execution_count": null,
   "id": "151543ec",
   "metadata": {},
   "outputs": [],
   "source": [
    "# include dummy variables for season in the model\n",
    "# include dummy variables for season in the model\n",
    "feature_cols = ['temp','season', 'season_2', 'season_3', 'season_4', 'humidity']\n",
    "X = df[feature_cols]\n",
    "y = df.total\n",
    "linreg = LinearRegression()\n",
    "linreg.fit(X, y)\n",
    "list(zip(feature_cols, linreg.coef_))\n",
    "# compare original season variable with dummy variables\n",
    "print(train_test_rmse(['temp', 'season', 'humidity']))\n",
    "print(train_test_rmse(['temp','season_2','season_3', 'season_4', 'humidity']))"
   ]
  },
  {
   "cell_type": "markdown",
   "id": "84e542d5",
   "metadata": {},
   "source": [
    "#### Challenges\n",
    "Feature engineering\n",
    "\n",
    "See if you can create the following features:\n",
    "\n",
    "    hour: as a single numeric feature (0 through 23)\n",
    "    hour: as a categorical feature (use 23 dummy variables)\n",
    "    daytime: as a single categorical feature (daytime=1 from 7am to 8pm, and daytime=0 otherwise)\n",
    "\n",
    "Then, try using each of the three features (on its own) with train_test_rmse to see which one performs the best!\n"
   ]
  },
  {
   "cell_type": "markdown",
   "id": "7584dfbb",
   "metadata": {},
   "source": [
    "Comparing linear regression with other models\n",
    " \n",
    "Advantages of linear regression:\n",
    " \n",
    "- Simple to explain\n",
    "- Highly interpretable\n",
    "- Model training and prediction are fast\n",
    "- No tuning is required (excluding regularization)\n",
    "- Features don't need scaling\n",
    "- Can perform well with a small number of observations\n",
    "- Well-understood\n",
    "\n",
    "Disadvantages of linear regression:\n",
    " \n",
    "- Presumes a linear relationship between the features and the response\n",
    "- Performance is (generally) not competitive with the best supervised learning methods due to high bias\n",
    "- Can't automatically learn feature interactions"
   ]
  },
  {
   "cell_type": "code",
   "execution_count": null,
   "id": "e583c451",
   "metadata": {},
   "outputs": [],
   "source": [
    "# hour as a numeric feature"
   ]
  },
  {
   "cell_type": "code",
   "execution_count": null,
   "id": "455df4ed",
   "metadata": {},
   "outputs": [],
   "source": [
    "# daytime as a categorical feature\n",
    "\n"
   ]
  },
  {
   "cell_type": "code",
   "execution_count": null,
   "id": "00070d65",
   "metadata": {},
   "outputs": [],
   "source": [
    "# hour as a categorical feature\n",
    "\n"
   ]
  },
  {
   "cell_type": "markdown",
   "id": "53ea8240",
   "metadata": {},
   "source": [
    "### Bonus \n",
    "\n",
    "Anscombe's Quartet\n",
    "\n",
    "In a 1973 paper, Graphs in Statistical Analysis, published in The American Statistician, Vol. 27, No. 1. (Feb., 1973), pp. 17-21, statistician Francis Anscombe provided the briefiest of abstracts: \"Graphs are essential to good statistical analysis\".\n",
    "\n",
    "His paper opened with a brief meditation on the usefulness of graphs:\n",
    "\n",
    "\"Most textbooks on statistical methods, and most statistical computer programs, pay too little attention to graphs. Few of us escape being indoctrinated with these notions:\n",
    "\n",
    "    numerical calculations are exact, but graphs are rough;\n",
    "    for any particular kind of statistical data there is just one set of calculations constituting a correct statistical analysis;\n",
    "    performing intricate calculations is virtuous, whereas actually looking at the data is cheating.\n",
    "\n",
    "A computer should make both calculations and graphs. Both sorts of output should be studied; each will contribute to understanding.\n",
    "\n",
    "Graphs can have various purposes, such as: (i) to help us perceive and appreciate some broad features of the data, (ii) to let us look behind those broad features and see what else is there. Most kinds of statistical calculation rest on assumptions about the behavior of the data. Those assumptions may be false, and then the calculations may be misleading. We ought always to try to check whether the assumptions are reasonably correct; and if they are wrong we ought to be able to perceive in what ways they are wrong. Graphs are very valuable for these purposes.\n",
    "\n",
    "Good statistical analysis is not a purely routine matter, and generally calls for more than one pass through the computer. The analysis should be sensitive both to peculiar features in the given numbers and also to whatever background information is available about the variables. The latter is particularly helpful in suggesting alternative ways of setting up the analysis. Thought and ingenuity devoted to devising good graphs are likely to pay off. Many ideas can be gleaned from the literature...\"\n"
   ]
  },
  {
   "cell_type": "code",
   "execution_count": null,
   "id": "9d50759f",
   "metadata": {},
   "outputs": [],
   "source": [
    "####!/usr/bin/env python\n",
    "# -*- coding: utf-8 -*-\n",
    "\"\"\"\n",
    "Created on Sat Nov 28 13:41:39 2015\n",
    "\n",
    "@author: jim_byers\n",
    "# Heavily leveraged from matplotlib example with slight changes:\n",
    "# http://matplotlib.org/examples/pylab_examples/anscombe.html\n",
    "# Description and Anscrombe quote are from:\n",
    "#    http://nbviewer.ipython.org/github/psychemedia/ou-tm351/blob/master/notebooks-RFC/Anscombe's%20Quartet%20%5Bopen%5D.ipynb\n",
    "\n",
    "\"\"\"\n",
    "\n",
    "from __future__ import print_function\n",
    "\"\"\"\n",
    "Edward Tufte uses this example from Anscombe to show 4 datasets of x\n",
    "and y that have the same mean, standard deviation, and regression\n",
    "line, but which are qualitatively different.\n",
    "\n",
    "matplotlib fun for a rainy day\n",
    "\"\"\"\n",
    "\n",
    "import matplotlib.pyplot as plt\n",
    "import numpy as np\n",
    "\n",
    "%matplotlib inline\n",
    "plt.rcParams['figure.figsize'] = (8, 6)\n",
    "plt.rcParams['font.size'] = 14\n",
    "\n",
    "# Implement Anscombe dataset values into arrays\n",
    "x = np.array([10, 8, 13, 9, 11, 14, 6, 4, 12, 7, 5])\n",
    "y1 = np.array([8.04, 6.95, 7.58, 8.81, 8.33, 9.96, 7.24, 4.26, 10.84, 4.82, 5.68])\n",
    "y2 = np.array([9.14, 8.14, 8.74, 8.77, 9.26, 8.10, 6.13, 3.10, 9.13, 7.26, 4.74])\n",
    "y3 = np.array([7.46, 6.77, 12.74, 7.11, 7.81, 8.84, 6.08, 5.39, 8.15, 6.42, 5.73])\n",
    "x4 = np.array([8, 8, 8, 8, 8, 8, 8, 19, 8, 8, 8])\n",
    "y4 = np.array([6.58, 5.76, 7.71, 8.84, 8.47, 7.04, 5.25, 12.50, 5.56, 7.91, 6.89])\n",
    "\n",
    "\n",
    "def fit(x):\n",
    "    return 3 + 0.5*x\n",
    "\n",
    "# plt.set_marker('circle')\n",
    "xfit = np.array([np.amin(x), np.amax(x)])\n",
    "\n",
    "plt.subplot(221)\n",
    "plt.plot(x, y1, 'ks', xfit, fit(xfit), 'r-', lw=2, marker='o', markerfacecolor = '.25', markeredgecolor = '0', color='b')\n",
    "plt.axis([2, 20, 2, 14])\n",
    "plt.setp(plt.gca(), xticklabels=[], yticks=(4, 8, 12), xticks=(0, 10, 20))\n",
    "plt.text(3, 12, 'I', fontsize=20)\n",
    "\n",
    "plt.subplot(222)\n",
    "plt.plot(x, y2, 'ks', xfit, fit(xfit), 'r-', lw=2, marker='o', markerfacecolor = '.25', markeredgecolor = '0', color='b')\n",
    "plt.axis([2, 20, 2, 14])\n",
    "plt.setp(plt.gca(), xticklabels=[], yticks=(4, 8, 12), yticklabels=[], xticks=(0, 10, 20))\n",
    "plt.text(3, 12, 'II', fontsize=20)\n",
    "\n",
    "plt.subplot(223)\n",
    "plt.plot(x, y3, 'ks', xfit, fit(xfit), 'r-', lw=2, marker='o', markerfacecolor = '.25', markeredgecolor = '0', color='b')\n",
    "plt.axis([2, 20, 2, 14])\n",
    "plt.text(3, 12, 'III', fontsize=20)\n",
    "plt.setp(plt.gca(), yticks=(4, 8, 12), xticks=(0, 10, 20))\n",
    "\n",
    "plt.subplot(224)\n",
    "\n",
    "xfit = np.array([np.amin(x4), np.amax(x4)])\n",
    "plt.plot(x4, y4, 'ks', xfit, fit(xfit), 'r-', lw=2, marker='o', markerfacecolor = '.25', markeredgecolor = '0', color='b')\n",
    "plt.axis([2, 20, 2, 14])\n",
    "plt.setp(plt.gca(), yticklabels=[], yticks=(4, 8, 12), xticks=(0, 10, 20))\n",
    "plt.text(3, 12, 'IV', fontsize=20)\n",
    "\n",
    "# verify the stats\n",
    "pairs = (x, y1), (x, y2), (x, y3), (x4, y4)\n",
    "for x, y in pairs:\n",
    "    print('mean=%1.2f, std=%1.2f, r=%1.2f' % (np.mean(y), np.std(y), np.corrcoef(x, y)[0][1]))\n",
    "\n",
    "plt.show()"
   ]
  },
  {
   "cell_type": "code",
   "execution_count": null,
   "id": "da000dc6",
   "metadata": {},
   "outputs": [],
   "source": []
  }
 ],
 "metadata": {
  "kernelspec": {
   "display_name": "Python 3 (ipykernel)",
   "language": "python",
   "name": "python3"
  },
  "language_info": {
   "codemirror_mode": {
    "name": "ipython",
    "version": 3
   },
   "file_extension": ".py",
   "mimetype": "text/x-python",
   "name": "python",
   "nbconvert_exporter": "python",
   "pygments_lexer": "ipython3",
   "version": "3.11.5"
  }
 },
 "nbformat": 4,
 "nbformat_minor": 5
}
