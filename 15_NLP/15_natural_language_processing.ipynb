{
 "cells": [
  {
   "cell_type": "markdown",
   "metadata": {},
   "source": [
    "# Natural Language Processing (NLP)"
   ]
  },
  {
   "cell_type": "markdown",
   "metadata": {},
   "source": [
    "## Introduction\n",
    "\n",
    "additional content [NLP Crash Course](http://files.meetup.com/7616132/DC-NLP-2013-09%20Charlie%20Greenbacker.pdf) by Charlie Greenbacker and [Introduction to NLP](http://spark-public.s3.amazonaws.com/nlp/slides/intro.pdf) by Dan Jurafsky*"
   ]
  },
  {
   "cell_type": "markdown",
   "metadata": {},
   "source": [
    "### What is NLP?\n",
    "\n",
    "- Using computers to process (analyze, understand, generate) natural human languages\n",
    "- Most knowledge created by humans is unstructured text, and we need a way to make sense of it\n",
    "- Build probabilistic model using data about a language"
   ]
  },
  {
   "cell_type": "markdown",
   "metadata": {},
   "source": [
    "### What are some of the higher level task areas?\n",
    "\n",
    "- **Information retrieval**: Find relevant results and similar results\n",
    "    - [Google](https://www.google.com/)\n",
    "- **Information extraction**: Structured information from unstructured documents\n",
    "    - [Events from Gmail](https://support.google.com/calendar/answer/6084018?hl=en)\n",
    "- **Machine translation**: One language to another\n",
    "    - [Google Translate](https://translate.google.com/)\n",
    "- **Text simplification**: Preserve the meaning of text, but simplify the grammar and vocabulary\n",
    "    - [Rewordify](https://rewordify.com/)\n",
    "    - [Simple English Wikipedia](https://simple.wikipedia.org/wiki/Main_Page)\n",
    "- **Predictive text input**: Faster or easier typing\n",
    "    - [My application](https://justmarkham.shinyapps.io/textprediction/)\n",
    "    - [A much better application](https://farsite.shinyapps.io/swiftkey-cap/)\n",
    "- **Sentiment analysis**: Attitude of speaker\n",
    "    - [Hater News](http://haternews.herokuapp.com/)\n",
    "- **Automatic summarization**: Extractive or abstractive summarization\n",
    "    - [autotldr](https://www.reddit.com/r/technology/comments/35brc8/21_million_people_still_use_aol_dialup/cr2zzj0)\n",
    "- **Natural Language Generation**: Generate text from data\n",
    "    - [How a computer describes a sports match](http://www.bbc.com/news/technology-34204052)\n",
    "    - [Publishers withdraw more than 120 gibberish papers](http://www.nature.com/news/publishers-withdraw-more-than-120-gibberish-papers-1.14763)\n",
    "- **Speech recognition and generation**: Speech-to-text, text-to-speech\n",
    "    - [Google's Web Speech API demo](https://www.google.com/intl/en/chrome/demos/speech.html)\n",
    "    - [Vocalware Text-to-Speech demo](https://www.vocalware.com/index/demo)\n",
    "- **Question answering**: Determine the intent of the question, match query with knowledge base, evaluate hypotheses\n",
    "    - [How did supercomputer Watson beat Jeopardy champion Ken Jennings?](http://blog.ted.com/how-did-supercomputer-watson-beat-jeopardy-champion-ken-jennings-experts-discuss/)\n",
    "    - [IBM's Watson Trivia Challenge](http://www.nytimes.com/interactive/2010/06/16/magazine/watson-trivia-game.html)\n",
    "    - [The AI Behind Watson](http://www.aaai.org/Magazine/Watson/watson.php)"
   ]
  },
  {
   "cell_type": "markdown",
   "metadata": {},
   "source": [
    "### What are some of the lower level components?\n",
    "\n",
    "- **Tokenization**: breaking text into tokens (words, sentences, n-grams)\n",
    "- **Stopword removal**: a/an/the\n",
    "- **Stemming and lemmatization**: root word\n",
    "- **TF-IDF**: word importance\n",
    "- **Part-of-speech tagging**: noun/verb/adjective\n",
    "- **Named entity recognition**: person/organization/location\n",
    "- **Spelling correction**: \"New Yrok City\"\n",
    "- **Word sense disambiguation**: \"buy a mouse\"\n",
    "- **Segmentation**: \"New York City subway\"\n",
    "- **Language detection**: \"translate this page\"\n",
    "- **Machine learning**"
   ]
  },
  {
   "cell_type": "markdown",
   "metadata": {},
   "source": [
    "### Why is NLP hard?\n",
    "\n",
    "- **Ambiguity**:\n",
    "    - Hospitals are Sued by 7 Foot Doctors\n",
    "    - Juvenile Court to Try Shooting Defendant\n",
    "    - Local High School Dropouts Cut in Half\n",
    "- **Non-standard English**: text messages\n",
    "- **Idioms**: \"throw in the towel\"\n",
    "- **Newly coined words**: \"retweet\"\n",
    "- **Tricky entity names**: \"Where is A Bug's Life playing?\"\n",
    "- **World knowledge**: \"Mary and Sue are sisters\", \"Mary and Sue are mothers\"\n",
    "\n",
    "NLP requires an understanding of the **language** and the **world**."
   ]
  },
  {
   "cell_type": "markdown",
   "metadata": {},
   "source": [
    "#### Corpora is a collection of text\n",
    "The definition is a large or complete collection of writings. \n",
    "\n",
    "\n",
    "Some examples are \n",
    "- The entire works of Oscar Wilde\n",
    "- My personal library could be the Matthew Morris library corpora \n",
    "- A classrooms written assignments that were due on Friday are a corpora. \n",
    "- All books available in Google Books.\n",
    "- Every yelp review or tweet you have made or every yelp review or tweet a political party has made or demographic group. \n",
    "- Every Star Trek Review that only Star Wars Fans have made that have rated a median score of 4 stars or higher for star wars films. \n"
   ]
  },
  {
   "cell_type": "code",
   "execution_count": null,
   "metadata": {},
   "outputs": [],
   "source": [
    "Libraries\n",
    "NLTK, TextBlob, spacy, Gensim, and Keras"
   ]
  },
  {
   "cell_type": "code",
   "execution_count": null,
   "metadata": {},
   "outputs": [],
   "source": [
    "##### what  are some common packages is available in NLTK\n",
    "sent_tokenize\n",
    "word_tokenize\n",
    "TreebankWordTokenizer\n",
    "wordpunct_tokenize\n",
    "TweetTokenizer\n",
    "MWETokenizer\n"
   ]
  },
  {
   "cell_type": "code",
   "execution_count": null,
   "metadata": {},
   "outputs": [],
   "source": [
    "Lets take a look at tokenization\n",
    "- sentances\n",
    "- words\n",
    "- whitespaces\n"
   ]
  },
  {
   "cell_type": "code",
   "execution_count": 165,
   "metadata": {},
   "outputs": [
    {
     "data": {
      "text/plain": [
       "['A person who never made a mistake never tried anything new.',\n",
       " \"Don't worry be happy :):D. I can't change the direction of the wind but I can adjust my sails.\",\n",
       " 'Procrastination makes easy things hard and hard things harder.',\n",
       " 'I find the harder I work, the more luck I seem to have.',\n",
       " 'Motivation is what gets you started.',\n",
       " 'Habit is what keeps you going.']"
      ]
     },
     "execution_count": 165,
     "metadata": {},
     "output_type": "execute_result"
    }
   ],
   "source": [
    "#### Tokenization\n",
    "quotes = (\"A person who never made a mistake never tried anything new. Don't worry be happy :):D. I can't change the direction of the wind but I can adjust my sails.  Procrastination makes easy things hard and hard things harder. I find the harder I work, the more luck I seem to have. Motivation is what gets you started. Habit is what keeps you going.\")\n",
    "from nltk.tokenize import sent_tokenize\n",
    "sent_tokenize(quotes)"
   ]
  },
  {
   "cell_type": "code",
   "execution_count": 166,
   "metadata": {},
   "outputs": [
    {
     "data": {
      "text/plain": [
       "['A',\n",
       " 'person',\n",
       " 'who',\n",
       " 'never',\n",
       " 'made',\n",
       " 'a',\n",
       " 'mistake',\n",
       " 'never',\n",
       " 'tried',\n",
       " 'anything',\n",
       " 'new',\n",
       " '.',\n",
       " 'Do',\n",
       " \"n't\",\n",
       " 'worry',\n",
       " 'be',\n",
       " 'happy',\n",
       " ':',\n",
       " ')',\n",
       " ':',\n",
       " 'D.',\n",
       " 'I',\n",
       " 'ca',\n",
       " \"n't\",\n",
       " 'change',\n",
       " 'the',\n",
       " 'direction',\n",
       " 'of',\n",
       " 'the',\n",
       " 'wind',\n",
       " 'but',\n",
       " 'I',\n",
       " 'can',\n",
       " 'adjust',\n",
       " 'my',\n",
       " 'sails',\n",
       " '.',\n",
       " 'Procrastination',\n",
       " 'makes',\n",
       " 'easy',\n",
       " 'things',\n",
       " 'hard',\n",
       " 'and',\n",
       " 'hard',\n",
       " 'things',\n",
       " 'harder',\n",
       " '.',\n",
       " 'I',\n",
       " 'find',\n",
       " 'the',\n",
       " 'harder',\n",
       " 'I',\n",
       " 'work',\n",
       " ',',\n",
       " 'the',\n",
       " 'more',\n",
       " 'luck',\n",
       " 'I',\n",
       " 'seem',\n",
       " 'to',\n",
       " 'have',\n",
       " '.',\n",
       " 'Motivation',\n",
       " 'is',\n",
       " 'what',\n",
       " 'gets',\n",
       " 'you',\n",
       " 'started',\n",
       " '.',\n",
       " 'Habit',\n",
       " 'is',\n",
       " 'what',\n",
       " 'keeps',\n",
       " 'you',\n",
       " 'going',\n",
       " '.']"
      ]
     },
     "execution_count": 166,
     "metadata": {},
     "output_type": "execute_result"
    }
   ],
   "source": [
    "word_tokenize(quotes)"
   ]
  },
  {
   "cell_type": "code",
   "execution_count": 167,
   "metadata": {},
   "outputs": [
    {
     "data": {
      "text/plain": [
       "['A',\n",
       " 'person',\n",
       " 'who',\n",
       " 'never',\n",
       " 'made',\n",
       " 'a',\n",
       " 'mistake',\n",
       " 'never',\n",
       " 'tried',\n",
       " 'anything',\n",
       " 'new.',\n",
       " \"Don't\",\n",
       " 'worry',\n",
       " 'be',\n",
       " 'happy',\n",
       " ':):D.',\n",
       " 'I',\n",
       " \"can't\",\n",
       " 'change',\n",
       " 'the',\n",
       " 'direction',\n",
       " 'of',\n",
       " 'the',\n",
       " 'wind',\n",
       " 'but',\n",
       " 'I',\n",
       " 'can',\n",
       " 'adjust',\n",
       " 'my',\n",
       " 'sails.',\n",
       " 'Procrastination',\n",
       " 'makes',\n",
       " 'easy',\n",
       " 'things',\n",
       " 'hard',\n",
       " 'and',\n",
       " 'hard',\n",
       " 'things',\n",
       " 'harder.',\n",
       " 'I',\n",
       " 'find',\n",
       " 'the',\n",
       " 'harder',\n",
       " 'I',\n",
       " 'work,',\n",
       " 'the',\n",
       " 'more',\n",
       " 'luck',\n",
       " 'I',\n",
       " 'seem',\n",
       " 'to',\n",
       " 'have.',\n",
       " 'Motivation',\n",
       " 'is',\n",
       " 'what',\n",
       " 'gets',\n",
       " 'you',\n",
       " 'started.',\n",
       " 'Habit',\n",
       " 'is',\n",
       " 'what',\n",
       " 'keeps',\n",
       " 'you',\n",
       " 'going.']"
      ]
     },
     "execution_count": 167,
     "metadata": {},
     "output_type": "execute_result"
    }
   ],
   "source": [
    "# uses the whitespace as the delimiter\n",
    "quotes.split()"
   ]
  },
  {
   "cell_type": "code",
   "execution_count": 168,
   "metadata": {},
   "outputs": [
    {
     "data": {
      "text/plain": [
       "['A',\n",
       " 'person',\n",
       " 'who',\n",
       " 'never',\n",
       " 'made',\n",
       " 'a',\n",
       " 'mistake',\n",
       " 'never',\n",
       " 'tried',\n",
       " 'anything',\n",
       " 'new',\n",
       " '.',\n",
       " 'Don',\n",
       " \"'\",\n",
       " 't',\n",
       " 'worry',\n",
       " 'be',\n",
       " 'happy',\n",
       " ':):',\n",
       " 'D',\n",
       " '.',\n",
       " 'I',\n",
       " 'can',\n",
       " \"'\",\n",
       " 't',\n",
       " 'change',\n",
       " 'the',\n",
       " 'direction',\n",
       " 'of',\n",
       " 'the',\n",
       " 'wind',\n",
       " 'but',\n",
       " 'I',\n",
       " 'can',\n",
       " 'adjust',\n",
       " 'my',\n",
       " 'sails',\n",
       " '.',\n",
       " 'Procrastination',\n",
       " 'makes',\n",
       " 'easy',\n",
       " 'things',\n",
       " 'hard',\n",
       " 'and',\n",
       " 'hard',\n",
       " 'things',\n",
       " 'harder',\n",
       " '.',\n",
       " 'I',\n",
       " 'find',\n",
       " 'the',\n",
       " 'harder',\n",
       " 'I',\n",
       " 'work',\n",
       " ',',\n",
       " 'the',\n",
       " 'more',\n",
       " 'luck',\n",
       " 'I',\n",
       " 'seem',\n",
       " 'to',\n",
       " 'have',\n",
       " '.',\n",
       " 'Motivation',\n",
       " 'is',\n",
       " 'what',\n",
       " 'gets',\n",
       " 'you',\n",
       " 'started',\n",
       " '.',\n",
       " 'Habit',\n",
       " 'is',\n",
       " 'what',\n",
       " 'keeps',\n",
       " 'you',\n",
       " 'going',\n",
       " '.']"
      ]
     },
     "execution_count": 168,
     "metadata": {},
     "output_type": "execute_result"
    }
   ],
   "source": [
    "from nltk.tokenize import wordpunct_tokenize\n",
    "wordpunct_tokenize(quotes)"
   ]
  },
  {
   "cell_type": "code",
   "execution_count": 169,
   "metadata": {},
   "outputs": [
    {
     "data": {
      "text/plain": [
       "['A',\n",
       " 'person',\n",
       " 'who',\n",
       " 'never',\n",
       " 'made',\n",
       " 'a',\n",
       " 'mistake',\n",
       " 'never',\n",
       " 'tried',\n",
       " 'anything',\n",
       " 'new.',\n",
       " 'Do',\n",
       " \"n't\",\n",
       " 'worry',\n",
       " 'be',\n",
       " 'happy',\n",
       " ':',\n",
       " ')',\n",
       " ':',\n",
       " 'D.',\n",
       " 'I',\n",
       " 'ca',\n",
       " \"n't\",\n",
       " 'change',\n",
       " 'the',\n",
       " 'direction',\n",
       " 'of',\n",
       " 'the',\n",
       " 'wind',\n",
       " 'but',\n",
       " 'I',\n",
       " 'can',\n",
       " 'adjust',\n",
       " 'my',\n",
       " 'sails.',\n",
       " 'Procrastination',\n",
       " 'makes',\n",
       " 'easy',\n",
       " 'things',\n",
       " 'hard',\n",
       " 'and',\n",
       " 'hard',\n",
       " 'things',\n",
       " 'harder.',\n",
       " 'I',\n",
       " 'find',\n",
       " 'the',\n",
       " 'harder',\n",
       " 'I',\n",
       " 'work',\n",
       " ',',\n",
       " 'the',\n",
       " 'more',\n",
       " 'luck',\n",
       " 'I',\n",
       " 'seem',\n",
       " 'to',\n",
       " 'have.',\n",
       " 'Motivation',\n",
       " 'is',\n",
       " 'what',\n",
       " 'gets',\n",
       " 'you',\n",
       " 'started.',\n",
       " 'Habit',\n",
       " 'is',\n",
       " 'what',\n",
       " 'keeps',\n",
       " 'you',\n",
       " 'going',\n",
       " '.']"
      ]
     },
     "execution_count": 169,
     "metadata": {},
     "output_type": "execute_result"
    }
   ],
   "source": [
    "from nltk.tokenize import TreebankWordTokenizer\n",
    "tokenizer = TreebankWordTokenizer()\n",
    "tokenizer.tokenize(quotes)"
   ]
  },
  {
   "cell_type": "code",
   "execution_count": 170,
   "metadata": {},
   "outputs": [
    {
     "name": "stdout",
     "output_type": "stream",
     "text": [
      "['A', 'person', 'who', 'never', 'made', 'a', 'mistake', 'never', 'tried', 'anything', 'new', '.', \"Don't\", 'worry', 'be', 'happy', ':)', ':D', '.', 'I', \"can't\", 'change', 'the', 'direction', 'of', 'the', 'wind', 'but', 'I', 'can', 'adjust', 'my', 'sails', '.', 'Procrastination', 'makes', 'easy', 'things', 'hard', 'and', 'hard', 'things', 'harder', '.', 'I', 'find', 'the', 'harder', 'I', 'work', ',', 'the', 'more', 'luck', 'I', 'seem', 'to', 'have', '.', 'Motivation', 'is', 'what', 'gets', 'you', 'started', '.', 'Habit', 'is', 'what', 'keeps', 'you', 'going', '.']\n"
     ]
    }
   ],
   "source": [
    "import nltk\n",
    "# let's deal with that emoticon\n",
    "tokenizer = nltk.TweetTokenizer()\n",
    "print(tokenizer.tokenize(quotes))"
   ]
  },
  {
   "cell_type": "code",
   "execution_count": null,
   "metadata": {},
   "outputs": [],
   "source": [
    "### Text blob\n",
    "# you may need to install\n",
    "# pip install textblob\n",
    "# pip install -U textblob\n",
    "# -m textblob.download_corpora\n"
   ]
  },
  {
   "cell_type": "code",
   "execution_count": 171,
   "metadata": {},
   "outputs": [
    {
     "name": "stdout",
     "output_type": "stream",
     "text": [
      "['A', 'person', 'who', 'never', 'made', 'a', 'mistake', 'never', 'tried', 'anything', 'new', 'Do', \"n't\", 'worry', 'be', 'happy', 'D', 'I', 'ca', \"n't\", 'change', 'the', 'direction', 'of', 'the', 'wind', 'but', 'I', 'can', 'adjust', 'my', 'sails', 'Procrastination', 'makes', 'easy', 'things', 'hard', 'and', 'hard', 'things', 'harder', 'I', 'find', 'the', 'harder', 'I', 'work', 'the', 'more', 'luck', 'I', 'seem', 'to', 'have', 'Motivation', 'is', 'what', 'gets', 'you', 'started', 'Habit', 'is', 'what', 'keeps', 'you', 'going']\n",
      "66\n"
     ]
    }
   ],
   "source": [
    "from textblob import TextBlob\n",
    "#Load the words using TextBlob\n",
    "blob = TextBlob(quotes)\n",
    "#Tokenization of words\n",
    "words = blob.words\n",
    "print(words)\n",
    "print(len(words))"
   ]
  },
  {
   "cell_type": "code",
   "execution_count": 176,
   "metadata": {},
   "outputs": [
    {
     "name": "stdout",
     "output_type": "stream",
     "text": [
      "Collecting spacy\n",
      "  Downloading spacy-3.7.2-cp311-cp311-win_amd64.whl.metadata (26 kB)\n",
      "Collecting spacy-legacy<3.1.0,>=3.0.11 (from spacy)\n",
      "  Downloading spacy_legacy-3.0.12-py2.py3-none-any.whl (29 kB)\n",
      "Collecting spacy-loggers<2.0.0,>=1.0.0 (from spacy)\n",
      "  Downloading spacy_loggers-1.0.5-py3-none-any.whl.metadata (23 kB)\n",
      "Collecting murmurhash<1.1.0,>=0.28.0 (from spacy)\n",
      "  Downloading murmurhash-1.0.10-cp311-cp311-win_amd64.whl.metadata (2.0 kB)\n",
      "Collecting cymem<2.1.0,>=2.0.2 (from spacy)\n",
      "  Downloading cymem-2.0.8-cp311-cp311-win_amd64.whl.metadata (8.6 kB)\n",
      "Collecting preshed<3.1.0,>=3.0.2 (from spacy)\n",
      "  Downloading preshed-3.0.9-cp311-cp311-win_amd64.whl.metadata (2.2 kB)\n",
      "Collecting thinc<8.3.0,>=8.1.8 (from spacy)\n",
      "  Downloading thinc-8.2.2-cp311-cp311-win_amd64.whl.metadata (15 kB)\n",
      "Collecting wasabi<1.2.0,>=0.9.1 (from spacy)\n",
      "  Downloading wasabi-1.1.2-py3-none-any.whl.metadata (28 kB)\n",
      "Collecting srsly<3.0.0,>=2.4.3 (from spacy)\n",
      "  Downloading srsly-2.4.8-cp311-cp311-win_amd64.whl.metadata (20 kB)\n",
      "Collecting catalogue<2.1.0,>=2.0.6 (from spacy)\n",
      "  Downloading catalogue-2.0.10-py3-none-any.whl.metadata (14 kB)\n",
      "Collecting weasel<0.4.0,>=0.1.0 (from spacy)\n",
      "  Downloading weasel-0.3.4-py3-none-any.whl.metadata (4.7 kB)\n",
      "Collecting typer<0.10.0,>=0.3.0 (from spacy)\n",
      "  Downloading typer-0.9.0-py3-none-any.whl (45 kB)\n",
      "     ---------------------------------------- 0.0/45.9 kB ? eta -:--:--\n",
      "     ---------------------------------------- 45.9/45.9 kB 2.2 MB/s eta 0:00:00\n",
      "Requirement already satisfied: smart-open<7.0.0,>=5.2.1 in c:\\users\\matth\\anaconda3\\lib\\site-packages (from spacy) (5.2.1)\n",
      "Requirement already satisfied: tqdm<5.0.0,>=4.38.0 in c:\\users\\matth\\anaconda3\\lib\\site-packages (from spacy) (4.65.0)\n",
      "Requirement already satisfied: requests<3.0.0,>=2.13.0 in c:\\users\\matth\\anaconda3\\lib\\site-packages (from spacy) (2.31.0)\n",
      "Requirement already satisfied: pydantic!=1.8,!=1.8.1,<3.0.0,>=1.7.4 in c:\\users\\matth\\anaconda3\\lib\\site-packages (from spacy) (1.10.8)\n",
      "Requirement already satisfied: jinja2 in c:\\users\\matth\\anaconda3\\lib\\site-packages (from spacy) (3.1.2)\n",
      "Requirement already satisfied: setuptools in c:\\users\\matth\\anaconda3\\lib\\site-packages (from spacy) (69.0.2)\n",
      "Requirement already satisfied: packaging>=20.0 in c:\\users\\matth\\anaconda3\\lib\\site-packages (from spacy) (23.1)\n",
      "Collecting langcodes<4.0.0,>=3.2.0 (from spacy)\n",
      "  Downloading langcodes-3.3.0-py3-none-any.whl (181 kB)\n",
      "     ---------------------------------------- 0.0/181.6 kB ? eta -:--:--\n",
      "     -------------------------------------- 181.6/181.6 kB 5.5 MB/s eta 0:00:00\n",
      "Requirement already satisfied: numpy>=1.19.0 in c:\\users\\matth\\anaconda3\\lib\\site-packages (from spacy) (1.24.3)\n",
      "Requirement already satisfied: typing-extensions>=4.2.0 in c:\\users\\matth\\anaconda3\\lib\\site-packages (from pydantic!=1.8,!=1.8.1,<3.0.0,>=1.7.4->spacy) (4.7.1)\n",
      "Requirement already satisfied: charset-normalizer<4,>=2 in c:\\users\\matth\\anaconda3\\lib\\site-packages (from requests<3.0.0,>=2.13.0->spacy) (2.0.4)\n",
      "Requirement already satisfied: idna<4,>=2.5 in c:\\users\\matth\\anaconda3\\lib\\site-packages (from requests<3.0.0,>=2.13.0->spacy) (3.4)\n",
      "Requirement already satisfied: urllib3<3,>=1.21.1 in c:\\users\\matth\\anaconda3\\lib\\site-packages (from requests<3.0.0,>=2.13.0->spacy) (1.26.16)\n",
      "Requirement already satisfied: certifi>=2017.4.17 in c:\\users\\matth\\anaconda3\\lib\\site-packages (from requests<3.0.0,>=2.13.0->spacy) (2023.7.22)\n",
      "Collecting blis<0.8.0,>=0.7.8 (from thinc<8.3.0,>=8.1.8->spacy)\n",
      "  Downloading blis-0.7.11-cp311-cp311-win_amd64.whl.metadata (7.6 kB)\n",
      "Collecting confection<1.0.0,>=0.0.1 (from thinc<8.3.0,>=8.1.8->spacy)\n",
      "  Downloading confection-0.1.4-py3-none-any.whl.metadata (19 kB)\n",
      "Requirement already satisfied: colorama in c:\\users\\matth\\anaconda3\\lib\\site-packages (from tqdm<5.0.0,>=4.38.0->spacy) (0.4.6)\n",
      "Requirement already satisfied: click<9.0.0,>=7.1.1 in c:\\users\\matth\\anaconda3\\lib\\site-packages (from typer<0.10.0,>=0.3.0->spacy) (8.0.4)\n",
      "Collecting cloudpathlib<0.17.0,>=0.7.0 (from weasel<0.4.0,>=0.1.0->spacy)\n",
      "  Downloading cloudpathlib-0.16.0-py3-none-any.whl.metadata (14 kB)\n",
      "Requirement already satisfied: MarkupSafe>=2.0 in c:\\users\\matth\\anaconda3\\lib\\site-packages (from jinja2->spacy) (2.1.1)\n",
      "Downloading spacy-3.7.2-cp311-cp311-win_amd64.whl (12.1 MB)\n",
      "   ---------------------------------------- 0.0/12.1 MB ? eta -:--:--\n",
      "   - -------------------------------------- 0.5/12.1 MB 10.9 MB/s eta 0:00:02\n",
      "   --- ------------------------------------ 1.1/12.1 MB 11.3 MB/s eta 0:00:01\n",
      "   ----- ---------------------------------- 1.7/12.1 MB 12.2 MB/s eta 0:00:01\n",
      "   ------- -------------------------------- 2.3/12.1 MB 12.3 MB/s eta 0:00:01\n",
      "   --------- ------------------------------ 2.9/12.1 MB 12.4 MB/s eta 0:00:01\n",
      "   ----------- ---------------------------- 3.5/12.1 MB 12.4 MB/s eta 0:00:01\n",
      "   ------------- -------------------------- 4.1/12.1 MB 12.3 MB/s eta 0:00:01\n",
      "   --------------- ------------------------ 4.6/12.1 MB 12.2 MB/s eta 0:00:01\n",
      "   ----------------- ---------------------- 5.2/12.1 MB 12.2 MB/s eta 0:00:01\n",
      "   ------------------ --------------------- 5.7/12.1 MB 12.2 MB/s eta 0:00:01\n",
      "   -------------------- ------------------- 6.3/12.1 MB 12.1 MB/s eta 0:00:01\n",
      "   ----------------------- ---------------- 7.0/12.1 MB 12.4 MB/s eta 0:00:01\n",
      "   ------------------------- -------------- 7.6/12.1 MB 12.4 MB/s eta 0:00:01\n",
      "   --------------------------- ------------ 8.2/12.1 MB 12.5 MB/s eta 0:00:01\n",
      "   ---------------------------- ----------- 8.6/12.1 MB 12.6 MB/s eta 0:00:01\n",
      "   ----------------------------- ---------- 8.8/12.1 MB 12.0 MB/s eta 0:00:01\n",
      "   ------------------------------ --------- 9.3/12.1 MB 11.9 MB/s eta 0:00:01\n",
      "   --------------------------------- ------ 10.0/12.1 MB 12.1 MB/s eta 0:00:01\n",
      "   ----------------------------------- ---- 10.8/12.1 MB 12.4 MB/s eta 0:00:01\n",
      "   ------------------------------------- -- 11.4/12.1 MB 12.4 MB/s eta 0:00:01\n",
      "   ---------------------------------------  12.1/12.1 MB 12.4 MB/s eta 0:00:01\n",
      "   ---------------------------------------  12.1/12.1 MB 12.4 MB/s eta 0:00:01\n",
      "   ---------------------------------------- 12.1/12.1 MB 11.5 MB/s eta 0:00:00\n",
      "Downloading catalogue-2.0.10-py3-none-any.whl (17 kB)\n",
      "Downloading cymem-2.0.8-cp311-cp311-win_amd64.whl (39 kB)\n",
      "Downloading murmurhash-1.0.10-cp311-cp311-win_amd64.whl (25 kB)\n",
      "Downloading preshed-3.0.9-cp311-cp311-win_amd64.whl (122 kB)\n",
      "   ---------------------------------------- 0.0/122.3 kB ? eta -:--:--\n",
      "   ---------------------------------------- 122.3/122.3 kB 7.0 MB/s eta 0:00:00\n",
      "Downloading spacy_loggers-1.0.5-py3-none-any.whl (22 kB)\n",
      "Downloading srsly-2.4.8-cp311-cp311-win_amd64.whl (479 kB)\n",
      "   ---------------------------------------- 0.0/479.7 kB ? eta -:--:--\n",
      "   --------------------------------------- 479.7/479.7 kB 10.0 MB/s eta 0:00:00\n",
      "Downloading thinc-8.2.2-cp311-cp311-win_amd64.whl (1.5 MB)\n",
      "   ---------------------------------------- 0.0/1.5 MB ? eta -:--:--\n",
      "   ----------------- ---------------------- 0.7/1.5 MB 20.8 MB/s eta 0:00:01\n",
      "   --------------------------------- ------ 1.2/1.5 MB 15.8 MB/s eta 0:00:01\n",
      "   ---------------------------------------- 1.5/1.5 MB 13.5 MB/s eta 0:00:00\n",
      "Downloading wasabi-1.1.2-py3-none-any.whl (27 kB)\n",
      "Downloading weasel-0.3.4-py3-none-any.whl (50 kB)\n",
      "   ---------------------------------------- 0.0/50.1 kB ? eta -:--:--\n",
      "   ---------------------------------------- 50.1/50.1 kB 2.7 MB/s eta 0:00:00\n",
      "Downloading blis-0.7.11-cp311-cp311-win_amd64.whl (6.6 MB)\n",
      "   ---------------------------------------- 0.0/6.6 MB ? eta -:--:--\n",
      "   --- ------------------------------------ 0.6/6.6 MB 17.6 MB/s eta 0:00:01\n",
      "   ------- -------------------------------- 1.3/6.6 MB 15.8 MB/s eta 0:00:01\n",
      "   ----------- ---------------------------- 1.9/6.6 MB 15.0 MB/s eta 0:00:01\n",
      "   -------------- ------------------------- 2.4/6.6 MB 13.9 MB/s eta 0:00:01\n",
      "   ------------------ --------------------- 3.1/6.6 MB 14.0 MB/s eta 0:00:01\n",
      "   ----------------------- ---------------- 3.8/6.6 MB 14.3 MB/s eta 0:00:01\n",
      "   -------------------------- ------------- 4.4/6.6 MB 14.8 MB/s eta 0:00:01\n",
      "   ------------------------------ --------- 5.1/6.6 MB 14.0 MB/s eta 0:00:01\n",
      "   ---------------------------------- ----- 5.6/6.6 MB 14.4 MB/s eta 0:00:01\n",
      "   -------------------------------------- - 6.3/6.6 MB 14.4 MB/s eta 0:00:01\n",
      "   ---------------------------------------  6.6/6.6 MB 14.0 MB/s eta 0:00:01\n",
      "   ---------------------------------------- 6.6/6.6 MB 13.2 MB/s eta 0:00:00\n",
      "Downloading cloudpathlib-0.16.0-py3-none-any.whl (45 kB)\n",
      "   ---------------------------------------- 0.0/45.0 kB ? eta -:--:--\n",
      "   ---------------------------------------- 45.0/45.0 kB ? eta 0:00:00\n",
      "Downloading confection-0.1.4-py3-none-any.whl (35 kB)\n",
      "Installing collected packages: cymem, wasabi, spacy-loggers, spacy-legacy, murmurhash, langcodes, cloudpathlib, catalogue, blis, typer, srsly, preshed, confection, weasel, thinc, spacy\n",
      "Successfully installed blis-0.7.11 catalogue-2.0.10 cloudpathlib-0.16.0 confection-0.1.4 cymem-2.0.8 langcodes-3.3.0 murmurhash-1.0.10 preshed-3.0.9 spacy-3.7.2 spacy-legacy-3.0.12 spacy-loggers-1.0.5 srsly-2.4.8 thinc-8.2.2 typer-0.9.0 wasabi-1.1.2 weasel-0.3.4\n",
      "Note: you may need to restart the kernel to use updated packages.\n"
     ]
    },
    {
     "name": "stderr",
     "output_type": "stream",
     "text": [
      "\n",
      "[notice] A new release of pip is available: 23.3.1 -> 23.3.2\n",
      "[notice] To update, run: python.exe -m pip install --upgrade pip\n"
     ]
    }
   ],
   "source": [
    "#pip install spacy\n",
    "# -m spacy download en_core_web_sm"
   ]
  },
  {
   "cell_type": "code",
   "execution_count": 181,
   "metadata": {},
   "outputs": [
    {
     "name": "stdout",
     "output_type": "stream",
     "text": [
      "Collecting en-core-web-sm==3.7.1\n",
      "  Downloading https://github.com/explosion/spacy-models/releases/download/en_core_web_sm-3.7.1/en_core_web_sm-3.7.1-py3-none-any.whl (12.8 MB)\n",
      "     ---------------------------------------- 0.0/12.8 MB ? eta -:--:--\n",
      "     --------------------------------------- 0.0/12.8 MB 660.6 kB/s eta 0:00:20\n",
      "      --------------------------------------- 0.2/12.8 MB 2.3 MB/s eta 0:00:06\n",
      "     - -------------------------------------- 0.6/12.8 MB 4.4 MB/s eta 0:00:03\n",
      "     --- ------------------------------------ 1.0/12.8 MB 5.5 MB/s eta 0:00:03\n",
      "     ----- ---------------------------------- 1.6/12.8 MB 6.8 MB/s eta 0:00:02\n",
      "     ------ --------------------------------- 2.1/12.8 MB 7.5 MB/s eta 0:00:02\n",
      "     -------- ------------------------------- 2.7/12.8 MB 8.5 MB/s eta 0:00:02\n",
      "     ---------- ----------------------------- 3.2/12.8 MB 8.9 MB/s eta 0:00:02\n",
      "     ----------- ---------------------------- 3.8/12.8 MB 9.3 MB/s eta 0:00:01\n",
      "     ------------- -------------------------- 4.3/12.8 MB 9.5 MB/s eta 0:00:01\n",
      "     --------------- ------------------------ 4.9/12.8 MB 9.7 MB/s eta 0:00:01\n",
      "     ---------------- ----------------------- 5.4/12.8 MB 9.9 MB/s eta 0:00:01\n",
      "     ------------------ --------------------- 6.0/12.8 MB 10.0 MB/s eta 0:00:01\n",
      "     -------------------- ------------------- 6.6/12.8 MB 10.3 MB/s eta 0:00:01\n",
      "     ---------------------- ----------------- 7.2/12.8 MB 10.4 MB/s eta 0:00:01\n",
      "     ------------------------ --------------- 7.8/12.8 MB 10.6 MB/s eta 0:00:01\n",
      "     ------------------------- -------------- 8.1/12.8 MB 10.3 MB/s eta 0:00:01\n",
      "     -------------------------- ------------- 8.4/12.8 MB 10.2 MB/s eta 0:00:01\n",
      "     ---------------------------- ----------- 9.0/12.8 MB 10.3 MB/s eta 0:00:01\n",
      "     ----------------------------- ---------- 9.5/12.8 MB 10.3 MB/s eta 0:00:01\n",
      "     ------------------------------ -------- 10.1/12.8 MB 10.4 MB/s eta 0:00:01\n",
      "     -------------------------------- ------ 10.7/12.8 MB 11.3 MB/s eta 0:00:01\n",
      "     ---------------------------------- ---- 11.3/12.8 MB 11.7 MB/s eta 0:00:01\n",
      "     ------------------------------------ -- 11.8/12.8 MB 11.7 MB/s eta 0:00:01\n",
      "     ------------------------------------- - 12.4/12.8 MB 11.7 MB/s eta 0:00:01\n",
      "     --------------------------------------  12.8/12.8 MB 11.7 MB/s eta 0:00:01\n",
      "     --------------------------------------- 12.8/12.8 MB 10.9 MB/s eta 0:00:00\n",
      "Requirement already satisfied: spacy<3.8.0,>=3.7.2 in c:\\users\\matth\\anaconda3\\lib\\site-packages (from en-core-web-sm==3.7.1) (3.7.2)\n",
      "Requirement already satisfied: spacy-legacy<3.1.0,>=3.0.11 in c:\\users\\matth\\anaconda3\\lib\\site-packages (from spacy<3.8.0,>=3.7.2->en-core-web-sm==3.7.1) (3.0.12)\n",
      "Requirement already satisfied: spacy-loggers<2.0.0,>=1.0.0 in c:\\users\\matth\\anaconda3\\lib\\site-packages (from spacy<3.8.0,>=3.7.2->en-core-web-sm==3.7.1) (1.0.5)\n",
      "Requirement already satisfied: murmurhash<1.1.0,>=0.28.0 in c:\\users\\matth\\anaconda3\\lib\\site-packages (from spacy<3.8.0,>=3.7.2->en-core-web-sm==3.7.1) (1.0.10)\n",
      "Requirement already satisfied: cymem<2.1.0,>=2.0.2 in c:\\users\\matth\\anaconda3\\lib\\site-packages (from spacy<3.8.0,>=3.7.2->en-core-web-sm==3.7.1) (2.0.8)\n",
      "Requirement already satisfied: preshed<3.1.0,>=3.0.2 in c:\\users\\matth\\anaconda3\\lib\\site-packages (from spacy<3.8.0,>=3.7.2->en-core-web-sm==3.7.1) (3.0.9)\n",
      "Requirement already satisfied: thinc<8.3.0,>=8.1.8 in c:\\users\\matth\\anaconda3\\lib\\site-packages (from spacy<3.8.0,>=3.7.2->en-core-web-sm==3.7.1) (8.2.2)\n",
      "Requirement already satisfied: wasabi<1.2.0,>=0.9.1 in c:\\users\\matth\\anaconda3\\lib\\site-packages (from spacy<3.8.0,>=3.7.2->en-core-web-sm==3.7.1) (1.1.2)\n",
      "Requirement already satisfied: srsly<3.0.0,>=2.4.3 in c:\\users\\matth\\anaconda3\\lib\\site-packages (from spacy<3.8.0,>=3.7.2->en-core-web-sm==3.7.1) (2.4.8)\n",
      "Requirement already satisfied: catalogue<2.1.0,>=2.0.6 in c:\\users\\matth\\anaconda3\\lib\\site-packages (from spacy<3.8.0,>=3.7.2->en-core-web-sm==3.7.1) (2.0.10)\n",
      "Requirement already satisfied: weasel<0.4.0,>=0.1.0 in c:\\users\\matth\\anaconda3\\lib\\site-packages (from spacy<3.8.0,>=3.7.2->en-core-web-sm==3.7.1) (0.3.4)\n",
      "Requirement already satisfied: typer<0.10.0,>=0.3.0 in c:\\users\\matth\\anaconda3\\lib\\site-packages (from spacy<3.8.0,>=3.7.2->en-core-web-sm==3.7.1) (0.9.0)\n",
      "Requirement already satisfied: smart-open<7.0.0,>=5.2.1 in c:\\users\\matth\\anaconda3\\lib\\site-packages (from spacy<3.8.0,>=3.7.2->en-core-web-sm==3.7.1) (5.2.1)\n",
      "Requirement already satisfied: tqdm<5.0.0,>=4.38.0 in c:\\users\\matth\\anaconda3\\lib\\site-packages (from spacy<3.8.0,>=3.7.2->en-core-web-sm==3.7.1) (4.65.0)\n",
      "Requirement already satisfied: requests<3.0.0,>=2.13.0 in c:\\users\\matth\\anaconda3\\lib\\site-packages (from spacy<3.8.0,>=3.7.2->en-core-web-sm==3.7.1) (2.31.0)\n",
      "Requirement already satisfied: pydantic!=1.8,!=1.8.1,<3.0.0,>=1.7.4 in c:\\users\\matth\\anaconda3\\lib\\site-packages (from spacy<3.8.0,>=3.7.2->en-core-web-sm==3.7.1) (1.10.8)\n",
      "Requirement already satisfied: jinja2 in c:\\users\\matth\\anaconda3\\lib\\site-packages (from spacy<3.8.0,>=3.7.2->en-core-web-sm==3.7.1) (3.1.2)\n",
      "Requirement already satisfied: setuptools in c:\\users\\matth\\anaconda3\\lib\\site-packages (from spacy<3.8.0,>=3.7.2->en-core-web-sm==3.7.1) (69.0.2)\n",
      "Requirement already satisfied: packaging>=20.0 in c:\\users\\matth\\anaconda3\\lib\\site-packages (from spacy<3.8.0,>=3.7.2->en-core-web-sm==3.7.1) (23.1)\n",
      "Requirement already satisfied: langcodes<4.0.0,>=3.2.0 in c:\\users\\matth\\anaconda3\\lib\\site-packages (from spacy<3.8.0,>=3.7.2->en-core-web-sm==3.7.1) (3.3.0)\n",
      "Requirement already satisfied: numpy>=1.19.0 in c:\\users\\matth\\anaconda3\\lib\\site-packages (from spacy<3.8.0,>=3.7.2->en-core-web-sm==3.7.1) (1.24.3)\n",
      "Requirement already satisfied: typing-extensions>=4.2.0 in c:\\users\\matth\\anaconda3\\lib\\site-packages (from pydantic!=1.8,!=1.8.1,<3.0.0,>=1.7.4->spacy<3.8.0,>=3.7.2->en-core-web-sm==3.7.1) (4.7.1)\n",
      "Requirement already satisfied: charset-normalizer<4,>=2 in c:\\users\\matth\\anaconda3\\lib\\site-packages (from requests<3.0.0,>=2.13.0->spacy<3.8.0,>=3.7.2->en-core-web-sm==3.7.1) (2.0.4)\n",
      "Requirement already satisfied: idna<4,>=2.5 in c:\\users\\matth\\anaconda3\\lib\\site-packages (from requests<3.0.0,>=2.13.0->spacy<3.8.0,>=3.7.2->en-core-web-sm==3.7.1) (3.4)\n",
      "Requirement already satisfied: urllib3<3,>=1.21.1 in c:\\users\\matth\\anaconda3\\lib\\site-packages (from requests<3.0.0,>=2.13.0->spacy<3.8.0,>=3.7.2->en-core-web-sm==3.7.1) (1.26.16)\n",
      "Requirement already satisfied: certifi>=2017.4.17 in c:\\users\\matth\\anaconda3\\lib\\site-packages (from requests<3.0.0,>=2.13.0->spacy<3.8.0,>=3.7.2->en-core-web-sm==3.7.1) (2023.7.22)\n",
      "Requirement already satisfied: blis<0.8.0,>=0.7.8 in c:\\users\\matth\\anaconda3\\lib\\site-packages (from thinc<8.3.0,>=8.1.8->spacy<3.8.0,>=3.7.2->en-core-web-sm==3.7.1) (0.7.11)\n",
      "Requirement already satisfied: confection<1.0.0,>=0.0.1 in c:\\users\\matth\\anaconda3\\lib\\site-packages (from thinc<8.3.0,>=8.1.8->spacy<3.8.0,>=3.7.2->en-core-web-sm==3.7.1) (0.1.4)\n",
      "Requirement already satisfied: colorama in c:\\users\\matth\\anaconda3\\lib\\site-packages (from tqdm<5.0.0,>=4.38.0->spacy<3.8.0,>=3.7.2->en-core-web-sm==3.7.1) (0.4.6)\n",
      "Requirement already satisfied: click<9.0.0,>=7.1.1 in c:\\users\\matth\\anaconda3\\lib\\site-packages (from typer<0.10.0,>=0.3.0->spacy<3.8.0,>=3.7.2->en-core-web-sm==3.7.1) (8.0.4)\n",
      "Requirement already satisfied: cloudpathlib<0.17.0,>=0.7.0 in c:\\users\\matth\\anaconda3\\lib\\site-packages (from weasel<0.4.0,>=0.1.0->spacy<3.8.0,>=3.7.2->en-core-web-sm==3.7.1) (0.16.0)\n",
      "Requirement already satisfied: MarkupSafe>=2.0 in c:\\users\\matth\\anaconda3\\lib\\site-packages (from jinja2->spacy<3.8.0,>=3.7.2->en-core-web-sm==3.7.1) (2.1.1)\n",
      "Installing collected packages: en-core-web-sm\n",
      "Successfully installed en-core-web-sm-3.7.1\n",
      "\u001b[38;5;2m[+] Download and installation successful\u001b[0m\n",
      "You can now load the package via spacy.load('en_core_web_sm')\n"
     ]
    },
    {
     "name": "stderr",
     "output_type": "stream",
     "text": [
      "\n",
      "[notice] A new release of pip is available: 23.3.1 -> 23.3.2\n",
      "[notice] To update, run: python.exe -m pip install --upgrade pip\n"
     ]
    }
   ],
   "source": [
    "!python -m spacy download en_core_web_sm"
   ]
  },
  {
   "cell_type": "code",
   "execution_count": 183,
   "metadata": {},
   "outputs": [
    {
     "name": "stdout",
     "output_type": "stream",
     "text": [
      "A 0\n",
      "person 2\n",
      "who 9\n",
      "never 13\n",
      "made 19\n",
      "a 24\n",
      "mistake 26\n",
      "never 34\n",
      "tried 40\n",
      "anything 46\n",
      "new 55\n",
      ". 58\n",
      "Do 60\n",
      "n't 62\n",
      "worry 66\n",
      "be 72\n",
      "happy 75\n",
      ":) 81\n",
      ": 83\n",
      "D. 84\n",
      "I 87\n",
      "ca 89\n",
      "n't 91\n",
      "change 95\n",
      "the 102\n",
      "direction 106\n",
      "of 116\n",
      "the 119\n",
      "wind 123\n",
      "but 128\n",
      "I 132\n",
      "can 134\n",
      "adjust 138\n",
      "my 145\n",
      "sails 148\n",
      ". 153\n",
      "  155\n",
      "Procrastination 156\n",
      "makes 172\n",
      "easy 178\n",
      "things 183\n",
      "hard 190\n",
      "and 195\n",
      "hard 199\n",
      "things 204\n",
      "harder 211\n",
      ". 217\n",
      "I 219\n",
      "find 221\n",
      "the 226\n",
      "harder 230\n",
      "I 237\n",
      "work 239\n",
      ", 243\n",
      "the 245\n",
      "more 249\n",
      "luck 254\n",
      "I 259\n",
      "seem 261\n",
      "to 266\n",
      "have 269\n",
      ". 273\n",
      "Motivation 275\n",
      "is 286\n",
      "what 289\n",
      "gets 294\n",
      "you 299\n",
      "started 303\n",
      ". 310\n",
      "Habit 312\n",
      "is 318\n",
      "what 321\n",
      "keeps 326\n",
      "you 332\n",
      "going 336\n",
      ". 341\n"
     ]
    }
   ],
   "source": [
    "#Spacey Tokenizer\n",
    "'''\n",
    "spaCy tokenizer can specify special tokens that don’t need to be segmented,\n",
    "U.S.A or U.N. will be recognized should be treated as one lable and not split int U,S,A or U, N\n",
    "download data and models for the English language.\n",
    "'''\n",
    "import spacy\n",
    "nlp = spacy.load(\"en_core_web_sm\")\n",
    "doc = nlp(quotes) \n",
    "for token in nlp(quotes):\n",
    "    print(token, token.idx)"
   ]
  },
  {
   "cell_type": "code",
   "execution_count": 195,
   "metadata": {},
   "outputs": [
    {
     "data": {
      "text/plain": [
       "{':):D.': 0,\n",
       " 'A': 1,\n",
       " \"Don't\": 2,\n",
       " 'Habit': 3,\n",
       " 'I': 4,\n",
       " 'Motivation': 5,\n",
       " 'Procrastination': 6,\n",
       " 'a': 7,\n",
       " 'adjust': 8,\n",
       " 'and': 9,\n",
       " 'anything': 10,\n",
       " 'be': 11,\n",
       " 'but': 12,\n",
       " 'can': 13,\n",
       " \"can't\": 14,\n",
       " 'change': 15,\n",
       " 'direction': 16,\n",
       " 'easy': 17,\n",
       " 'find': 18,\n",
       " 'gets': 19,\n",
       " 'going.': 20,\n",
       " 'happy': 21,\n",
       " 'hard': 22,\n",
       " 'harder': 23,\n",
       " 'harder.': 24,\n",
       " 'have.': 25,\n",
       " 'is': 26,\n",
       " 'keeps': 27,\n",
       " 'luck': 28,\n",
       " 'made': 29,\n",
       " 'makes': 30,\n",
       " 'mistake': 31,\n",
       " 'more': 32,\n",
       " 'my': 33,\n",
       " 'never': 34,\n",
       " 'new.': 35,\n",
       " 'of': 36,\n",
       " 'person': 37,\n",
       " 'sails.': 38,\n",
       " 'seem': 39,\n",
       " 'started.': 40,\n",
       " 'the': 41,\n",
       " 'things': 42,\n",
       " 'to': 43,\n",
       " 'tried': 44,\n",
       " 'what': 45,\n",
       " 'who': 46,\n",
       " 'wind': 47,\n",
       " 'work,': 48,\n",
       " 'worry': 49,\n",
       " 'you': 50}"
      ]
     },
     "execution_count": 195,
     "metadata": {},
     "output_type": "execute_result"
    }
   ],
   "source": [
    "#Gensim basically is looking for simularities\n",
    "from gensim import corpora\n",
    "from gensim.utils import tokenize\n",
    "\n",
    "# first lets create a dictionary of text using \n",
    "# tokenizer = nltk.TweetTokenizer() <- try later\n",
    "text = [[i for i in quotes.split()] for i in quotes]\n",
    "dictionary = corpora.Dictionary(text)\n",
    "# word ids\n",
    "(dictionary.token2id)\n",
    "\n",
    "'''\n",
    "ID's will replace the word. So if the ID for apples is 1 any docs or text strings with apples will be\n",
    "given the ID of 1. Tokenizing is not limited to gensim, this is an introduction to a new concept of \n",
    "ID's\n",
    "'''\n"
   ]
  },
  {
   "cell_type": "code",
   "execution_count": 200,
   "metadata": {},
   "outputs": [
    {
     "name": "stdout",
     "output_type": "stream",
     "text": [
      "Collecting kerasNote: you may need to restart the kernel to use updated packages.\n",
      "\n",
      "  Downloading keras-3.0.4-py3-none-any.whl.metadata (4.8 kB)\n",
      "Collecting absl-py (from keras)\n",
      "  Downloading absl_py-2.1.0-py3-none-any.whl.metadata (2.3 kB)\n",
      "Requirement already satisfied: numpy in c:\\users\\matth\\anaconda3\\lib\\site-packages (from keras) (1.24.3)\n",
      "Collecting rich (from keras)\n",
      "  Downloading rich-13.7.0-py3-none-any.whl.metadata (18 kB)\n",
      "Collecting namex (from keras)\n",
      "  Downloading namex-0.0.7-py3-none-any.whl (5.8 kB)\n",
      "Requirement already satisfied: h5py in c:\\users\\matth\\anaconda3\\lib\\site-packages (from keras) (3.9.0)\n",
      "Collecting dm-tree (from keras)\n",
      "  Downloading dm_tree-0.1.8-cp311-cp311-win_amd64.whl (101 kB)\n",
      "     ---------------------------------------- 0.0/101.3 kB ? eta -:--:--\n",
      "     ----------------------------------- --- 92.2/101.3 kB 2.6 MB/s eta 0:00:01\n",
      "     -------------------------------------- 101.3/101.3 kB 1.9 MB/s eta 0:00:00\n",
      "Requirement already satisfied: markdown-it-py>=2.2.0 in c:\\users\\matth\\anaconda3\\lib\\site-packages (from rich->keras) (2.2.0)\n",
      "Requirement already satisfied: pygments<3.0.0,>=2.13.0 in c:\\users\\matth\\anaconda3\\lib\\site-packages (from rich->keras) (2.15.1)\n",
      "Requirement already satisfied: mdurl~=0.1 in c:\\users\\matth\\anaconda3\\lib\\site-packages (from markdown-it-py>=2.2.0->rich->keras) (0.1.0)\n",
      "Downloading keras-3.0.4-py3-none-any.whl (1.0 MB)\n",
      "   ---------------------------------------- 0.0/1.0 MB ? eta -:--:--\n",
      "   -------------- ------------------------- 0.4/1.0 MB 7.6 MB/s eta 0:00:01\n",
      "   ----------------------------- ---------- 0.8/1.0 MB 8.0 MB/s eta 0:00:01\n",
      "   ---------------------------------------- 1.0/1.0 MB 8.0 MB/s eta 0:00:00\n",
      "Downloading absl_py-2.1.0-py3-none-any.whl (133 kB)\n",
      "   ---------------------------------------- 0.0/133.7 kB ? eta -:--:--\n",
      "   ---------------------------------------- 133.7/133.7 kB 7.7 MB/s eta 0:00:00\n",
      "Downloading rich-13.7.0-py3-none-any.whl (240 kB)\n",
      "   ---------------------------------------- 0.0/240.6 kB ? eta -:--:--\n",
      "   ---------------------------------------- 240.6/240.6 kB 7.2 MB/s eta 0:00:00\n",
      "Installing collected packages: namex, dm-tree, absl-py, rich, keras\n",
      "Successfully installed absl-py-2.1.0 dm-tree-0.1.8 keras-3.0.4 namex-0.0.7 rich-13.7.0\n"
     ]
    },
    {
     "name": "stderr",
     "output_type": "stream",
     "text": [
      "\n",
      "[notice] A new release of pip is available: 23.3.1 -> 23.3.2\n",
      "[notice] To update, run: python.exe -m pip install --upgrade pip\n"
     ]
    }
   ],
   "source": [
    "pip install keras"
   ]
  },
  {
   "cell_type": "code",
   "execution_count": 204,
   "metadata": {},
   "outputs": [
    {
     "name": "stdout",
     "output_type": "stream",
     "text": [
      "Collecting tensorflow\n",
      "  Downloading tensorflow-2.15.0-cp311-cp311-win_amd64.whl.metadata (3.6 kB)\n",
      "Collecting tensorflow-intel==2.15.0 (from tensorflow)\n",
      "  Downloading tensorflow_intel-2.15.0-cp311-cp311-win_amd64.whl.metadata (5.1 kB)\n",
      "Requirement already satisfied: absl-py>=1.0.0 in c:\\users\\matth\\anaconda3\\lib\\site-packages (from tensorflow-intel==2.15.0->tensorflow) (2.1.0)\n",
      "Collecting astunparse>=1.6.0 (from tensorflow-intel==2.15.0->tensorflow)\n",
      "  Downloading astunparse-1.6.3-py2.py3-none-any.whl (12 kB)\n",
      "Collecting flatbuffers>=23.5.26 (from tensorflow-intel==2.15.0->tensorflow)\n",
      "  Downloading flatbuffers-23.5.26-py2.py3-none-any.whl.metadata (850 bytes)\n",
      "Collecting gast!=0.5.0,!=0.5.1,!=0.5.2,>=0.2.1 (from tensorflow-intel==2.15.0->tensorflow)\n",
      "  Downloading gast-0.5.4-py3-none-any.whl (19 kB)\n",
      "Collecting google-pasta>=0.1.1 (from tensorflow-intel==2.15.0->tensorflow)\n",
      "  Downloading google_pasta-0.2.0-py3-none-any.whl (57 kB)\n",
      "     ---------------------------------------- 0.0/57.5 kB ? eta -:--:--\n",
      "     ---------------------------------------- 57.5/57.5 kB 1.5 MB/s eta 0:00:00\n",
      "Requirement already satisfied: h5py>=2.9.0 in c:\\users\\matth\\anaconda3\\lib\\site-packages (from tensorflow-intel==2.15.0->tensorflow) (3.9.0)\n",
      "Collecting libclang>=13.0.0 (from tensorflow-intel==2.15.0->tensorflow)\n",
      "  Downloading libclang-16.0.6-py2.py3-none-win_amd64.whl.metadata (5.3 kB)\n",
      "Collecting ml-dtypes~=0.2.0 (from tensorflow-intel==2.15.0->tensorflow)\n",
      "  Downloading ml_dtypes-0.2.0-cp311-cp311-win_amd64.whl.metadata (20 kB)\n",
      "Requirement already satisfied: numpy<2.0.0,>=1.23.5 in c:\\users\\matth\\anaconda3\\lib\\site-packages (from tensorflow-intel==2.15.0->tensorflow) (1.24.3)\n",
      "Collecting opt-einsum>=2.3.2 (from tensorflow-intel==2.15.0->tensorflow)\n",
      "  Downloading opt_einsum-3.3.0-py3-none-any.whl (65 kB)\n",
      "     ---------------------------------------- 0.0/65.5 kB ? eta -:--:--\n",
      "     ---------------------------------------- 65.5/65.5 kB 3.7 MB/s eta 0:00:00\n",
      "Requirement already satisfied: packaging in c:\\users\\matth\\anaconda3\\lib\\site-packages (from tensorflow-intel==2.15.0->tensorflow) (23.1)\n",
      "Collecting protobuf!=4.21.0,!=4.21.1,!=4.21.2,!=4.21.3,!=4.21.4,!=4.21.5,<5.0.0dev,>=3.20.3 (from tensorflow-intel==2.15.0->tensorflow)\n",
      "  Downloading protobuf-4.25.2-cp310-abi3-win_amd64.whl.metadata (541 bytes)\n",
      "Requirement already satisfied: setuptools in c:\\users\\matth\\anaconda3\\lib\\site-packages (from tensorflow-intel==2.15.0->tensorflow) (69.0.2)\n",
      "Requirement already satisfied: six>=1.12.0 in c:\\users\\matth\\anaconda3\\lib\\site-packages (from tensorflow-intel==2.15.0->tensorflow) (1.16.0)\n",
      "Collecting termcolor>=1.1.0 (from tensorflow-intel==2.15.0->tensorflow)\n",
      "  Downloading termcolor-2.4.0-py3-none-any.whl.metadata (6.1 kB)\n",
      "Requirement already satisfied: typing-extensions>=3.6.6 in c:\\users\\matth\\anaconda3\\lib\\site-packages (from tensorflow-intel==2.15.0->tensorflow) (4.7.1)\n",
      "Requirement already satisfied: wrapt<1.15,>=1.11.0 in c:\\users\\matth\\anaconda3\\lib\\site-packages (from tensorflow-intel==2.15.0->tensorflow) (1.14.1)\n",
      "Collecting tensorflow-io-gcs-filesystem>=0.23.1 (from tensorflow-intel==2.15.0->tensorflow)\n",
      "  Downloading tensorflow_io_gcs_filesystem-0.31.0-cp311-cp311-win_amd64.whl (1.5 MB)\n",
      "     ---------------------------------------- 0.0/1.5 MB ? eta -:--:--\n",
      "     ----- ---------------------------------- 0.2/1.5 MB 6.3 MB/s eta 0:00:01\n",
      "     ------------ --------------------------- 0.5/1.5 MB 5.8 MB/s eta 0:00:01\n",
      "     ------------------- -------------------- 0.7/1.5 MB 5.7 MB/s eta 0:00:01\n",
      "     --------------------------- ------------ 1.0/1.5 MB 5.8 MB/s eta 0:00:01\n",
      "     ----------------------------------- ---- 1.3/1.5 MB 5.9 MB/s eta 0:00:01\n",
      "     ---------------------------------------- 1.5/1.5 MB 5.9 MB/s eta 0:00:00\n",
      "Collecting grpcio<2.0,>=1.24.3 (from tensorflow-intel==2.15.0->tensorflow)\n",
      "  Downloading grpcio-1.60.0-cp311-cp311-win_amd64.whl.metadata (4.2 kB)\n",
      "Collecting tensorboard<2.16,>=2.15 (from tensorflow-intel==2.15.0->tensorflow)\n",
      "  Downloading tensorboard-2.15.1-py3-none-any.whl.metadata (1.7 kB)\n",
      "Collecting tensorflow-estimator<2.16,>=2.15.0 (from tensorflow-intel==2.15.0->tensorflow)\n",
      "  Downloading tensorflow_estimator-2.15.0-py2.py3-none-any.whl.metadata (1.3 kB)\n",
      "Collecting keras<2.16,>=2.15.0 (from tensorflow-intel==2.15.0->tensorflow)\n",
      "  Downloading keras-2.15.0-py3-none-any.whl.metadata (2.4 kB)\n",
      "Requirement already satisfied: wheel<1.0,>=0.23.0 in c:\\users\\matth\\anaconda3\\lib\\site-packages (from astunparse>=1.6.0->tensorflow-intel==2.15.0->tensorflow) (0.42.0)\n",
      "Collecting google-auth<3,>=1.6.3 (from tensorboard<2.16,>=2.15->tensorflow-intel==2.15.0->tensorflow)\n",
      "  Downloading google_auth-2.27.0-py2.py3-none-any.whl.metadata (4.7 kB)\n",
      "Collecting google-auth-oauthlib<2,>=0.5 (from tensorboard<2.16,>=2.15->tensorflow-intel==2.15.0->tensorflow)\n",
      "  Downloading google_auth_oauthlib-1.2.0-py2.py3-none-any.whl.metadata (2.7 kB)\n",
      "Requirement already satisfied: markdown>=2.6.8 in c:\\users\\matth\\anaconda3\\lib\\site-packages (from tensorboard<2.16,>=2.15->tensorflow-intel==2.15.0->tensorflow) (3.4.1)\n",
      "Collecting protobuf!=4.21.0,!=4.21.1,!=4.21.2,!=4.21.3,!=4.21.4,!=4.21.5,<5.0.0dev,>=3.20.3 (from tensorflow-intel==2.15.0->tensorflow)\n",
      "  Downloading protobuf-4.23.4-cp310-abi3-win_amd64.whl.metadata (540 bytes)\n",
      "Requirement already satisfied: requests<3,>=2.21.0 in c:\\users\\matth\\anaconda3\\lib\\site-packages (from tensorboard<2.16,>=2.15->tensorflow-intel==2.15.0->tensorflow) (2.31.0)\n",
      "Collecting tensorboard-data-server<0.8.0,>=0.7.0 (from tensorboard<2.16,>=2.15->tensorflow-intel==2.15.0->tensorflow)\n",
      "  Downloading tensorboard_data_server-0.7.2-py3-none-any.whl.metadata (1.1 kB)\n",
      "Requirement already satisfied: werkzeug>=1.0.1 in c:\\users\\matth\\anaconda3\\lib\\site-packages (from tensorboard<2.16,>=2.15->tensorflow-intel==2.15.0->tensorflow) (2.2.3)\n",
      "Collecting cachetools<6.0,>=2.0.0 (from google-auth<3,>=1.6.3->tensorboard<2.16,>=2.15->tensorflow-intel==2.15.0->tensorflow)\n",
      "  Downloading cachetools-5.3.2-py3-none-any.whl.metadata (5.2 kB)\n",
      "Requirement already satisfied: pyasn1-modules>=0.2.1 in c:\\users\\matth\\anaconda3\\lib\\site-packages (from google-auth<3,>=1.6.3->tensorboard<2.16,>=2.15->tensorflow-intel==2.15.0->tensorflow) (0.2.8)\n",
      "Collecting rsa<5,>=3.1.4 (from google-auth<3,>=1.6.3->tensorboard<2.16,>=2.15->tensorflow-intel==2.15.0->tensorflow)\n",
      "  Downloading rsa-4.9-py3-none-any.whl (34 kB)\n",
      "Collecting requests-oauthlib>=0.7.0 (from google-auth-oauthlib<2,>=0.5->tensorboard<2.16,>=2.15->tensorflow-intel==2.15.0->tensorflow)\n",
      "  Downloading requests_oauthlib-1.3.1-py2.py3-none-any.whl (23 kB)\n",
      "Requirement already satisfied: charset-normalizer<4,>=2 in c:\\users\\matth\\anaconda3\\lib\\site-packages (from requests<3,>=2.21.0->tensorboard<2.16,>=2.15->tensorflow-intel==2.15.0->tensorflow) (2.0.4)\n",
      "Requirement already satisfied: idna<4,>=2.5 in c:\\users\\matth\\anaconda3\\lib\\site-packages (from requests<3,>=2.21.0->tensorboard<2.16,>=2.15->tensorflow-intel==2.15.0->tensorflow) (3.4)\n",
      "Requirement already satisfied: urllib3<3,>=1.21.1 in c:\\users\\matth\\anaconda3\\lib\\site-packages (from requests<3,>=2.21.0->tensorboard<2.16,>=2.15->tensorflow-intel==2.15.0->tensorflow) (1.26.16)\n",
      "Requirement already satisfied: certifi>=2017.4.17 in c:\\users\\matth\\anaconda3\\lib\\site-packages (from requests<3,>=2.21.0->tensorboard<2.16,>=2.15->tensorflow-intel==2.15.0->tensorflow) (2023.7.22)\n",
      "Requirement already satisfied: MarkupSafe>=2.1.1 in c:\\users\\matth\\anaconda3\\lib\\site-packages (from werkzeug>=1.0.1->tensorboard<2.16,>=2.15->tensorflow-intel==2.15.0->tensorflow) (2.1.1)\n",
      "Requirement already satisfied: pyasn1<0.5.0,>=0.4.6 in c:\\users\\matth\\anaconda3\\lib\\site-packages (from pyasn1-modules>=0.2.1->google-auth<3,>=1.6.3->tensorboard<2.16,>=2.15->tensorflow-intel==2.15.0->tensorflow) (0.4.8)\n",
      "Collecting oauthlib>=3.0.0 (from requests-oauthlib>=0.7.0->google-auth-oauthlib<2,>=0.5->tensorboard<2.16,>=2.15->tensorflow-intel==2.15.0->tensorflow)\n",
      "  Downloading oauthlib-3.2.2-py3-none-any.whl (151 kB)\n",
      "     ---------------------------------------- 0.0/151.7 kB ? eta -:--:--\n",
      "     -------------------------------------- 151.7/151.7 kB 8.8 MB/s eta 0:00:00\n",
      "Downloading tensorflow-2.15.0-cp311-cp311-win_amd64.whl (2.1 kB)\n",
      "Downloading tensorflow_intel-2.15.0-cp311-cp311-win_amd64.whl (300.9 MB)\n",
      "   ---------------------------------------- 0.0/300.9 MB ? eta -:--:--\n",
      "   ---------------------------------------- 0.4/300.9 MB 7.4 MB/s eta 0:00:41\n",
      "   ---------------------------------------- 0.7/300.9 MB 7.1 MB/s eta 0:00:43\n",
      "   ---------------------------------------- 1.0/300.9 MB 7.1 MB/s eta 0:00:43\n",
      "   ---------------------------------------- 1.3/300.9 MB 7.1 MB/s eta 0:00:43\n",
      "   ---------------------------------------- 1.7/300.9 MB 7.1 MB/s eta 0:00:42\n",
      "   ---------------------------------------- 2.0/300.9 MB 7.6 MB/s eta 0:00:40\n",
      "   ---------------------------------------- 2.4/300.9 MB 7.4 MB/s eta 0:00:41\n",
      "   ---------------------------------------- 2.8/300.9 MB 7.7 MB/s eta 0:00:39\n",
      "   ---------------------------------------- 3.2/300.9 MB 7.4 MB/s eta 0:00:40\n",
      "   ---------------------------------------- 3.6/300.9 MB 7.6 MB/s eta 0:00:40\n",
      "    --------------------------------------- 4.0/300.9 MB 7.9 MB/s eta 0:00:38\n",
      "    --------------------------------------- 4.4/300.9 MB 8.1 MB/s eta 0:00:37\n",
      "    --------------------------------------- 4.8/300.9 MB 8.0 MB/s eta 0:00:38\n",
      "    --------------------------------------- 5.2/300.9 MB 7.9 MB/s eta 0:00:38\n",
      "    --------------------------------------- 5.6/300.9 MB 8.2 MB/s eta 0:00:37\n",
      "    --------------------------------------- 6.1/300.9 MB 8.2 MB/s eta 0:00:36\n",
      "    --------------------------------------- 6.3/300.9 MB 8.1 MB/s eta 0:00:37\n",
      "    --------------------------------------- 6.4/300.9 MB 7.8 MB/s eta 0:00:38\n",
      "    --------------------------------------- 6.6/300.9 MB 7.5 MB/s eta 0:00:40\n",
      "    --------------------------------------- 6.9/300.9 MB 7.5 MB/s eta 0:00:40\n",
      "    --------------------------------------- 7.3/300.9 MB 7.6 MB/s eta 0:00:39\n",
      "   - -------------------------------------- 7.8/300.9 MB 7.6 MB/s eta 0:00:39\n",
      "   - -------------------------------------- 8.1/300.9 MB 7.6 MB/s eta 0:00:39\n",
      "   - -------------------------------------- 8.5/300.9 MB 7.6 MB/s eta 0:00:39\n",
      "   - -------------------------------------- 9.0/300.9 MB 7.8 MB/s eta 0:00:38\n",
      "   - -------------------------------------- 9.4/300.9 MB 7.8 MB/s eta 0:00:38\n",
      "   - -------------------------------------- 9.9/300.9 MB 7.9 MB/s eta 0:00:37\n",
      "   - -------------------------------------- 10.3/300.9 MB 7.9 MB/s eta 0:00:37\n",
      "   - -------------------------------------- 10.8/300.9 MB 8.1 MB/s eta 0:00:36\n",
      "   - -------------------------------------- 11.3/300.9 MB 8.2 MB/s eta 0:00:36\n",
      "   - -------------------------------------- 11.6/300.9 MB 8.2 MB/s eta 0:00:36\n",
      "   - -------------------------------------- 12.0/300.9 MB 8.2 MB/s eta 0:00:36\n",
      "   - -------------------------------------- 12.5/300.9 MB 8.3 MB/s eta 0:00:35\n",
      "   - -------------------------------------- 12.9/300.9 MB 8.4 MB/s eta 0:00:35\n",
      "   - -------------------------------------- 13.3/300.9 MB 8.4 MB/s eta 0:00:35\n",
      "   - -------------------------------------- 13.6/300.9 MB 8.3 MB/s eta 0:00:35\n",
      "   - -------------------------------------- 14.1/300.9 MB 8.4 MB/s eta 0:00:35\n",
      "   - -------------------------------------- 14.6/300.9 MB 8.4 MB/s eta 0:00:35\n",
      "   -- ------------------------------------- 15.1/300.9 MB 8.5 MB/s eta 0:00:34\n",
      "   -- ------------------------------------- 15.5/300.9 MB 8.5 MB/s eta 0:00:34\n",
      "   -- ------------------------------------- 16.1/300.9 MB 8.6 MB/s eta 0:00:34\n",
      "   -- ------------------------------------- 16.6/300.9 MB 9.0 MB/s eta 0:00:32\n",
      "   -- ------------------------------------- 17.1/300.9 MB 9.6 MB/s eta 0:00:30\n",
      "   -- ------------------------------------- 17.6/300.9 MB 9.6 MB/s eta 0:00:30\n",
      "   -- ------------------------------------- 18.1/300.9 MB 9.6 MB/s eta 0:00:30\n",
      "   -- ------------------------------------- 18.6/300.9 MB 9.9 MB/s eta 0:00:29\n",
      "   -- ------------------------------------- 19.0/300.9 MB 9.9 MB/s eta 0:00:29\n",
      "   -- ------------------------------------- 19.5/300.9 MB 9.9 MB/s eta 0:00:29\n",
      "   -- ------------------------------------- 19.9/300.9 MB 9.9 MB/s eta 0:00:29\n",
      "   -- ------------------------------------- 20.3/300.9 MB 9.8 MB/s eta 0:00:29\n",
      "   -- ------------------------------------- 20.6/300.9 MB 9.6 MB/s eta 0:00:30\n",
      "   -- ------------------------------------- 20.9/300.9 MB 9.5 MB/s eta 0:00:30\n",
      "   -- ------------------------------------- 21.3/300.9 MB 9.5 MB/s eta 0:00:30\n",
      "   -- ------------------------------------- 21.7/300.9 MB 9.5 MB/s eta 0:00:30\n",
      "   -- ------------------------------------- 22.0/300.9 MB 9.4 MB/s eta 0:00:30\n",
      "   -- ------------------------------------- 22.2/300.9 MB 9.2 MB/s eta 0:00:31\n",
      "   -- ------------------------------------- 22.4/300.9 MB 9.0 MB/s eta 0:00:32\n",
      "   --- ------------------------------------ 22.6/300.9 MB 8.7 MB/s eta 0:00:32\n",
      "   --- ------------------------------------ 22.8/300.9 MB 8.5 MB/s eta 0:00:33\n",
      "   --- ------------------------------------ 23.0/300.9 MB 8.4 MB/s eta 0:00:34\n",
      "   --- ------------------------------------ 23.2/300.9 MB 8.3 MB/s eta 0:00:34\n",
      "   --- ------------------------------------ 23.4/300.9 MB 8.1 MB/s eta 0:00:35\n",
      "   --- ------------------------------------ 23.6/300.9 MB 8.0 MB/s eta 0:00:35\n",
      "   --- ------------------------------------ 23.9/300.9 MB 7.9 MB/s eta 0:00:36\n",
      "   --- ------------------------------------ 24.2/300.9 MB 7.8 MB/s eta 0:00:36\n",
      "   --- ------------------------------------ 24.4/300.9 MB 7.6 MB/s eta 0:00:37\n",
      "   --- ------------------------------------ 24.7/300.9 MB 7.5 MB/s eta 0:00:37\n",
      "   --- ------------------------------------ 25.0/300.9 MB 7.4 MB/s eta 0:00:38\n",
      "   --- ------------------------------------ 25.3/300.9 MB 7.4 MB/s eta 0:00:38\n",
      "   --- ------------------------------------ 25.6/300.9 MB 7.3 MB/s eta 0:00:38\n",
      "   --- ------------------------------------ 26.0/300.9 MB 7.3 MB/s eta 0:00:38\n",
      "   --- ------------------------------------ 26.3/300.9 MB 7.2 MB/s eta 0:00:39\n",
      "   --- ------------------------------------ 26.7/300.9 MB 7.1 MB/s eta 0:00:39\n",
      "   --- ------------------------------------ 27.0/300.9 MB 7.0 MB/s eta 0:00:39\n",
      "   --- ------------------------------------ 27.4/300.9 MB 7.0 MB/s eta 0:00:40\n",
      "   --- ------------------------------------ 27.8/300.9 MB 7.0 MB/s eta 0:00:40\n",
      "   --- ------------------------------------ 28.3/300.9 MB 6.9 MB/s eta 0:00:40\n",
      "   --- ------------------------------------ 28.6/300.9 MB 6.8 MB/s eta 0:00:40\n",
      "   --- ------------------------------------ 29.0/300.9 MB 6.8 MB/s eta 0:00:41\n",
      "   --- ------------------------------------ 29.3/300.9 MB 6.7 MB/s eta 0:00:41\n",
      "   --- ------------------------------------ 29.8/300.9 MB 6.7 MB/s eta 0:00:41\n",
      "   ---- ----------------------------------- 30.2/300.9 MB 6.7 MB/s eta 0:00:41\n",
      "   ---- ----------------------------------- 30.7/300.9 MB 6.8 MB/s eta 0:00:40\n",
      "   ---- ----------------------------------- 31.1/300.9 MB 6.9 MB/s eta 0:00:40\n",
      "   ---- ----------------------------------- 31.5/300.9 MB 6.9 MB/s eta 0:00:40\n",
      "   ---- ----------------------------------- 31.8/300.9 MB 6.9 MB/s eta 0:00:40\n",
      "   ---- ----------------------------------- 32.2/300.9 MB 6.9 MB/s eta 0:00:39\n",
      "   ---- ----------------------------------- 32.7/300.9 MB 7.2 MB/s eta 0:00:38\n",
      "   ---- ----------------------------------- 33.1/300.9 MB 7.4 MB/s eta 0:00:36\n",
      "   ---- ----------------------------------- 33.6/300.9 MB 7.8 MB/s eta 0:00:35\n",
      "   ---- ----------------------------------- 34.0/300.9 MB 8.0 MB/s eta 0:00:34\n",
      "   ---- ----------------------------------- 34.5/300.9 MB 8.4 MB/s eta 0:00:32\n",
      "   ---- ----------------------------------- 35.1/300.9 MB 8.7 MB/s eta 0:00:31\n",
      "   ---- ----------------------------------- 35.7/300.9 MB 9.1 MB/s eta 0:00:30\n",
      "   ---- ----------------------------------- 36.1/300.9 MB 9.1 MB/s eta 0:00:30\n",
      "   ---- ----------------------------------- 36.6/300.9 MB 9.4 MB/s eta 0:00:29\n",
      "   ---- ----------------------------------- 37.0/300.9 MB 9.4 MB/s eta 0:00:29\n",
      "   ---- ----------------------------------- 37.4/300.9 MB 9.4 MB/s eta 0:00:29\n",
      "   ----- ---------------------------------- 37.9/300.9 MB 9.5 MB/s eta 0:00:28\n",
      "   ----- ---------------------------------- 38.2/300.9 MB 9.4 MB/s eta 0:00:29\n",
      "   ----- ---------------------------------- 38.6/300.9 MB 9.5 MB/s eta 0:00:28\n",
      "   ----- ---------------------------------- 39.2/300.9 MB 9.5 MB/s eta 0:00:28\n",
      "   ----- ---------------------------------- 39.7/300.9 MB 9.8 MB/s eta 0:00:27\n",
      "   ----- ---------------------------------- 40.1/300.9 MB 9.8 MB/s eta 0:00:27\n",
      "   ----- ---------------------------------- 40.6/300.9 MB 9.8 MB/s eta 0:00:27\n",
      "   ----- ---------------------------------- 41.2/300.9 MB 9.9 MB/s eta 0:00:27\n",
      "   ----- ---------------------------------- 41.6/300.9 MB 9.9 MB/s eta 0:00:27\n",
      "   ----- ---------------------------------- 42.1/300.9 MB 10.1 MB/s eta 0:00:26\n",
      "   ----- ---------------------------------- 42.6/300.9 MB 10.2 MB/s eta 0:00:26\n",
      "   ----- ---------------------------------- 43.1/300.9 MB 10.2 MB/s eta 0:00:26\n",
      "   ----- ---------------------------------- 43.5/300.9 MB 10.2 MB/s eta 0:00:26\n",
      "   ----- ---------------------------------- 44.0/300.9 MB 10.2 MB/s eta 0:00:26\n",
      "   ----- ---------------------------------- 44.5/300.9 MB 10.2 MB/s eta 0:00:26\n",
      "   ----- ---------------------------------- 45.0/300.9 MB 10.2 MB/s eta 0:00:26\n",
      "   ------ --------------------------------- 45.4/300.9 MB 10.1 MB/s eta 0:00:26\n",
      "   ------ --------------------------------- 45.9/300.9 MB 9.9 MB/s eta 0:00:26\n",
      "   ------ --------------------------------- 46.3/300.9 MB 10.1 MB/s eta 0:00:26\n",
      "   ------ --------------------------------- 46.8/300.9 MB 9.9 MB/s eta 0:00:26\n",
      "   ------ --------------------------------- 47.3/300.9 MB 10.1 MB/s eta 0:00:26\n",
      "   ------ --------------------------------- 47.7/300.9 MB 10.1 MB/s eta 0:00:26\n",
      "   ------ --------------------------------- 48.3/300.9 MB 10.2 MB/s eta 0:00:25\n",
      "   ------ --------------------------------- 48.8/300.9 MB 10.2 MB/s eta 0:00:25\n",
      "   ------ --------------------------------- 49.2/300.9 MB 10.2 MB/s eta 0:00:25\n",
      "   ------ --------------------------------- 49.8/300.9 MB 10.2 MB/s eta 0:00:25\n",
      "   ------ --------------------------------- 50.1/300.9 MB 10.4 MB/s eta 0:00:25\n",
      "   ------ --------------------------------- 50.5/300.9 MB 10.1 MB/s eta 0:00:25\n",
      "   ------ --------------------------------- 51.0/300.9 MB 10.1 MB/s eta 0:00:25\n",
      "   ------ --------------------------------- 51.6/300.9 MB 10.2 MB/s eta 0:00:25\n",
      "   ------ --------------------------------- 52.2/300.9 MB 10.2 MB/s eta 0:00:25\n",
      "   ------ --------------------------------- 52.7/300.9 MB 10.2 MB/s eta 0:00:25\n",
      "   ------- -------------------------------- 53.2/300.9 MB 10.4 MB/s eta 0:00:24\n",
      "   ------- -------------------------------- 53.8/300.9 MB 10.6 MB/s eta 0:00:24\n",
      "   ------- -------------------------------- 54.3/300.9 MB 10.6 MB/s eta 0:00:24\n",
      "   ------- -------------------------------- 54.9/300.9 MB 10.6 MB/s eta 0:00:24\n",
      "   ------- -------------------------------- 55.4/300.9 MB 10.9 MB/s eta 0:00:23\n",
      "   ------- -------------------------------- 56.0/300.9 MB 10.7 MB/s eta 0:00:23\n",
      "   ------- -------------------------------- 56.5/300.9 MB 10.9 MB/s eta 0:00:23\n",
      "   ------- -------------------------------- 57.1/300.9 MB 11.1 MB/s eta 0:00:22\n",
      "   ------- -------------------------------- 57.7/300.9 MB 11.1 MB/s eta 0:00:22\n",
      "   ------- -------------------------------- 58.2/300.9 MB 11.1 MB/s eta 0:00:22\n",
      "   ------- -------------------------------- 58.7/300.9 MB 11.1 MB/s eta 0:00:22\n",
      "   ------- -------------------------------- 59.2/300.9 MB 11.5 MB/s eta 0:00:22\n",
      "   ------- -------------------------------- 59.8/300.9 MB 11.5 MB/s eta 0:00:22\n",
      "   -------- ------------------------------- 60.3/300.9 MB 11.7 MB/s eta 0:00:21\n",
      "   -------- ------------------------------- 60.9/300.9 MB 11.9 MB/s eta 0:00:21\n",
      "   -------- ------------------------------- 61.5/300.9 MB 11.9 MB/s eta 0:00:21\n",
      "   -------- ------------------------------- 62.0/300.9 MB 11.9 MB/s eta 0:00:21\n",
      "   -------- ------------------------------- 62.6/300.9 MB 11.9 MB/s eta 0:00:21\n",
      "   -------- ------------------------------- 63.3/300.9 MB 12.1 MB/s eta 0:00:20\n",
      "   -------- ------------------------------- 63.8/300.9 MB 12.1 MB/s eta 0:00:20\n",
      "   -------- ------------------------------- 64.3/300.9 MB 11.9 MB/s eta 0:00:20\n",
      "   -------- ------------------------------- 64.8/300.9 MB 11.7 MB/s eta 0:00:21\n",
      "   -------- ------------------------------- 65.1/300.9 MB 11.7 MB/s eta 0:00:21\n",
      "   -------- ------------------------------- 65.7/300.9 MB 11.7 MB/s eta 0:00:21\n",
      "   -------- ------------------------------- 66.2/300.9 MB 11.7 MB/s eta 0:00:21\n",
      "   -------- ------------------------------- 66.5/300.9 MB 11.3 MB/s eta 0:00:21\n",
      "   -------- ------------------------------- 66.8/300.9 MB 11.1 MB/s eta 0:00:22\n",
      "   -------- ------------------------------- 67.0/300.9 MB 10.7 MB/s eta 0:00:22\n",
      "   -------- ------------------------------- 67.2/300.9 MB 10.2 MB/s eta 0:00:23\n",
      "   -------- ------------------------------- 67.3/300.9 MB 10.1 MB/s eta 0:00:24\n",
      "   -------- ------------------------------- 67.5/300.9 MB 9.8 MB/s eta 0:00:24\n",
      "   -------- ------------------------------- 67.6/300.9 MB 9.4 MB/s eta 0:00:25\n",
      "   -------- ------------------------------- 67.7/300.9 MB 9.0 MB/s eta 0:00:26\n",
      "   --------- ------------------------------ 67.9/300.9 MB 8.7 MB/s eta 0:00:27\n",
      "   --------- ------------------------------ 68.1/300.9 MB 8.6 MB/s eta 0:00:28\n",
      "   --------- ------------------------------ 68.4/300.9 MB 8.4 MB/s eta 0:00:28\n",
      "   --------- ------------------------------ 68.6/300.9 MB 8.3 MB/s eta 0:00:29\n",
      "   --------- ------------------------------ 68.9/300.9 MB 8.1 MB/s eta 0:00:29\n",
      "   --------- ------------------------------ 69.2/300.9 MB 8.0 MB/s eta 0:00:30\n",
      "   --------- ------------------------------ 69.5/300.9 MB 7.9 MB/s eta 0:00:30\n",
      "   --------- ------------------------------ 69.8/300.9 MB 7.7 MB/s eta 0:00:31\n",
      "   --------- ------------------------------ 70.1/300.9 MB 7.6 MB/s eta 0:00:31\n",
      "   --------- ------------------------------ 70.4/300.9 MB 7.5 MB/s eta 0:00:31\n",
      "   --------- ------------------------------ 70.8/300.9 MB 7.4 MB/s eta 0:00:31\n",
      "   --------- ------------------------------ 71.1/300.9 MB 7.3 MB/s eta 0:00:32\n",
      "   --------- ------------------------------ 71.4/300.9 MB 7.2 MB/s eta 0:00:32\n",
      "   --------- ------------------------------ 71.6/300.9 MB 7.0 MB/s eta 0:00:33\n",
      "   --------- ------------------------------ 71.9/300.9 MB 6.9 MB/s eta 0:00:34\n",
      "   --------- ------------------------------ 72.2/300.9 MB 6.8 MB/s eta 0:00:34\n",
      "   --------- ------------------------------ 72.5/300.9 MB 6.7 MB/s eta 0:00:35\n",
      "   --------- ------------------------------ 72.8/300.9 MB 6.6 MB/s eta 0:00:35\n",
      "   --------- ------------------------------ 73.1/300.9 MB 6.5 MB/s eta 0:00:35\n",
      "   --------- ------------------------------ 73.5/300.9 MB 6.5 MB/s eta 0:00:36\n",
      "   --------- ------------------------------ 73.9/300.9 MB 6.4 MB/s eta 0:00:36\n",
      "   --------- ------------------------------ 74.2/300.9 MB 6.3 MB/s eta 0:00:37\n",
      "   --------- ------------------------------ 74.6/300.9 MB 6.3 MB/s eta 0:00:36\n",
      "   --------- ------------------------------ 75.0/300.9 MB 6.2 MB/s eta 0:00:37\n",
      "   ---------- ----------------------------- 75.4/300.9 MB 6.4 MB/s eta 0:00:36\n",
      "   ---------- ----------------------------- 75.7/300.9 MB 6.2 MB/s eta 0:00:37\n",
      "   ---------- ----------------------------- 76.1/300.9 MB 6.2 MB/s eta 0:00:37\n",
      "   ---------- ----------------------------- 76.6/300.9 MB 6.2 MB/s eta 0:00:36\n",
      "   ---------- ----------------------------- 77.0/300.9 MB 6.4 MB/s eta 0:00:36\n",
      "   ---------- ----------------------------- 77.5/300.9 MB 6.6 MB/s eta 0:00:34\n",
      "   ---------- ----------------------------- 78.0/300.9 MB 7.2 MB/s eta 0:00:31\n",
      "   ---------- ----------------------------- 78.4/300.9 MB 7.4 MB/s eta 0:00:30\n",
      "   ---------- ----------------------------- 78.8/300.9 MB 7.5 MB/s eta 0:00:30\n",
      "   ---------- ----------------------------- 79.3/300.9 MB 7.8 MB/s eta 0:00:29\n",
      "   ---------- ----------------------------- 79.7/300.9 MB 7.9 MB/s eta 0:00:29\n",
      "   ---------- ----------------------------- 80.2/300.9 MB 8.1 MB/s eta 0:00:28\n",
      "   ---------- ----------------------------- 80.7/300.9 MB 8.2 MB/s eta 0:00:27\n",
      "   ---------- ----------------------------- 81.1/300.9 MB 8.3 MB/s eta 0:00:27\n",
      "   ---------- ----------------------------- 81.7/300.9 MB 8.6 MB/s eta 0:00:26\n",
      "   ---------- ----------------------------- 82.2/300.9 MB 8.8 MB/s eta 0:00:25\n",
      "   ---------- ----------------------------- 82.7/300.9 MB 9.2 MB/s eta 0:00:24\n",
      "   ----------- ---------------------------- 83.3/300.9 MB 9.5 MB/s eta 0:00:23\n",
      "   ----------- ---------------------------- 83.8/300.9 MB 9.6 MB/s eta 0:00:23\n",
      "   ----------- ---------------------------- 84.3/300.9 MB 9.9 MB/s eta 0:00:22\n",
      "   ----------- ---------------------------- 84.9/300.9 MB 10.1 MB/s eta 0:00:22\n",
      "   ----------- ---------------------------- 85.2/300.9 MB 10.1 MB/s eta 0:00:22\n",
      "   ----------- ---------------------------- 85.4/300.9 MB 9.8 MB/s eta 0:00:23\n",
      "   ----------- ---------------------------- 85.6/300.9 MB 9.5 MB/s eta 0:00:23\n",
      "   ----------- ---------------------------- 86.0/300.9 MB 9.6 MB/s eta 0:00:23\n",
      "   ----------- ---------------------------- 86.6/300.9 MB 9.8 MB/s eta 0:00:22\n",
      "   ----------- ---------------------------- 87.2/300.9 MB 9.9 MB/s eta 0:00:22\n",
      "   ----------- ---------------------------- 87.7/300.9 MB 9.9 MB/s eta 0:00:22\n",
      "   ----------- ---------------------------- 88.2/300.9 MB 10.1 MB/s eta 0:00:22\n",
      "   ----------- ---------------------------- 88.6/300.9 MB 10.1 MB/s eta 0:00:22\n",
      "   ----------- ---------------------------- 89.2/300.9 MB 10.1 MB/s eta 0:00:22\n",
      "   ----------- ---------------------------- 89.7/300.9 MB 10.2 MB/s eta 0:00:21\n",
      "   ----------- ---------------------------- 90.1/300.9 MB 10.2 MB/s eta 0:00:21\n",
      "   ------------ --------------------------- 90.7/300.9 MB 10.2 MB/s eta 0:00:21\n",
      "   ------------ --------------------------- 91.3/300.9 MB 10.4 MB/s eta 0:00:21\n",
      "   ------------ --------------------------- 91.8/300.9 MB 10.4 MB/s eta 0:00:21\n",
      "   ------------ --------------------------- 92.4/300.9 MB 10.4 MB/s eta 0:00:21\n",
      "   ------------ --------------------------- 92.9/300.9 MB 10.4 MB/s eta 0:00:21\n",
      "   ------------ --------------------------- 93.4/300.9 MB 10.4 MB/s eta 0:00:20\n",
      "   ------------ --------------------------- 94.0/300.9 MB 10.4 MB/s eta 0:00:20\n",
      "   ------------ --------------------------- 94.5/300.9 MB 10.4 MB/s eta 0:00:20\n",
      "   ------------ --------------------------- 95.2/300.9 MB 10.4 MB/s eta 0:00:20\n",
      "   ------------ --------------------------- 95.8/300.9 MB 11.7 MB/s eta 0:00:18\n",
      "   ------------ --------------------------- 96.4/300.9 MB 11.7 MB/s eta 0:00:18\n",
      "   ------------ --------------------------- 96.9/300.9 MB 11.7 MB/s eta 0:00:18\n",
      "   ------------ --------------------------- 97.5/300.9 MB 11.5 MB/s eta 0:00:18\n",
      "   ------------- -------------------------- 98.0/300.9 MB 11.7 MB/s eta 0:00:18\n",
      "   ------------- -------------------------- 98.6/300.9 MB 11.9 MB/s eta 0:00:18\n",
      "   ------------- -------------------------- 99.2/300.9 MB 11.9 MB/s eta 0:00:17\n",
      "   ------------- -------------------------- 99.8/300.9 MB 11.9 MB/s eta 0:00:17\n",
      "   ------------ -------------------------- 100.3/300.9 MB 12.1 MB/s eta 0:00:17\n",
      "   ------------- ------------------------- 100.8/300.9 MB 12.1 MB/s eta 0:00:17\n",
      "   ------------- ------------------------- 101.4/300.9 MB 12.1 MB/s eta 0:00:17\n",
      "   ------------- ------------------------- 101.9/300.9 MB 12.1 MB/s eta 0:00:17\n",
      "   ------------- ------------------------- 102.6/300.9 MB 12.1 MB/s eta 0:00:17\n",
      "   ------------- ------------------------- 103.1/300.9 MB 12.1 MB/s eta 0:00:17\n",
      "   ------------- ------------------------- 103.8/300.9 MB 12.1 MB/s eta 0:00:17\n",
      "   ------------- ------------------------- 104.3/300.9 MB 12.3 MB/s eta 0:00:16\n",
      "   ------------- ------------------------- 104.8/300.9 MB 12.1 MB/s eta 0:00:17\n",
      "   ------------- ------------------------- 105.4/300.9 MB 12.1 MB/s eta 0:00:17\n",
      "   ------------- ------------------------- 106.0/300.9 MB 12.1 MB/s eta 0:00:17\n",
      "   ------------- ------------------------- 106.4/300.9 MB 11.9 MB/s eta 0:00:17\n",
      "   ------------- ------------------------- 107.0/300.9 MB 12.1 MB/s eta 0:00:16\n",
      "   ------------- ------------------------- 107.5/300.9 MB 12.1 MB/s eta 0:00:16\n",
      "   ------------- ------------------------- 108.0/300.9 MB 11.9 MB/s eta 0:00:17\n",
      "   -------------- ------------------------ 108.4/300.9 MB 11.9 MB/s eta 0:00:17\n",
      "   -------------- ------------------------ 109.0/300.9 MB 11.9 MB/s eta 0:00:17\n",
      "   -------------- ------------------------ 109.5/300.9 MB 11.9 MB/s eta 0:00:17\n",
      "   -------------- ------------------------ 110.1/300.9 MB 11.7 MB/s eta 0:00:17\n",
      "   -------------- ------------------------ 110.7/300.9 MB 11.7 MB/s eta 0:00:17\n",
      "   -------------- ------------------------ 111.2/300.9 MB 11.9 MB/s eta 0:00:16\n",
      "   -------------- ------------------------ 111.7/300.9 MB 11.7 MB/s eta 0:00:17\n",
      "   -------------- ------------------------ 112.4/300.9 MB 11.9 MB/s eta 0:00:16\n",
      "   -------------- ------------------------ 113.0/300.9 MB 11.9 MB/s eta 0:00:16\n",
      "   -------------- ------------------------ 113.6/300.9 MB 11.9 MB/s eta 0:00:16\n",
      "   -------------- ------------------------ 114.2/300.9 MB 11.9 MB/s eta 0:00:16\n",
      "   -------------- ------------------------ 114.8/300.9 MB 11.9 MB/s eta 0:00:16\n",
      "   -------------- ------------------------ 115.4/300.9 MB 11.9 MB/s eta 0:00:16\n",
      "   --------------- ----------------------- 115.9/300.9 MB 11.9 MB/s eta 0:00:16\n",
      "   --------------- ----------------------- 116.4/300.9 MB 11.9 MB/s eta 0:00:16\n",
      "   --------------- ----------------------- 117.0/300.9 MB 11.9 MB/s eta 0:00:16\n",
      "   --------------- ----------------------- 117.5/300.9 MB 11.9 MB/s eta 0:00:16\n",
      "   --------------- ----------------------- 118.1/300.9 MB 11.9 MB/s eta 0:00:16\n",
      "   --------------- ----------------------- 118.6/300.9 MB 12.4 MB/s eta 0:00:15\n",
      "   --------------- ----------------------- 119.1/300.9 MB 12.1 MB/s eta 0:00:15\n",
      "   --------------- ----------------------- 119.6/300.9 MB 12.1 MB/s eta 0:00:15\n",
      "   --------------- ----------------------- 119.9/300.9 MB 11.9 MB/s eta 0:00:16\n",
      "   --------------- ----------------------- 120.3/300.9 MB 11.7 MB/s eta 0:00:16\n",
      "   --------------- ----------------------- 120.6/300.9 MB 11.3 MB/s eta 0:00:16\n",
      "   --------------- ----------------------- 120.9/300.9 MB 11.1 MB/s eta 0:00:17\n",
      "   --------------- ----------------------- 121.3/300.9 MB 10.7 MB/s eta 0:00:17\n",
      "   --------------- ----------------------- 121.6/300.9 MB 10.6 MB/s eta 0:00:17\n",
      "   --------------- ----------------------- 121.9/300.9 MB 10.4 MB/s eta 0:00:18\n",
      "   --------------- ----------------------- 122.3/300.9 MB 10.2 MB/s eta 0:00:18\n",
      "   --------------- ----------------------- 122.7/300.9 MB 10.1 MB/s eta 0:00:18\n",
      "   ---------------- ----------------------- 123.1/300.9 MB 9.9 MB/s eta 0:00:18\n",
      "   ---------------- ----------------------- 123.5/300.9 MB 9.8 MB/s eta 0:00:19\n",
      "   ---------------- ----------------------- 123.7/300.9 MB 9.5 MB/s eta 0:00:19\n",
      "   ---------------- ----------------------- 124.1/300.9 MB 9.4 MB/s eta 0:00:19\n",
      "   ---------------- ----------------------- 124.5/300.9 MB 9.2 MB/s eta 0:00:20\n",
      "   ---------------- ----------------------- 124.8/300.9 MB 9.0 MB/s eta 0:00:20\n",
      "   ---------------- ----------------------- 125.2/300.9 MB 9.0 MB/s eta 0:00:20\n",
      "   ---------------- ----------------------- 125.7/300.9 MB 8.8 MB/s eta 0:00:20\n",
      "   ---------------- ----------------------- 126.1/300.9 MB 8.7 MB/s eta 0:00:21\n",
      "   ---------------- ----------------------- 126.5/300.9 MB 8.6 MB/s eta 0:00:21\n",
      "   ---------------- ----------------------- 127.0/300.9 MB 8.6 MB/s eta 0:00:21\n",
      "   ---------------- ----------------------- 127.4/300.9 MB 8.6 MB/s eta 0:00:21\n",
      "   ---------------- ----------------------- 127.8/300.9 MB 8.6 MB/s eta 0:00:21\n",
      "   ----------------- ---------------------- 128.2/300.9 MB 8.5 MB/s eta 0:00:21\n",
      "   ----------------- ---------------------- 128.7/300.9 MB 8.3 MB/s eta 0:00:21\n",
      "   ----------------- ---------------------- 129.2/300.9 MB 8.3 MB/s eta 0:00:21\n",
      "   ----------------- ---------------------- 129.5/300.9 MB 8.3 MB/s eta 0:00:21\n",
      "   ----------------- ---------------------- 130.0/300.9 MB 8.4 MB/s eta 0:00:21\n",
      "   ----------------- ---------------------- 130.5/300.9 MB 8.5 MB/s eta 0:00:21\n",
      "   ----------------- ---------------------- 131.0/300.9 MB 8.6 MB/s eta 0:00:20\n",
      "   ----------------- ---------------------- 131.4/300.9 MB 8.7 MB/s eta 0:00:20\n",
      "   ----------------- ---------------------- 131.9/300.9 MB 8.8 MB/s eta 0:00:20\n",
      "   ----------------- ---------------------- 132.3/300.9 MB 9.0 MB/s eta 0:00:19\n",
      "   ----------------- ---------------------- 132.8/300.9 MB 9.1 MB/s eta 0:00:19\n",
      "   ----------------- ---------------------- 133.3/300.9 MB 9.2 MB/s eta 0:00:19\n",
      "   ----------------- ---------------------- 133.7/300.9 MB 9.1 MB/s eta 0:00:19\n",
      "   ----------------- ---------------------- 134.1/300.9 MB 9.4 MB/s eta 0:00:18\n",
      "   ----------------- ---------------------- 134.6/300.9 MB 9.4 MB/s eta 0:00:18\n",
      "   ----------------- ---------------------- 134.8/300.9 MB 9.4 MB/s eta 0:00:18\n",
      "   ----------------- ---------------------- 135.0/300.9 MB 9.1 MB/s eta 0:00:19\n",
      "   ----------------- ---------------------- 135.3/300.9 MB 9.1 MB/s eta 0:00:19\n",
      "   ------------------ --------------------- 135.8/300.9 MB 9.1 MB/s eta 0:00:19\n",
      "   ------------------ --------------------- 136.3/300.9 MB 9.2 MB/s eta 0:00:18\n",
      "   ------------------ --------------------- 136.8/300.9 MB 9.2 MB/s eta 0:00:18\n",
      "   ------------------ --------------------- 137.3/300.9 MB 9.2 MB/s eta 0:00:18\n",
      "   ------------------ --------------------- 137.8/300.9 MB 9.4 MB/s eta 0:00:18\n",
      "   ------------------ --------------------- 138.3/300.9 MB 9.5 MB/s eta 0:00:18\n",
      "   ------------------ --------------------- 138.8/300.9 MB 9.5 MB/s eta 0:00:18\n",
      "   ------------------ --------------------- 139.4/300.9 MB 9.6 MB/s eta 0:00:17\n",
      "   ------------------ --------------------- 139.9/300.9 MB 9.8 MB/s eta 0:00:17\n",
      "   ------------------ --------------------- 140.5/300.9 MB 9.8 MB/s eta 0:00:17\n",
      "   ------------------ --------------------- 141.0/300.9 MB 9.6 MB/s eta 0:00:17\n",
      "   ------------------ --------------------- 141.6/300.9 MB 9.8 MB/s eta 0:00:17\n",
      "   ------------------ --------------------- 142.0/300.9 MB 9.9 MB/s eta 0:00:17\n",
      "   ------------------ --------------------- 142.5/300.9 MB 9.9 MB/s eta 0:00:16\n",
      "   ------------------- -------------------- 143.0/300.9 MB 9.9 MB/s eta 0:00:16\n",
      "   ------------------ -------------------- 143.6/300.9 MB 10.1 MB/s eta 0:00:16\n",
      "   ------------------ -------------------- 144.1/300.9 MB 10.2 MB/s eta 0:00:16\n",
      "   ------------------ -------------------- 144.7/300.9 MB 10.2 MB/s eta 0:00:16\n",
      "   ------------------ -------------------- 145.1/300.9 MB 10.9 MB/s eta 0:00:15\n",
      "   ------------------ -------------------- 145.7/300.9 MB 11.1 MB/s eta 0:00:14\n",
      "   ------------------ -------------------- 146.3/300.9 MB 11.3 MB/s eta 0:00:14\n",
      "   ------------------- ------------------- 146.8/300.9 MB 11.5 MB/s eta 0:00:14\n",
      "   ------------------- ------------------- 147.4/300.9 MB 11.3 MB/s eta 0:00:14\n",
      "   ------------------- ------------------- 147.9/300.9 MB 11.5 MB/s eta 0:00:14\n",
      "   ------------------- ------------------- 148.4/300.9 MB 11.5 MB/s eta 0:00:14\n",
      "   ------------------- ------------------- 148.7/300.9 MB 11.3 MB/s eta 0:00:14\n",
      "   ------------------- ------------------- 149.2/300.9 MB 11.1 MB/s eta 0:00:14\n",
      "   ------------------- ------------------- 149.6/300.9 MB 11.1 MB/s eta 0:00:14\n",
      "   ------------------- ------------------- 150.2/300.9 MB 11.1 MB/s eta 0:00:14\n",
      "   ------------------- ------------------- 150.7/300.9 MB 11.1 MB/s eta 0:00:14\n",
      "   ------------------- ------------------- 151.3/300.9 MB 11.1 MB/s eta 0:00:14\n",
      "   ------------------- ------------------- 151.8/300.9 MB 11.1 MB/s eta 0:00:14\n",
      "   ------------------- ------------------- 152.3/300.9 MB 11.1 MB/s eta 0:00:14\n",
      "   ------------------- ------------------- 152.9/300.9 MB 11.3 MB/s eta 0:00:14\n",
      "   ------------------- ------------------- 153.4/300.9 MB 11.3 MB/s eta 0:00:14\n",
      "   ------------------- ------------------- 154.0/300.9 MB 11.1 MB/s eta 0:00:14\n",
      "   -------------------- ------------------ 154.5/300.9 MB 11.1 MB/s eta 0:00:14\n",
      "   -------------------- ------------------ 155.0/300.9 MB 11.3 MB/s eta 0:00:13\n",
      "   -------------------- ------------------ 155.6/300.9 MB 11.3 MB/s eta 0:00:13\n",
      "   -------------------- ------------------ 156.2/300.9 MB 11.3 MB/s eta 0:00:13\n",
      "   -------------------- ------------------ 156.8/300.9 MB 11.3 MB/s eta 0:00:13\n",
      "   -------------------- ------------------ 157.3/300.9 MB 11.3 MB/s eta 0:00:13\n",
      "   -------------------- ------------------ 157.9/300.9 MB 11.3 MB/s eta 0:00:13\n",
      "   -------------------- ------------------ 158.4/300.9 MB 11.3 MB/s eta 0:00:13\n",
      "   -------------------- ------------------ 158.9/300.9 MB 11.9 MB/s eta 0:00:12\n",
      "   -------------------- ------------------ 159.5/300.9 MB 11.7 MB/s eta 0:00:13\n",
      "   -------------------- ------------------ 159.9/300.9 MB 11.5 MB/s eta 0:00:13\n",
      "   -------------------- ------------------ 160.5/300.9 MB 11.7 MB/s eta 0:00:13\n",
      "   -------------------- ------------------ 160.9/300.9 MB 11.5 MB/s eta 0:00:13\n",
      "   -------------------- ------------------ 161.4/300.9 MB 11.3 MB/s eta 0:00:13\n",
      "   -------------------- ------------------ 162.0/300.9 MB 11.5 MB/s eta 0:00:13\n",
      "   --------------------- ----------------- 162.4/300.9 MB 11.5 MB/s eta 0:00:13\n",
      "   --------------------- ----------------- 162.9/300.9 MB 11.3 MB/s eta 0:00:13\n",
      "   --------------------- ----------------- 163.6/300.9 MB 11.5 MB/s eta 0:00:12\n",
      "   --------------------- ----------------- 164.1/300.9 MB 11.5 MB/s eta 0:00:12\n",
      "   --------------------- ----------------- 164.6/300.9 MB 11.5 MB/s eta 0:00:12\n",
      "   --------------------- ----------------- 165.1/300.9 MB 11.7 MB/s eta 0:00:12\n",
      "   --------------------- ----------------- 165.6/300.9 MB 11.5 MB/s eta 0:00:12\n",
      "   --------------------- ----------------- 166.2/300.9 MB 11.5 MB/s eta 0:00:12\n",
      "   --------------------- ----------------- 166.7/300.9 MB 11.3 MB/s eta 0:00:12\n",
      "   --------------------- ----------------- 167.2/300.9 MB 11.3 MB/s eta 0:00:12\n",
      "   --------------------- ----------------- 167.3/300.9 MB 10.9 MB/s eta 0:00:13\n",
      "   --------------------- ----------------- 167.5/300.9 MB 10.6 MB/s eta 0:00:13\n",
      "   --------------------- ----------------- 168.0/300.9 MB 10.4 MB/s eta 0:00:13\n",
      "   --------------------- ----------------- 168.6/300.9 MB 10.4 MB/s eta 0:00:13\n",
      "   --------------------- ----------------- 169.1/300.9 MB 10.4 MB/s eta 0:00:13\n",
      "   --------------------- ----------------- 169.6/300.9 MB 10.4 MB/s eta 0:00:13\n",
      "   ---------------------- ---------------- 170.1/300.9 MB 10.6 MB/s eta 0:00:13\n",
      "   ---------------------- ---------------- 170.6/300.9 MB 10.6 MB/s eta 0:00:13\n",
      "   ---------------------- ---------------- 171.2/300.9 MB 10.6 MB/s eta 0:00:13\n",
      "   ---------------------- ---------------- 171.7/300.9 MB 10.6 MB/s eta 0:00:13\n",
      "   ---------------------- ---------------- 172.2/300.9 MB 10.6 MB/s eta 0:00:13\n",
      "   ---------------------- ---------------- 172.8/300.9 MB 10.7 MB/s eta 0:00:12\n",
      "   ---------------------- ---------------- 173.3/300.9 MB 10.6 MB/s eta 0:00:13\n",
      "   ---------------------- ---------------- 173.9/300.9 MB 10.7 MB/s eta 0:00:12\n",
      "   ---------------------- ---------------- 174.4/300.9 MB 10.6 MB/s eta 0:00:12\n",
      "   ---------------------- ---------------- 174.9/300.9 MB 10.6 MB/s eta 0:00:12\n",
      "   ---------------------- ---------------- 175.5/300.9 MB 10.7 MB/s eta 0:00:12\n",
      "   ---------------------- ---------------- 176.0/300.9 MB 10.7 MB/s eta 0:00:12\n",
      "   ---------------------- ---------------- 176.5/300.9 MB 10.7 MB/s eta 0:00:12\n",
      "   ---------------------- ---------------- 177.0/300.9 MB 10.7 MB/s eta 0:00:12\n",
      "   ----------------------- --------------- 177.6/300.9 MB 11.5 MB/s eta 0:00:11\n",
      "   ----------------------- --------------- 178.2/300.9 MB 11.7 MB/s eta 0:00:11\n",
      "   ----------------------- --------------- 178.8/300.9 MB 11.7 MB/s eta 0:00:11\n",
      "   ----------------------- --------------- 179.3/300.9 MB 11.7 MB/s eta 0:00:11\n",
      "   ----------------------- --------------- 179.8/300.9 MB 11.7 MB/s eta 0:00:11\n",
      "   ----------------------- --------------- 180.3/300.9 MB 11.7 MB/s eta 0:00:11\n",
      "   ----------------------- --------------- 180.9/300.9 MB 11.7 MB/s eta 0:00:11\n",
      "   ----------------------- --------------- 181.5/300.9 MB 11.7 MB/s eta 0:00:11\n",
      "   ----------------------- --------------- 181.9/300.9 MB 11.5 MB/s eta 0:00:11\n",
      "   ----------------------- --------------- 182.5/300.9 MB 11.7 MB/s eta 0:00:11\n",
      "   ----------------------- --------------- 183.0/300.9 MB 11.7 MB/s eta 0:00:11\n",
      "   ----------------------- --------------- 183.6/300.9 MB 11.7 MB/s eta 0:00:11\n",
      "   ----------------------- --------------- 184.2/300.9 MB 11.9 MB/s eta 0:00:10\n",
      "   ----------------------- --------------- 184.8/300.9 MB 11.9 MB/s eta 0:00:10\n",
      "   ------------------------ -------------- 185.3/300.9 MB 11.9 MB/s eta 0:00:10\n",
      "   ------------------------ -------------- 185.9/300.9 MB 11.9 MB/s eta 0:00:10\n",
      "   ------------------------ -------------- 186.3/300.9 MB 11.9 MB/s eta 0:00:10\n",
      "   ------------------------ -------------- 186.9/300.9 MB 11.9 MB/s eta 0:00:10\n",
      "   ------------------------ -------------- 187.4/300.9 MB 11.9 MB/s eta 0:00:10\n",
      "   ------------------------ -------------- 187.9/300.9 MB 11.7 MB/s eta 0:00:10\n",
      "   ------------------------ -------------- 188.4/300.9 MB 11.7 MB/s eta 0:00:10\n",
      "   ------------------------ -------------- 188.9/300.9 MB 11.7 MB/s eta 0:00:10\n",
      "   ------------------------ -------------- 189.5/300.9 MB 11.7 MB/s eta 0:00:10\n",
      "   ------------------------ -------------- 190.1/300.9 MB 11.7 MB/s eta 0:00:10\n",
      "   ------------------------ -------------- 190.6/300.9 MB 11.7 MB/s eta 0:00:10\n",
      "   ------------------------ -------------- 191.1/300.9 MB 11.7 MB/s eta 0:00:10\n",
      "   ------------------------ -------------- 191.6/300.9 MB 11.5 MB/s eta 0:00:10\n",
      "   ------------------------ -------------- 192.2/300.9 MB 11.7 MB/s eta 0:00:10\n",
      "   ------------------------ -------------- 192.8/300.9 MB 11.7 MB/s eta 0:00:10\n",
      "   ------------------------- ------------- 193.3/300.9 MB 11.7 MB/s eta 0:00:10\n",
      "   ------------------------- ------------- 193.8/300.9 MB 11.7 MB/s eta 0:00:10\n",
      "   ------------------------- ------------- 194.3/300.9 MB 11.5 MB/s eta 0:00:10\n",
      "   ------------------------- ------------- 194.9/300.9 MB 11.5 MB/s eta 0:00:10\n",
      "   ------------------------- ------------- 195.5/300.9 MB 11.5 MB/s eta 0:00:10\n",
      "   ------------------------- ------------- 196.0/300.9 MB 11.5 MB/s eta 0:00:10\n",
      "   ------------------------- ------------- 196.6/300.9 MB 11.7 MB/s eta 0:00:09\n",
      "   ------------------------- ------------- 197.1/300.9 MB 11.5 MB/s eta 0:00:10\n",
      "   ------------------------- ------------- 197.6/300.9 MB 11.5 MB/s eta 0:00:09\n",
      "   ------------------------- ------------- 197.9/300.9 MB 11.5 MB/s eta 0:00:09\n",
      "   ------------------------- ------------- 198.5/300.9 MB 11.7 MB/s eta 0:00:09\n",
      "   ------------------------- ------------- 198.9/300.9 MB 11.5 MB/s eta 0:00:09\n",
      "   ------------------------- ------------- 199.2/300.9 MB 11.1 MB/s eta 0:00:10\n",
      "   ------------------------- ------------- 199.4/300.9 MB 10.7 MB/s eta 0:00:10\n",
      "   ------------------------- ------------- 199.7/300.9 MB 10.6 MB/s eta 0:00:10\n",
      "   ------------------------- ------------- 200.3/300.9 MB 10.6 MB/s eta 0:00:10\n",
      "   -------------------------- ------------ 200.9/300.9 MB 10.6 MB/s eta 0:00:10\n",
      "   -------------------------- ------------ 201.5/300.9 MB 10.7 MB/s eta 0:00:10\n",
      "   -------------------------- ------------ 202.0/300.9 MB 10.7 MB/s eta 0:00:10\n",
      "   -------------------------- ------------ 202.6/300.9 MB 10.7 MB/s eta 0:00:10\n",
      "   -------------------------- ------------ 203.1/300.9 MB 10.7 MB/s eta 0:00:10\n",
      "   -------------------------- ------------ 203.8/300.9 MB 10.7 MB/s eta 0:00:10\n",
      "   -------------------------- ------------ 204.3/300.9 MB 10.7 MB/s eta 0:00:10\n",
      "   -------------------------- ------------ 204.9/300.9 MB 10.9 MB/s eta 0:00:09\n",
      "   -------------------------- ------------ 205.4/300.9 MB 10.7 MB/s eta 0:00:09\n",
      "   -------------------------- ------------ 206.0/300.9 MB 10.7 MB/s eta 0:00:09\n",
      "   -------------------------- ------------ 206.5/300.9 MB 10.7 MB/s eta 0:00:09\n",
      "   -------------------------- ------------ 207.0/300.9 MB 10.7 MB/s eta 0:00:09\n",
      "   -------------------------- ------------ 207.6/300.9 MB 10.7 MB/s eta 0:00:09\n",
      "   -------------------------- ------------ 207.9/300.9 MB 10.6 MB/s eta 0:00:09\n",
      "   --------------------------- ----------- 208.4/300.9 MB 10.7 MB/s eta 0:00:09\n",
      "   --------------------------- ----------- 209.0/300.9 MB 10.7 MB/s eta 0:00:09\n",
      "   --------------------------- ----------- 209.5/300.9 MB 11.3 MB/s eta 0:00:09\n",
      "   --------------------------- ----------- 210.1/300.9 MB 11.7 MB/s eta 0:00:08\n",
      "   --------------------------- ----------- 210.6/300.9 MB 11.7 MB/s eta 0:00:08\n",
      "   --------------------------- ----------- 211.2/300.9 MB 11.5 MB/s eta 0:00:08\n",
      "   --------------------------- ----------- 211.8/300.9 MB 11.9 MB/s eta 0:00:08\n",
      "   --------------------------- ----------- 212.4/300.9 MB 11.7 MB/s eta 0:00:08\n",
      "   --------------------------- ----------- 213.0/300.9 MB 11.9 MB/s eta 0:00:08\n",
      "   --------------------------- ----------- 213.5/300.9 MB 11.7 MB/s eta 0:00:08\n",
      "   --------------------------- ----------- 214.1/300.9 MB 11.7 MB/s eta 0:00:08\n",
      "   --------------------------- ----------- 214.7/300.9 MB 11.7 MB/s eta 0:00:08\n",
      "   --------------------------- ----------- 215.2/300.9 MB 11.7 MB/s eta 0:00:08\n",
      "   --------------------------- ----------- 215.8/300.9 MB 11.9 MB/s eta 0:00:08\n",
      "   ---------------------------- ---------- 216.2/300.9 MB 11.7 MB/s eta 0:00:08\n",
      "   ---------------------------- ---------- 216.7/300.9 MB 11.7 MB/s eta 0:00:08\n",
      "   ---------------------------- ---------- 217.3/300.9 MB 11.7 MB/s eta 0:00:08\n",
      "   ---------------------------- ---------- 217.9/300.9 MB 11.9 MB/s eta 0:00:07\n",
      "   ---------------------------- ---------- 218.5/300.9 MB 12.1 MB/s eta 0:00:07\n",
      "   ---------------------------- ---------- 219.0/300.9 MB 12.1 MB/s eta 0:00:07\n",
      "   ---------------------------- ---------- 219.5/300.9 MB 12.1 MB/s eta 0:00:07\n",
      "   ---------------------------- ---------- 220.1/300.9 MB 12.1 MB/s eta 0:00:07\n",
      "   ---------------------------- ---------- 220.7/300.9 MB 12.1 MB/s eta 0:00:07\n",
      "   ---------------------------- ---------- 221.3/300.9 MB 12.1 MB/s eta 0:00:07\n",
      "   ---------------------------- ---------- 221.9/300.9 MB 12.1 MB/s eta 0:00:07\n",
      "   ---------------------------- ---------- 222.4/300.9 MB 12.1 MB/s eta 0:00:07\n",
      "   ---------------------------- ---------- 222.9/300.9 MB 11.9 MB/s eta 0:00:07\n",
      "   ---------------------------- ---------- 223.5/300.9 MB 11.9 MB/s eta 0:00:07\n",
      "   ----------------------------- --------- 223.9/300.9 MB 11.9 MB/s eta 0:00:07\n",
      "   ----------------------------- --------- 224.8/300.9 MB 12.1 MB/s eta 0:00:07\n",
      "   ----------------------------- --------- 225.2/300.9 MB 12.1 MB/s eta 0:00:07\n",
      "   ----------------------------- --------- 225.7/300.9 MB 11.9 MB/s eta 0:00:07\n",
      "   ----------------------------- --------- 226.2/300.9 MB 11.7 MB/s eta 0:00:07\n",
      "   ----------------------------- --------- 226.6/300.9 MB 12.1 MB/s eta 0:00:07\n",
      "   ----------------------------- --------- 226.9/300.9 MB 11.7 MB/s eta 0:00:07\n",
      "   ----------------------------- --------- 227.3/300.9 MB 11.5 MB/s eta 0:00:07\n",
      "   ----------------------------- --------- 227.7/300.9 MB 11.1 MB/s eta 0:00:07\n",
      "   ----------------------------- --------- 228.0/300.9 MB 11.1 MB/s eta 0:00:07\n",
      "   ----------------------------- --------- 228.4/300.9 MB 10.9 MB/s eta 0:00:07\n",
      "   ----------------------------- --------- 228.8/300.9 MB 10.6 MB/s eta 0:00:07\n",
      "   ----------------------------- --------- 229.1/300.9 MB 10.4 MB/s eta 0:00:07\n",
      "   ----------------------------- --------- 229.5/300.9 MB 10.2 MB/s eta 0:00:07\n",
      "   ----------------------------- --------- 229.9/300.9 MB 10.1 MB/s eta 0:00:08\n",
      "   ------------------------------ --------- 230.3/300.9 MB 9.9 MB/s eta 0:00:08\n",
      "   ------------------------------ --------- 230.7/300.9 MB 9.9 MB/s eta 0:00:08\n",
      "   ------------------------------ --------- 231.1/300.9 MB 9.8 MB/s eta 0:00:08\n",
      "   ------------------------------ --------- 231.5/300.9 MB 9.6 MB/s eta 0:00:08\n",
      "   ------------------------------ --------- 231.9/300.9 MB 9.5 MB/s eta 0:00:08\n",
      "   ------------------------------ --------- 232.4/300.9 MB 9.4 MB/s eta 0:00:08\n",
      "   ------------------------------ --------- 232.7/300.9 MB 9.4 MB/s eta 0:00:08\n",
      "   ------------------------------ --------- 233.2/300.9 MB 9.2 MB/s eta 0:00:08\n",
      "   ------------------------------- -------- 233.3/300.9 MB 9.1 MB/s eta 0:00:08\n",
      "   ------------------------------- -------- 233.7/300.9 MB 8.8 MB/s eta 0:00:08\n",
      "   ------------------------------- -------- 234.1/300.9 MB 8.7 MB/s eta 0:00:08\n",
      "   ------------------------------- -------- 234.6/300.9 MB 8.6 MB/s eta 0:00:08\n",
      "   ------------------------------- -------- 235.1/300.9 MB 8.6 MB/s eta 0:00:08\n",
      "   ------------------------------- -------- 235.6/300.9 MB 8.6 MB/s eta 0:00:08\n",
      "   ------------------------------- -------- 236.1/300.9 MB 8.6 MB/s eta 0:00:08\n",
      "   ------------------------------- -------- 236.7/300.9 MB 8.7 MB/s eta 0:00:08\n",
      "   ------------------------------- -------- 237.1/300.9 MB 8.7 MB/s eta 0:00:08\n",
      "   ------------------------------- -------- 237.6/300.9 MB 8.8 MB/s eta 0:00:08\n",
      "   ------------------------------- -------- 238.1/300.9 MB 9.0 MB/s eta 0:00:08\n",
      "   ------------------------------- -------- 238.7/300.9 MB 9.2 MB/s eta 0:00:07\n",
      "   ------------------------------- -------- 239.2/300.9 MB 9.5 MB/s eta 0:00:07\n",
      "   ------------------------------- -------- 239.8/300.9 MB 9.6 MB/s eta 0:00:07\n",
      "   ------------------------------- -------- 240.4/300.9 MB 9.9 MB/s eta 0:00:07\n",
      "   ------------------------------- ------- 241.0/300.9 MB 10.1 MB/s eta 0:00:06\n",
      "   ------------------------------- ------- 241.6/300.9 MB 10.2 MB/s eta 0:00:06\n",
      "   ------------------------------- ------- 242.2/300.9 MB 10.6 MB/s eta 0:00:06\n",
      "   ------------------------------- ------- 242.8/300.9 MB 10.7 MB/s eta 0:00:06\n",
      "   ------------------------------- ------- 243.4/300.9 MB 11.1 MB/s eta 0:00:06\n",
      "   ------------------------------- ------- 244.0/300.9 MB 11.7 MB/s eta 0:00:05\n",
      "   ------------------------------- ------- 244.6/300.9 MB 11.9 MB/s eta 0:00:05\n",
      "   ------------------------------- ------- 245.0/300.9 MB 11.7 MB/s eta 0:00:05\n",
      "   ------------------------------- ------- 245.5/300.9 MB 11.9 MB/s eta 0:00:05\n",
      "   ------------------------------- ------- 246.2/300.9 MB 11.9 MB/s eta 0:00:05\n",
      "   ------------------------------- ------- 246.8/300.9 MB 11.9 MB/s eta 0:00:05\n",
      "   -------------------------------- ------ 247.4/300.9 MB 12.1 MB/s eta 0:00:05\n",
      "   -------------------------------- ------ 247.9/300.9 MB 12.4 MB/s eta 0:00:05\n",
      "   -------------------------------- ------ 248.5/300.9 MB 12.6 MB/s eta 0:00:05\n",
      "   -------------------------------- ------ 249.0/300.9 MB 12.6 MB/s eta 0:00:05\n",
      "   -------------------------------- ------ 249.4/300.9 MB 12.4 MB/s eta 0:00:05\n",
      "   -------------------------------- ------ 250.0/300.9 MB 12.4 MB/s eta 0:00:05\n",
      "   -------------------------------- ------ 250.5/300.9 MB 12.1 MB/s eta 0:00:05\n",
      "   -------------------------------- ------ 251.1/300.9 MB 12.1 MB/s eta 0:00:05\n",
      "   -------------------------------- ------ 251.7/300.9 MB 12.1 MB/s eta 0:00:05\n",
      "   -------------------------------- ------ 252.1/300.9 MB 11.9 MB/s eta 0:00:05\n",
      "   -------------------------------- ------ 252.7/300.9 MB 11.9 MB/s eta 0:00:05\n",
      "   -------------------------------- ------ 253.3/300.9 MB 11.9 MB/s eta 0:00:04\n",
      "   -------------------------------- ------ 253.7/300.9 MB 11.7 MB/s eta 0:00:05\n",
      "   -------------------------------- ------ 254.4/300.9 MB 11.7 MB/s eta 0:00:04\n",
      "   --------------------------------- ----- 254.8/300.9 MB 11.7 MB/s eta 0:00:04\n",
      "   --------------------------------- ----- 255.4/300.9 MB 11.7 MB/s eta 0:00:04\n",
      "   --------------------------------- ----- 255.9/300.9 MB 12.1 MB/s eta 0:00:04\n",
      "   --------------------------------- ----- 256.4/300.9 MB 11.7 MB/s eta 0:00:04\n",
      "   --------------------------------- ----- 257.0/300.9 MB 11.7 MB/s eta 0:00:04\n",
      "   --------------------------------- ----- 257.6/300.9 MB 11.9 MB/s eta 0:00:04\n",
      "   --------------------------------- ----- 258.1/300.9 MB 11.7 MB/s eta 0:00:04\n",
      "   --------------------------------- ----- 258.7/300.9 MB 11.9 MB/s eta 0:00:04\n",
      "   --------------------------------- ----- 259.3/300.9 MB 11.9 MB/s eta 0:00:04\n",
      "   --------------------------------- ----- 259.8/300.9 MB 11.7 MB/s eta 0:00:04\n",
      "   --------------------------------- ----- 260.3/300.9 MB 11.7 MB/s eta 0:00:04\n",
      "   --------------------------------- ----- 260.8/300.9 MB 11.7 MB/s eta 0:00:04\n",
      "   --------------------------------- ----- 261.4/300.9 MB 11.9 MB/s eta 0:00:04\n",
      "   --------------------------------- ----- 261.9/300.9 MB 11.7 MB/s eta 0:00:04\n",
      "   ---------------------------------- ---- 262.5/300.9 MB 11.9 MB/s eta 0:00:04\n",
      "   ---------------------------------- ---- 263.0/300.9 MB 11.9 MB/s eta 0:00:04\n",
      "   ---------------------------------- ---- 263.6/300.9 MB 11.7 MB/s eta 0:00:04\n",
      "   ---------------------------------- ---- 263.8/300.9 MB 11.5 MB/s eta 0:00:04\n",
      "   ---------------------------------- ---- 264.1/300.9 MB 11.1 MB/s eta 0:00:04\n",
      "   ---------------------------------- ---- 264.5/300.9 MB 11.1 MB/s eta 0:00:04\n",
      "   ---------------------------------- ---- 265.1/300.9 MB 11.1 MB/s eta 0:00:04\n",
      "   ---------------------------------- ---- 265.6/300.9 MB 11.1 MB/s eta 0:00:04\n",
      "   ---------------------------------- ---- 266.1/300.9 MB 11.1 MB/s eta 0:00:04\n",
      "   ---------------------------------- ---- 266.7/300.9 MB 11.1 MB/s eta 0:00:04\n",
      "   ---------------------------------- ---- 267.2/300.9 MB 11.1 MB/s eta 0:00:04\n",
      "   ---------------------------------- ---- 267.9/300.9 MB 11.1 MB/s eta 0:00:03\n",
      "   ---------------------------------- ---- 268.5/300.9 MB 11.1 MB/s eta 0:00:03\n",
      "   ---------------------------------- ---- 269.0/300.9 MB 11.3 MB/s eta 0:00:03\n",
      "   ---------------------------------- ---- 269.6/300.9 MB 11.3 MB/s eta 0:00:03\n",
      "   ----------------------------------- --- 270.2/300.9 MB 11.3 MB/s eta 0:00:03\n",
      "   ----------------------------------- --- 270.7/300.9 MB 11.5 MB/s eta 0:00:03\n",
      "   ----------------------------------- --- 271.2/300.9 MB 11.3 MB/s eta 0:00:03\n",
      "   ----------------------------------- --- 271.8/300.9 MB 11.3 MB/s eta 0:00:03\n",
      "   ----------------------------------- --- 272.5/300.9 MB 11.5 MB/s eta 0:00:03\n",
      "   ----------------------------------- --- 273.0/300.9 MB 11.5 MB/s eta 0:00:03\n",
      "   ----------------------------------- --- 273.6/300.9 MB 11.5 MB/s eta 0:00:03\n",
      "   ----------------------------------- --- 273.8/300.9 MB 11.3 MB/s eta 0:00:03\n",
      "   ----------------------------------- --- 274.1/300.9 MB 11.3 MB/s eta 0:00:03\n",
      "   ----------------------------------- --- 274.6/300.9 MB 11.5 MB/s eta 0:00:03\n",
      "   ----------------------------------- --- 275.2/300.9 MB 11.5 MB/s eta 0:00:03\n",
      "   ----------------------------------- --- 275.8/300.9 MB 11.7 MB/s eta 0:00:03\n",
      "   ----------------------------------- --- 276.4/300.9 MB 11.7 MB/s eta 0:00:03\n",
      "   ----------------------------------- --- 277.0/300.9 MB 11.9 MB/s eta 0:00:03\n",
      "   ----------------------------------- --- 277.6/300.9 MB 11.7 MB/s eta 0:00:02\n",
      "   ------------------------------------ -- 278.2/300.9 MB 11.7 MB/s eta 0:00:02\n",
      "   ------------------------------------ -- 278.8/300.9 MB 11.7 MB/s eta 0:00:02\n",
      "   ------------------------------------ -- 279.3/300.9 MB 11.7 MB/s eta 0:00:02\n",
      "   ------------------------------------ -- 280.0/300.9 MB 11.7 MB/s eta 0:00:02\n",
      "   ------------------------------------ -- 280.6/300.9 MB 11.7 MB/s eta 0:00:02\n",
      "   ------------------------------------ -- 281.2/300.9 MB 11.9 MB/s eta 0:00:02\n",
      "   ------------------------------------ -- 281.8/300.9 MB 11.9 MB/s eta 0:00:02\n",
      "   ------------------------------------ -- 282.4/300.9 MB 11.9 MB/s eta 0:00:02\n",
      "   ------------------------------------ -- 283.0/300.9 MB 11.9 MB/s eta 0:00:02\n",
      "   ------------------------------------ -- 283.4/300.9 MB 11.7 MB/s eta 0:00:02\n",
      "   ------------------------------------ -- 284.0/300.9 MB 11.9 MB/s eta 0:00:02\n",
      "   ------------------------------------ -- 284.5/300.9 MB 12.4 MB/s eta 0:00:02\n",
      "   ------------------------------------ -- 285.2/300.9 MB 12.8 MB/s eta 0:00:02\n",
      "   ------------------------------------- - 285.9/300.9 MB 12.8 MB/s eta 0:00:02\n",
      "   ------------------------------------- - 286.4/300.9 MB 12.8 MB/s eta 0:00:02\n",
      "   ------------------------------------- - 287.0/300.9 MB 12.8 MB/s eta 0:00:02\n",
      "   ------------------------------------- - 287.4/300.9 MB 12.6 MB/s eta 0:00:02\n",
      "   ------------------------------------- - 288.0/300.9 MB 12.6 MB/s eta 0:00:02\n",
      "   ------------------------------------- - 288.6/300.9 MB 12.6 MB/s eta 0:00:01\n",
      "   ------------------------------------- - 289.1/300.9 MB 12.4 MB/s eta 0:00:01\n",
      "   ------------------------------------- - 289.7/300.9 MB 12.4 MB/s eta 0:00:01\n",
      "   ------------------------------------- - 290.3/300.9 MB 12.4 MB/s eta 0:00:01\n",
      "   ------------------------------------- - 291.0/300.9 MB 12.6 MB/s eta 0:00:01\n",
      "   ------------------------------------- - 291.6/300.9 MB 12.3 MB/s eta 0:00:01\n",
      "   ------------------------------------- - 292.2/300.9 MB 12.4 MB/s eta 0:00:01\n",
      "   ------------------------------------- - 292.8/300.9 MB 12.6 MB/s eta 0:00:01\n",
      "   --------------------------------------  293.4/300.9 MB 12.6 MB/s eta 0:00:01\n",
      "   --------------------------------------  294.0/300.9 MB 12.9 MB/s eta 0:00:01\n",
      "   --------------------------------------  294.6/300.9 MB 13.1 MB/s eta 0:00:01\n",
      "   --------------------------------------  295.2/300.9 MB 13.1 MB/s eta 0:00:01\n",
      "   --------------------------------------  295.9/300.9 MB 13.1 MB/s eta 0:00:01\n",
      "   --------------------------------------  296.6/300.9 MB 13.1 MB/s eta 0:00:01\n",
      "   --------------------------------------  297.2/300.9 MB 13.4 MB/s eta 0:00:01\n",
      "   --------------------------------------  297.9/300.9 MB 13.4 MB/s eta 0:00:01\n",
      "   --------------------------------------  298.6/300.9 MB 13.6 MB/s eta 0:00:01\n",
      "   --------------------------------------  299.2/300.9 MB 13.6 MB/s eta 0:00:01\n",
      "   --------------------------------------  299.7/300.9 MB 13.6 MB/s eta 0:00:01\n",
      "   --------------------------------------  300.3/300.9 MB 13.6 MB/s eta 0:00:01\n",
      "   --------------------------------------  300.9/300.9 MB 13.4 MB/s eta 0:00:01\n",
      "   --------------------------------------  300.9/300.9 MB 13.4 MB/s eta 0:00:01\n",
      "   --------------------------------------  300.9/300.9 MB 13.4 MB/s eta 0:00:01\n",
      "   --------------------------------------  300.9/300.9 MB 13.4 MB/s eta 0:00:01\n",
      "   --------------------------------------  300.9/300.9 MB 13.4 MB/s eta 0:00:01\n",
      "   --------------------------------------  300.9/300.9 MB 13.4 MB/s eta 0:00:01\n",
      "   --------------------------------------  300.9/300.9 MB 13.4 MB/s eta 0:00:01\n",
      "   --------------------------------------  300.9/300.9 MB 13.4 MB/s eta 0:00:01\n",
      "   --------------------------------------  300.9/300.9 MB 13.4 MB/s eta 0:00:01\n",
      "   --------------------------------------  300.9/300.9 MB 13.4 MB/s eta 0:00:01\n",
      "   --------------------------------------  300.9/300.9 MB 13.4 MB/s eta 0:00:01\n",
      "   --------------------------------------  300.9/300.9 MB 13.4 MB/s eta 0:00:01\n",
      "   --------------------------------------  300.9/300.9 MB 13.4 MB/s eta 0:00:01\n",
      "   --------------------------------------  300.9/300.9 MB 13.4 MB/s eta 0:00:01\n",
      "   ---------------------------------------- 300.9/300.9 MB 7.4 MB/s eta 0:00:00\n",
      "Downloading flatbuffers-23.5.26-py2.py3-none-any.whl (26 kB)\n",
      "Downloading grpcio-1.60.0-cp311-cp311-win_amd64.whl (3.7 MB)\n",
      "   ---------------------------------------- 0.0/3.7 MB ? eta -:--:--\n",
      "   ------ --------------------------------- 0.6/3.7 MB 20.5 MB/s eta 0:00:01\n",
      "   ----------- ---------------------------- 1.1/3.7 MB 13.9 MB/s eta 0:00:01\n",
      "   ----------------- ---------------------- 1.6/3.7 MB 12.7 MB/s eta 0:00:01\n",
      "   ----------------------- ---------------- 2.2/3.7 MB 12.8 MB/s eta 0:00:01\n",
      "   ------------------------------ --------- 2.8/3.7 MB 12.9 MB/s eta 0:00:01\n",
      "   ------------------------------------ --- 3.4/3.7 MB 12.7 MB/s eta 0:00:01\n",
      "   ---------------------------------------- 3.7/3.7 MB 11.8 MB/s eta 0:00:00\n",
      "Downloading keras-2.15.0-py3-none-any.whl (1.7 MB)\n",
      "   ---------------------------------------- 0.0/1.7 MB ? eta -:--:--\n",
      "   ------------- -------------------------- 0.6/1.7 MB 18.5 MB/s eta 0:00:01\n",
      "   ---------------------------- ----------- 1.2/1.7 MB 15.8 MB/s eta 0:00:01\n",
      "   ---------------------------------------- 1.7/1.7 MB 13.6 MB/s eta 0:00:00\n",
      "Downloading libclang-16.0.6-py2.py3-none-win_amd64.whl (24.4 MB)\n",
      "   ---------------------------------------- 0.0/24.4 MB ? eta -:--:--\n",
      "   - -------------------------------------- 0.7/24.4 MB 15.5 MB/s eta 0:00:02\n",
      "   -- ------------------------------------- 1.4/24.4 MB 14.6 MB/s eta 0:00:02\n",
      "   --- ------------------------------------ 2.1/24.4 MB 14.6 MB/s eta 0:00:02\n",
      "   ---- ----------------------------------- 2.7/24.4 MB 14.1 MB/s eta 0:00:02\n",
      "   ----- ---------------------------------- 3.3/24.4 MB 14.1 MB/s eta 0:00:02\n",
      "   ------ --------------------------------- 3.9/24.4 MB 13.8 MB/s eta 0:00:02\n",
      "   ------- -------------------------------- 4.5/24.4 MB 13.8 MB/s eta 0:00:02\n",
      "   -------- ------------------------------- 5.2/24.4 MB 13.9 MB/s eta 0:00:02\n",
      "   --------- ------------------------------ 5.9/24.4 MB 14.0 MB/s eta 0:00:02\n",
      "   ---------- ----------------------------- 6.2/24.4 MB 13.2 MB/s eta 0:00:02\n",
      "   ----------- ---------------------------- 6.8/24.4 MB 13.1 MB/s eta 0:00:02\n",
      "   ----------- ---------------------------- 7.3/24.4 MB 13.0 MB/s eta 0:00:02\n",
      "   ------------ --------------------------- 7.9/24.4 MB 13.3 MB/s eta 0:00:02\n",
      "   ------------- -------------------------- 8.5/24.4 MB 13.3 MB/s eta 0:00:02\n",
      "   -------------- ------------------------- 9.2/24.4 MB 13.3 MB/s eta 0:00:02\n",
      "   --------------- ------------------------ 9.7/24.4 MB 13.2 MB/s eta 0:00:02\n",
      "   ----------------- ---------------------- 10.4/24.4 MB 13.4 MB/s eta 0:00:02\n",
      "   ------------------ --------------------- 11.1/24.4 MB 13.4 MB/s eta 0:00:01\n",
      "   ------------------- -------------------- 11.8/24.4 MB 13.4 MB/s eta 0:00:01\n",
      "   -------------------- ------------------- 12.4/24.4 MB 13.1 MB/s eta 0:00:01\n",
      "   --------------------- ------------------ 13.1/24.4 MB 13.4 MB/s eta 0:00:01\n",
      "   ---------------------- ----------------- 13.8/24.4 MB 13.4 MB/s eta 0:00:01\n",
      "   ----------------------- ---------------- 14.3/24.4 MB 13.4 MB/s eta 0:00:01\n",
      "   ------------------------ --------------- 15.0/24.4 MB 13.4 MB/s eta 0:00:01\n",
      "   ------------------------- -------------- 15.6/24.4 MB 13.1 MB/s eta 0:00:01\n",
      "   -------------------------- ------------- 16.3/24.4 MB 13.4 MB/s eta 0:00:01\n",
      "   --------------------------- ------------ 17.0/24.4 MB 13.9 MB/s eta 0:00:01\n",
      "   ---------------------------- ----------- 17.7/24.4 MB 13.9 MB/s eta 0:00:01\n",
      "   ----------------------------- ---------- 18.2/24.4 MB 14.2 MB/s eta 0:00:01\n",
      "   ------------------------------ --------- 18.9/24.4 MB 13.9 MB/s eta 0:00:01\n",
      "   -------------------------------- ------- 19.6/24.4 MB 14.2 MB/s eta 0:00:01\n",
      "   --------------------------------- ------ 20.3/24.4 MB 14.2 MB/s eta 0:00:01\n",
      "   --------------------------------- ------ 20.5/24.4 MB 14.2 MB/s eta 0:00:01\n",
      "   ----------------------------------- ---- 21.4/24.4 MB 13.9 MB/s eta 0:00:01\n",
      "   ----------------------------------- ---- 22.0/24.4 MB 13.6 MB/s eta 0:00:01\n",
      "   ------------------------------------ --- 22.6/24.4 MB 13.6 MB/s eta 0:00:01\n",
      "   ------------------------------------- -- 23.1/24.4 MB 13.4 MB/s eta 0:00:01\n",
      "   -------------------------------------- - 23.6/24.4 MB 13.4 MB/s eta 0:00:01\n",
      "   ---------------------------------------  24.1/24.4 MB 13.4 MB/s eta 0:00:01\n",
      "   ---------------------------------------  24.4/24.4 MB 12.9 MB/s eta 0:00:01\n",
      "   ---------------------------------------  24.4/24.4 MB 12.9 MB/s eta 0:00:01\n",
      "   ---------------------------------------- 24.4/24.4 MB 11.7 MB/s eta 0:00:00\n",
      "Downloading ml_dtypes-0.2.0-cp311-cp311-win_amd64.whl (938 kB)\n",
      "   ---------------------------------------- 0.0/938.7 kB ? eta -:--:--\n",
      "   -------------------------- ------------ 645.1/938.7 kB 13.5 MB/s eta 0:00:01\n",
      "   ------------------------------------- - 901.1/938.7 kB 11.3 MB/s eta 0:00:01\n",
      "   ---------------------------------------- 938.7/938.7 kB 8.4 MB/s eta 0:00:00\n",
      "Downloading tensorboard-2.15.1-py3-none-any.whl (5.5 MB)\n",
      "   ---------------------------------------- 0.0/5.5 MB ? eta -:--:--\n",
      "   - -------------------------------------- 0.2/5.5 MB 6.7 MB/s eta 0:00:01\n",
      "   --- ------------------------------------ 0.6/5.5 MB 6.9 MB/s eta 0:00:01\n",
      "   ------- -------------------------------- 1.0/5.5 MB 7.9 MB/s eta 0:00:01\n",
      "   ----------- ---------------------------- 1.6/5.5 MB 9.2 MB/s eta 0:00:01\n",
      "   --------------- ------------------------ 2.1/5.5 MB 9.7 MB/s eta 0:00:01\n",
      "   ------------------- -------------------- 2.7/5.5 MB 10.2 MB/s eta 0:00:01\n",
      "   ----------------------- ---------------- 3.3/5.5 MB 10.5 MB/s eta 0:00:01\n",
      "   --------------------------- ------------ 3.9/5.5 MB 10.7 MB/s eta 0:00:01\n",
      "   ------------------------------ --------- 4.3/5.5 MB 10.5 MB/s eta 0:00:01\n",
      "   ----------------------------------- ---- 4.9/5.5 MB 10.7 MB/s eta 0:00:01\n",
      "   -------------------------------------- - 5.3/5.5 MB 10.7 MB/s eta 0:00:01\n",
      "   ---------------------------------------- 5.5/5.5 MB 10.1 MB/s eta 0:00:00\n",
      "Downloading protobuf-4.23.4-cp310-abi3-win_amd64.whl (422 kB)\n",
      "   ---------------------------------------- 0.0/422.5 kB ? eta -:--:--\n",
      "   --------------------------------------  419.8/422.5 kB 13.2 MB/s eta 0:00:01\n",
      "   ---------------------------------------- 422.5/422.5 kB 8.8 MB/s eta 0:00:00\n",
      "Downloading tensorflow_estimator-2.15.0-py2.py3-none-any.whl (441 kB)\n",
      "   ---------------------------------------- 0.0/442.0 kB ? eta -:--:--\n",
      "   --------------------------------------  440.3/442.0 kB 13.4 MB/s eta 0:00:01\n",
      "   --------------------------------------- 442.0/442.0 kB 13.5 MB/s eta 0:00:00\n",
      "Downloading termcolor-2.4.0-py3-none-any.whl (7.7 kB)\n",
      "Downloading google_auth-2.27.0-py2.py3-none-any.whl (186 kB)\n",
      "   ---------------------------------------- 0.0/186.8 kB ? eta -:--:--\n",
      "   ---------------------------------------- 186.8/186.8 kB 5.7 MB/s eta 0:00:00\n",
      "Downloading google_auth_oauthlib-1.2.0-py2.py3-none-any.whl (24 kB)\n",
      "Downloading tensorboard_data_server-0.7.2-py3-none-any.whl (2.4 kB)\n",
      "Downloading cachetools-5.3.2-py3-none-any.whl (9.3 kB)\n",
      "Installing collected packages: libclang, flatbuffers, termcolor, tensorflow-io-gcs-filesystem, tensorflow-estimator, tensorboard-data-server, rsa, protobuf, opt-einsum, oauthlib, ml-dtypes, keras, grpcio, google-pasta, gast, cachetools, astunparse, requests-oauthlib, google-auth, google-auth-oauthlib, tensorboard, tensorflow-intel, tensorflow\n",
      "  Attempting uninstall: keras\n",
      "    Found existing installation: keras 3.0.4\n",
      "    Uninstalling keras-3.0.4:\n",
      "      Successfully uninstalled keras-3.0.4\n",
      "Successfully installed astunparse-1.6.3 cachetools-5.3.2 flatbuffers-23.5.26 gast-0.5.4 google-auth-2.27.0 google-auth-oauthlib-1.2.0 google-pasta-0.2.0 grpcio-1.60.0 keras-2.15.0 libclang-16.0.6 ml-dtypes-0.2.0 oauthlib-3.2.2 opt-einsum-3.3.0 protobuf-4.23.4 requests-oauthlib-1.3.1 rsa-4.9 tensorboard-2.15.1 tensorboard-data-server-0.7.2 tensorflow-2.15.0 tensorflow-estimator-2.15.0 tensorflow-intel-2.15.0 tensorflow-io-gcs-filesystem-0.31.0 termcolor-2.4.0\n",
      "Note: you may need to restart the kernel to use updated packages.\n"
     ]
    },
    {
     "name": "stderr",
     "output_type": "stream",
     "text": [
      "\n",
      "[notice] A new release of pip is available: 23.3.1 -> 23.3.2\n",
      "[notice] To update, run: python.exe -m pip install --upgrade pip\n"
     ]
    }
   ],
   "source": [
    "pip install tensorflow"
   ]
  },
  {
   "cell_type": "code",
   "execution_count": 205,
   "metadata": {},
   "outputs": [
    {
     "name": "stdout",
     "output_type": "stream",
     "text": [
      "WARNING:tensorflow:From C:\\Users\\Matth\\anaconda3\\Lib\\site-packages\\keras\\src\\losses.py:2976: The name tf.losses.sparse_softmax_cross_entropy is deprecated. Please use tf.compat.v1.losses.sparse_softmax_cross_entropy instead.\n",
      "\n",
      "Unexpected exception formatting exception. Falling back to standard exception\n"
     ]
    },
    {
     "name": "stderr",
     "output_type": "stream",
     "text": [
      "Traceback (most recent call last):\n",
      "  File \"C:\\Users\\Matth\\anaconda3\\Lib\\site-packages\\IPython\\core\\interactiveshell.py\", line 3526, in run_code\n",
      "    exec(code_obj, self.user_global_ns, self.user_ns)\n",
      "  File \"C:\\Users\\Matth\\AppData\\Local\\Temp\\ipykernel_29624\\3782215903.py\", line 3, in <module>\n",
      "    from keras.preprocessing.text import Tokenizer\n",
      "  File \"C:\\Users\\Matth\\anaconda3\\Lib\\site-packages\\keras\\__init__.py\", line 3, in <module>\n",
      "    from keras import __internal__\n",
      "  File \"C:\\Users\\Matth\\anaconda3\\Lib\\site-packages\\keras\\__internal__\\__init__.py\", line 3, in <module>\n",
      "    from keras.__internal__ import backend\n",
      "  File \"C:\\Users\\Matth\\anaconda3\\Lib\\site-packages\\keras\\__internal__\\backend\\__init__.py\", line 3, in <module>\n",
      "    from keras.src.backend import _initialize_variables as initialize_variables\n",
      "  File \"C:\\Users\\Matth\\anaconda3\\Lib\\site-packages\\keras\\src\\__init__.py\", line 21, in <module>\n",
      "    from keras.src import applications\n",
      "  File \"C:\\Users\\Matth\\anaconda3\\Lib\\site-packages\\keras\\src\\applications\\__init__.py\", line 41, in <module>\n",
      "    from keras.src.applications.inception_resnet_v2 import InceptionResNetV2\n",
      "  File \"C:\\Users\\Matth\\anaconda3\\Lib\\site-packages\\keras\\src\\applications\\inception_resnet_v2.py\", line 324, in <module>\n",
      "    @keras.utils.register_keras_serializable()\n",
      "     ^^^^^^^^^^^\n",
      "AttributeError: partially initialized module 'keras.src' has no attribute 'utils' (most likely due to a circular import)\n",
      "\n",
      "During handling of the above exception, another exception occurred:\n",
      "\n",
      "Traceback (most recent call last):\n",
      "  File \"C:\\Users\\Matth\\anaconda3\\Lib\\site-packages\\IPython\\core\\interactiveshell.py\", line 2120, in showtraceback\n",
      "    stb = self.InteractiveTB.structured_traceback(\n",
      "          ^^^^^^^^^^^^^^^^^^^^^^^^^^^^^^^^^^^^^^^^\n",
      "  File \"C:\\Users\\Matth\\anaconda3\\Lib\\site-packages\\IPython\\core\\ultratb.py\", line 1435, in structured_traceback\n",
      "    return FormattedTB.structured_traceback(\n",
      "           ^^^^^^^^^^^^^^^^^^^^^^^^^^^^^^^^^\n",
      "  File \"C:\\Users\\Matth\\anaconda3\\Lib\\site-packages\\IPython\\core\\ultratb.py\", line 1326, in structured_traceback\n",
      "    return VerboseTB.structured_traceback(\n",
      "           ^^^^^^^^^^^^^^^^^^^^^^^^^^^^^^^\n",
      "  File \"C:\\Users\\Matth\\anaconda3\\Lib\\site-packages\\IPython\\core\\ultratb.py\", line 1173, in structured_traceback\n",
      "    formatted_exception = self.format_exception_as_a_whole(etype, evalue, etb, number_of_lines_of_context,\n",
      "                          ^^^^^^^^^^^^^^^^^^^^^^^^^^^^^^^^^^^^^^^^^^^^^^^^^^^^^^^^^^^^^^^^^^^^^^^^^^^^^^^^\n",
      "  File \"C:\\Users\\Matth\\anaconda3\\Lib\\site-packages\\IPython\\core\\ultratb.py\", line 1088, in format_exception_as_a_whole\n",
      "    frames.append(self.format_record(record))\n",
      "                  ^^^^^^^^^^^^^^^^^^^^^^^^^^\n",
      "  File \"C:\\Users\\Matth\\anaconda3\\Lib\\site-packages\\IPython\\core\\ultratb.py\", line 970, in format_record\n",
      "    frame_info.lines, Colors, self.has_colors, lvals\n",
      "    ^^^^^^^^^^^^^^^^\n",
      "  File \"C:\\Users\\Matth\\anaconda3\\Lib\\site-packages\\IPython\\core\\ultratb.py\", line 792, in lines\n",
      "    return self._sd.lines\n",
      "           ^^^^^^^^^^^^^^\n",
      "  File \"C:\\Users\\Matth\\anaconda3\\Lib\\site-packages\\stack_data\\utils.py\", line 145, in cached_property_wrapper\n",
      "    value = obj.__dict__[self.func.__name__] = self.func(obj)\n",
      "                                               ^^^^^^^^^^^^^^\n",
      "  File \"C:\\Users\\Matth\\anaconda3\\Lib\\site-packages\\stack_data\\core.py\", line 698, in lines\n",
      "    pieces = self.included_pieces\n",
      "             ^^^^^^^^^^^^^^^^^^^^\n",
      "  File \"C:\\Users\\Matth\\anaconda3\\Lib\\site-packages\\stack_data\\utils.py\", line 145, in cached_property_wrapper\n",
      "    value = obj.__dict__[self.func.__name__] = self.func(obj)\n",
      "                                               ^^^^^^^^^^^^^^\n",
      "  File \"C:\\Users\\Matth\\anaconda3\\Lib\\site-packages\\stack_data\\core.py\", line 649, in included_pieces\n",
      "    pos = scope_pieces.index(self.executing_piece)\n",
      "                             ^^^^^^^^^^^^^^^^^^^^\n",
      "  File \"C:\\Users\\Matth\\anaconda3\\Lib\\site-packages\\stack_data\\utils.py\", line 145, in cached_property_wrapper\n",
      "    value = obj.__dict__[self.func.__name__] = self.func(obj)\n",
      "                                               ^^^^^^^^^^^^^^\n",
      "  File \"C:\\Users\\Matth\\anaconda3\\Lib\\site-packages\\stack_data\\core.py\", line 628, in executing_piece\n",
      "    return only(\n",
      "           ^^^^^\n",
      "  File \"C:\\Users\\Matth\\anaconda3\\Lib\\site-packages\\executing\\executing.py\", line 164, in only\n",
      "    raise NotOneValueFound('Expected one value, found 0')\n",
      "executing.executing.NotOneValueFound: Expected one value, found 0\n"
     ]
    }
   ],
   "source": [
    "# Keras Tokenization\n",
    "\n",
    "from keras.preprocessing.text import Tokenizer\n",
    "from keras.preprocessing.text import text_to_word_sequence\n",
    "ntoken = Tokenizer(num_words = 15)\n",
    "ntoken.fit_on_texts(quotes)\n",
    "list_words = text_to_word_sequence(quotes)\n",
    "print(list_words)"
   ]
  },
  {
   "cell_type": "markdown",
   "metadata": {},
   "source": [
    "## Part 1: Reading in the Yelp Reviews"
   ]
  },
  {
   "cell_type": "markdown",
   "metadata": {},
   "source": [
    "- \"corpus\" = collection of documents\n",
    "- \"corpora\" = plural form of corpus"
   ]
  },
  {
   "cell_type": "code",
   "execution_count": 4,
   "metadata": {},
   "outputs": [
    {
     "name": "stdout",
     "output_type": "stream",
     "text": [
      "Requirement already satisfied: textblob in c:\\users\\matth\\anaconda3\\lib\\site-packages (0.17.1)\n",
      "Requirement already satisfied: nltk>=3.1 in c:\\users\\matth\\anaconda3\\lib\\site-packages (from textblob) (3.8.1)\n",
      "Requirement already satisfied: click in c:\\users\\matth\\anaconda3\\lib\\site-packages (from nltk>=3.1->textblob) (8.0.4)\n",
      "Requirement already satisfied: joblib in c:\\users\\matth\\anaconda3\\lib\\site-packages (from nltk>=3.1->textblob) (1.2.0)\n",
      "Requirement already satisfied: regex>=2021.8.3 in c:\\users\\matth\\anaconda3\\lib\\site-packages (from nltk>=3.1->textblob) (2022.7.9)\n",
      "Requirement already satisfied: tqdm in c:\\users\\matth\\anaconda3\\lib\\site-packages (from nltk>=3.1->textblob) (4.65.0)\n",
      "Requirement already satisfied: colorama in c:\\users\\matth\\anaconda3\\lib\\site-packages (from click->nltk>=3.1->textblob) (0.4.6)\n",
      "Note: you may need to restart the kernel to use updated packages.\n"
     ]
    }
   ],
   "source": [
    "pip install textblob"
   ]
  },
  {
   "cell_type": "code",
   "execution_count": 3,
   "metadata": {},
   "outputs": [],
   "source": [
    "import pandas as pd\n",
    "import numpy as np\n",
    "import scipy as sp\n",
    "from sklearn.model_selection import train_test_split\n",
    "from sklearn.feature_extraction.text import CountVectorizer, TfidfVectorizer\n",
    "from sklearn.naive_bayes import MultinomialNB\n",
    "from sklearn.linear_model import LogisticRegression\n",
    "from sklearn import metrics\n",
    "from textblob import TextBlob, Word\n",
    "from nltk.stem.snowball import SnowballStemmer\n",
    "%matplotlib inline"
   ]
  },
  {
   "cell_type": "code",
   "execution_count": 4,
   "metadata": {},
   "outputs": [],
   "source": [
    "# read yelp.csv into a DataFrame\n",
    "url = 'C://Users//Matth//OneDrive//Desktop/DATA//yelp.csv'\n",
    "yelp = pd.read_csv(url)\n",
    "\n",
    "# create a new DataFrame that only contains the 5-star and 1-star reviews\n",
    "yelp_best_worst = yelp[(yelp.stars==5) | (yelp.stars==1)]\n",
    "\n",
    "yelp_best_worst = yelp_best_worst.head(50)\n",
    "\n",
    "\n",
    "# define X and y\n",
    "X = yelp_best_worst.text\n",
    "y = yelp_best_worst.stars\n",
    "\n",
    "# split the new DataFrame into training and testing sets\n",
    "X_train, X_test, y_train, y_test = train_test_split(X, y, random_state=1)"
   ]
  },
  {
   "cell_type": "code",
   "execution_count": 5,
   "metadata": {},
   "outputs": [
    {
     "data": {
      "text/plain": [
       "0    My wife took me here on my birthday for breakf...\n",
       "1    I have no idea why some people give bad review...\n",
       "3    Rosie, Dakota, and I LOVE Chaparral Dog Park!!...\n",
       "4    General Manager Scott Petello is a good egg!!!...\n",
       "6    Drop what you're doing and drive here. After I...\n",
       "Name: text, dtype: object"
      ]
     },
     "execution_count": 5,
     "metadata": {},
     "output_type": "execute_result"
    }
   ],
   "source": [
    "X.head()"
   ]
  },
  {
   "cell_type": "code",
   "execution_count": 6,
   "metadata": {},
   "outputs": [
    {
     "data": {
      "text/html": [
       "<div>\n",
       "<style scoped>\n",
       "    .dataframe tbody tr th:only-of-type {\n",
       "        vertical-align: middle;\n",
       "    }\n",
       "\n",
       "    .dataframe tbody tr th {\n",
       "        vertical-align: top;\n",
       "    }\n",
       "\n",
       "    .dataframe thead th {\n",
       "        text-align: right;\n",
       "    }\n",
       "</style>\n",
       "<table border=\"1\" class=\"dataframe\">\n",
       "  <thead>\n",
       "    <tr style=\"text-align: right;\">\n",
       "      <th></th>\n",
       "      <th>business_id</th>\n",
       "      <th>date</th>\n",
       "      <th>review_id</th>\n",
       "      <th>stars</th>\n",
       "      <th>text</th>\n",
       "      <th>type</th>\n",
       "      <th>user_id</th>\n",
       "      <th>cool</th>\n",
       "      <th>useful</th>\n",
       "      <th>funny</th>\n",
       "    </tr>\n",
       "  </thead>\n",
       "  <tbody>\n",
       "    <tr>\n",
       "      <th>105</th>\n",
       "      <td>COc06ScpJTN15NXMf4gkqA</td>\n",
       "      <td>2012-06-17</td>\n",
       "      <td>MbLozRSxSjtMJ3YmPCms7Q</td>\n",
       "      <td>1</td>\n",
       "      <td>See the huge sign outside that says $2.50? Yea...</td>\n",
       "      <td>review</td>\n",
       "      <td>UfMHoQ4lic1aCkXFa4TxlA</td>\n",
       "      <td>0</td>\n",
       "      <td>2</td>\n",
       "      <td>1</td>\n",
       "    </tr>\n",
       "    <tr>\n",
       "      <th>106</th>\n",
       "      <td>hfl62LX14YqNpG0g0Tj6_Q</td>\n",
       "      <td>2011-06-20</td>\n",
       "      <td>xbXkOaXLbwFsCMgsH6T9Tg</td>\n",
       "      <td>5</td>\n",
       "      <td>After driving down a teeny dimly lit road and ...</td>\n",
       "      <td>review</td>\n",
       "      <td>kWIyajQP2mEv93yj34oemg</td>\n",
       "      <td>0</td>\n",
       "      <td>1</td>\n",
       "      <td>0</td>\n",
       "    </tr>\n",
       "    <tr>\n",
       "      <th>108</th>\n",
       "      <td>V1nEpIRmEa1768oj_tuxeQ</td>\n",
       "      <td>2012-12-16</td>\n",
       "      <td>39gCBTrQVeM4GVOt_wEoLg</td>\n",
       "      <td>5</td>\n",
       "      <td>It's just like pizza bianco without the wait. ...</td>\n",
       "      <td>review</td>\n",
       "      <td>a_V8LRfMxGvpGtTwR2olrg</td>\n",
       "      <td>0</td>\n",
       "      <td>0</td>\n",
       "      <td>0</td>\n",
       "    </tr>\n",
       "    <tr>\n",
       "      <th>111</th>\n",
       "      <td>YEQkTCmphjr6XKPh4m93AQ</td>\n",
       "      <td>2008-06-20</td>\n",
       "      <td>L1SNUf6VQgG2rolLLvVgxw</td>\n",
       "      <td>5</td>\n",
       "      <td>As mentioned earlier, the best thing about thi...</td>\n",
       "      <td>review</td>\n",
       "      <td>jdoGEEy5s-5L1O_lNzEi2g</td>\n",
       "      <td>0</td>\n",
       "      <td>2</td>\n",
       "      <td>0</td>\n",
       "    </tr>\n",
       "    <tr>\n",
       "      <th>112</th>\n",
       "      <td>StiQ_lcCY8sX4JI-J6Mufg</td>\n",
       "      <td>2009-11-06</td>\n",
       "      <td>i2WTOTbT1lqu0byxcnY-GA</td>\n",
       "      <td>5</td>\n",
       "      <td>'twas the night before booyah\\nand all the thr...</td>\n",
       "      <td>review</td>\n",
       "      <td>QKW7sYPWPSsIcWqSiDzChQ</td>\n",
       "      <td>6</td>\n",
       "      <td>6</td>\n",
       "      <td>6</td>\n",
       "    </tr>\n",
       "  </tbody>\n",
       "</table>\n",
       "</div>"
      ],
      "text/plain": [
       "                business_id        date               review_id  stars  \\\n",
       "105  COc06ScpJTN15NXMf4gkqA  2012-06-17  MbLozRSxSjtMJ3YmPCms7Q      1   \n",
       "106  hfl62LX14YqNpG0g0Tj6_Q  2011-06-20  xbXkOaXLbwFsCMgsH6T9Tg      5   \n",
       "108  V1nEpIRmEa1768oj_tuxeQ  2012-12-16  39gCBTrQVeM4GVOt_wEoLg      5   \n",
       "111  YEQkTCmphjr6XKPh4m93AQ  2008-06-20  L1SNUf6VQgG2rolLLvVgxw      5   \n",
       "112  StiQ_lcCY8sX4JI-J6Mufg  2009-11-06  i2WTOTbT1lqu0byxcnY-GA      5   \n",
       "\n",
       "                                                  text    type  \\\n",
       "105  See the huge sign outside that says $2.50? Yea...  review   \n",
       "106  After driving down a teeny dimly lit road and ...  review   \n",
       "108  It's just like pizza bianco without the wait. ...  review   \n",
       "111  As mentioned earlier, the best thing about thi...  review   \n",
       "112  'twas the night before booyah\\nand all the thr...  review   \n",
       "\n",
       "                    user_id  cool  useful  funny  \n",
       "105  UfMHoQ4lic1aCkXFa4TxlA     0       2      1  \n",
       "106  kWIyajQP2mEv93yj34oemg     0       1      0  \n",
       "108  a_V8LRfMxGvpGtTwR2olrg     0       0      0  \n",
       "111  jdoGEEy5s-5L1O_lNzEi2g     0       2      0  \n",
       "112  QKW7sYPWPSsIcWqSiDzChQ     6       6      6  "
      ]
     },
     "execution_count": 6,
     "metadata": {},
     "output_type": "execute_result"
    }
   ],
   "source": [
    "yelp_best_worst.tail()"
   ]
  },
  {
   "cell_type": "code",
   "execution_count": 7,
   "metadata": {},
   "outputs": [
    {
     "data": {
      "text/plain": [
       "0    My wife took me here on my birthday for breakf...\n",
       "1    I have no idea why some people give bad review...\n",
       "3    Rosie, Dakota, and I LOVE Chaparral Dog Park!!...\n",
       "4    General Manager Scott Petello is a good egg!!!...\n",
       "6    Drop what you're doing and drive here. After I...\n",
       "Name: text, dtype: object"
      ]
     },
     "execution_count": 7,
     "metadata": {},
     "output_type": "execute_result"
    }
   ],
   "source": [
    "X.head()"
   ]
  },
  {
   "cell_type": "code",
   "execution_count": 8,
   "metadata": {},
   "outputs": [
    {
     "data": {
      "text/plain": [
       "(50,)"
      ]
     },
     "execution_count": 8,
     "metadata": {},
     "output_type": "execute_result"
    }
   ],
   "source": [
    "X.shape"
   ]
  },
  {
   "cell_type": "code",
   "execution_count": 9,
   "metadata": {},
   "outputs": [
    {
     "data": {
      "text/plain": [
       "(50,)"
      ]
     },
     "execution_count": 9,
     "metadata": {},
     "output_type": "execute_result"
    }
   ],
   "source": [
    "y.shape"
   ]
  },
  {
   "cell_type": "code",
   "execution_count": 10,
   "metadata": {},
   "outputs": [
    {
     "data": {
      "text/plain": [
       "0    5\n",
       "1    5\n",
       "3    5\n",
       "4    5\n",
       "6    5\n",
       "Name: stars, dtype: int64"
      ]
     },
     "execution_count": 10,
     "metadata": {},
     "output_type": "execute_result"
    }
   ],
   "source": [
    "y.head()"
   ]
  },
  {
   "cell_type": "markdown",
   "metadata": {},
   "source": [
    "## Part 2: Tokenization"
   ]
  },
  {
   "cell_type": "markdown",
   "metadata": {},
   "source": [
    "- **What:** Separate text into units such as sentences or words\n",
    "- **Why:** Gives structure to previously unstructured text\n",
    "- **Notes:** Relatively easy with English language text, not easy with some languages"
   ]
  },
  {
   "cell_type": "code",
   "execution_count": 11,
   "metadata": {},
   "outputs": [],
   "source": [
    "from sklearn.feature_extraction.text import CountVectorizer"
   ]
  },
  {
   "cell_type": "code",
   "execution_count": 12,
   "metadata": {},
   "outputs": [],
   "source": [
    "# use CountVectorizer to create document-term matrices from X_train and X_test\n",
    "from sklearn.feature_extraction.text import CountVectorizer, TfidfVectorizer\n",
    "vect = CountVectorizer()\n",
    "X_train_dtm = vect.fit_transform(X_train)\n",
    "X_test_dtm = vect.transform(X_test)"
   ]
  },
  {
   "cell_type": "code",
   "execution_count": 13,
   "metadata": {},
   "outputs": [
    {
     "data": {
      "text/html": [
       "<style>#sk-container-id-1 {color: black;}#sk-container-id-1 pre{padding: 0;}#sk-container-id-1 div.sk-toggleable {background-color: white;}#sk-container-id-1 label.sk-toggleable__label {cursor: pointer;display: block;width: 100%;margin-bottom: 0;padding: 0.3em;box-sizing: border-box;text-align: center;}#sk-container-id-1 label.sk-toggleable__label-arrow:before {content: \"▸\";float: left;margin-right: 0.25em;color: #696969;}#sk-container-id-1 label.sk-toggleable__label-arrow:hover:before {color: black;}#sk-container-id-1 div.sk-estimator:hover label.sk-toggleable__label-arrow:before {color: black;}#sk-container-id-1 div.sk-toggleable__content {max-height: 0;max-width: 0;overflow: hidden;text-align: left;background-color: #f0f8ff;}#sk-container-id-1 div.sk-toggleable__content pre {margin: 0.2em;color: black;border-radius: 0.25em;background-color: #f0f8ff;}#sk-container-id-1 input.sk-toggleable__control:checked~div.sk-toggleable__content {max-height: 200px;max-width: 100%;overflow: auto;}#sk-container-id-1 input.sk-toggleable__control:checked~label.sk-toggleable__label-arrow:before {content: \"▾\";}#sk-container-id-1 div.sk-estimator input.sk-toggleable__control:checked~label.sk-toggleable__label {background-color: #d4ebff;}#sk-container-id-1 div.sk-label input.sk-toggleable__control:checked~label.sk-toggleable__label {background-color: #d4ebff;}#sk-container-id-1 input.sk-hidden--visually {border: 0;clip: rect(1px 1px 1px 1px);clip: rect(1px, 1px, 1px, 1px);height: 1px;margin: -1px;overflow: hidden;padding: 0;position: absolute;width: 1px;}#sk-container-id-1 div.sk-estimator {font-family: monospace;background-color: #f0f8ff;border: 1px dotted black;border-radius: 0.25em;box-sizing: border-box;margin-bottom: 0.5em;}#sk-container-id-1 div.sk-estimator:hover {background-color: #d4ebff;}#sk-container-id-1 div.sk-parallel-item::after {content: \"\";width: 100%;border-bottom: 1px solid gray;flex-grow: 1;}#sk-container-id-1 div.sk-label:hover label.sk-toggleable__label {background-color: #d4ebff;}#sk-container-id-1 div.sk-serial::before {content: \"\";position: absolute;border-left: 1px solid gray;box-sizing: border-box;top: 0;bottom: 0;left: 50%;z-index: 0;}#sk-container-id-1 div.sk-serial {display: flex;flex-direction: column;align-items: center;background-color: white;padding-right: 0.2em;padding-left: 0.2em;position: relative;}#sk-container-id-1 div.sk-item {position: relative;z-index: 1;}#sk-container-id-1 div.sk-parallel {display: flex;align-items: stretch;justify-content: center;background-color: white;position: relative;}#sk-container-id-1 div.sk-item::before, #sk-container-id-1 div.sk-parallel-item::before {content: \"\";position: absolute;border-left: 1px solid gray;box-sizing: border-box;top: 0;bottom: 0;left: 50%;z-index: -1;}#sk-container-id-1 div.sk-parallel-item {display: flex;flex-direction: column;z-index: 1;position: relative;background-color: white;}#sk-container-id-1 div.sk-parallel-item:first-child::after {align-self: flex-end;width: 50%;}#sk-container-id-1 div.sk-parallel-item:last-child::after {align-self: flex-start;width: 50%;}#sk-container-id-1 div.sk-parallel-item:only-child::after {width: 0;}#sk-container-id-1 div.sk-dashed-wrapped {border: 1px dashed gray;margin: 0 0.4em 0.5em 0.4em;box-sizing: border-box;padding-bottom: 0.4em;background-color: white;}#sk-container-id-1 div.sk-label label {font-family: monospace;font-weight: bold;display: inline-block;line-height: 1.2em;}#sk-container-id-1 div.sk-label-container {text-align: center;}#sk-container-id-1 div.sk-container {/* jupyter's `normalize.less` sets `[hidden] { display: none; }` but bootstrap.min.css set `[hidden] { display: none !important; }` so we also need the `!important` here to be able to override the default hidden behavior on the sphinx rendered scikit-learn.org. See: https://github.com/scikit-learn/scikit-learn/issues/21755 */display: inline-block !important;position: relative;}#sk-container-id-1 div.sk-text-repr-fallback {display: none;}</style><div id=\"sk-container-id-1\" class=\"sk-top-container\"><div class=\"sk-text-repr-fallback\"><pre>CountVectorizer()</pre><b>In a Jupyter environment, please rerun this cell to show the HTML representation or trust the notebook. <br />On GitHub, the HTML representation is unable to render, please try loading this page with nbviewer.org.</b></div><div class=\"sk-container\" hidden><div class=\"sk-item\"><div class=\"sk-estimator sk-toggleable\"><input class=\"sk-toggleable__control sk-hidden--visually\" id=\"sk-estimator-id-1\" type=\"checkbox\" checked><label for=\"sk-estimator-id-1\" class=\"sk-toggleable__label sk-toggleable__label-arrow\">CountVectorizer</label><div class=\"sk-toggleable__content\"><pre>CountVectorizer()</pre></div></div></div></div></div>"
      ],
      "text/plain": [
       "CountVectorizer()"
      ]
     },
     "execution_count": 13,
     "metadata": {},
     "output_type": "execute_result"
    }
   ],
   "source": [
    "vect"
   ]
  },
  {
   "cell_type": "code",
   "execution_count": 14,
   "metadata": {},
   "outputs": [
    {
     "data": {
      "text/plain": [
       "(37, 1484)"
      ]
     },
     "execution_count": 14,
     "metadata": {},
     "output_type": "execute_result"
    }
   ],
   "source": [
    "# rows are documents, columns are terms (aka \"tokens\" or \"features\")\n",
    "X_train_dtm.shape"
   ]
  },
  {
   "cell_type": "code",
   "execution_count": 15,
   "metadata": {},
   "outputs": [
    {
     "name": "stdout",
     "output_type": "stream",
     "text": [
      "['whole' 'why' 'wide' 'wife' 'wig' 'wigs' 'will' 'willie' 'willing' 'wimp'\n",
      " 'win' 'wind' 'wine' 'wings' 'wish' 'with' 'within' 'without' 'wobbly'\n",
      " 'won' 'wonder' 'wonderful' 'wordly' 'words' 'work' 'working' 'world'\n",
      " 'worst' 'worth' 'would' 'wrap' 'wrapped' 'wrong' 'wrote' 'yeah' 'year'\n",
      " 'years' 'yellow' 'yelpers' 'yelping' 'yep' 'yes' 'yet' 'yoga' 'you'\n",
      " 'your' 'yourself' 'youth' 'yuck' 'yummy']\n"
     ]
    }
   ],
   "source": [
    "# last 50 features\n",
    "print(vect.get_feature_names_out()[-50:])"
   ]
  },
  {
   "cell_type": "code",
   "execution_count": 16,
   "metadata": {},
   "outputs": [
    {
     "data": {
      "text/html": [
       "<style>#sk-container-id-2 {color: black;}#sk-container-id-2 pre{padding: 0;}#sk-container-id-2 div.sk-toggleable {background-color: white;}#sk-container-id-2 label.sk-toggleable__label {cursor: pointer;display: block;width: 100%;margin-bottom: 0;padding: 0.3em;box-sizing: border-box;text-align: center;}#sk-container-id-2 label.sk-toggleable__label-arrow:before {content: \"▸\";float: left;margin-right: 0.25em;color: #696969;}#sk-container-id-2 label.sk-toggleable__label-arrow:hover:before {color: black;}#sk-container-id-2 div.sk-estimator:hover label.sk-toggleable__label-arrow:before {color: black;}#sk-container-id-2 div.sk-toggleable__content {max-height: 0;max-width: 0;overflow: hidden;text-align: left;background-color: #f0f8ff;}#sk-container-id-2 div.sk-toggleable__content pre {margin: 0.2em;color: black;border-radius: 0.25em;background-color: #f0f8ff;}#sk-container-id-2 input.sk-toggleable__control:checked~div.sk-toggleable__content {max-height: 200px;max-width: 100%;overflow: auto;}#sk-container-id-2 input.sk-toggleable__control:checked~label.sk-toggleable__label-arrow:before {content: \"▾\";}#sk-container-id-2 div.sk-estimator input.sk-toggleable__control:checked~label.sk-toggleable__label {background-color: #d4ebff;}#sk-container-id-2 div.sk-label input.sk-toggleable__control:checked~label.sk-toggleable__label {background-color: #d4ebff;}#sk-container-id-2 input.sk-hidden--visually {border: 0;clip: rect(1px 1px 1px 1px);clip: rect(1px, 1px, 1px, 1px);height: 1px;margin: -1px;overflow: hidden;padding: 0;position: absolute;width: 1px;}#sk-container-id-2 div.sk-estimator {font-family: monospace;background-color: #f0f8ff;border: 1px dotted black;border-radius: 0.25em;box-sizing: border-box;margin-bottom: 0.5em;}#sk-container-id-2 div.sk-estimator:hover {background-color: #d4ebff;}#sk-container-id-2 div.sk-parallel-item::after {content: \"\";width: 100%;border-bottom: 1px solid gray;flex-grow: 1;}#sk-container-id-2 div.sk-label:hover label.sk-toggleable__label {background-color: #d4ebff;}#sk-container-id-2 div.sk-serial::before {content: \"\";position: absolute;border-left: 1px solid gray;box-sizing: border-box;top: 0;bottom: 0;left: 50%;z-index: 0;}#sk-container-id-2 div.sk-serial {display: flex;flex-direction: column;align-items: center;background-color: white;padding-right: 0.2em;padding-left: 0.2em;position: relative;}#sk-container-id-2 div.sk-item {position: relative;z-index: 1;}#sk-container-id-2 div.sk-parallel {display: flex;align-items: stretch;justify-content: center;background-color: white;position: relative;}#sk-container-id-2 div.sk-item::before, #sk-container-id-2 div.sk-parallel-item::before {content: \"\";position: absolute;border-left: 1px solid gray;box-sizing: border-box;top: 0;bottom: 0;left: 50%;z-index: -1;}#sk-container-id-2 div.sk-parallel-item {display: flex;flex-direction: column;z-index: 1;position: relative;background-color: white;}#sk-container-id-2 div.sk-parallel-item:first-child::after {align-self: flex-end;width: 50%;}#sk-container-id-2 div.sk-parallel-item:last-child::after {align-self: flex-start;width: 50%;}#sk-container-id-2 div.sk-parallel-item:only-child::after {width: 0;}#sk-container-id-2 div.sk-dashed-wrapped {border: 1px dashed gray;margin: 0 0.4em 0.5em 0.4em;box-sizing: border-box;padding-bottom: 0.4em;background-color: white;}#sk-container-id-2 div.sk-label label {font-family: monospace;font-weight: bold;display: inline-block;line-height: 1.2em;}#sk-container-id-2 div.sk-label-container {text-align: center;}#sk-container-id-2 div.sk-container {/* jupyter's `normalize.less` sets `[hidden] { display: none; }` but bootstrap.min.css set `[hidden] { display: none !important; }` so we also need the `!important` here to be able to override the default hidden behavior on the sphinx rendered scikit-learn.org. See: https://github.com/scikit-learn/scikit-learn/issues/21755 */display: inline-block !important;position: relative;}#sk-container-id-2 div.sk-text-repr-fallback {display: none;}</style><div id=\"sk-container-id-2\" class=\"sk-top-container\"><div class=\"sk-text-repr-fallback\"><pre>CountVectorizer()</pre><b>In a Jupyter environment, please rerun this cell to show the HTML representation or trust the notebook. <br />On GitHub, the HTML representation is unable to render, please try loading this page with nbviewer.org.</b></div><div class=\"sk-container\" hidden><div class=\"sk-item\"><div class=\"sk-estimator sk-toggleable\"><input class=\"sk-toggleable__control sk-hidden--visually\" id=\"sk-estimator-id-2\" type=\"checkbox\" checked><label for=\"sk-estimator-id-2\" class=\"sk-toggleable__label sk-toggleable__label-arrow\">CountVectorizer</label><div class=\"sk-toggleable__content\"><pre>CountVectorizer()</pre></div></div></div></div></div>"
      ],
      "text/plain": [
       "CountVectorizer()"
      ]
     },
     "execution_count": 16,
     "metadata": {},
     "output_type": "execute_result"
    }
   ],
   "source": [
    "# show vectorizer options\n",
    "vect"
   ]
  },
  {
   "cell_type": "markdown",
   "metadata": {},
   "source": [
    "[CountVectorizer documentation](http://scikit-learn.org/stable/modules/generated/sklearn.feature_extraction.text.CountVectorizer.html)"
   ]
  },
  {
   "cell_type": "markdown",
   "metadata": {},
   "source": [
    "- Parameter **lowercase:** boolean, True by default\n",
    "    - If True, Convert all characters to lowercase before tokenizing."
   ]
  },
  {
   "cell_type": "code",
   "execution_count": 17,
   "metadata": {},
   "outputs": [
    {
     "data": {
      "text/plain": [
       "(37, 1598)"
      ]
     },
     "execution_count": 17,
     "metadata": {},
     "output_type": "execute_result"
    }
   ],
   "source": [
    "# We will not convert to lowercase this time\n",
    "vect = CountVectorizer(lowercase=False)\n",
    "X_train_dtm = vect.fit_transform(X_train)\n",
    "X_train_dtm.shape"
   ]
  },
  {
   "cell_type": "code",
   "execution_count": 18,
   "metadata": {},
   "outputs": [
    {
     "name": "stdout",
     "output_type": "stream",
     "text": [
      "['02' '05' '10' '11' '15' '150' '16' '16th' '1pm' '20' '200' '25' '2nd'\n",
      " '30' '39' '42' '45' '48th' '50' '52' '60' '6am' '6pm' '79' '7th' '80'\n",
      " '9999' 'ALOT' 'ASU' 'AT' 'ATM' 'After' 'All' 'Alphagraphics' 'Also'\n",
      " 'American' 'And' 'Another' 'Anyway' 'Apache' 'Apparel' 'Appetit'\n",
      " 'Arizona' 'As' 'Ashtanga' 'Ask' 'Ave' 'BBQ' 'BUT' 'Baja']\n"
     ]
    }
   ],
   "source": [
    "# last 50 features\n",
    "print(vect.get_feature_names_out()[:50])"
   ]
  },
  {
   "cell_type": "markdown",
   "metadata": {},
   "source": [
    "- Parameter **ngram_range:** tuple (min_n, max_n)\n",
    "    - The lower and upper boundary of the range of n-values for different n-grams to be extracted. All values of n such that min_n <= n <= max_n will be used."
   ]
  },
  {
   "cell_type": "code",
   "execution_count": 19,
   "metadata": {},
   "outputs": [
    {
     "data": {
      "text/plain": [
       "(37, 5491)"
      ]
     },
     "execution_count": 19,
     "metadata": {},
     "output_type": "execute_result"
    }
   ],
   "source": [
    "# include 1-grams and 2-grams\n",
    "vect = CountVectorizer(ngram_range=(1, 2))\n",
    "X_train_dtm = vect.fit_transform(X_train)\n",
    "X_train_dtm.shape"
   ]
  },
  {
   "cell_type": "code",
   "execution_count": 20,
   "metadata": {},
   "outputs": [
    {
     "name": "stdout",
     "output_type": "stream",
     "text": [
      "['yoga to' 'you' 'you am' 'you are' 'you call' 'you can' 'you catch'\n",
      " 'you could' 'you do' 'you don' 'you get' 'you have' 'you how' 'you know'\n",
      " 'you lived' 'you look' 'you need' 'you order' 'you re' 'you she'\n",
      " 'you should' 'you that' 'you they' 'you walk' 'you want' 'you will'\n",
      " 'you work' 'you would' 'you you' 'your' 'your ass' 'your atm' 'your car'\n",
      " 'your consumer' 'your eyes' 'your have' 'your head' 'your mouth'\n",
      " 'your next' 'yourself' 'yourself because' 'yourself favor' 'yourself she'\n",
      " 'youth' 'youth programs' 'yuck' 'yuck the' 'yummy' 'yummy bonus'\n",
      " 'yummy have']\n"
     ]
    }
   ],
   "source": [
    "# last 50 features\n",
    "print(vect.get_feature_names_out()[-50:])"
   ]
  },
  {
   "cell_type": "markdown",
   "metadata": {},
   "source": [
    "**Predicting the star rating:**"
   ]
  },
  {
   "cell_type": "code",
   "execution_count": 21,
   "metadata": {},
   "outputs": [
    {
     "name": "stdout",
     "output_type": "stream",
     "text": [
      "0.7692307692307693\n"
     ]
    }
   ],
   "source": [
    "# use default options for CountVectorizer\n",
    "vect = CountVectorizer()\n",
    "\n",
    "# create document-term matrices\n",
    "X_train_dtm = vect.fit_transform(X_train)\n",
    "X_test_dtm = vect.transform(X_test)\n",
    "\n",
    "# use Naive Bayes to predict the star rating\n",
    "nb = MultinomialNB()\n",
    "nb.fit(X_train_dtm, y_train)\n",
    "y_pred_class = nb.predict(X_test_dtm)\n",
    "\n",
    "# calculate accuracy\n",
    "print(metrics.accuracy_score(y_test, y_pred_class))"
   ]
  },
  {
   "cell_type": "code",
   "execution_count": 22,
   "metadata": {},
   "outputs": [
    {
     "data": {
      "text/plain": [
       "rating\n",
       "best     0.769231\n",
       "worst    0.230769\n",
       "Name: count, dtype: float64"
      ]
     },
     "execution_count": 22,
     "metadata": {},
     "output_type": "execute_result"
    }
   ],
   "source": [
    "# calculate null accuracy\n",
    "y_test_category = pd.DataFrame(np.where(y_test==5, 'best', 'worst'), columns = ['rating'])\n",
    "y_test_category.rating.value_counts() / len(y_test_category.rating)"
   ]
  },
  {
   "cell_type": "code",
   "execution_count": 23,
   "metadata": {},
   "outputs": [
    {
     "data": {
      "text/plain": [
       "0.7692307692307693"
      ]
     },
     "execution_count": 23,
     "metadata": {},
     "output_type": "execute_result"
    }
   ],
   "source": [
    "# alternate way to calculate null accuracy\n",
    "y_test_binary = np.where(y_test==5, 1, 0)\n",
    "max(y_test_binary.mean(), 1 - y_test_binary.mean())"
   ]
  },
  {
   "cell_type": "code",
   "execution_count": 24,
   "metadata": {},
   "outputs": [],
   "source": [
    "# define a function that accepts a vectorizer object and calculates the accuracy\n",
    "def tokenize_test(vect):\n",
    "    X_train_dtm = vect.fit_transform(X_train)\n",
    "    print('Features: ', X_train_dtm.shape[1])\n",
    "    X_test_dtm = vect.transform(X_test)\n",
    "    nb = MultinomialNB()\n",
    "    nb.fit(X_train_dtm, y_train)\n",
    "    y_pred_class = nb.predict(X_test_dtm)\n",
    "    print('Accuracy: ', metrics.accuracy_score(y_test, y_pred_class))"
   ]
  },
  {
   "cell_type": "code",
   "execution_count": 25,
   "metadata": {},
   "outputs": [
    {
     "name": "stdout",
     "output_type": "stream",
     "text": [
      "Features:  1484\n",
      "Accuracy:  0.7692307692307693\n"
     ]
    }
   ],
   "source": [
    "vect = CountVectorizer()\n",
    "tokenize_test(vect)"
   ]
  },
  {
   "cell_type": "code",
   "execution_count": 26,
   "metadata": {},
   "outputs": [
    {
     "name": "stdout",
     "output_type": "stream",
     "text": [
      "Features:  5491\n",
      "Accuracy:  0.7692307692307693\n"
     ]
    }
   ],
   "source": [
    "# include 1-grams and 2-grams\n",
    "vect = CountVectorizer(ngram_range=(1, 2))\n",
    "tokenize_test(vect)"
   ]
  },
  {
   "cell_type": "markdown",
   "metadata": {},
   "source": [
    "## Part 3: Stopword Removal"
   ]
  },
  {
   "cell_type": "markdown",
   "metadata": {},
   "source": [
    "- **What:** Remove common words that will likely appear in any text\n",
    "- **Why:** They don't tell you much about your text"
   ]
  },
  {
   "cell_type": "code",
   "execution_count": 27,
   "metadata": {},
   "outputs": [
    {
     "data": {
      "text/html": [
       "<style>#sk-container-id-3 {color: black;}#sk-container-id-3 pre{padding: 0;}#sk-container-id-3 div.sk-toggleable {background-color: white;}#sk-container-id-3 label.sk-toggleable__label {cursor: pointer;display: block;width: 100%;margin-bottom: 0;padding: 0.3em;box-sizing: border-box;text-align: center;}#sk-container-id-3 label.sk-toggleable__label-arrow:before {content: \"▸\";float: left;margin-right: 0.25em;color: #696969;}#sk-container-id-3 label.sk-toggleable__label-arrow:hover:before {color: black;}#sk-container-id-3 div.sk-estimator:hover label.sk-toggleable__label-arrow:before {color: black;}#sk-container-id-3 div.sk-toggleable__content {max-height: 0;max-width: 0;overflow: hidden;text-align: left;background-color: #f0f8ff;}#sk-container-id-3 div.sk-toggleable__content pre {margin: 0.2em;color: black;border-radius: 0.25em;background-color: #f0f8ff;}#sk-container-id-3 input.sk-toggleable__control:checked~div.sk-toggleable__content {max-height: 200px;max-width: 100%;overflow: auto;}#sk-container-id-3 input.sk-toggleable__control:checked~label.sk-toggleable__label-arrow:before {content: \"▾\";}#sk-container-id-3 div.sk-estimator input.sk-toggleable__control:checked~label.sk-toggleable__label {background-color: #d4ebff;}#sk-container-id-3 div.sk-label input.sk-toggleable__control:checked~label.sk-toggleable__label {background-color: #d4ebff;}#sk-container-id-3 input.sk-hidden--visually {border: 0;clip: rect(1px 1px 1px 1px);clip: rect(1px, 1px, 1px, 1px);height: 1px;margin: -1px;overflow: hidden;padding: 0;position: absolute;width: 1px;}#sk-container-id-3 div.sk-estimator {font-family: monospace;background-color: #f0f8ff;border: 1px dotted black;border-radius: 0.25em;box-sizing: border-box;margin-bottom: 0.5em;}#sk-container-id-3 div.sk-estimator:hover {background-color: #d4ebff;}#sk-container-id-3 div.sk-parallel-item::after {content: \"\";width: 100%;border-bottom: 1px solid gray;flex-grow: 1;}#sk-container-id-3 div.sk-label:hover label.sk-toggleable__label {background-color: #d4ebff;}#sk-container-id-3 div.sk-serial::before {content: \"\";position: absolute;border-left: 1px solid gray;box-sizing: border-box;top: 0;bottom: 0;left: 50%;z-index: 0;}#sk-container-id-3 div.sk-serial {display: flex;flex-direction: column;align-items: center;background-color: white;padding-right: 0.2em;padding-left: 0.2em;position: relative;}#sk-container-id-3 div.sk-item {position: relative;z-index: 1;}#sk-container-id-3 div.sk-parallel {display: flex;align-items: stretch;justify-content: center;background-color: white;position: relative;}#sk-container-id-3 div.sk-item::before, #sk-container-id-3 div.sk-parallel-item::before {content: \"\";position: absolute;border-left: 1px solid gray;box-sizing: border-box;top: 0;bottom: 0;left: 50%;z-index: -1;}#sk-container-id-3 div.sk-parallel-item {display: flex;flex-direction: column;z-index: 1;position: relative;background-color: white;}#sk-container-id-3 div.sk-parallel-item:first-child::after {align-self: flex-end;width: 50%;}#sk-container-id-3 div.sk-parallel-item:last-child::after {align-self: flex-start;width: 50%;}#sk-container-id-3 div.sk-parallel-item:only-child::after {width: 0;}#sk-container-id-3 div.sk-dashed-wrapped {border: 1px dashed gray;margin: 0 0.4em 0.5em 0.4em;box-sizing: border-box;padding-bottom: 0.4em;background-color: white;}#sk-container-id-3 div.sk-label label {font-family: monospace;font-weight: bold;display: inline-block;line-height: 1.2em;}#sk-container-id-3 div.sk-label-container {text-align: center;}#sk-container-id-3 div.sk-container {/* jupyter's `normalize.less` sets `[hidden] { display: none; }` but bootstrap.min.css set `[hidden] { display: none !important; }` so we also need the `!important` here to be able to override the default hidden behavior on the sphinx rendered scikit-learn.org. See: https://github.com/scikit-learn/scikit-learn/issues/21755 */display: inline-block !important;position: relative;}#sk-container-id-3 div.sk-text-repr-fallback {display: none;}</style><div id=\"sk-container-id-3\" class=\"sk-top-container\"><div class=\"sk-text-repr-fallback\"><pre>CountVectorizer(ngram_range=(1, 2))</pre><b>In a Jupyter environment, please rerun this cell to show the HTML representation or trust the notebook. <br />On GitHub, the HTML representation is unable to render, please try loading this page with nbviewer.org.</b></div><div class=\"sk-container\" hidden><div class=\"sk-item\"><div class=\"sk-estimator sk-toggleable\"><input class=\"sk-toggleable__control sk-hidden--visually\" id=\"sk-estimator-id-3\" type=\"checkbox\" checked><label for=\"sk-estimator-id-3\" class=\"sk-toggleable__label sk-toggleable__label-arrow\">CountVectorizer</label><div class=\"sk-toggleable__content\"><pre>CountVectorizer(ngram_range=(1, 2))</pre></div></div></div></div></div>"
      ],
      "text/plain": [
       "CountVectorizer(ngram_range=(1, 2))"
      ]
     },
     "execution_count": 27,
     "metadata": {},
     "output_type": "execute_result"
    }
   ],
   "source": [
    "# show vectorizer options\n",
    "vect"
   ]
  },
  {
   "cell_type": "markdown",
   "metadata": {},
   "source": [
    "- **stop_words:** string {'english'}, list, or None (default)\n",
    "    - If 'english', a built-in stop word list for English is used.\n",
    "    - If a list, that list is assumed to contain stop words, all of which will be removed from the resulting tokens.\n",
    "    - If None, no stop words will be used. max_df can be set to a value in the range [0.7, 1.0) to automatically detect and filter stop words based on intra corpus document frequency of terms."
   ]
  },
  {
   "cell_type": "code",
   "execution_count": 28,
   "metadata": {},
   "outputs": [
    {
     "name": "stdout",
     "output_type": "stream",
     "text": [
      "Features:  1285\n",
      "Accuracy:  0.7692307692307693\n"
     ]
    }
   ],
   "source": [
    "# remove English stop words\n",
    "vect = CountVectorizer(stop_words='english')\n",
    "tokenize_test(vect)"
   ]
  },
  {
   "cell_type": "code",
   "execution_count": 29,
   "metadata": {},
   "outputs": [
    {
     "name": "stdout",
     "output_type": "stream",
     "text": [
      "frozenset({'more', 'i', 'show', 'was', 'once', 'can', 'its', 'nothing', 'her', 'together', 'while', 'which', 'we', 'here', 'enough', 'whereas', 'through', 'herein', 'become', 'then', 'though', 'always', 'beside', 'myself', 'alone', 'next', 'whereupon', 'go', 'hence', 'thereupon', 'first', 'what', 'thru', 'beforehand', 'themselves', 'thick', 'thin', 'at', 'latterly', 'cannot', 'during', 'therein', 'another', 'across', 'almost', 'becoming', 'before', 'so', 'no', 'many', 'wherever', 'everywhere', 'of', 'indeed', 'last', 'sometime', 'few', 'off', 'without', 'neither', 'whose', 'and', 'side', 'move', 'when', 'against', 'mill', 'de', 'ourselves', 'already', 'from', 'some', 'must', 'somehow', 'should', 'own', 'it', 'latter', 'ours', 'anyway', 'ie', 'bottom', 'anyhow', 'toward', 'nevertheless', 'get', 'for', 'least', 'as', 'under', 'whoever', 'still', 'moreover', 'upon', 'any', 'describe', 'give', 'where', 'empty', 'fifty', 'thereby', 'both', 'besides', 'if', 'un', 'namely', 'ever', 'part', 'yours', 'eight', 'via', 'per', 'very', 'ltd', 'am', 'top', 'done', 'serious', 'that', 'further', 'whence', 'hasnt', 'three', 'whether', 'wherein', 'thence', 'down', 'or', 'your', 're', 'never', 'afterwards', 'put', 'anything', 'call', 'into', 'even', 'whom', 'couldnt', 'is', 'about', 'one', 'detail', 'could', 'rather', 'do', 'below', 'such', 'yourselves', 'hereupon', 'yourself', 'to', 'were', 'his', 'forty', 'sixty', 'beyond', 'name', 'thus', 'hers', 'might', 'among', 'twenty', 'herself', 'interest', 'well', 'since', 'someone', 'whereby', 'himself', 'them', 'back', 'too', 'mostly', 'amount', 'anyone', 'around', 'perhaps', 'would', 'behind', 'been', 'each', 'ten', 'itself', 'you', 'other', 'therefore', 'now', 'yet', 'former', 'often', 'otherwise', 'seemed', 'however', 'system', 'most', 'thereafter', 'onto', 'same', 'whole', 'he', 'somewhere', 'amoungst', 'these', 'how', 'again', 'con', 'has', 'bill', 'after', 'whenever', 'all', 'except', 'are', 'towards', 'hundred', 'co', 'had', 'something', 'their', 'two', 'whither', 'anywhere', 'between', 'also', 'the', 'sincere', 'nor', 'inc', 'elsewhere', 'an', 'along', 'us', 'fifteen', 'but', 'find', 'formerly', 'made', 'whatever', 'with', 'several', 'etc', 'why', 'over', 'every', 'cry', 'those', 'nobody', 'there', 'our', 'be', 'out', 'mine', 'seems', 'due', 'five', 'noone', 'either', 'up', 'me', 'third', 'hereafter', 'amongst', 'they', 'fill', 'front', 'full', 'who', 'others', 'else', 'eleven', 'my', 'nowhere', 'seeming', 'four', 'everything', 'being', 'in', 'only', 'this', 'within', 'found', 'keep', 'hereby', 'whereafter', 'less', 'please', 'eg', 'she', 'see', 'seem', 'than', 'may', 'became', 'will', 'throughout', 'meanwhile', 'although', 'him', 'by', 'six', 'much', 'twelve', 'a', 'have', 'take', 'fire', 'becomes', 'everyone', 'sometimes', 'on', 'because', 'until', 'cant', 'above', 'not', 'nine', 'none'})\n"
     ]
    }
   ],
   "source": [
    "# set of stop words\n",
    "print(vect.get_stop_words())"
   ]
  },
  {
   "cell_type": "markdown",
   "metadata": {},
   "source": [
    "## Part 4: Other CountVectorizer Options"
   ]
  },
  {
   "cell_type": "markdown",
   "metadata": {},
   "source": [
    "- **max_features:** int or None, default=None\n",
    "- If not None, build a vocabulary that only consider the top max_features ordered by term frequency across the corpus."
   ]
  },
  {
   "cell_type": "code",
   "execution_count": 30,
   "metadata": {},
   "outputs": [
    {
     "name": "stdout",
     "output_type": "stream",
     "text": [
      "Features:  1285\n",
      "Accuracy:  0.7692307692307693\n"
     ]
    }
   ],
   "source": [
    "# remove English stop words and only keep 100 features\n",
    "vect = CountVectorizer(stop_words='english',)\n",
    "tokenize_test(vect)"
   ]
  },
  {
   "cell_type": "code",
   "execution_count": 31,
   "metadata": {},
   "outputs": [
    {
     "name": "stdout",
     "output_type": "stream",
     "text": [
      "['02' '05' '10' ... 'youth' 'yuck' 'yummy']\n"
     ]
    }
   ],
   "source": [
    "# all 100 features\n",
    "print(vect.get_feature_names_out())"
   ]
  },
  {
   "cell_type": "code",
   "execution_count": 32,
   "metadata": {},
   "outputs": [
    {
     "name": "stdout",
     "output_type": "stream",
     "text": [
      "Features:  1000\n",
      "Accuracy:  0.7692307692307693\n"
     ]
    }
   ],
   "source": [
    "# include 1-grams and 2-grams, and limit the number of features\n",
    "vect = CountVectorizer(ngram_range=(1, 2), max_features=1000)\n",
    "tokenize_test(vect)"
   ]
  },
  {
   "cell_type": "code",
   "execution_count": 33,
   "metadata": {},
   "outputs": [
    {
     "name": "stdout",
     "output_type": "stream",
     "text": [
      "Features:  5491\n",
      "Accuracy:  0.7692307692307693\n"
     ]
    }
   ],
   "source": [
    "# include 1-grams and 2-grams\n",
    "vect = CountVectorizer(ngram_range=(1, 2))\n",
    "tokenize_test(vect)"
   ]
  },
  {
   "cell_type": "code",
   "execution_count": 34,
   "metadata": {},
   "outputs": [
    {
     "name": "stdout",
     "output_type": "stream",
     "text": [
      "Features:  1000\n",
      "Accuracy:  0.7692307692307693\n"
     ]
    }
   ],
   "source": [
    "# include 1-grams and 2-grams, and limit the number of features\n",
    "vect = CountVectorizer(ngram_range=(1, 2), max_features=1000)\n",
    "tokenize_test(vect)"
   ]
  },
  {
   "cell_type": "code",
   "execution_count": 35,
   "metadata": {},
   "outputs": [
    {
     "name": "stdout",
     "output_type": "stream",
     "text": [
      "Features:  1000\n",
      "Accuracy:  0.7692307692307693\n"
     ]
    }
   ],
   "source": [
    "# include 1-grams and 2-grams, and limit the number of features\n",
    "vect = CountVectorizer(ngram_range=(1, 2), max_features=1000)\n",
    "tokenize_test(vect)"
   ]
  },
  {
   "cell_type": "markdown",
   "metadata": {},
   "source": [
    "- **min_df:** float in range [0.0, 1.0] or int, default=1\n",
    "    - When building the vocabulary ignore terms that have a document frequency strictly lower than the given threshold. This value is also called cut-off in the literature. If float, the parameter represents a proportion of documents, integer absolute counts."
   ]
  },
  {
   "cell_type": "code",
   "execution_count": 36,
   "metadata": {},
   "outputs": [
    {
     "name": "stdout",
     "output_type": "stream",
     "text": [
      "Features:  300\n",
      "Accuracy:  0.7692307692307693\n"
     ]
    }
   ],
   "source": [
    "# include 1-grams and 2-grams, and only include terms that appear at least 2 times\n",
    "vect = CountVectorizer(ngram_range=(1, 2),  max_features=300, min_df=2)\n",
    "tokenize_test(vect)"
   ]
  },
  {
   "cell_type": "code",
   "execution_count": 37,
   "metadata": {},
   "outputs": [
    {
     "name": "stdout",
     "output_type": "stream",
     "text": [
      "Features:  332\n",
      "Accuracy:  0.7692307692307693\n"
     ]
    }
   ],
   "source": [
    "# include 1-grams and 2-grams, and only include terms that appear at least 2 times\n",
    "vect = CountVectorizer(ngram_range=(1, 2),  max_features=30000, min_df=3)\n",
    "tokenize_test(vect)"
   ]
  },
  {
   "cell_type": "markdown",
   "metadata": {},
   "source": [
    "## Part 5: Introduction to TextBlob"
   ]
  },
  {
   "cell_type": "markdown",
   "metadata": {},
   "source": [
    "TextBlob: \"Simplified Text Processing\""
   ]
  },
  {
   "cell_type": "code",
   "execution_count": 38,
   "metadata": {},
   "outputs": [
    {
     "name": "stdout",
     "output_type": "stream",
     "text": [
      "My wife took me here on my birthday for breakfast and it was excellent.  The weather was perfect which made sitting outside overlooking their grounds an absolute pleasure.  Our waitress was excellent and our food arrived quickly on the semi-busy Saturday morning.  It looked like the place fills up pretty quickly so the earlier you get here the better.\n",
      "\n",
      "Do yourself a favor and get their Bloody Mary.  It was phenomenal and simply the best I've ever had.  I'm pretty sure they only use ingredients from their garden and blend them fresh when you order it.  It was amazing.\n",
      "\n",
      "While EVERYTHING on the menu looks excellent, I had the white truffle scrambled eggs vegetable skillet and it was tasty and delicious.  It came with 2 pieces of their griddled bread with was amazing and it absolutely made the meal complete.  It was the best \"toast\" I've ever had.\n",
      "\n",
      "Anyway, I can't wait to go back!\n"
     ]
    }
   ],
   "source": [
    "# print the first review\n",
    "print(yelp_best_worst.text[0])"
   ]
  },
  {
   "cell_type": "code",
   "execution_count": 39,
   "metadata": {},
   "outputs": [],
   "source": [
    "# save it as a TextBlob object\n",
    "review = TextBlob(yelp_best_worst.text[0])"
   ]
  },
  {
   "cell_type": "code",
   "execution_count": 40,
   "metadata": {},
   "outputs": [
    {
     "data": {
      "text/plain": [
       "textblob.blob.TextBlob"
      ]
     },
     "execution_count": 40,
     "metadata": {},
     "output_type": "execute_result"
    }
   ],
   "source": [
    "type(review)"
   ]
  },
  {
   "cell_type": "code",
   "execution_count": 41,
   "metadata": {},
   "outputs": [
    {
     "name": "stderr",
     "output_type": "stream",
     "text": [
      "[nltk_data] Downloading collection 'all'\n",
      "[nltk_data]    | \n",
      "[nltk_data]    | Downloading package abc to\n",
      "[nltk_data]    |     C:\\Users\\Matth\\AppData\\Roaming\\nltk_data...\n",
      "[nltk_data]    |   Package abc is already up-to-date!\n",
      "[nltk_data]    | Downloading package alpino to\n",
      "[nltk_data]    |     C:\\Users\\Matth\\AppData\\Roaming\\nltk_data...\n",
      "[nltk_data]    |   Package alpino is already up-to-date!\n",
      "[nltk_data]    | Downloading package averaged_perceptron_tagger to\n",
      "[nltk_data]    |     C:\\Users\\Matth\\AppData\\Roaming\\nltk_data...\n",
      "[nltk_data]    |   Package averaged_perceptron_tagger is already up-\n",
      "[nltk_data]    |       to-date!\n",
      "[nltk_data]    | Downloading package averaged_perceptron_tagger_ru to\n",
      "[nltk_data]    |     C:\\Users\\Matth\\AppData\\Roaming\\nltk_data...\n",
      "[nltk_data]    |   Package averaged_perceptron_tagger_ru is already\n",
      "[nltk_data]    |       up-to-date!\n",
      "[nltk_data]    | Downloading package basque_grammars to\n",
      "[nltk_data]    |     C:\\Users\\Matth\\AppData\\Roaming\\nltk_data...\n",
      "[nltk_data]    |   Package basque_grammars is already up-to-date!\n",
      "[nltk_data]    | Downloading package bcp47 to\n",
      "[nltk_data]    |     C:\\Users\\Matth\\AppData\\Roaming\\nltk_data...\n",
      "[nltk_data]    |   Package bcp47 is already up-to-date!\n",
      "[nltk_data]    | Downloading package biocreative_ppi to\n",
      "[nltk_data]    |     C:\\Users\\Matth\\AppData\\Roaming\\nltk_data...\n",
      "[nltk_data]    |   Package biocreative_ppi is already up-to-date!\n",
      "[nltk_data]    | Downloading package bllip_wsj_no_aux to\n",
      "[nltk_data]    |     C:\\Users\\Matth\\AppData\\Roaming\\nltk_data...\n",
      "[nltk_data]    |   Package bllip_wsj_no_aux is already up-to-date!\n",
      "[nltk_data]    | Downloading package book_grammars to\n",
      "[nltk_data]    |     C:\\Users\\Matth\\AppData\\Roaming\\nltk_data...\n",
      "[nltk_data]    |   Package book_grammars is already up-to-date!\n",
      "[nltk_data]    | Downloading package brown to\n",
      "[nltk_data]    |     C:\\Users\\Matth\\AppData\\Roaming\\nltk_data...\n",
      "[nltk_data]    |   Package brown is already up-to-date!\n",
      "[nltk_data]    | Downloading package brown_tei to\n",
      "[nltk_data]    |     C:\\Users\\Matth\\AppData\\Roaming\\nltk_data...\n",
      "[nltk_data]    |   Package brown_tei is already up-to-date!\n",
      "[nltk_data]    | Downloading package cess_cat to\n",
      "[nltk_data]    |     C:\\Users\\Matth\\AppData\\Roaming\\nltk_data...\n",
      "[nltk_data]    |   Package cess_cat is already up-to-date!\n",
      "[nltk_data]    | Downloading package cess_esp to\n",
      "[nltk_data]    |     C:\\Users\\Matth\\AppData\\Roaming\\nltk_data...\n",
      "[nltk_data]    |   Package cess_esp is already up-to-date!\n",
      "[nltk_data]    | Downloading package chat80 to\n",
      "[nltk_data]    |     C:\\Users\\Matth\\AppData\\Roaming\\nltk_data...\n",
      "[nltk_data]    |   Package chat80 is already up-to-date!\n",
      "[nltk_data]    | Downloading package city_database to\n",
      "[nltk_data]    |     C:\\Users\\Matth\\AppData\\Roaming\\nltk_data...\n",
      "[nltk_data]    |   Package city_database is already up-to-date!\n",
      "[nltk_data]    | Downloading package cmudict to\n",
      "[nltk_data]    |     C:\\Users\\Matth\\AppData\\Roaming\\nltk_data...\n",
      "[nltk_data]    |   Package cmudict is already up-to-date!\n",
      "[nltk_data]    | Downloading package comparative_sentences to\n",
      "[nltk_data]    |     C:\\Users\\Matth\\AppData\\Roaming\\nltk_data...\n",
      "[nltk_data]    |   Package comparative_sentences is already up-to-\n",
      "[nltk_data]    |       date!\n",
      "[nltk_data]    | Downloading package comtrans to\n",
      "[nltk_data]    |     C:\\Users\\Matth\\AppData\\Roaming\\nltk_data...\n",
      "[nltk_data]    |   Package comtrans is already up-to-date!\n",
      "[nltk_data]    | Downloading package conll2000 to\n",
      "[nltk_data]    |     C:\\Users\\Matth\\AppData\\Roaming\\nltk_data...\n",
      "[nltk_data]    |   Package conll2000 is already up-to-date!\n",
      "[nltk_data]    | Downloading package conll2002 to\n",
      "[nltk_data]    |     C:\\Users\\Matth\\AppData\\Roaming\\nltk_data...\n",
      "[nltk_data]    |   Package conll2002 is already up-to-date!\n",
      "[nltk_data]    | Downloading package conll2007 to\n",
      "[nltk_data]    |     C:\\Users\\Matth\\AppData\\Roaming\\nltk_data...\n",
      "[nltk_data]    |   Package conll2007 is already up-to-date!\n",
      "[nltk_data]    | Downloading package crubadan to\n",
      "[nltk_data]    |     C:\\Users\\Matth\\AppData\\Roaming\\nltk_data...\n",
      "[nltk_data]    |   Package crubadan is already up-to-date!\n",
      "[nltk_data]    | Downloading package dependency_treebank to\n",
      "[nltk_data]    |     C:\\Users\\Matth\\AppData\\Roaming\\nltk_data...\n",
      "[nltk_data]    |   Package dependency_treebank is already up-to-date!\n",
      "[nltk_data]    | Downloading package dolch to\n",
      "[nltk_data]    |     C:\\Users\\Matth\\AppData\\Roaming\\nltk_data...\n",
      "[nltk_data]    |   Package dolch is already up-to-date!\n",
      "[nltk_data]    | Downloading package europarl_raw to\n",
      "[nltk_data]    |     C:\\Users\\Matth\\AppData\\Roaming\\nltk_data...\n",
      "[nltk_data]    |   Package europarl_raw is already up-to-date!\n",
      "[nltk_data]    | Downloading package extended_omw to\n",
      "[nltk_data]    |     C:\\Users\\Matth\\AppData\\Roaming\\nltk_data...\n",
      "[nltk_data]    |   Package extended_omw is already up-to-date!\n",
      "[nltk_data]    | Downloading package floresta to\n",
      "[nltk_data]    |     C:\\Users\\Matth\\AppData\\Roaming\\nltk_data...\n",
      "[nltk_data]    |   Package floresta is already up-to-date!\n",
      "[nltk_data]    | Downloading package framenet_v15 to\n",
      "[nltk_data]    |     C:\\Users\\Matth\\AppData\\Roaming\\nltk_data...\n",
      "[nltk_data]    |   Package framenet_v15 is already up-to-date!\n",
      "[nltk_data]    | Downloading package framenet_v17 to\n",
      "[nltk_data]    |     C:\\Users\\Matth\\AppData\\Roaming\\nltk_data...\n",
      "[nltk_data]    |   Package framenet_v17 is already up-to-date!\n",
      "[nltk_data]    | Downloading package gazetteers to\n",
      "[nltk_data]    |     C:\\Users\\Matth\\AppData\\Roaming\\nltk_data...\n",
      "[nltk_data]    |   Package gazetteers is already up-to-date!\n",
      "[nltk_data]    | Downloading package genesis to\n",
      "[nltk_data]    |     C:\\Users\\Matth\\AppData\\Roaming\\nltk_data...\n",
      "[nltk_data]    |   Package genesis is already up-to-date!\n",
      "[nltk_data]    | Downloading package gutenberg to\n",
      "[nltk_data]    |     C:\\Users\\Matth\\AppData\\Roaming\\nltk_data...\n",
      "[nltk_data]    |   Package gutenberg is already up-to-date!\n",
      "[nltk_data]    | Downloading package ieer to\n",
      "[nltk_data]    |     C:\\Users\\Matth\\AppData\\Roaming\\nltk_data...\n",
      "[nltk_data]    |   Package ieer is already up-to-date!\n",
      "[nltk_data]    | Downloading package inaugural to\n",
      "[nltk_data]    |     C:\\Users\\Matth\\AppData\\Roaming\\nltk_data...\n",
      "[nltk_data]    |   Package inaugural is already up-to-date!\n",
      "[nltk_data]    | Downloading package indian to\n",
      "[nltk_data]    |     C:\\Users\\Matth\\AppData\\Roaming\\nltk_data...\n",
      "[nltk_data]    |   Package indian is already up-to-date!\n",
      "[nltk_data]    | Downloading package jeita to\n",
      "[nltk_data]    |     C:\\Users\\Matth\\AppData\\Roaming\\nltk_data...\n",
      "[nltk_data]    |   Package jeita is already up-to-date!\n",
      "[nltk_data]    | Downloading package kimmo to\n",
      "[nltk_data]    |     C:\\Users\\Matth\\AppData\\Roaming\\nltk_data...\n",
      "[nltk_data]    |   Package kimmo is already up-to-date!\n",
      "[nltk_data]    | Downloading package knbc to\n",
      "[nltk_data]    |     C:\\Users\\Matth\\AppData\\Roaming\\nltk_data...\n",
      "[nltk_data]    |   Package knbc is already up-to-date!\n",
      "[nltk_data]    | Downloading package large_grammars to\n",
      "[nltk_data]    |     C:\\Users\\Matth\\AppData\\Roaming\\nltk_data...\n",
      "[nltk_data]    |   Package large_grammars is already up-to-date!\n",
      "[nltk_data]    | Downloading package lin_thesaurus to\n",
      "[nltk_data]    |     C:\\Users\\Matth\\AppData\\Roaming\\nltk_data...\n",
      "[nltk_data]    |   Package lin_thesaurus is already up-to-date!\n",
      "[nltk_data]    | Downloading package mac_morpho to\n",
      "[nltk_data]    |     C:\\Users\\Matth\\AppData\\Roaming\\nltk_data...\n",
      "[nltk_data]    |   Package mac_morpho is already up-to-date!\n",
      "[nltk_data]    | Downloading package machado to\n",
      "[nltk_data]    |     C:\\Users\\Matth\\AppData\\Roaming\\nltk_data...\n",
      "[nltk_data]    |   Package machado is already up-to-date!\n",
      "[nltk_data]    | Downloading package masc_tagged to\n",
      "[nltk_data]    |     C:\\Users\\Matth\\AppData\\Roaming\\nltk_data...\n",
      "[nltk_data]    |   Package masc_tagged is already up-to-date!\n",
      "[nltk_data]    | Downloading package maxent_ne_chunker to\n",
      "[nltk_data]    |     C:\\Users\\Matth\\AppData\\Roaming\\nltk_data...\n",
      "[nltk_data]    |   Package maxent_ne_chunker is already up-to-date!\n",
      "[nltk_data]    | Downloading package maxent_treebank_pos_tagger to\n",
      "[nltk_data]    |     C:\\Users\\Matth\\AppData\\Roaming\\nltk_data...\n",
      "[nltk_data]    |   Package maxent_treebank_pos_tagger is already up-\n",
      "[nltk_data]    |       to-date!\n",
      "[nltk_data]    | Downloading package moses_sample to\n",
      "[nltk_data]    |     C:\\Users\\Matth\\AppData\\Roaming\\nltk_data...\n",
      "[nltk_data]    |   Package moses_sample is already up-to-date!\n",
      "[nltk_data]    | Downloading package movie_reviews to\n",
      "[nltk_data]    |     C:\\Users\\Matth\\AppData\\Roaming\\nltk_data...\n"
     ]
    },
    {
     "name": "stderr",
     "output_type": "stream",
     "text": [
      "[nltk_data]    |   Package movie_reviews is already up-to-date!\n",
      "[nltk_data]    | Downloading package mte_teip5 to\n",
      "[nltk_data]    |     C:\\Users\\Matth\\AppData\\Roaming\\nltk_data...\n",
      "[nltk_data]    |   Package mte_teip5 is already up-to-date!\n",
      "[nltk_data]    | Downloading package mwa_ppdb to\n",
      "[nltk_data]    |     C:\\Users\\Matth\\AppData\\Roaming\\nltk_data...\n",
      "[nltk_data]    |   Package mwa_ppdb is already up-to-date!\n",
      "[nltk_data]    | Downloading package names to\n",
      "[nltk_data]    |     C:\\Users\\Matth\\AppData\\Roaming\\nltk_data...\n",
      "[nltk_data]    |   Package names is already up-to-date!\n",
      "[nltk_data]    | Downloading package nombank.1.0 to\n",
      "[nltk_data]    |     C:\\Users\\Matth\\AppData\\Roaming\\nltk_data...\n",
      "[nltk_data]    |   Package nombank.1.0 is already up-to-date!\n",
      "[nltk_data]    | Downloading package nonbreaking_prefixes to\n",
      "[nltk_data]    |     C:\\Users\\Matth\\AppData\\Roaming\\nltk_data...\n",
      "[nltk_data]    |   Package nonbreaking_prefixes is already up-to-date!\n",
      "[nltk_data]    | Downloading package nps_chat to\n",
      "[nltk_data]    |     C:\\Users\\Matth\\AppData\\Roaming\\nltk_data...\n",
      "[nltk_data]    |   Package nps_chat is already up-to-date!\n",
      "[nltk_data]    | Downloading package omw to\n",
      "[nltk_data]    |     C:\\Users\\Matth\\AppData\\Roaming\\nltk_data...\n",
      "[nltk_data]    |   Package omw is already up-to-date!\n",
      "[nltk_data]    | Downloading package omw-1.4 to\n",
      "[nltk_data]    |     C:\\Users\\Matth\\AppData\\Roaming\\nltk_data...\n",
      "[nltk_data]    |   Package omw-1.4 is already up-to-date!\n",
      "[nltk_data]    | Downloading package opinion_lexicon to\n",
      "[nltk_data]    |     C:\\Users\\Matth\\AppData\\Roaming\\nltk_data...\n",
      "[nltk_data]    |   Package opinion_lexicon is already up-to-date!\n",
      "[nltk_data]    | Downloading package panlex_swadesh to\n",
      "[nltk_data]    |     C:\\Users\\Matth\\AppData\\Roaming\\nltk_data...\n",
      "[nltk_data]    |   Package panlex_swadesh is already up-to-date!\n",
      "[nltk_data]    | Downloading package paradigms to\n",
      "[nltk_data]    |     C:\\Users\\Matth\\AppData\\Roaming\\nltk_data...\n",
      "[nltk_data]    |   Package paradigms is already up-to-date!\n",
      "[nltk_data]    | Downloading package pe08 to\n",
      "[nltk_data]    |     C:\\Users\\Matth\\AppData\\Roaming\\nltk_data...\n",
      "[nltk_data]    |   Package pe08 is already up-to-date!\n",
      "[nltk_data]    | Downloading package perluniprops to\n",
      "[nltk_data]    |     C:\\Users\\Matth\\AppData\\Roaming\\nltk_data...\n",
      "[nltk_data]    |   Package perluniprops is already up-to-date!\n",
      "[nltk_data]    | Downloading package pil to\n",
      "[nltk_data]    |     C:\\Users\\Matth\\AppData\\Roaming\\nltk_data...\n",
      "[nltk_data]    |   Package pil is already up-to-date!\n",
      "[nltk_data]    | Downloading package pl196x to\n",
      "[nltk_data]    |     C:\\Users\\Matth\\AppData\\Roaming\\nltk_data...\n",
      "[nltk_data]    |   Package pl196x is already up-to-date!\n",
      "[nltk_data]    | Downloading package porter_test to\n",
      "[nltk_data]    |     C:\\Users\\Matth\\AppData\\Roaming\\nltk_data...\n",
      "[nltk_data]    |   Package porter_test is already up-to-date!\n",
      "[nltk_data]    | Downloading package ppattach to\n",
      "[nltk_data]    |     C:\\Users\\Matth\\AppData\\Roaming\\nltk_data...\n",
      "[nltk_data]    |   Package ppattach is already up-to-date!\n",
      "[nltk_data]    | Downloading package problem_reports to\n",
      "[nltk_data]    |     C:\\Users\\Matth\\AppData\\Roaming\\nltk_data...\n",
      "[nltk_data]    |   Package problem_reports is already up-to-date!\n",
      "[nltk_data]    | Downloading package product_reviews_1 to\n",
      "[nltk_data]    |     C:\\Users\\Matth\\AppData\\Roaming\\nltk_data...\n",
      "[nltk_data]    |   Package product_reviews_1 is already up-to-date!\n",
      "[nltk_data]    | Downloading package product_reviews_2 to\n",
      "[nltk_data]    |     C:\\Users\\Matth\\AppData\\Roaming\\nltk_data...\n",
      "[nltk_data]    |   Package product_reviews_2 is already up-to-date!\n",
      "[nltk_data]    | Downloading package propbank to\n",
      "[nltk_data]    |     C:\\Users\\Matth\\AppData\\Roaming\\nltk_data...\n",
      "[nltk_data]    |   Package propbank is already up-to-date!\n",
      "[nltk_data]    | Downloading package pros_cons to\n",
      "[nltk_data]    |     C:\\Users\\Matth\\AppData\\Roaming\\nltk_data...\n",
      "[nltk_data]    |   Package pros_cons is already up-to-date!\n",
      "[nltk_data]    | Downloading package ptb to\n",
      "[nltk_data]    |     C:\\Users\\Matth\\AppData\\Roaming\\nltk_data...\n",
      "[nltk_data]    |   Package ptb is already up-to-date!\n",
      "[nltk_data]    | Downloading package punkt to\n",
      "[nltk_data]    |     C:\\Users\\Matth\\AppData\\Roaming\\nltk_data...\n",
      "[nltk_data]    |   Package punkt is already up-to-date!\n",
      "[nltk_data]    | Downloading package qc to\n",
      "[nltk_data]    |     C:\\Users\\Matth\\AppData\\Roaming\\nltk_data...\n",
      "[nltk_data]    |   Package qc is already up-to-date!\n",
      "[nltk_data]    | Downloading package reuters to\n",
      "[nltk_data]    |     C:\\Users\\Matth\\AppData\\Roaming\\nltk_data...\n",
      "[nltk_data]    |   Package reuters is already up-to-date!\n",
      "[nltk_data]    | Downloading package rslp to\n",
      "[nltk_data]    |     C:\\Users\\Matth\\AppData\\Roaming\\nltk_data...\n",
      "[nltk_data]    |   Package rslp is already up-to-date!\n",
      "[nltk_data]    | Downloading package rte to\n",
      "[nltk_data]    |     C:\\Users\\Matth\\AppData\\Roaming\\nltk_data...\n",
      "[nltk_data]    |   Package rte is already up-to-date!\n",
      "[nltk_data]    | Downloading package sample_grammars to\n",
      "[nltk_data]    |     C:\\Users\\Matth\\AppData\\Roaming\\nltk_data...\n",
      "[nltk_data]    |   Package sample_grammars is already up-to-date!\n",
      "[nltk_data]    | Downloading package semcor to\n",
      "[nltk_data]    |     C:\\Users\\Matth\\AppData\\Roaming\\nltk_data...\n",
      "[nltk_data]    |   Package semcor is already up-to-date!\n",
      "[nltk_data]    | Downloading package senseval to\n",
      "[nltk_data]    |     C:\\Users\\Matth\\AppData\\Roaming\\nltk_data...\n",
      "[nltk_data]    |   Package senseval is already up-to-date!\n",
      "[nltk_data]    | Downloading package sentence_polarity to\n",
      "[nltk_data]    |     C:\\Users\\Matth\\AppData\\Roaming\\nltk_data...\n",
      "[nltk_data]    |   Package sentence_polarity is already up-to-date!\n",
      "[nltk_data]    | Downloading package sentiwordnet to\n",
      "[nltk_data]    |     C:\\Users\\Matth\\AppData\\Roaming\\nltk_data...\n",
      "[nltk_data]    |   Package sentiwordnet is already up-to-date!\n",
      "[nltk_data]    | Downloading package shakespeare to\n",
      "[nltk_data]    |     C:\\Users\\Matth\\AppData\\Roaming\\nltk_data...\n",
      "[nltk_data]    |   Package shakespeare is already up-to-date!\n",
      "[nltk_data]    | Downloading package sinica_treebank to\n",
      "[nltk_data]    |     C:\\Users\\Matth\\AppData\\Roaming\\nltk_data...\n",
      "[nltk_data]    |   Package sinica_treebank is already up-to-date!\n",
      "[nltk_data]    | Downloading package smultron to\n",
      "[nltk_data]    |     C:\\Users\\Matth\\AppData\\Roaming\\nltk_data...\n",
      "[nltk_data]    |   Package smultron is already up-to-date!\n",
      "[nltk_data]    | Downloading package snowball_data to\n",
      "[nltk_data]    |     C:\\Users\\Matth\\AppData\\Roaming\\nltk_data...\n",
      "[nltk_data]    |   Package snowball_data is already up-to-date!\n",
      "[nltk_data]    | Downloading package spanish_grammars to\n",
      "[nltk_data]    |     C:\\Users\\Matth\\AppData\\Roaming\\nltk_data...\n",
      "[nltk_data]    |   Package spanish_grammars is already up-to-date!\n",
      "[nltk_data]    | Downloading package state_union to\n",
      "[nltk_data]    |     C:\\Users\\Matth\\AppData\\Roaming\\nltk_data...\n",
      "[nltk_data]    |   Package state_union is already up-to-date!\n",
      "[nltk_data]    | Downloading package stopwords to\n",
      "[nltk_data]    |     C:\\Users\\Matth\\AppData\\Roaming\\nltk_data...\n",
      "[nltk_data]    |   Package stopwords is already up-to-date!\n",
      "[nltk_data]    | Downloading package subjectivity to\n",
      "[nltk_data]    |     C:\\Users\\Matth\\AppData\\Roaming\\nltk_data...\n",
      "[nltk_data]    |   Package subjectivity is already up-to-date!\n",
      "[nltk_data]    | Downloading package swadesh to\n",
      "[nltk_data]    |     C:\\Users\\Matth\\AppData\\Roaming\\nltk_data...\n",
      "[nltk_data]    |   Package swadesh is already up-to-date!\n",
      "[nltk_data]    | Downloading package switchboard to\n",
      "[nltk_data]    |     C:\\Users\\Matth\\AppData\\Roaming\\nltk_data...\n",
      "[nltk_data]    |   Package switchboard is already up-to-date!\n",
      "[nltk_data]    | Downloading package tagsets to\n",
      "[nltk_data]    |     C:\\Users\\Matth\\AppData\\Roaming\\nltk_data...\n",
      "[nltk_data]    |   Package tagsets is already up-to-date!\n",
      "[nltk_data]    | Downloading package timit to\n",
      "[nltk_data]    |     C:\\Users\\Matth\\AppData\\Roaming\\nltk_data...\n",
      "[nltk_data]    |   Package timit is already up-to-date!\n",
      "[nltk_data]    | Downloading package toolbox to\n",
      "[nltk_data]    |     C:\\Users\\Matth\\AppData\\Roaming\\nltk_data...\n",
      "[nltk_data]    |   Package toolbox is already up-to-date!\n",
      "[nltk_data]    | Downloading package treebank to\n",
      "[nltk_data]    |     C:\\Users\\Matth\\AppData\\Roaming\\nltk_data...\n",
      "[nltk_data]    |   Package treebank is already up-to-date!\n",
      "[nltk_data]    | Downloading package twitter_samples to\n",
      "[nltk_data]    |     C:\\Users\\Matth\\AppData\\Roaming\\nltk_data...\n",
      "[nltk_data]    |   Package twitter_samples is already up-to-date!\n",
      "[nltk_data]    | Downloading package udhr to\n",
      "[nltk_data]    |     C:\\Users\\Matth\\AppData\\Roaming\\nltk_data...\n",
      "[nltk_data]    |   Package udhr is already up-to-date!\n",
      "[nltk_data]    | Downloading package udhr2 to\n",
      "[nltk_data]    |     C:\\Users\\Matth\\AppData\\Roaming\\nltk_data...\n",
      "[nltk_data]    |   Package udhr2 is already up-to-date!\n",
      "[nltk_data]    | Downloading package unicode_samples to\n",
      "[nltk_data]    |     C:\\Users\\Matth\\AppData\\Roaming\\nltk_data...\n",
      "[nltk_data]    |   Package unicode_samples is already up-to-date!\n",
      "[nltk_data]    | Downloading package universal_tagset to\n",
      "[nltk_data]    |     C:\\Users\\Matth\\AppData\\Roaming\\nltk_data...\n",
      "[nltk_data]    |   Package universal_tagset is already up-to-date!\n",
      "[nltk_data]    | Downloading package universal_treebanks_v20 to\n",
      "[nltk_data]    |     C:\\Users\\Matth\\AppData\\Roaming\\nltk_data...\n"
     ]
    },
    {
     "name": "stderr",
     "output_type": "stream",
     "text": [
      "[nltk_data]    |   Package universal_treebanks_v20 is already up-to-\n",
      "[nltk_data]    |       date!\n",
      "[nltk_data]    | Downloading package vader_lexicon to\n",
      "[nltk_data]    |     C:\\Users\\Matth\\AppData\\Roaming\\nltk_data...\n",
      "[nltk_data]    |   Package vader_lexicon is already up-to-date!\n",
      "[nltk_data]    | Downloading package verbnet to\n",
      "[nltk_data]    |     C:\\Users\\Matth\\AppData\\Roaming\\nltk_data...\n",
      "[nltk_data]    |   Package verbnet is already up-to-date!\n",
      "[nltk_data]    | Downloading package verbnet3 to\n",
      "[nltk_data]    |     C:\\Users\\Matth\\AppData\\Roaming\\nltk_data...\n",
      "[nltk_data]    |   Package verbnet3 is already up-to-date!\n",
      "[nltk_data]    | Downloading package webtext to\n",
      "[nltk_data]    |     C:\\Users\\Matth\\AppData\\Roaming\\nltk_data...\n",
      "[nltk_data]    |   Package webtext is already up-to-date!\n",
      "[nltk_data]    | Downloading package wmt15_eval to\n",
      "[nltk_data]    |     C:\\Users\\Matth\\AppData\\Roaming\\nltk_data...\n",
      "[nltk_data]    |   Package wmt15_eval is already up-to-date!\n",
      "[nltk_data]    | Downloading package word2vec_sample to\n",
      "[nltk_data]    |     C:\\Users\\Matth\\AppData\\Roaming\\nltk_data...\n",
      "[nltk_data]    |   Package word2vec_sample is already up-to-date!\n",
      "[nltk_data]    | Downloading package wordnet to\n",
      "[nltk_data]    |     C:\\Users\\Matth\\AppData\\Roaming\\nltk_data...\n",
      "[nltk_data]    |   Package wordnet is already up-to-date!\n",
      "[nltk_data]    | Downloading package wordnet2021 to\n",
      "[nltk_data]    |     C:\\Users\\Matth\\AppData\\Roaming\\nltk_data...\n",
      "[nltk_data]    |   Package wordnet2021 is already up-to-date!\n",
      "[nltk_data]    | Downloading package wordnet2022 to\n",
      "[nltk_data]    |     C:\\Users\\Matth\\AppData\\Roaming\\nltk_data...\n",
      "[nltk_data]    |   Package wordnet2022 is already up-to-date!\n",
      "[nltk_data]    | Downloading package wordnet31 to\n",
      "[nltk_data]    |     C:\\Users\\Matth\\AppData\\Roaming\\nltk_data...\n",
      "[nltk_data]    |   Package wordnet31 is already up-to-date!\n",
      "[nltk_data]    | Downloading package wordnet_ic to\n",
      "[nltk_data]    |     C:\\Users\\Matth\\AppData\\Roaming\\nltk_data...\n",
      "[nltk_data]    |   Package wordnet_ic is already up-to-date!\n",
      "[nltk_data]    | Downloading package words to\n",
      "[nltk_data]    |     C:\\Users\\Matth\\AppData\\Roaming\\nltk_data...\n",
      "[nltk_data]    |   Package words is already up-to-date!\n",
      "[nltk_data]    | Downloading package ycoe to\n",
      "[nltk_data]    |     C:\\Users\\Matth\\AppData\\Roaming\\nltk_data...\n",
      "[nltk_data]    |   Package ycoe is already up-to-date!\n",
      "[nltk_data]    | \n",
      "[nltk_data]  Done downloading collection all\n"
     ]
    },
    {
     "data": {
      "text/plain": [
       "True"
      ]
     },
     "execution_count": 41,
     "metadata": {},
     "output_type": "execute_result"
    }
   ],
   "source": [
    "# list the words\n",
    "import nltk\n",
    "nltk.download('all')\n",
    "#review.words"
   ]
  },
  {
   "cell_type": "code",
   "execution_count": 42,
   "metadata": {},
   "outputs": [
    {
     "data": {
      "text/plain": [
       "[Sentence(\"My wife took me here on my birthday for breakfast and it was excellent.\"),\n",
       " Sentence(\"The weather was perfect which made sitting outside overlooking their grounds an absolute pleasure.\"),\n",
       " Sentence(\"Our waitress was excellent and our food arrived quickly on the semi-busy Saturday morning.\"),\n",
       " Sentence(\"It looked like the place fills up pretty quickly so the earlier you get here the better.\"),\n",
       " Sentence(\"Do yourself a favor and get their Bloody Mary.\"),\n",
       " Sentence(\"It was phenomenal and simply the best I've ever had.\"),\n",
       " Sentence(\"I'm pretty sure they only use ingredients from their garden and blend them fresh when you order it.\"),\n",
       " Sentence(\"It was amazing.\"),\n",
       " Sentence(\"While EVERYTHING on the menu looks excellent, I had the white truffle scrambled eggs vegetable skillet and it was tasty and delicious.\"),\n",
       " Sentence(\"It came with 2 pieces of their griddled bread with was amazing and it absolutely made the meal complete.\"),\n",
       " Sentence(\"It was the best \"toast\" I've ever had.\"),\n",
       " Sentence(\"Anyway, I can't wait to go back!\")]"
      ]
     },
     "execution_count": 42,
     "metadata": {},
     "output_type": "execute_result"
    }
   ],
   "source": [
    "# list the sentences\n",
    "review.sentences"
   ]
  },
  {
   "cell_type": "code",
   "execution_count": 43,
   "metadata": {},
   "outputs": [
    {
     "data": {
      "text/plain": [
       "TextBlob(\"my wife took me here on my birthday for breakfast and it was excellent.  the weather was perfect which made sitting outside overlooking their grounds an absolute pleasure.  our waitress was excellent and our food arrived quickly on the semi-busy saturday morning.  it looked like the place fills up pretty quickly so the earlier you get here the better.\n",
       "\n",
       "do yourself a favor and get their bloody mary.  it was phenomenal and simply the best i've ever had.  i'm pretty sure they only use ingredients from their garden and blend them fresh when you order it.  it was amazing.\n",
       "\n",
       "while everything on the menu looks excellent, i had the white truffle scrambled eggs vegetable skillet and it was tasty and delicious.  it came with 2 pieces of their griddled bread with was amazing and it absolutely made the meal complete.  it was the best \"toast\" i've ever had.\n",
       "\n",
       "anyway, i can't wait to go back!\")"
      ]
     },
     "execution_count": 43,
     "metadata": {},
     "output_type": "execute_result"
    }
   ],
   "source": [
    "# some string methods are available\n",
    "review.lower()"
   ]
  },
  {
   "cell_type": "markdown",
   "metadata": {},
   "source": [
    "## Part 6: Stemming and Lemmatization"
   ]
  },
  {
   "cell_type": "markdown",
   "metadata": {},
   "source": [
    "**Stemming:**\n",
    "\n",
    "- **What:** Reduce a word to its base/stem/root form\n",
    "- **Why:** Often makes sense to treat related words the same way\n",
    "- **Notes:**\n",
    "    - Uses a \"simple\" and fast rule-based approach\n",
    "    - Stemmed words are usually not shown to users (used for analysis/indexing)\n",
    "    - Some search engines treat words with the same stem as synonyms"
   ]
  },
  {
   "cell_type": "code",
   "execution_count": 44,
   "metadata": {},
   "outputs": [
    {
     "name": "stdout",
     "output_type": "stream",
     "text": [
      "['my', 'wife', 'took', 'me', 'here', 'on', 'my', 'birthday', 'for', 'breakfast', 'and', 'it', 'was', 'excel', 'the', 'weather', 'was', 'perfect', 'which', 'made', 'sit', 'outsid', 'overlook', 'their', 'ground', 'an', 'absolut', 'pleasur', 'our', 'waitress', 'was', 'excel', 'and', 'our', 'food', 'arriv', 'quick', 'on', 'the', 'semi-busi', 'saturday', 'morn', 'it', 'look', 'like', 'the', 'place', 'fill', 'up', 'pretti', 'quick', 'so', 'the', 'earlier', 'you', 'get', 'here', 'the', 'better', 'do', 'yourself', 'a', 'favor', 'and', 'get', 'their', 'bloodi', 'mari', 'it', 'was', 'phenomen', 'and', 'simpli', 'the', 'best', 'i', 've', 'ever', 'had', 'i', \"'m\", 'pretti', 'sure', 'they', 'onli', 'use', 'ingredi', 'from', 'their', 'garden', 'and', 'blend', 'them', 'fresh', 'when', 'you', 'order', 'it', 'it', 'was', 'amaz', 'while', 'everyth', 'on', 'the', 'menu', 'look', 'excel', 'i', 'had', 'the', 'white', 'truffl', 'scrambl', 'egg', 'veget', 'skillet', 'and', 'it', 'was', 'tasti', 'and', 'delici', 'it', 'came', 'with', '2', 'piec', 'of', 'their', 'griddl', 'bread', 'with', 'was', 'amaz', 'and', 'it', 'absolut', 'made', 'the', 'meal', 'complet', 'it', 'was', 'the', 'best', 'toast', 'i', 've', 'ever', 'had', 'anyway', 'i', 'ca', \"n't\", 'wait', 'to', 'go', 'back']\n"
     ]
    }
   ],
   "source": [
    "# initialize stemmer\n",
    "stemmer = SnowballStemmer('english')\n",
    "\n",
    "# stem each word\n",
    "print([stemmer.stem(word) for word in review.words])"
   ]
  },
  {
   "cell_type": "markdown",
   "metadata": {},
   "source": [
    "**Lemmatization**\n",
    "\n",
    "- **What:** Derive the canonical form ('lemma') of a word\n",
    "- **Why:** Can be better than stemming\n",
    "- **Notes:** Uses a dictionary-based approach (slower than stemming)"
   ]
  },
  {
   "cell_type": "code",
   "execution_count": 45,
   "metadata": {},
   "outputs": [
    {
     "name": "stdout",
     "output_type": "stream",
     "text": [
      "['My', 'wife', 'took', 'me', 'here', 'on', 'my', 'birthday', 'for', 'breakfast', 'and', 'it', 'wa', 'excellent', 'The', 'weather', 'wa', 'perfect', 'which', 'made', 'sitting', 'outside', 'overlooking', 'their', 'ground', 'an', 'absolute', 'pleasure', 'Our', 'waitress', 'wa', 'excellent', 'and', 'our', 'food', 'arrived', 'quickly', 'on', 'the', 'semi-busy', 'Saturday', 'morning', 'It', 'looked', 'like', 'the', 'place', 'fill', 'up', 'pretty', 'quickly', 'so', 'the', 'earlier', 'you', 'get', 'here', 'the', 'better', 'Do', 'yourself', 'a', 'favor', 'and', 'get', 'their', 'Bloody', 'Mary', 'It', 'wa', 'phenomenal', 'and', 'simply', 'the', 'best', 'I', \"'ve\", 'ever', 'had', 'I', \"'m\", 'pretty', 'sure', 'they', 'only', 'use', 'ingredient', 'from', 'their', 'garden', 'and', 'blend', 'them', 'fresh', 'when', 'you', 'order', 'it', 'It', 'wa', 'amazing', 'While', 'EVERYTHING', 'on', 'the', 'menu', 'look', 'excellent', 'I', 'had', 'the', 'white', 'truffle', 'scrambled', 'egg', 'vegetable', 'skillet', 'and', 'it', 'wa', 'tasty', 'and', 'delicious', 'It', 'came', 'with', '2', 'piece', 'of', 'their', 'griddled', 'bread', 'with', 'wa', 'amazing', 'and', 'it', 'absolutely', 'made', 'the', 'meal', 'complete', 'It', 'wa', 'the', 'best', 'toast', 'I', \"'ve\", 'ever', 'had', 'Anyway', 'I', 'ca', \"n't\", 'wait', 'to', 'go', 'back']\n"
     ]
    }
   ],
   "source": [
    "# assume every word is a noun\n",
    "print([word.lemmatize() for word in review.words])"
   ]
  },
  {
   "cell_type": "code",
   "execution_count": 46,
   "metadata": {},
   "outputs": [
    {
     "name": "stdout",
     "output_type": "stream",
     "text": [
      "['My', 'wife', 'take', 'me', 'here', 'on', 'my', 'birthday', 'for', 'breakfast', 'and', 'it', 'be', 'excellent', 'The', 'weather', 'be', 'perfect', 'which', 'make', 'sit', 'outside', 'overlook', 'their', 'ground', 'an', 'absolute', 'pleasure', 'Our', 'waitress', 'be', 'excellent', 'and', 'our', 'food', 'arrive', 'quickly', 'on', 'the', 'semi-busy', 'Saturday', 'morning', 'It', 'look', 'like', 'the', 'place', 'fill', 'up', 'pretty', 'quickly', 'so', 'the', 'earlier', 'you', 'get', 'here', 'the', 'better', 'Do', 'yourself', 'a', 'favor', 'and', 'get', 'their', 'Bloody', 'Mary', 'It', 'be', 'phenomenal', 'and', 'simply', 'the', 'best', 'I', \"'ve\", 'ever', 'have', 'I', \"'m\", 'pretty', 'sure', 'they', 'only', 'use', 'ingredients', 'from', 'their', 'garden', 'and', 'blend', 'them', 'fresh', 'when', 'you', 'order', 'it', 'It', 'be', 'amaze', 'While', 'EVERYTHING', 'on', 'the', 'menu', 'look', 'excellent', 'I', 'have', 'the', 'white', 'truffle', 'scramble', 'egg', 'vegetable', 'skillet', 'and', 'it', 'be', 'tasty', 'and', 'delicious', 'It', 'come', 'with', '2', 'piece', 'of', 'their', 'griddle', 'bread', 'with', 'be', 'amaze', 'and', 'it', 'absolutely', 'make', 'the', 'meal', 'complete', 'It', 'be', 'the', 'best', 'toast', 'I', \"'ve\", 'ever', 'have', 'Anyway', 'I', 'ca', \"n't\", 'wait', 'to', 'go', 'back']\n"
     ]
    }
   ],
   "source": [
    "# assume every word is a verb\n",
    "print([word.lemmatize(pos='v') for word in review.words])"
   ]
  },
  {
   "cell_type": "code",
   "execution_count": 51,
   "metadata": {},
   "outputs": [],
   "source": [
    "# define a function that accepts text and returns a list of lemmas\n",
    "def split_into_lemmas(text):\n",
    "    #text = str(text, 'utf-8').lower()\n",
    "        words = TextBlob(text).words\n",
    "    return [word.lemmatize() for word in words]"
   ]
  },
  {
   "cell_type": "code",
   "execution_count": 52,
   "metadata": {},
   "outputs": [
    {
     "name": "stdout",
     "output_type": "stream",
     "text": [
      "Features:  1555\n",
      "Accuracy:  0.7692307692307693\n"
     ]
    }
   ],
   "source": [
    "# use split_into_lemmas as the feature extraction function (WARNING: SLOW!)\n",
    "vect = CountVectorizer(analyzer=split_into_lemmas)\n",
    "tokenize_test(vect)"
   ]
  },
  {
   "cell_type": "code",
   "execution_count": 54,
   "metadata": {},
   "outputs": [
    {
     "name": "stdout",
     "output_type": "stream",
     "text": [
      "['white' 'who' 'who-ever' 'whole' 'why' 'wide' 'wife' 'wig' 'will'\n",
      " 'willing' 'wimp' 'win' 'wind' 'wine' 'wing' 'wish' 'with' 'within'\n",
      " 'without' 'wo' 'wobbly' 'wonder' 'wonderful' 'word' 'wordly' 'work'\n",
      " 'work/school' 'working' 'world' 'worst' 'worth' 'would' 'wrap' 'wrapped'\n",
      " 'wrong' 'wrote' 'year' 'yellow' 'yelpers' 'yelping' 'yep' 'yes' 'yet'\n",
      " 'yoga' 'you' 'your' 'yourself' 'youth' 'yuck' 'yummy']\n"
     ]
    }
   ],
   "source": [
    "# last 50 features\n",
    "print(vect.get_feature_names_out()[-50:]) # used to be get_feature_names"
   ]
  },
  {
   "cell_type": "markdown",
   "metadata": {},
   "source": [
    "## Part 7: Term Frequency-Inverse Document Frequency (TF-IDF)"
   ]
  },
  {
   "cell_type": "markdown",
   "metadata": {},
   "source": [
    "- **What:** Computes \"relative frequency\" that a word appears in a document compared to its frequency across all documents\n",
    "- **Why:** More useful than \"term frequency\" for identifying \"important\" words in each document (high frequency in that document, low frequency in other documents)\n",
    "- **Notes:** Used for search engine scoring, text summarization, document clustering"
   ]
  },
  {
   "cell_type": "code",
   "execution_count": 55,
   "metadata": {},
   "outputs": [],
   "source": [
    "# example documents\n",
    "simple_train = ['call you tonight', 'Call me a cab', 'please call me... PLEASE!']"
   ]
  },
  {
   "cell_type": "code",
   "execution_count": 57,
   "metadata": {},
   "outputs": [
    {
     "data": {
      "text/html": [
       "<div>\n",
       "<style scoped>\n",
       "    .dataframe tbody tr th:only-of-type {\n",
       "        vertical-align: middle;\n",
       "    }\n",
       "\n",
       "    .dataframe tbody tr th {\n",
       "        vertical-align: top;\n",
       "    }\n",
       "\n",
       "    .dataframe thead th {\n",
       "        text-align: right;\n",
       "    }\n",
       "</style>\n",
       "<table border=\"1\" class=\"dataframe\">\n",
       "  <thead>\n",
       "    <tr style=\"text-align: right;\">\n",
       "      <th></th>\n",
       "      <th>cab</th>\n",
       "      <th>call</th>\n",
       "      <th>me</th>\n",
       "      <th>please</th>\n",
       "      <th>tonight</th>\n",
       "      <th>you</th>\n",
       "    </tr>\n",
       "  </thead>\n",
       "  <tbody>\n",
       "    <tr>\n",
       "      <th>0</th>\n",
       "      <td>0</td>\n",
       "      <td>1</td>\n",
       "      <td>0</td>\n",
       "      <td>0</td>\n",
       "      <td>1</td>\n",
       "      <td>1</td>\n",
       "    </tr>\n",
       "    <tr>\n",
       "      <th>1</th>\n",
       "      <td>1</td>\n",
       "      <td>1</td>\n",
       "      <td>1</td>\n",
       "      <td>0</td>\n",
       "      <td>0</td>\n",
       "      <td>0</td>\n",
       "    </tr>\n",
       "    <tr>\n",
       "      <th>2</th>\n",
       "      <td>0</td>\n",
       "      <td>1</td>\n",
       "      <td>1</td>\n",
       "      <td>2</td>\n",
       "      <td>0</td>\n",
       "      <td>0</td>\n",
       "    </tr>\n",
       "  </tbody>\n",
       "</table>\n",
       "</div>"
      ],
      "text/plain": [
       "   cab  call  me  please  tonight  you\n",
       "0    0     1   0       0        1    1\n",
       "1    1     1   1       0        0    0\n",
       "2    0     1   1       2        0    0"
      ]
     },
     "execution_count": 57,
     "metadata": {},
     "output_type": "execute_result"
    }
   ],
   "source": [
    "# Term Frequency\n",
    "vect = CountVectorizer()\n",
    "tf = pd.DataFrame(vect.fit_transform(simple_train).toarray(), columns=vect.get_feature_names_out())\n",
    "tf"
   ]
  },
  {
   "cell_type": "code",
   "execution_count": 59,
   "metadata": {},
   "outputs": [
    {
     "data": {
      "text/html": [
       "<div>\n",
       "<style scoped>\n",
       "    .dataframe tbody tr th:only-of-type {\n",
       "        vertical-align: middle;\n",
       "    }\n",
       "\n",
       "    .dataframe tbody tr th {\n",
       "        vertical-align: top;\n",
       "    }\n",
       "\n",
       "    .dataframe thead th {\n",
       "        text-align: right;\n",
       "    }\n",
       "</style>\n",
       "<table border=\"1\" class=\"dataframe\">\n",
       "  <thead>\n",
       "    <tr style=\"text-align: right;\">\n",
       "      <th></th>\n",
       "      <th>cab</th>\n",
       "      <th>call</th>\n",
       "      <th>me</th>\n",
       "      <th>please</th>\n",
       "      <th>tonight</th>\n",
       "      <th>you</th>\n",
       "    </tr>\n",
       "  </thead>\n",
       "  <tbody>\n",
       "    <tr>\n",
       "      <th>0</th>\n",
       "      <td>1</td>\n",
       "      <td>3</td>\n",
       "      <td>2</td>\n",
       "      <td>1</td>\n",
       "      <td>1</td>\n",
       "      <td>1</td>\n",
       "    </tr>\n",
       "  </tbody>\n",
       "</table>\n",
       "</div>"
      ],
      "text/plain": [
       "   cab  call  me  please  tonight  you\n",
       "0    1     3   2       1        1    1"
      ]
     },
     "execution_count": 59,
     "metadata": {},
     "output_type": "execute_result"
    }
   ],
   "source": [
    "# Document Frequency\n",
    "vect = CountVectorizer(binary=True)\n",
    "df = vect.fit_transform(simple_train).toarray().sum(axis=0)\n",
    "pd.DataFrame(df.reshape(1, 6), columns=vect.get_feature_names_out())"
   ]
  },
  {
   "cell_type": "code",
   "execution_count": 60,
   "metadata": {},
   "outputs": [
    {
     "data": {
      "text/html": [
       "<div>\n",
       "<style scoped>\n",
       "    .dataframe tbody tr th:only-of-type {\n",
       "        vertical-align: middle;\n",
       "    }\n",
       "\n",
       "    .dataframe tbody tr th {\n",
       "        vertical-align: top;\n",
       "    }\n",
       "\n",
       "    .dataframe thead th {\n",
       "        text-align: right;\n",
       "    }\n",
       "</style>\n",
       "<table border=\"1\" class=\"dataframe\">\n",
       "  <thead>\n",
       "    <tr style=\"text-align: right;\">\n",
       "      <th></th>\n",
       "      <th>cab</th>\n",
       "      <th>call</th>\n",
       "      <th>me</th>\n",
       "      <th>please</th>\n",
       "      <th>tonight</th>\n",
       "      <th>you</th>\n",
       "    </tr>\n",
       "  </thead>\n",
       "  <tbody>\n",
       "    <tr>\n",
       "      <th>0</th>\n",
       "      <td>0.0</td>\n",
       "      <td>0.333333</td>\n",
       "      <td>0.0</td>\n",
       "      <td>0.0</td>\n",
       "      <td>1.0</td>\n",
       "      <td>1.0</td>\n",
       "    </tr>\n",
       "    <tr>\n",
       "      <th>1</th>\n",
       "      <td>1.0</td>\n",
       "      <td>0.333333</td>\n",
       "      <td>0.5</td>\n",
       "      <td>0.0</td>\n",
       "      <td>0.0</td>\n",
       "      <td>0.0</td>\n",
       "    </tr>\n",
       "    <tr>\n",
       "      <th>2</th>\n",
       "      <td>0.0</td>\n",
       "      <td>0.333333</td>\n",
       "      <td>0.5</td>\n",
       "      <td>2.0</td>\n",
       "      <td>0.0</td>\n",
       "      <td>0.0</td>\n",
       "    </tr>\n",
       "  </tbody>\n",
       "</table>\n",
       "</div>"
      ],
      "text/plain": [
       "   cab      call   me  please  tonight  you\n",
       "0  0.0  0.333333  0.0     0.0      1.0  1.0\n",
       "1  1.0  0.333333  0.5     0.0      0.0  0.0\n",
       "2  0.0  0.333333  0.5     2.0      0.0  0.0"
      ]
     },
     "execution_count": 60,
     "metadata": {},
     "output_type": "execute_result"
    }
   ],
   "source": [
    "# Calculate a simple form of Term Frequency-Inverse Document Frequency (simple version)\n",
    "tf/df"
   ]
  },
  {
   "cell_type": "code",
   "execution_count": 62,
   "metadata": {},
   "outputs": [
    {
     "data": {
      "text/html": [
       "<div>\n",
       "<style scoped>\n",
       "    .dataframe tbody tr th:only-of-type {\n",
       "        vertical-align: middle;\n",
       "    }\n",
       "\n",
       "    .dataframe tbody tr th {\n",
       "        vertical-align: top;\n",
       "    }\n",
       "\n",
       "    .dataframe thead th {\n",
       "        text-align: right;\n",
       "    }\n",
       "</style>\n",
       "<table border=\"1\" class=\"dataframe\">\n",
       "  <thead>\n",
       "    <tr style=\"text-align: right;\">\n",
       "      <th></th>\n",
       "      <th>cab</th>\n",
       "      <th>call</th>\n",
       "      <th>me</th>\n",
       "      <th>please</th>\n",
       "      <th>tonight</th>\n",
       "      <th>you</th>\n",
       "    </tr>\n",
       "  </thead>\n",
       "  <tbody>\n",
       "    <tr>\n",
       "      <th>0</th>\n",
       "      <td>0.000000</td>\n",
       "      <td>0.385372</td>\n",
       "      <td>0.000000</td>\n",
       "      <td>0.000000</td>\n",
       "      <td>0.652491</td>\n",
       "      <td>0.652491</td>\n",
       "    </tr>\n",
       "    <tr>\n",
       "      <th>1</th>\n",
       "      <td>0.720333</td>\n",
       "      <td>0.425441</td>\n",
       "      <td>0.547832</td>\n",
       "      <td>0.000000</td>\n",
       "      <td>0.000000</td>\n",
       "      <td>0.000000</td>\n",
       "    </tr>\n",
       "    <tr>\n",
       "      <th>2</th>\n",
       "      <td>0.000000</td>\n",
       "      <td>0.266075</td>\n",
       "      <td>0.342620</td>\n",
       "      <td>0.901008</td>\n",
       "      <td>0.000000</td>\n",
       "      <td>0.000000</td>\n",
       "    </tr>\n",
       "  </tbody>\n",
       "</table>\n",
       "</div>"
      ],
      "text/plain": [
       "        cab      call        me    please   tonight       you\n",
       "0  0.000000  0.385372  0.000000  0.000000  0.652491  0.652491\n",
       "1  0.720333  0.425441  0.547832  0.000000  0.000000  0.000000\n",
       "2  0.000000  0.266075  0.342620  0.901008  0.000000  0.000000"
      ]
     },
     "execution_count": 62,
     "metadata": {},
     "output_type": "execute_result"
    }
   ],
   "source": [
    "# TfidfVectorizer\n",
    "vect = TfidfVectorizer()\n",
    "pd.DataFrame(vect.fit_transform(simple_train).toarray(), columns=vect.get_feature_names_out())"
   ]
  },
  {
   "cell_type": "markdown",
   "metadata": {},
   "source": [
    "**More details:** [TF-IDF is about what matters](http://planspace.org/20150524-tfidf_is_about_what_matters/)"
   ]
  },
  {
   "cell_type": "markdown",
   "metadata": {},
   "source": [
    "## Part 8: Using TF-IDF to Summarize a Yelp Review\n",
    "\n",
    "Reddit's autotldr uses the [SMMRY](http://smmry.com/about) algorithm, which is based on TF-IDF!"
   ]
  },
  {
   "cell_type": "code",
   "execution_count": 65,
   "metadata": {},
   "outputs": [
    {
     "data": {
      "text/plain": [
       "(10000, 28880)"
      ]
     },
     "execution_count": 65,
     "metadata": {},
     "output_type": "execute_result"
    }
   ],
   "source": [
    "# create a document-term matrix using TF-IDF\n",
    "vect = TfidfVectorizer(stop_words='english')\n",
    "dtm = vect.fit_transform(yelp.text)\n",
    "features = vect.get_feature_names_out()\n",
    "dtm.shape"
   ]
  },
  {
   "cell_type": "code",
   "execution_count": 66,
   "metadata": {},
   "outputs": [
    {
     "data": {
      "text/plain": [
       "scipy.sparse._csr.csr_matrix"
      ]
     },
     "execution_count": 66,
     "metadata": {},
     "output_type": "execute_result"
    }
   ],
   "source": [
    "type(dtm)"
   ]
  },
  {
   "cell_type": "code",
   "execution_count": 82,
   "metadata": {},
   "outputs": [],
   "source": [
    "def summarize():\n",
    "    \n",
    "    # choose a random review that is at least 300 characters\n",
    "    review_length = 0\n",
    "    while review_length < 300:\n",
    "        review_id = np.random.randint(0, len(yelp))\n",
    "        review_text = str(yelp.text[review_id])\n",
    "        review_length = len(review_text)\n",
    "    \n",
    "    # create a dictionary of words and their TF-IDF scores\n",
    "    word_scores = {}\n",
    "    for word in TextBlob(review_text).words:\n",
    "        word = word.lower()\n",
    "        if word in features:\n",
    "            word_scores[word] = dtm[review_id, features.index(word)]\n",
    "    \n",
    "    # print words with the top 5 TF-IDF scores\n",
    "    print('TOP SCORING WORDS:')\n",
    "    top_scores = sorted(word_scores.items(), key=lambda x: x[1], reverse=True)[:5]\n",
    "    for word, score in top_scores:\n",
    "        print(word)\n",
    "    \n",
    "    # print 5 random words\n",
    "    print('\\n' + 'RANDOM WORDS:')\n",
    "    random_words = np.random.choice(word_scores.keys(), size=5, replace=False)\n",
    "    for word in random_words:\n",
    "        print(word)\n",
    "    \n",
    "    # print the review\n",
    "    print('\\n' + review_text)"
   ]
  },
  {
   "cell_type": "raw",
   "metadata": {},
   "source": [
    "summarize()"
   ]
  },
  {
   "cell_type": "code",
   "execution_count": 83,
   "metadata": {},
   "outputs": [
    {
     "name": "stdout",
     "output_type": "stream",
     "text": [
      "Features:  1285\n",
      "Accuracy:  0.7692307692307693\n"
     ]
    }
   ],
   "source": [
    "tokenize_test(vect)"
   ]
  },
  {
   "cell_type": "code",
   "execution_count": 84,
   "metadata": {},
   "outputs": [
    {
     "name": "stdout",
     "output_type": "stream",
     "text": [
      "Features:  1285\n",
      "Accuracy:  0.7692307692307693\n"
     ]
    }
   ],
   "source": [
    "# create a document-term matrix using TF-IDF\n",
    "vect = TfidfVectorizer(stop_words='english',max_features=10000)\n",
    "dtm = vect.fit_transform(yelp.text)\n",
    "tokenize_test(vect)"
   ]
  },
  {
   "cell_type": "markdown",
   "metadata": {},
   "source": [
    "## Part 9: Sentiment Analysis"
   ]
  },
  {
   "cell_type": "code",
   "execution_count": 85,
   "metadata": {
    "scrolled": true
   },
   "outputs": [
    {
     "name": "stdout",
     "output_type": "stream",
     "text": [
      "My wife took me here on my birthday for breakfast and it was excellent.  The weather was perfect which made sitting outside overlooking their grounds an absolute pleasure.  Our waitress was excellent and our food arrived quickly on the semi-busy Saturday morning.  It looked like the place fills up pretty quickly so the earlier you get here the better.\n",
      "\n",
      "Do yourself a favor and get their Bloody Mary.  It was phenomenal and simply the best I've ever had.  I'm pretty sure they only use ingredients from their garden and blend them fresh when you order it.  It was amazing.\n",
      "\n",
      "While EVERYTHING on the menu looks excellent, I had the white truffle scrambled eggs vegetable skillet and it was tasty and delicious.  It came with 2 pieces of their griddled bread with was amazing and it absolutely made the meal complete.  It was the best \"toast\" I've ever had.\n",
      "\n",
      "Anyway, I can't wait to go back!\n"
     ]
    }
   ],
   "source": [
    "print(review)"
   ]
  },
  {
   "cell_type": "code",
   "execution_count": 86,
   "metadata": {},
   "outputs": [
    {
     "data": {
      "text/plain": [
       "0.40246913580246907"
      ]
     },
     "execution_count": 86,
     "metadata": {},
     "output_type": "execute_result"
    }
   ],
   "source": [
    "# polarity ranges from -1 (most negative) to 1 (most positive)\n",
    "review.sentiment.polarity"
   ]
  },
  {
   "cell_type": "code",
   "execution_count": 87,
   "metadata": {},
   "outputs": [
    {
     "data": {
      "text/html": [
       "<div>\n",
       "<style scoped>\n",
       "    .dataframe tbody tr th:only-of-type {\n",
       "        vertical-align: middle;\n",
       "    }\n",
       "\n",
       "    .dataframe tbody tr th {\n",
       "        vertical-align: top;\n",
       "    }\n",
       "\n",
       "    .dataframe thead th {\n",
       "        text-align: right;\n",
       "    }\n",
       "</style>\n",
       "<table border=\"1\" class=\"dataframe\">\n",
       "  <thead>\n",
       "    <tr style=\"text-align: right;\">\n",
       "      <th></th>\n",
       "      <th>business_id</th>\n",
       "      <th>date</th>\n",
       "      <th>review_id</th>\n",
       "      <th>stars</th>\n",
       "      <th>text</th>\n",
       "      <th>type</th>\n",
       "      <th>user_id</th>\n",
       "      <th>cool</th>\n",
       "      <th>useful</th>\n",
       "      <th>funny</th>\n",
       "      <th>length</th>\n",
       "    </tr>\n",
       "  </thead>\n",
       "  <tbody>\n",
       "    <tr>\n",
       "      <th>0</th>\n",
       "      <td>9yKzy9PApeiPPOUJEtnvkg</td>\n",
       "      <td>2011-01-26</td>\n",
       "      <td>fWKvX83p0-ka4JS3dc6E5A</td>\n",
       "      <td>5</td>\n",
       "      <td>My wife took me here on my birthday for breakf...</td>\n",
       "      <td>review</td>\n",
       "      <td>rLtl8ZkDX5vH5nAx9C3q5Q</td>\n",
       "      <td>2</td>\n",
       "      <td>5</td>\n",
       "      <td>0</td>\n",
       "      <td>889</td>\n",
       "    </tr>\n",
       "  </tbody>\n",
       "</table>\n",
       "</div>"
      ],
      "text/plain": [
       "              business_id        date               review_id  stars  \\\n",
       "0  9yKzy9PApeiPPOUJEtnvkg  2011-01-26  fWKvX83p0-ka4JS3dc6E5A      5   \n",
       "\n",
       "                                                text    type  \\\n",
       "0  My wife took me here on my birthday for breakf...  review   \n",
       "\n",
       "                  user_id  cool  useful  funny  length  \n",
       "0  rLtl8ZkDX5vH5nAx9C3q5Q     2       5      0     889  "
      ]
     },
     "execution_count": 87,
     "metadata": {},
     "output_type": "execute_result"
    }
   ],
   "source": [
    "# understanding the apply method\n",
    "yelp['length'] = yelp.text.apply(len)\n",
    "yelp.head(1)"
   ]
  },
  {
   "cell_type": "code",
   "execution_count": 92,
   "metadata": {},
   "outputs": [],
   "source": [
    "# define a function that accepts text and returns the polarity\n",
    "def detect_sentiment(text):\n",
    "    #return TextBlob(text.decode('utf-8')).sentiment.polarity\n",
    "    return TextBlob(text).sentiment.polarity"
   ]
  },
  {
   "cell_type": "code",
   "execution_count": 93,
   "metadata": {},
   "outputs": [],
   "source": [
    "# create a new DataFrame column for sentiment (WARNING: SLOW!)\n",
    "yelp['sentiment'] = yelp.text.apply(detect_sentiment)"
   ]
  },
  {
   "cell_type": "code",
   "execution_count": 94,
   "metadata": {},
   "outputs": [
    {
     "data": {
      "text/html": [
       "<div>\n",
       "<style scoped>\n",
       "    .dataframe tbody tr th:only-of-type {\n",
       "        vertical-align: middle;\n",
       "    }\n",
       "\n",
       "    .dataframe tbody tr th {\n",
       "        vertical-align: top;\n",
       "    }\n",
       "\n",
       "    .dataframe thead th {\n",
       "        text-align: right;\n",
       "    }\n",
       "</style>\n",
       "<table border=\"1\" class=\"dataframe\">\n",
       "  <thead>\n",
       "    <tr style=\"text-align: right;\">\n",
       "      <th></th>\n",
       "      <th>business_id</th>\n",
       "      <th>date</th>\n",
       "      <th>review_id</th>\n",
       "      <th>stars</th>\n",
       "      <th>text</th>\n",
       "      <th>type</th>\n",
       "      <th>user_id</th>\n",
       "      <th>cool</th>\n",
       "      <th>useful</th>\n",
       "      <th>funny</th>\n",
       "      <th>length</th>\n",
       "      <th>sentiment</th>\n",
       "    </tr>\n",
       "  </thead>\n",
       "  <tbody>\n",
       "    <tr>\n",
       "      <th>0</th>\n",
       "      <td>9yKzy9PApeiPPOUJEtnvkg</td>\n",
       "      <td>2011-01-26</td>\n",
       "      <td>fWKvX83p0-ka4JS3dc6E5A</td>\n",
       "      <td>5</td>\n",
       "      <td>My wife took me here on my birthday for breakf...</td>\n",
       "      <td>review</td>\n",
       "      <td>rLtl8ZkDX5vH5nAx9C3q5Q</td>\n",
       "      <td>2</td>\n",
       "      <td>5</td>\n",
       "      <td>0</td>\n",
       "      <td>889</td>\n",
       "      <td>0.402469</td>\n",
       "    </tr>\n",
       "    <tr>\n",
       "      <th>1</th>\n",
       "      <td>ZRJwVLyzEJq1VAihDhYiow</td>\n",
       "      <td>2011-07-27</td>\n",
       "      <td>IjZ33sJrzXqU-0X6U8NwyA</td>\n",
       "      <td>5</td>\n",
       "      <td>I have no idea why some people give bad review...</td>\n",
       "      <td>review</td>\n",
       "      <td>0a2KyEL0d3Yb1V6aivbIuQ</td>\n",
       "      <td>0</td>\n",
       "      <td>0</td>\n",
       "      <td>0</td>\n",
       "      <td>1345</td>\n",
       "      <td>0.229773</td>\n",
       "    </tr>\n",
       "    <tr>\n",
       "      <th>2</th>\n",
       "      <td>6oRAC4uyJCsJl1X0WZpVSA</td>\n",
       "      <td>2012-06-14</td>\n",
       "      <td>IESLBzqUCLdSzSqm0eCSxQ</td>\n",
       "      <td>4</td>\n",
       "      <td>love the gyro plate. Rice is so good and I als...</td>\n",
       "      <td>review</td>\n",
       "      <td>0hT2KtfLiobPvh6cDC8JQg</td>\n",
       "      <td>0</td>\n",
       "      <td>1</td>\n",
       "      <td>0</td>\n",
       "      <td>76</td>\n",
       "      <td>0.566667</td>\n",
       "    </tr>\n",
       "    <tr>\n",
       "      <th>3</th>\n",
       "      <td>_1QQZuf4zZOyFCvXc0o6Vg</td>\n",
       "      <td>2010-05-27</td>\n",
       "      <td>G-WvGaISbqqaMHlNnByodA</td>\n",
       "      <td>5</td>\n",
       "      <td>Rosie, Dakota, and I LOVE Chaparral Dog Park!!...</td>\n",
       "      <td>review</td>\n",
       "      <td>uZetl9T0NcROGOyFfughhg</td>\n",
       "      <td>1</td>\n",
       "      <td>2</td>\n",
       "      <td>0</td>\n",
       "      <td>419</td>\n",
       "      <td>0.608646</td>\n",
       "    </tr>\n",
       "    <tr>\n",
       "      <th>4</th>\n",
       "      <td>6ozycU1RpktNG2-1BroVtw</td>\n",
       "      <td>2012-01-05</td>\n",
       "      <td>1uJFq2r5QfJG_6ExMRCaGw</td>\n",
       "      <td>5</td>\n",
       "      <td>General Manager Scott Petello is a good egg!!!...</td>\n",
       "      <td>review</td>\n",
       "      <td>vYmM4KTsC8ZfQBg-j5MWkw</td>\n",
       "      <td>0</td>\n",
       "      <td>0</td>\n",
       "      <td>0</td>\n",
       "      <td>469</td>\n",
       "      <td>0.468125</td>\n",
       "    </tr>\n",
       "  </tbody>\n",
       "</table>\n",
       "</div>"
      ],
      "text/plain": [
       "              business_id        date               review_id  stars  \\\n",
       "0  9yKzy9PApeiPPOUJEtnvkg  2011-01-26  fWKvX83p0-ka4JS3dc6E5A      5   \n",
       "1  ZRJwVLyzEJq1VAihDhYiow  2011-07-27  IjZ33sJrzXqU-0X6U8NwyA      5   \n",
       "2  6oRAC4uyJCsJl1X0WZpVSA  2012-06-14  IESLBzqUCLdSzSqm0eCSxQ      4   \n",
       "3  _1QQZuf4zZOyFCvXc0o6Vg  2010-05-27  G-WvGaISbqqaMHlNnByodA      5   \n",
       "4  6ozycU1RpktNG2-1BroVtw  2012-01-05  1uJFq2r5QfJG_6ExMRCaGw      5   \n",
       "\n",
       "                                                text    type  \\\n",
       "0  My wife took me here on my birthday for breakf...  review   \n",
       "1  I have no idea why some people give bad review...  review   \n",
       "2  love the gyro plate. Rice is so good and I als...  review   \n",
       "3  Rosie, Dakota, and I LOVE Chaparral Dog Park!!...  review   \n",
       "4  General Manager Scott Petello is a good egg!!!...  review   \n",
       "\n",
       "                  user_id  cool  useful  funny  length  sentiment  \n",
       "0  rLtl8ZkDX5vH5nAx9C3q5Q     2       5      0     889   0.402469  \n",
       "1  0a2KyEL0d3Yb1V6aivbIuQ     0       0      0    1345   0.229773  \n",
       "2  0hT2KtfLiobPvh6cDC8JQg     0       1      0      76   0.566667  \n",
       "3  uZetl9T0NcROGOyFfughhg     1       2      0     419   0.608646  \n",
       "4  vYmM4KTsC8ZfQBg-j5MWkw     0       0      0     469   0.468125  "
      ]
     },
     "execution_count": 94,
     "metadata": {},
     "output_type": "execute_result"
    }
   ],
   "source": [
    "yelp.head()"
   ]
  },
  {
   "cell_type": "code",
   "execution_count": 95,
   "metadata": {},
   "outputs": [
    {
     "data": {
      "text/plain": [
       "<Axes: title={'center': 'sentiment'}, xlabel='stars'>"
      ]
     },
     "execution_count": 95,
     "metadata": {},
     "output_type": "execute_result"
    },
    {
     "data": {
      "image/png": "[encoded data removed]",
      "text/plain": [
       "<Figure size 640x480 with 1 Axes>"
      ]
     },
     "metadata": {},
     "output_type": "display_data"
    }
   ],
   "source": [
    "# box plot of sentiment grouped by stars\n",
    "yelp.boxplot(column='sentiment', by='stars')"
   ]
  },
  {
   "cell_type": "code",
   "execution_count": 96,
   "metadata": {},
   "outputs": [
    {
     "data": {
      "text/plain": [
       "254    Our server Gary was awesome. Food was amazing....\n",
       "347    3 syllables for this place. \\nA-MAZ-ING!\\n\\nTh...\n",
       "420                                    LOVE the food!!!!\n",
       "459    Love it!!! Wish we still lived in Arizona as C...\n",
       "679                                     Excellent burger\n",
       "Name: text, dtype: object"
      ]
     },
     "execution_count": 96,
     "metadata": {},
     "output_type": "execute_result"
    }
   ],
   "source": [
    "# reviews with most positive sentiment\n",
    "yelp[yelp.sentiment == 1].text.head()"
   ]
  },
  {
   "cell_type": "code",
   "execution_count": 97,
   "metadata": {},
   "outputs": [
    {
     "data": {
      "text/plain": [
       "773     This was absolutely horrible. I got the suprem...\n",
       "1517                  Nasty workers and over priced trash\n",
       "3266    Absolutely awful... these guys have NO idea wh...\n",
       "4766                                       Very bad food!\n",
       "5812        I wouldn't send my worst enemy to this place.\n",
       "Name: text, dtype: object"
      ]
     },
     "execution_count": 97,
     "metadata": {},
     "output_type": "execute_result"
    }
   ],
   "source": [
    "# reviews with most negative sentiment\n",
    "yelp[yelp.sentiment == -1].text.head()"
   ]
  },
  {
   "cell_type": "code",
   "execution_count": 98,
   "metadata": {},
   "outputs": [],
   "source": [
    "# widen the column display\n",
    "pd.set_option('max_colwidth', 500)"
   ]
  },
  {
   "cell_type": "code",
   "execution_count": 99,
   "metadata": {},
   "outputs": [
    {
     "data": {
      "text/html": [
       "<div>\n",
       "<style scoped>\n",
       "    .dataframe tbody tr th:only-of-type {\n",
       "        vertical-align: middle;\n",
       "    }\n",
       "\n",
       "    .dataframe tbody tr th {\n",
       "        vertical-align: top;\n",
       "    }\n",
       "\n",
       "    .dataframe thead th {\n",
       "        text-align: right;\n",
       "    }\n",
       "</style>\n",
       "<table border=\"1\" class=\"dataframe\">\n",
       "  <thead>\n",
       "    <tr style=\"text-align: right;\">\n",
       "      <th></th>\n",
       "      <th>business_id</th>\n",
       "      <th>date</th>\n",
       "      <th>review_id</th>\n",
       "      <th>stars</th>\n",
       "      <th>text</th>\n",
       "      <th>type</th>\n",
       "      <th>user_id</th>\n",
       "      <th>cool</th>\n",
       "      <th>useful</th>\n",
       "      <th>funny</th>\n",
       "      <th>length</th>\n",
       "      <th>sentiment</th>\n",
       "    </tr>\n",
       "  </thead>\n",
       "  <tbody>\n",
       "    <tr>\n",
       "      <th>390</th>\n",
       "      <td>106JT5p8e8Chtd0CZpcARw</td>\n",
       "      <td>2009-08-06</td>\n",
       "      <td>KowGVoP_gygzdSu6Mt3zKQ</td>\n",
       "      <td>5</td>\n",
       "      <td>RIP AZ Coffee Connection.  :(  I stopped by two days ago unaware that they had closed.  I am severely bummed.  This place is irreplaceable!  Damn you, Starbucks and McDonalds!</td>\n",
       "      <td>review</td>\n",
       "      <td>jKeaOrPyJ-dI9SNeVqrbww</td>\n",
       "      <td>1</td>\n",
       "      <td>0</td>\n",
       "      <td>0</td>\n",
       "      <td>175</td>\n",
       "      <td>-0.302083</td>\n",
       "    </tr>\n",
       "  </tbody>\n",
       "</table>\n",
       "</div>"
      ],
      "text/plain": [
       "                business_id        date               review_id  stars  \\\n",
       "390  106JT5p8e8Chtd0CZpcARw  2009-08-06  KowGVoP_gygzdSu6Mt3zKQ      5   \n",
       "\n",
       "                                                                                                                                                                                text  \\\n",
       "390  RIP AZ Coffee Connection.  :(  I stopped by two days ago unaware that they had closed.  I am severely bummed.  This place is irreplaceable!  Damn you, Starbucks and McDonalds!   \n",
       "\n",
       "       type                 user_id  cool  useful  funny  length  sentiment  \n",
       "390  review  jKeaOrPyJ-dI9SNeVqrbww     1       0      0     175  -0.302083  "
      ]
     },
     "execution_count": 99,
     "metadata": {},
     "output_type": "execute_result"
    }
   ],
   "source": [
    "# negative sentiment in a 5-star review\n",
    "yelp[(yelp.stars == 5) & (yelp.sentiment < -0.3)].head(1)"
   ]
  },
  {
   "cell_type": "code",
   "execution_count": 100,
   "metadata": {},
   "outputs": [
    {
     "data": {
      "text/html": [
       "<div>\n",
       "<style scoped>\n",
       "    .dataframe tbody tr th:only-of-type {\n",
       "        vertical-align: middle;\n",
       "    }\n",
       "\n",
       "    .dataframe tbody tr th {\n",
       "        vertical-align: top;\n",
       "    }\n",
       "\n",
       "    .dataframe thead th {\n",
       "        text-align: right;\n",
       "    }\n",
       "</style>\n",
       "<table border=\"1\" class=\"dataframe\">\n",
       "  <thead>\n",
       "    <tr style=\"text-align: right;\">\n",
       "      <th></th>\n",
       "      <th>business_id</th>\n",
       "      <th>date</th>\n",
       "      <th>review_id</th>\n",
       "      <th>stars</th>\n",
       "      <th>text</th>\n",
       "      <th>type</th>\n",
       "      <th>user_id</th>\n",
       "      <th>cool</th>\n",
       "      <th>useful</th>\n",
       "      <th>funny</th>\n",
       "      <th>length</th>\n",
       "      <th>sentiment</th>\n",
       "    </tr>\n",
       "  </thead>\n",
       "  <tbody>\n",
       "    <tr>\n",
       "      <th>1781</th>\n",
       "      <td>53YGfwmbW73JhFiemNeyzQ</td>\n",
       "      <td>2012-06-22</td>\n",
       "      <td>Gi-4O3EhE175vujbFGDIew</td>\n",
       "      <td>1</td>\n",
       "      <td>If you like the stuck up Scottsdale vibe this is a good place for you. The food isn't impressive. Nice outdoor seating.</td>\n",
       "      <td>review</td>\n",
       "      <td>Hqgx3IdJAAaoQjvrUnbNvw</td>\n",
       "      <td>0</td>\n",
       "      <td>1</td>\n",
       "      <td>2</td>\n",
       "      <td>119</td>\n",
       "      <td>0.766667</td>\n",
       "    </tr>\n",
       "  </tbody>\n",
       "</table>\n",
       "</div>"
      ],
      "text/plain": [
       "                 business_id        date               review_id  stars  \\\n",
       "1781  53YGfwmbW73JhFiemNeyzQ  2012-06-22  Gi-4O3EhE175vujbFGDIew      1   \n",
       "\n",
       "                                                                                                                         text  \\\n",
       "1781  If you like the stuck up Scottsdale vibe this is a good place for you. The food isn't impressive. Nice outdoor seating.   \n",
       "\n",
       "        type                 user_id  cool  useful  funny  length  sentiment  \n",
       "1781  review  Hqgx3IdJAAaoQjvrUnbNvw     0       1      2     119   0.766667  "
      ]
     },
     "execution_count": 100,
     "metadata": {},
     "output_type": "execute_result"
    }
   ],
   "source": [
    "# positive sentiment in a 1-star review\n",
    "yelp[(yelp.stars == 1) & (yelp.sentiment > 0.5)].head(1)"
   ]
  },
  {
   "cell_type": "code",
   "execution_count": 101,
   "metadata": {},
   "outputs": [],
   "source": [
    "# reset the column display width\n",
    "pd.reset_option('max_colwidth')"
   ]
  },
  {
   "cell_type": "markdown",
   "metadata": {},
   "source": [
    "## Bonus: Adding Features to a Document-Term Matrix"
   ]
  },
  {
   "cell_type": "code",
   "execution_count": 102,
   "metadata": {},
   "outputs": [],
   "source": [
    "# create a DataFrame that only contains the 5-star and 1-star reviews\n",
    "yelp_best_worst = yelp[(yelp.stars==5) | (yelp.stars==1)]\n",
    "\n",
    "# define X and y\n",
    "feature_cols = ['text', 'sentiment', 'cool', 'useful', 'funny']\n",
    "X = yelp_best_worst[feature_cols]\n",
    "y = yelp_best_worst.stars\n",
    "\n",
    "# split into training and testing sets\n",
    "X_train, X_test, y_train, y_test = train_test_split(X, y, random_state=1)"
   ]
  },
  {
   "cell_type": "code",
   "execution_count": 104,
   "metadata": {},
   "outputs": [
    {
     "name": "stdout",
     "output_type": "stream",
     "text": [
      "(3064, 16825)\n",
      "(1022, 16825)\n"
     ]
    }
   ],
   "source": [
    "# use CountVectorizer with text column only\n",
    "vect = CountVectorizer()\n",
    "X_train_dtm = vect.fit_transform(X_train.text)\n",
    "X_test_dtm = vect.transform(X_test.text)\n",
    "print(X_train_dtm.shape)\n",
    "print(X_test_dtm.shape)"
   ]
  },
  {
   "cell_type": "code",
   "execution_count": 105,
   "metadata": {},
   "outputs": [
    {
     "data": {
      "text/plain": [
       "(3064, 4)"
      ]
     },
     "execution_count": 105,
     "metadata": {},
     "output_type": "execute_result"
    }
   ],
   "source": [
    "# shape of other four feature columns\n",
    "X_train.drop('text', axis=1).shape"
   ]
  },
  {
   "cell_type": "code",
   "execution_count": 106,
   "metadata": {},
   "outputs": [
    {
     "data": {
      "text/plain": [
       "(3064, 4)"
      ]
     },
     "execution_count": 106,
     "metadata": {},
     "output_type": "execute_result"
    }
   ],
   "source": [
    "# cast other feature columns to float and convert to a sparse matrix\n",
    "extra = sp.sparse.csr_matrix(X_train.drop('text', axis=1).astype(float))\n",
    "extra.shape"
   ]
  },
  {
   "cell_type": "code",
   "execution_count": 107,
   "metadata": {},
   "outputs": [
    {
     "data": {
      "text/plain": [
       "(3064, 16829)"
      ]
     },
     "execution_count": 107,
     "metadata": {},
     "output_type": "execute_result"
    }
   ],
   "source": [
    "# combine sparse matrices\n",
    "X_train_dtm_extra = sp.sparse.hstack((X_train_dtm, extra))\n",
    "X_train_dtm_extra.shape"
   ]
  },
  {
   "cell_type": "code",
   "execution_count": 108,
   "metadata": {},
   "outputs": [
    {
     "data": {
      "text/plain": [
       "(1022, 16829)"
      ]
     },
     "execution_count": 108,
     "metadata": {},
     "output_type": "execute_result"
    }
   ],
   "source": [
    "# repeat for testing set\n",
    "extra = sp.sparse.csr_matrix(X_test.drop('text', axis=1).astype(float))\n",
    "X_test_dtm_extra = sp.sparse.hstack((X_test_dtm, extra))\n",
    "X_test_dtm_extra.shape"
   ]
  },
  {
   "cell_type": "code",
   "execution_count": 109,
   "metadata": {},
   "outputs": [
    {
     "name": "stdout",
     "output_type": "stream",
     "text": [
      "0.9246575342465754\n"
     ]
    }
   ],
   "source": [
    "# use logistic regression with text column only\n",
    "logreg = LogisticRegression(C=1e9)\n",
    "logreg.fit(X_train_dtm, y_train)\n",
    "y_pred_class = logreg.predict(X_test_dtm)\n",
    "print(metrics.accuracy_score(y_test, y_pred_class))"
   ]
  },
  {
   "cell_type": "code",
   "execution_count": 110,
   "metadata": {},
   "outputs": [
    {
     "name": "stdout",
     "output_type": "stream",
     "text": [
      "0.9207436399217221\n"
     ]
    }
   ],
   "source": [
    "# use logistic regression with all features\n",
    "logreg = LogisticRegression(C=1e9)\n",
    "logreg.fit(X_train_dtm_extra, y_train)\n",
    "y_pred_class = logreg.predict(X_test_dtm_extra)\n",
    "print(metrics.accuracy_score(y_test, y_pred_class))"
   ]
  },
  {
   "cell_type": "markdown",
   "metadata": {},
   "source": [
    "## Bonus: Fun TextBlob Features"
   ]
  },
  {
   "cell_type": "code",
   "execution_count": 111,
   "metadata": {},
   "outputs": [
    {
     "data": {
      "text/plain": [
       "TextBlob(\"15 minutes late\")"
      ]
     },
     "execution_count": 111,
     "metadata": {},
     "output_type": "execute_result"
    }
   ],
   "source": [
    "# spelling correction\n",
    "TextBlob('15 minuets late').correct()"
   ]
  },
  {
   "cell_type": "code",
   "execution_count": 112,
   "metadata": {},
   "outputs": [
    {
     "data": {
      "text/plain": [
       "[('part', 0.9929478138222849), ('parrot', 0.007052186177715092)]"
      ]
     },
     "execution_count": 112,
     "metadata": {},
     "output_type": "execute_result"
    }
   ],
   "source": [
    "# spellcheck\n",
    "Word('parot').spellcheck()"
   ]
  },
  {
   "cell_type": "code",
   "execution_count": 113,
   "metadata": {},
   "outputs": [
    {
     "data": {
      "text/plain": [
       "['tip laterally',\n",
       " 'enclose with a bank',\n",
       " 'do business with a bank or keep an account at a bank',\n",
       " 'act as the banker in a game or in gambling',\n",
       " 'be in the banking business',\n",
       " 'put into a bank account',\n",
       " 'cover with ashes so to control the rate of burning',\n",
       " 'have confidence or faith in']"
      ]
     },
     "execution_count": 113,
     "metadata": {},
     "output_type": "execute_result"
    }
   ],
   "source": [
    "# definitions\n",
    "Word('bank').define('v')"
   ]
  },
  {
   "cell_type": "code",
   "execution_count": 116,
   "metadata": {},
   "outputs": [
    {
     "ename": "HTTPError",
     "evalue": "HTTP Error 400: Bad Request",
     "output_type": "error",
     "traceback": [
      "\u001b[1;31m---------------------------------------------------------------------------\u001b[0m",
      "\u001b[1;31mHTTPError\u001b[0m                                 Traceback (most recent call last)",
      "Cell \u001b[1;32mIn[116], line 2\u001b[0m\n\u001b[0;32m      1\u001b[0m \u001b[38;5;66;03m# language identification\u001b[39;00m\n\u001b[1;32m----> 2\u001b[0m TextBlob(\u001b[38;5;124m'\u001b[39m\u001b[38;5;124mHola Amigos\u001b[39m\u001b[38;5;124m'\u001b[39m)\u001b[38;5;241m.\u001b[39mdetect_language()\n",
      "File \u001b[1;32m~\\anaconda3\\Lib\\site-packages\\textblob\\blob.py:597\u001b[0m, in \u001b[0;36mBaseBlob.detect_language\u001b[1;34m(self)\u001b[0m\n\u001b[0;32m    572\u001b[0m \u001b[38;5;250m\u001b[39m\u001b[38;5;124;03m\"\"\"Detect the blob's language using the Google Translate API.\u001b[39;00m\n\u001b[0;32m    573\u001b[0m \n\u001b[0;32m    574\u001b[0m \u001b[38;5;124;03mRequires an internet connection.\u001b[39;00m\n\u001b[1;32m   (...)\u001b[0m\n\u001b[0;32m    590\u001b[0m \u001b[38;5;124;03m:rtype: str\u001b[39;00m\n\u001b[0;32m    591\u001b[0m \u001b[38;5;124;03m\"\"\"\u001b[39;00m\n\u001b[0;32m    592\u001b[0m warnings\u001b[38;5;241m.\u001b[39mwarn(\n\u001b[0;32m    593\u001b[0m     \u001b[38;5;124m'\u001b[39m\u001b[38;5;124mTextBlob.detext_translate is deprecated and will be removed in a future release. \u001b[39m\u001b[38;5;124m'\u001b[39m\n\u001b[0;32m    594\u001b[0m     \u001b[38;5;124m'\u001b[39m\u001b[38;5;124mUse the official Google Translate API instead.\u001b[39m\u001b[38;5;124m'\u001b[39m,\n\u001b[0;32m    595\u001b[0m     \u001b[38;5;167;01mDeprecationWarning\u001b[39;00m\n\u001b[0;32m    596\u001b[0m )\n\u001b[1;32m--> 597\u001b[0m \u001b[38;5;28;01mreturn\u001b[39;00m \u001b[38;5;28mself\u001b[39m\u001b[38;5;241m.\u001b[39mtranslator\u001b[38;5;241m.\u001b[39mdetect(\u001b[38;5;28mself\u001b[39m\u001b[38;5;241m.\u001b[39mraw)\n",
      "File \u001b[1;32m~\\anaconda3\\Lib\\site-packages\\textblob\\translate.py:76\u001b[0m, in \u001b[0;36mTranslator.detect\u001b[1;34m(self, source, host, type_)\u001b[0m\n\u001b[0;32m     70\u001b[0m data \u001b[38;5;241m=\u001b[39m {\u001b[38;5;124m\"\u001b[39m\u001b[38;5;124mq\u001b[39m\u001b[38;5;124m\"\u001b[39m: source}\n\u001b[0;32m     71\u001b[0m url \u001b[38;5;241m=\u001b[39m \u001b[38;5;124mu\u001b[39m\u001b[38;5;124m'\u001b[39m\u001b[38;5;132;01m{url}\u001b[39;00m\u001b[38;5;124m&sl=auto&tk=\u001b[39m\u001b[38;5;132;01m{tk}\u001b[39;00m\u001b[38;5;124m&client=\u001b[39m\u001b[38;5;132;01m{client}\u001b[39;00m\u001b[38;5;124m'\u001b[39m\u001b[38;5;241m.\u001b[39mformat(\n\u001b[0;32m     72\u001b[0m     url\u001b[38;5;241m=\u001b[39m\u001b[38;5;28mself\u001b[39m\u001b[38;5;241m.\u001b[39murl,\n\u001b[0;32m     73\u001b[0m     tk\u001b[38;5;241m=\u001b[39m_calculate_tk(source),\n\u001b[0;32m     74\u001b[0m     client\u001b[38;5;241m=\u001b[39m\u001b[38;5;124m\"\u001b[39m\u001b[38;5;124mte\u001b[39m\u001b[38;5;124m\"\u001b[39m,\n\u001b[0;32m     75\u001b[0m )\n\u001b[1;32m---> 76\u001b[0m response \u001b[38;5;241m=\u001b[39m \u001b[38;5;28mself\u001b[39m\u001b[38;5;241m.\u001b[39m_request(url, host\u001b[38;5;241m=\u001b[39mhost, type_\u001b[38;5;241m=\u001b[39mtype_, data\u001b[38;5;241m=\u001b[39mdata)\n\u001b[0;32m     77\u001b[0m result, language \u001b[38;5;241m=\u001b[39m json\u001b[38;5;241m.\u001b[39mloads(response)\n\u001b[0;32m     78\u001b[0m \u001b[38;5;28;01mreturn\u001b[39;00m language\n",
      "File \u001b[1;32m~\\anaconda3\\Lib\\site-packages\\textblob\\translate.py:96\u001b[0m, in \u001b[0;36mTranslator._request\u001b[1;34m(self, url, host, type_, data)\u001b[0m\n\u001b[0;32m     94\u001b[0m \u001b[38;5;28;01mif\u001b[39;00m host \u001b[38;5;129;01mor\u001b[39;00m type_:\n\u001b[0;32m     95\u001b[0m     req\u001b[38;5;241m.\u001b[39mset_proxy(host\u001b[38;5;241m=\u001b[39mhost, \u001b[38;5;28mtype\u001b[39m\u001b[38;5;241m=\u001b[39mtype_)\n\u001b[1;32m---> 96\u001b[0m resp \u001b[38;5;241m=\u001b[39m request\u001b[38;5;241m.\u001b[39murlopen(req)\n\u001b[0;32m     97\u001b[0m content \u001b[38;5;241m=\u001b[39m resp\u001b[38;5;241m.\u001b[39mread()\n\u001b[0;32m     98\u001b[0m \u001b[38;5;28;01mreturn\u001b[39;00m content\u001b[38;5;241m.\u001b[39mdecode(\u001b[38;5;124m'\u001b[39m\u001b[38;5;124mutf-8\u001b[39m\u001b[38;5;124m'\u001b[39m)\n",
      "File \u001b[1;32m~\\anaconda3\\Lib\\urllib\\request.py:216\u001b[0m, in \u001b[0;36murlopen\u001b[1;34m(url, data, timeout, cafile, capath, cadefault, context)\u001b[0m\n\u001b[0;32m    214\u001b[0m \u001b[38;5;28;01melse\u001b[39;00m:\n\u001b[0;32m    215\u001b[0m     opener \u001b[38;5;241m=\u001b[39m _opener\n\u001b[1;32m--> 216\u001b[0m \u001b[38;5;28;01mreturn\u001b[39;00m opener\u001b[38;5;241m.\u001b[39mopen(url, data, timeout)\n",
      "File \u001b[1;32m~\\anaconda3\\Lib\\urllib\\request.py:525\u001b[0m, in \u001b[0;36mOpenerDirector.open\u001b[1;34m(self, fullurl, data, timeout)\u001b[0m\n\u001b[0;32m    523\u001b[0m \u001b[38;5;28;01mfor\u001b[39;00m processor \u001b[38;5;129;01min\u001b[39;00m \u001b[38;5;28mself\u001b[39m\u001b[38;5;241m.\u001b[39mprocess_response\u001b[38;5;241m.\u001b[39mget(protocol, []):\n\u001b[0;32m    524\u001b[0m     meth \u001b[38;5;241m=\u001b[39m \u001b[38;5;28mgetattr\u001b[39m(processor, meth_name)\n\u001b[1;32m--> 525\u001b[0m     response \u001b[38;5;241m=\u001b[39m meth(req, response)\n\u001b[0;32m    527\u001b[0m \u001b[38;5;28;01mreturn\u001b[39;00m response\n",
      "File \u001b[1;32m~\\anaconda3\\Lib\\urllib\\request.py:634\u001b[0m, in \u001b[0;36mHTTPErrorProcessor.http_response\u001b[1;34m(self, request, response)\u001b[0m\n\u001b[0;32m    631\u001b[0m \u001b[38;5;66;03m# According to RFC 2616, \"2xx\" code indicates that the client's\u001b[39;00m\n\u001b[0;32m    632\u001b[0m \u001b[38;5;66;03m# request was successfully received, understood, and accepted.\u001b[39;00m\n\u001b[0;32m    633\u001b[0m \u001b[38;5;28;01mif\u001b[39;00m \u001b[38;5;129;01mnot\u001b[39;00m (\u001b[38;5;241m200\u001b[39m \u001b[38;5;241m<\u001b[39m\u001b[38;5;241m=\u001b[39m code \u001b[38;5;241m<\u001b[39m \u001b[38;5;241m300\u001b[39m):\n\u001b[1;32m--> 634\u001b[0m     response \u001b[38;5;241m=\u001b[39m \u001b[38;5;28mself\u001b[39m\u001b[38;5;241m.\u001b[39mparent\u001b[38;5;241m.\u001b[39merror(\n\u001b[0;32m    635\u001b[0m         \u001b[38;5;124m'\u001b[39m\u001b[38;5;124mhttp\u001b[39m\u001b[38;5;124m'\u001b[39m, request, response, code, msg, hdrs)\n\u001b[0;32m    637\u001b[0m \u001b[38;5;28;01mreturn\u001b[39;00m response\n",
      "File \u001b[1;32m~\\anaconda3\\Lib\\urllib\\request.py:563\u001b[0m, in \u001b[0;36mOpenerDirector.error\u001b[1;34m(self, proto, *args)\u001b[0m\n\u001b[0;32m    561\u001b[0m \u001b[38;5;28;01mif\u001b[39;00m http_err:\n\u001b[0;32m    562\u001b[0m     args \u001b[38;5;241m=\u001b[39m (\u001b[38;5;28mdict\u001b[39m, \u001b[38;5;124m'\u001b[39m\u001b[38;5;124mdefault\u001b[39m\u001b[38;5;124m'\u001b[39m, \u001b[38;5;124m'\u001b[39m\u001b[38;5;124mhttp_error_default\u001b[39m\u001b[38;5;124m'\u001b[39m) \u001b[38;5;241m+\u001b[39m orig_args\n\u001b[1;32m--> 563\u001b[0m     \u001b[38;5;28;01mreturn\u001b[39;00m \u001b[38;5;28mself\u001b[39m\u001b[38;5;241m.\u001b[39m_call_chain(\u001b[38;5;241m*\u001b[39margs)\n",
      "File \u001b[1;32m~\\anaconda3\\Lib\\urllib\\request.py:496\u001b[0m, in \u001b[0;36mOpenerDirector._call_chain\u001b[1;34m(self, chain, kind, meth_name, *args)\u001b[0m\n\u001b[0;32m    494\u001b[0m \u001b[38;5;28;01mfor\u001b[39;00m handler \u001b[38;5;129;01min\u001b[39;00m handlers:\n\u001b[0;32m    495\u001b[0m     func \u001b[38;5;241m=\u001b[39m \u001b[38;5;28mgetattr\u001b[39m(handler, meth_name)\n\u001b[1;32m--> 496\u001b[0m     result \u001b[38;5;241m=\u001b[39m func(\u001b[38;5;241m*\u001b[39margs)\n\u001b[0;32m    497\u001b[0m     \u001b[38;5;28;01mif\u001b[39;00m result \u001b[38;5;129;01mis\u001b[39;00m \u001b[38;5;129;01mnot\u001b[39;00m \u001b[38;5;28;01mNone\u001b[39;00m:\n\u001b[0;32m    498\u001b[0m         \u001b[38;5;28;01mreturn\u001b[39;00m result\n",
      "File \u001b[1;32m~\\anaconda3\\Lib\\urllib\\request.py:643\u001b[0m, in \u001b[0;36mHTTPDefaultErrorHandler.http_error_default\u001b[1;34m(self, req, fp, code, msg, hdrs)\u001b[0m\n\u001b[0;32m    642\u001b[0m \u001b[38;5;28;01mdef\u001b[39;00m \u001b[38;5;21mhttp_error_default\u001b[39m(\u001b[38;5;28mself\u001b[39m, req, fp, code, msg, hdrs):\n\u001b[1;32m--> 643\u001b[0m     \u001b[38;5;28;01mraise\u001b[39;00m HTTPError(req\u001b[38;5;241m.\u001b[39mfull_url, code, msg, hdrs, fp)\n",
      "\u001b[1;31mHTTPError\u001b[0m: HTTP Error 400: Bad Request"
     ]
    }
   ],
   "source": [
    "# language identification\n",
    "TextBlob('Hola Amigos').detect_language()"
   ]
  },
  {
   "cell_type": "code",
   "execution_count": 121,
   "metadata": {},
   "outputs": [],
   "source": [
    "#https://stackoverflow.com/questions/61479063/how-to-efficiently-detect-language-for-a-string-on-python-list\n",
    "#pip install langdetect"
   ]
  },
  {
   "cell_type": "code",
   "execution_count": 120,
   "metadata": {},
   "outputs": [
    {
     "data": {
      "text/plain": [
       "'es'"
      ]
     },
     "execution_count": 120,
     "metadata": {},
     "output_type": "execute_result"
    }
   ],
   "source": [
    "from langdetect import detect\n",
    "# language identification\n",
    "detect('Hola Amigos')"
   ]
  },
  {
   "cell_type": "markdown",
   "metadata": {},
   "source": [
    "## Conclusion\n",
    "\n",
    "- Understanding the basics broadens the types of data you can work with\n",
    "- Simple techniques go a long way\n",
    "- Use scikit-learn for NLP whenever possible"
   ]
  },
  {
   "cell_type": "code",
   "execution_count": null,
   "metadata": {},
   "outputs": [],
   "source": []
  }
 ],
 "metadata": {
  "kernelspec": {
   "display_name": "Python 3 (ipykernel)",
   "language": "python",
   "name": "python3"
  },
  "language_info": {
   "codemirror_mode": {
    "name": "ipython",
    "version": 3
   },
   "file_extension": ".py",
   "mimetype": "text/x-python",
   "name": "python",
   "nbconvert_exporter": "python",
   "pygments_lexer": "ipython3",
   "version": "3.11.5"
  }
 },
 "nbformat": 4,
 "nbformat_minor": 1
}
